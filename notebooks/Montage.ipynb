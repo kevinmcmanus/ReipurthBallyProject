{
 "cells": [
  {
   "cell_type": "code",
   "execution_count": 1,
   "metadata": {},
   "outputs": [],
   "source": [
    "from MontagePy.main import mImgtbl"
   ]
  },
  {
   "cell_type": "code",
   "execution_count": 2,
   "metadata": {},
   "outputs": [],
   "source": [
    "imgdir = '/home/kevin/Documents/M8data/M8/registered_image'\n",
    "raw_image_tbl = '/home/kevin/Documents/M8data/raw_image.tbl'\n",
    "\n",
    "rtn = mImgtbl(imgdir, raw_image_tbl)"
   ]
  },
  {
   "cell_type": "code",
   "execution_count": 3,
   "metadata": {},
   "outputs": [
    {
     "data": {
      "text/plain": [
       "{'status': '0', 'count': 50, 'badfits': 0, 'badwcs': 0}"
      ]
     },
     "execution_count": 3,
     "metadata": {},
     "output_type": "execute_result"
    }
   ],
   "source": [
    "rtn"
   ]
  },
  {
   "cell_type": "code",
   "execution_count": 4,
   "metadata": {},
   "outputs": [],
   "source": [
    "from astropy.io import ascii\n",
    "import pandas as pd"
   ]
  },
  {
   "cell_type": "code",
   "execution_count": 5,
   "metadata": {},
   "outputs": [],
   "source": [
    "# ipactable = ascii.read(outfile).to_pandas()\n",
    "# ipactable"
   ]
  },
  {
   "cell_type": "code",
   "execution_count": 6,
   "metadata": {},
   "outputs": [
    {
     "data": {
      "text/plain": [
       "{'status': '0',\n",
       " 'count': 50,\n",
       " 'ncube': 0,\n",
       " 'naxis1': 11273,\n",
       " 'naxis2': 9226,\n",
       " 'clon': 270.9055526259407,\n",
       " 'clat': -24.38381781139916,\n",
       " 'lonsize': 0.63252803,\n",
       " 'latsize': 0.5176708600000001,\n",
       " 'posang': 0.005737495184007457,\n",
       " 'lon1': 271.25352676932994,\n",
       " 'lat1': -24.64221934750947,\n",
       " 'lon2': 270.5576353381023,\n",
       " 'lat2': -24.642282816511987,\n",
       " 'lon3': 270.5590004584532,\n",
       " 'lat3': -24.124624857250776,\n",
       " 'lon4': 271.2520478231899,\n",
       " 'lat4': -24.124561647639098}"
      ]
     },
     "execution_count": 6,
     "metadata": {},
     "output_type": "execute_result"
    }
   ],
   "source": [
    "from MontagePy.main import mMakeHdr, mProjExec, mAdd\n",
    "hdrfile = '/home/kevin/Documents/M8data/M8/M8mosaic.hdr'\n",
    "rtn = mMakeHdr(raw_image_tbl, hdrfile )\n",
    "rtn"
   ]
  },
  {
   "cell_type": "code",
   "execution_count": 7,
   "metadata": {},
   "outputs": [],
   "source": [
    "!rm /home/kevin/Documents/M8data/M8/projected_image/*.fits\n",
    "projdir = '/home/kevin/Documents/M8data/M8/projected_image'\n",
    "rtn = mProjExec(imgdir, raw_image_tbl, hdrfile, projdir=projdir, quickMode=True)\n",
    "rtn"
   ]
  },
  {
   "cell_type": "code",
   "execution_count": null,
   "metadata": {},
   "outputs": [],
   "source": [
    "pimage_tbl = '/home/kevin/Documents/M8data/M8pimages.tbl'\n",
    "mImgtbl(projdir, pimage_tbl )"
   ]
  },
  {
   "cell_type": "code",
   "execution_count": null,
   "metadata": {},
   "outputs": [],
   "source": [
    "mosaic_fits = '/home/kevin/Documents/M8data/M8/M8_montage_mosaic.fits'\n",
    "mAdd(projdir, pimage_tbl,  hdrfile, mosaic_fits, coadd=1)"
   ]
  }
 ],
 "metadata": {
  "kernelspec": {
   "display_name": "Montage",
   "language": "python",
   "name": "python3"
  },
  "language_info": {
   "codemirror_mode": {
    "name": "ipython",
    "version": 3
   },
   "file_extension": ".py",
   "mimetype": "text/x-python",
   "name": "python",
   "nbconvert_exporter": "python",
   "pygments_lexer": "ipython3",
   "version": "3.10.13"
  }
 },
 "nbformat": 4,
 "nbformat_minor": 2
}
