{
 "cells": [
  {
   "attachments": {},
   "cell_type": "markdown",
   "metadata": {},
   "source": [
    "# Verify Space Motion Functionality"
   ]
  },
  {
   "cell_type": "code",
   "execution_count": 2,
   "metadata": {},
   "outputs": [],
   "source": [
    "import astropy.units as u\n",
    "from astropy.time import Time\n",
    "from astropy.coordinates import SkyCoord\n",
    "\n",
    "#exagerated motions for testing purposes\n",
    "c = SkyCoord(l=10*u.degree, b=45*u.degree, distance=100*u.pc,\n",
    "             pm_l_cosb=340*u.mas/u.yr, pm_b=-1170*u.mas/u.yr,\n",
    "             frame='galactic',\n",
    "             obstime=Time('1988-12-18 05:11:23.5'))"
   ]
  },
  {
   "cell_type": "code",
   "execution_count": 3,
   "metadata": {},
   "outputs": [
    {
     "data": {
      "text/plain": [
       "<SkyCoord (Galactic): (l, b, distance) in (deg, deg, pc)\n",
       "    (10., 45., 100.)\n",
       " (pm_l_cosb, pm_b) in mas / yr\n",
       "    (340., -1170.)>"
      ]
     },
     "execution_count": 3,
     "metadata": {},
     "output_type": "execute_result"
    }
   ],
   "source": [
    "c"
   ]
  },
  {
   "cell_type": "code",
   "execution_count": 4,
   "metadata": {},
   "outputs": [
    {
     "data": {
      "text/plain": [
       "<SkyCoord (Galactic): (l, b, distance) in (deg, deg, pc)\n",
       "    (10.00133557, 44.99674999, 99.99999448)\n",
       " (pm_l_cosb, pm_b, radial_velocity) in (mas / yr, mas / yr, km / s)\n",
       "    (339.98071452, -1170.00559973, 0.03411744)>"
      ]
     },
     "execution_count": 4,
     "metadata": {},
     "output_type": "execute_result"
    }
   ],
   "source": [
    "dt = 10*u.year\n",
    "c_new = c.apply_space_motion(dt=dt)\n",
    "c_new"
   ]
  },
  {
   "cell_type": "code",
   "execution_count": 5,
   "metadata": {},
   "outputs": [
    {
     "data": {
      "text/plain": [
       "True"
      ]
     },
     "execution_count": 5,
     "metadata": {},
     "output_type": "execute_result"
    }
   ],
   "source": [
    "import numpy as np\n",
    "np.allclose(c_new.b, (c.b + c.pm_b*dt))"
   ]
  },
  {
   "cell_type": "code",
   "execution_count": 6,
   "metadata": {},
   "outputs": [
    {
     "data": {
      "text/plain": [
       "'0.9999999998'"
      ]
     },
     "execution_count": 6,
     "metadata": {},
     "output_type": "execute_result"
    }
   ],
   "source": [
    "f'{c_new.b/ (c.b + c.pm_b*dt):.10f}'"
   ]
  },
  {
   "cell_type": "code",
   "execution_count": 7,
   "metadata": {},
   "outputs": [
    {
     "data": {
      "text/plain": [
       "True"
      ]
     },
     "execution_count": 7,
     "metadata": {},
     "output_type": "execute_result"
    }
   ],
   "source": [
    "np.allclose(c_new.l, (c.l+(c.pm_l_cosb/np.cos(c.b))*dt))"
   ]
  },
  {
   "attachments": {},
   "cell_type": "markdown",
   "metadata": {},
   "source": [
    "`apply_space_motion` appears to work the way I think it should, that is:\n",
    "\\begin{equation}\n",
    "\\begin{align*}\n",
    "\\delta' &= \\delta + \\dot{\\delta}dt \\cr\n",
    "\\alpha' &= \\alpha + \\dot{\\alpha}dt\n",
    "\\end{align*}\n",
    "\\end{equation}"
   ]
  },
  {
   "attachments": {},
   "cell_type": "markdown",
   "metadata": {},
   "source": [
    "# Verify Time Functionality"
   ]
  },
  {
   "cell_type": "code",
   "execution_count": 8,
   "metadata": {},
   "outputs": [
    {
     "data": {
      "text/plain": [
       "<Time object: scale='tcb' format='jyear' value=2016.0>"
      ]
     },
     "execution_count": 8,
     "metadata": {},
     "output_type": "execute_result"
    }
   ],
   "source": [
    "from astropy.time import Time\n",
    "import astropy.units as u\n",
    "\n",
    "# gaia ref_epoch on each gaia source record:\n",
    "ref_epoch = 2016 #for dr3\n",
    "# gaia doc specifies ref_epoch is tcb\n",
    "t_gaia = Time(ref_epoch, scale='tcb',format='jyear')\n",
    "t_gaia"
   ]
  },
  {
   "cell_type": "code",
   "execution_count": 9,
   "metadata": {},
   "outputs": [
    {
     "data": {
      "text/plain": [
       "'2016-01-01 12:00:00.000'"
      ]
     },
     "execution_count": 9,
     "metadata": {},
     "output_type": "execute_result"
    }
   ],
   "source": [
    "t_gaia.iso"
   ]
  },
  {
   "cell_type": "code",
   "execution_count": 10,
   "metadata": {},
   "outputs": [
    {
     "data": {
      "text/plain": [
       "<Time object: scale='utc' format='mjd' value=53739.304355>"
      ]
     },
     "execution_count": 10,
     "metadata": {},
     "output_type": "execute_result"
    }
   ],
   "source": [
    "#Fits header has OBSTIME as MJD\n",
    "mjd = 53739.304355 # value from the header\n",
    "t_obs = Time(mjd, scale='utc', format='mjd')\n",
    "t_obs"
   ]
  },
  {
   "cell_type": "code",
   "execution_count": 11,
   "metadata": {},
   "outputs": [
    {
     "data": {
      "text/plain": [
       "'2006-01-04 07:18:16.272'"
      ]
     },
     "execution_count": 11,
     "metadata": {},
     "output_type": "execute_result"
    }
   ],
   "source": [
    "t_obs.iso"
   ]
  },
  {
   "cell_type": "code",
   "execution_count": 12,
   "metadata": {},
   "outputs": [
    {
     "data": {
      "text/plain": [
       "-315290419.4613611"
      ]
     },
     "execution_count": 12,
     "metadata": {},
     "output_type": "execute_result"
    }
   ],
   "source": [
    "# calculate difference btwn the two times\n",
    "#difference in seconds\n",
    "(t_obs-t_gaia).sec\n"
   ]
  },
  {
   "cell_type": "code",
   "execution_count": 13,
   "metadata": {},
   "outputs": [
    {
     "data": {
      "text/latex": [
       "$9.9909507 \\; \\mathrm{yr}$"
      ],
      "text/plain": [
       "<Quantity 9.99095065 yr>"
      ]
     },
     "execution_count": 13,
     "metadata": {},
     "output_type": "execute_result"
    }
   ],
   "source": [
    "#difference in years\n",
    "(((t_gaia-t_obs).sec)*u.second).to(u.year)"
   ]
  },
  {
   "cell_type": "code",
   "execution_count": 14,
   "metadata": {},
   "outputs": [],
   "source": [
    "c = SkyCoord(l=10*u.degree, b=45*u.degree, distance=100*u.pc,\n",
    "             pm_l_cosb=340*u.mas/u.yr, pm_b=-1170*u.mas/u.yr,\n",
    "             frame='galactic',\n",
    "             obstime=t_gaia)\n",
    "c_new = c.apply_space_motion(t_obs)"
   ]
  },
  {
   "cell_type": "code",
   "execution_count": 15,
   "metadata": {},
   "outputs": [
    {
     "data": {
      "text/plain": [
       "True"
      ]
     },
     "execution_count": 15,
     "metadata": {},
     "output_type": "execute_result"
    }
   ],
   "source": [
    "dt = t_obs-t_gaia\n",
    "np.allclose(c_new.l, (c.l+(c.pm_l_cosb/np.cos(c.b))*dt))"
   ]
  },
  {
   "cell_type": "code",
   "execution_count": 16,
   "metadata": {},
   "outputs": [
    {
     "data": {
      "text/plain": [
       "True"
      ]
     },
     "execution_count": 16,
     "metadata": {},
     "output_type": "execute_result"
    }
   ],
   "source": [
    "np.allclose(c_new.b, (c.b + c.pm_b*dt))"
   ]
  },
  {
   "attachments": {},
   "cell_type": "markdown",
   "metadata": {},
   "source": [
    "Time and motions seem to check out!!"
   ]
  },
  {
   "attachments": {},
   "cell_type": "markdown",
   "metadata": {},
   "source": [
    "# Radial Velocity\n",
    "Check three cases: rv=None, rv=np.nan, rv=something. None and nan should be same"
   ]
  },
  {
   "cell_type": "code",
   "execution_count": 17,
   "metadata": {},
   "outputs": [],
   "source": [
    "import os, sys\n",
    "sys.path.append(os.path.expanduser('~/repos/ReipurthBallyProject/src'))\n",
    "sys.path.append(os.path.expanduser('~/repos/runawaysearch/src'))\n",
    "from gaiastars import gaiastars as gs"
   ]
  },
  {
   "cell_type": "code",
   "execution_count": 18,
   "metadata": {},
   "outputs": [
    {
     "name": "stdout",
     "output_type": "stream",
     "text": [
      "INFO: Query finished. [astroquery.utils.tap.core]\n",
      "Number of stars returned: 2048\n",
      "Number of stars missing Radial Velocity: 1437\n"
     ]
    }
   ],
   "source": [
    "gstars = gs(name='rv test', description='bunch of stars from random location')\n",
    "gstars.conesearch(59.0*u.degree, 0.0*u.degree, 1.0*u.degree)\n",
    "print(f'Number of stars returned: {len(gstars)}')\n",
    "print(f'Number of stars missing Radial Velocity: {np.isnan(gstars.objs.radial_velocity).sum()}')"
   ]
  },
  {
   "cell_type": "code",
   "execution_count": 19,
   "metadata": {},
   "outputs": [
    {
     "name": "stderr",
     "output_type": "stream",
     "text": [
      "c:\\Users\\Kevin\\anaconda3\\envs\\astro\\lib\\site-packages\\erfa\\core.py:154: ErfaWarning: ERFA function \"pmsafe\" yielded 2048 of \"distance overridden (Note 6)\"\n",
      "  warnings.warn('ERFA function \"{}\" yielded {}'.format(func_name, wmsg),\n",
      "c:\\Users\\Kevin\\anaconda3\\envs\\astro\\lib\\site-packages\\erfa\\core.py:154: ErfaWarning: ERFA function \"pmsafe\" yielded 2047 of \"distance overridden (Note 6)\", 1 of \"binary logical OR of the above warnings\"\n",
      "  warnings.warn('ERFA function \"{}\" yielded {}'.format(func_name, wmsg),\n"
     ]
    }
   ],
   "source": [
    "objs = gstars.objs\n",
    "#coords with no RV\n",
    "coords_norv = SkyCoord(ra=np.array(objs.ra)*u.degree,\n",
    "                    dec=np.array(objs.dec)*u.degree,\n",
    "                    pm_ra_cosdec = np.array(objs.pmra)*u.mas/u.year,\n",
    "                    pm_dec = np.array(objs.pmdec)*u.mas/u.year, obstime=t_gaia)\n",
    "\n",
    "#stuff in rv = zero\n",
    "coords_rv0 = SkyCoord(ra=np.array(objs.ra)*u.degree,\n",
    "                    dec=np.array(objs.dec)*u.degree,\n",
    "                    pm_ra_cosdec = np.array(objs.pmra)*u.mas/u.year,\n",
    "                    pm_dec = np.array(objs.pmdec)*u.mas/u.year,\n",
    "                    radial_velocity=np.zeros(len(objs), dtype=float)*u.km/u.second,obstime=t_gaia)\n",
    "\n",
    "#apply space motion to the two sets of coords\n",
    "coords_new_norv = coords_norv.apply_space_motion(new_obstime=t_obs)\n",
    "coords_new_rv0 = coords_rv0.apply_space_motion(new_obstime=t_obs)"
   ]
  },
  {
   "cell_type": "code",
   "execution_count": 20,
   "metadata": {},
   "outputs": [
    {
     "name": "stdout",
     "output_type": "stream",
     "text": [
      "Number of RA differences: 33\n",
      "Number of Dec Differences: 37\n",
      "Number of either: 37\n"
     ]
    }
   ],
   "source": [
    "ra_diff = coords_new_norv.ra != coords_new_rv0.ra; dec_diff = coords_new_norv.dec != coords_new_rv0.dec\n",
    "print(f'Number of RA differences: {ra_diff.sum()}')\n",
    "print(f'Number of Dec Differences: {dec_diff.sum()}')\n",
    "print(f'Number of either: {np.logical_or(ra_diff, dec_diff).sum()}')"
   ]
  },
  {
   "cell_type": "code",
   "execution_count": 21,
   "metadata": {},
   "outputs": [
    {
     "name": "stdout",
     "output_type": "stream",
     "text": [
      "[-1.464428578401566e-11 -2.818651978486741e-10  5.705658168153604e-11\n",
      " -1.483257960899209e-10 -2.520572195408022e-09 -6.040110633875884e-10\n",
      " -1.521563319784036e-09  5.976517059025355e-10  1.183764197776327e-10\n",
      " -1.729965504182474e-09  1.130615601141471e-10 -3.603943810048804e-10\n",
      " -3.515125968078792e-10 -1.867306309577543e-11  1.158184659288963e-12\n",
      "  1.421085471520200e-14 -4.187512558928574e-10 -1.064393018168630e-11\n",
      "  6.679812258880702e-10 -3.461764208623208e-11 -7.757705589028774e-11\n",
      " -6.437517185986508e-12 -5.412914561020443e-11  1.677804561950325e-10\n",
      "  3.321929398225620e-10  5.717524231840798e-10 -1.757172185534728e-11\n",
      " -1.152820061633975e-09  1.111004621634493e-10  4.785505325344275e-11\n",
      " -2.223998762929114e-11 -4.938769393447728e-10 -1.519921966064430e-10]\n"
     ]
    }
   ],
   "source": [
    "with np.printoptions(precision=15, suppress=False):\n",
    "    print((coords_new_norv.ra.value - coords_new_rv0.ra.value)[ra_diff])"
   ]
  },
  {
   "cell_type": "code",
   "execution_count": 22,
   "metadata": {},
   "outputs": [
    {
     "name": "stdout",
     "output_type": "stream",
     "text": [
      "[-2.010127619911373e-10 -1.205519173375080e-08 -1.189296772174941e-09\n",
      " -5.615448106510712e-10 -3.219960964528923e-09  2.845077506918869e-10\n",
      " -3.821105765133836e-09 -1.037887276122973e-09  8.269687157280714e-10\n",
      " -4.171740730640749e-10  9.437243875254353e-09 -1.730925847098774e-09\n",
      " -2.211213101510623e-09 -5.101322142486708e-10 -2.992573688853639e-10\n",
      "  1.387778780781446e-16 -6.764515197987819e-10 -6.245004513516506e-17\n",
      "  9.002639744792873e-10 -1.060775023375982e-09  1.852933362300746e-10\n",
      " -5.551115123125783e-17  7.512553745758765e-09 -3.687994437617803e-09\n",
      " -8.326672684688674e-17 -3.494920464142126e-10  2.168404344971009e-19\n",
      " -1.660803050640425e-09 -6.179091127656022e-09  3.605369558457028e-09\n",
      " -4.991740354398644e-10 -4.034280409737079e-09  1.404938165805447e-09\n",
      "  1.788839631977623e-09  9.631579978020000e-10  8.436783494047972e-10\n",
      "  1.938232574438814e-09]\n"
     ]
    }
   ],
   "source": [
    "with np.printoptions(precision=15, suppress=False):\n",
    "    print((coords_new_norv.dec.value - coords_new_rv0.dec.value)[dec_diff])"
   ]
  },
  {
   "cell_type": "markdown",
   "metadata": {},
   "source": [
    "### Conclusion\n",
    "Comparing two sets of coordinates, one without RV specified, one with RV specified as 0, produced an exact match of position in 2011 out of 2048 cases or 98.2% of the cases. Of the 37 cases that result in different positions, the difference is on the order of $10^{-9}$ degree or 1 micro arc-second.\n",
    "\n",
    "**Explicitly setting radial velocity to zero is equivalent to not specifying it**\n",
    "\n",
    "**If radial velocity is not supplied, astropy assumes a value of zero**"
   ]
  },
  {
   "cell_type": "markdown",
   "metadata": {},
   "source": [
    "has_rv = np.isfinite(gstars.objs.radial_velocity)\n",
    "has_rv.sum()"
   ]
  },
  {
   "cell_type": "code",
   "execution_count": 23,
   "metadata": {},
   "outputs": [
    {
     "name": "stderr",
     "output_type": "stream",
     "text": [
      "c:\\Users\\Kevin\\anaconda3\\envs\\astro\\lib\\site-packages\\erfa\\core.py:154: ErfaWarning: ERFA function \"pmsafe\" yielded 611 of \"distance overridden (Note 6)\"\n",
      "  warnings.warn('ERFA function \"{}\" yielded {}'.format(func_name, wmsg),\n"
     ]
    }
   ],
   "source": [
    "has_rv = np.isfinite(gstars.objs.radial_velocity)\n",
    "objs = gstars.objs.loc[has_rv]\n",
    "\n",
    "coords_norv = SkyCoord(ra=np.array(objs.ra)*u.degree,\n",
    "                    dec=np.array(objs.dec)*u.degree,\n",
    "                    pm_ra_cosdec = np.array(objs.pmra)*u.mas/u.year,\n",
    "                    pm_dec = np.array(objs.pmdec)*u.mas/u.year, obstime=t_gaia)\n",
    "\n",
    "#use the rv returned from Gaia\n",
    "coords_rv = SkyCoord(ra=np.array(objs.ra)*u.degree,\n",
    "                    dec=np.array(objs.dec)*u.degree,\n",
    "                    pm_ra_cosdec = np.array(objs.pmra)*u.mas/u.year,\n",
    "                    pm_dec = np.array(objs.pmdec)*u.mas/u.year,\n",
    "                    radial_velocity=np.array(objs.radial_velocity)*u.km/u.second,obstime=t_gaia)\n",
    "\n",
    "#apply space motion to the two sets of coords\n",
    "coords_new_norv = coords_norv.apply_space_motion(new_obstime=t_obs)\n",
    "coords_new_rv = coords_rv.apply_space_motion(new_obstime=t_obs)"
   ]
  },
  {
   "cell_type": "code",
   "execution_count": 24,
   "metadata": {},
   "outputs": [
    {
     "name": "stdout",
     "output_type": "stream",
     "text": [
      "Number of RA differences: 518\n",
      "Number of Dec Differences: 608\n",
      "Number of either: 609\n"
     ]
    }
   ],
   "source": [
    "ra_diff = coords_new_norv.ra != coords_new_rv.ra; dec_diff = coords_new_norv.dec != coords_new_rv.dec\n",
    "print(f'Number of RA differences: {ra_diff.sum()}')\n",
    "print(f'Number of Dec Differences: {dec_diff.sum()}')\n",
    "print(f'Number of either: {np.logical_or(ra_diff, dec_diff).sum()}')"
   ]
  },
  {
   "cell_type": "code",
   "execution_count": 25,
   "metadata": {},
   "outputs": [
    {
     "data": {
      "text/plain": [
       "610"
      ]
     },
     "execution_count": 25,
     "metadata": {},
     "output_type": "execute_result"
    }
   ],
   "source": [
    "np.isclose(coords_new_rv.dec,coords_new_norv.dec, rtol=1e-9).sum()"
   ]
  },
  {
   "cell_type": "markdown",
   "metadata": {},
   "source": [
    "### Conclusion\n",
    "The inclusion of the radial velocity parameter in the application of space motion makes a difference, albeit a small difference, in the resulting positions from `apply_space_motion`, at least in the relatively short time deltas we are using."
   ]
  },
  {
   "cell_type": "markdown",
   "metadata": {},
   "source": [
    "## Coordinate Frames\n",
    "\n",
    "FK4\n",
    "    : Fundamental Katalogue 4\n",
    "\n",
    "FK5\n",
    "    : Fundamental Katlogue 5\n",
    "\n",
    "\n",
    "ICRS\n",
    "    : International Celestial Reference System\n",
    "\n",
    "ICRF\n",
    "    : International Celestial Reference Frame (a specific realization of the ICRS)\n",
    "\n",
    "[USNO Article ICRS](https://aa.usno.navy.mil/faq/ICRS_doc)\n",
    "> The ICRS axes are consistent, to better than 0.1 arcsecond, with the equator and equinox of J2000.0 defined by the dynamics of the Earth. However, the ICRS axes are meant to be regarded as fixed directions in space that have an existence independent of the dynamics of the Earth or the particular set of objects used to define them at any given time.\n",
    "\n",
    "$\\implies$ ICRS and FK5 cooodinates nearly equivalent for the same epoch.\n",
    "\n",
    "$\\implies$ Don't need an equinox with ICRS since axis are fixed wrt. distant quasars, but an epoch is needed, to fix the point in time when an object was at its coordinates."
   ]
  },
  {
   "cell_type": "code",
   "execution_count": 26,
   "metadata": {},
   "outputs": [
    {
     "data": {
      "text/plain": [
       "<SkyCoord (ICRS): (ra, dec) in deg\n",
       "    (0., 0.)>"
      ]
     },
     "execution_count": 26,
     "metadata": {},
     "output_type": "execute_result"
    }
   ],
   "source": [
    "from astropy.coordinates import ICRS, FK4, FK5\n",
    "c = SkyCoord(ra=0*u.degree, dec=0*u.degree)\n",
    "c"
   ]
  },
  {
   "cell_type": "code",
   "execution_count": 27,
   "metadata": {},
   "outputs": [
    {
     "data": {
      "text/plain": [
       "(<SkyCoord (FK4: equinox=J2000.000, obstime=J2000.000): (ra, dec) in deg\n",
       "     (359.99966387, -6.04472246e-06)>,\n",
       " <SkyCoord (FK4: equinox=B1950.000, obstime=B1950.000): (ra, dec) in deg\n",
       "     (359.35931432, -0.27840736)>,\n",
       " <SkyCoord (FK5: equinox=J2000.000): (ra, dec) in deg\n",
       "     (6.36111135e-06, 2.52777716e-06)>)"
      ]
     },
     "execution_count": 27,
     "metadata": {},
     "output_type": "execute_result"
    }
   ],
   "source": [
    "c.transform_to(FK4(equinox='J2000.0')),c.transform_to(FK4()),c.transform_to(FK5())"
   ]
  },
  {
   "cell_type": "markdown",
   "metadata": {},
   "source": [
    "### DS9\n",
    "1. load fits file, zoom 'fit'\n",
    "1. set wcs to degrees\n",
    "2. View header, find and note CRPIX1 and CRPIX2, CRVAL1 and CRVAL2\n",
    "3. Analysis $\\rightarrow$ Cross Hair Parameters, note coordinate system ICRS, FK4 or FK5\n",
    "4. Select image coordinates, paste in values for CRPIX1 and CRPIX2\n",
    "5. Go back to WCS (in Cross Hair Parameters pane), select alternately ICRS, FK4 and FK5\n",
    "6. Compare to CRVAL1 and CRVAL2"
   ]
  },
  {
   "cell_type": "code",
   "execution_count": 28,
   "metadata": {},
   "outputs": [
    {
     "name": "stderr",
     "output_type": "stream",
     "text": [
      "WARNING: VerifyWarning: Invalid 'BLANK' keyword in header.  The 'BLANK' keyword is only applicable to integer data, and will be ignored in this HDU. [astropy.io.fits.hdu.image]\n"
     ]
    }
   ],
   "source": [
    "import os\n",
    "from astropy.io import fits\n",
    "ds9 = {}\n",
    "files = ['hh34_ha', 'hh34_sii', 'ZCMa_ha']\n",
    "for file in files:\n",
    "    fitspath = os.path.join('../data', file+'.fits')\n",
    "    with fits.open(fitspath) as hdul:\n",
    "        hdu = hdul[0]\n",
    "        hdr = hdu.header\n",
    "        ds9[file] = {'hdr':{'CRPIX1':hdr['CRPIX1'],\n",
    "                            'CRPIX2':hdr['CRPIX2'],\n",
    "                            'CRVAL1':hdr['CRVAL1'],\n",
    "                            'CRVAL2':hdr['CRVAL2'] }\n",
    "                     }\n"
   ]
  },
  {
   "cell_type": "code",
   "execution_count": 29,
   "metadata": {},
   "outputs": [
    {
     "data": {
      "text/plain": [
       "{'hh34_ha': {'hdr': {'CRPIX1': 5717.0,\n",
       "   'CRPIX2': 4499.0,\n",
       "   'CRVAL1': 83.9079311590073,\n",
       "   'CRVAL2': -6.48457244114713},\n",
       "  'fk4': {'ra': 83.9079312, 'dec': -6.4845724},\n",
       "  'fk5': {'ra': 84.5171394, 'dec': -6.4564928},\n",
       "  'icrs': {'ra': 84.5171321, 'dec': -6.4564869}},\n",
       " 'hh34_sii': {'hdr': {'CRPIX1': 5728.0,\n",
       "   'CRPIX2': 4510.0,\n",
       "   'CRVAL1': 83.9079311590073,\n",
       "   'CRVAL2': -6.48457244114713},\n",
       "  'fk4': {'ra': 83.9079312, 'dec': -6.4845724},\n",
       "  'fk5': {'ra': 84.5171394, 'dec': -6.4564928},\n",
       "  'icrs': {'ra': 84.5171321, 'dec': -6.4564869}},\n",
       " 'ZCMa_ha': {'hdr': {'CRPIX1': 5715.0,\n",
       "   'CRPIX2': 4501.0,\n",
       "   'CRVAL1': 105.95762677501,\n",
       "   'CRVAL2': -11.466518082996},\n",
       "  'fk4': {'ra': 105.9576268, 'dec': -11.4665181},\n",
       "  'fk5': {'ra': 106.5438437, 'dec': -11.5444012},\n",
       "  'icrs': {'ra': 106.5438361, 'dec': -11.544395}}}"
      ]
     },
     "execution_count": 29,
     "metadata": {},
     "output_type": "execute_result"
    }
   ],
   "source": [
    "# values pasted from DS9:\n",
    "ds9['hh34_ha']['fk4']={'ra':83.9079312, 'dec':-6.4845724}\n",
    "ds9['hh34_ha']['fk5']={'ra':84.5171394, 'dec':-6.4564928}\n",
    "ds9['hh34_ha']['icrs']={'ra':84.5171321, 'dec':-6.4564869}\n",
    "\n",
    "ds9['hh34_sii']['fk4']={'ra':83.9079312, 'dec':-6.4845724}\n",
    "ds9['hh34_sii']['fk5']={'ra':84.5171394, 'dec':-6.4564928}\n",
    "ds9['hh34_sii']['icrs']={'ra':84.5171321, 'dec':-6.4564869}\n",
    "\n",
    "ds9['ZCMa_ha']['fk4']={'ra':105.9576268, 'dec':-11.4665181}\n",
    "ds9['ZCMa_ha']['fk5']={'ra':106.5438437, 'dec':-11.5444012}\n",
    "ds9['ZCMa_ha']['icrs']={'ra':106.5438361,'dec':-11.5443950}\n",
    "\n",
    "ds9"
   ]
  },
  {
   "cell_type": "code",
   "execution_count": 30,
   "metadata": {},
   "outputs": [],
   "source": [
    "simbad = {'hh34': SkyCoord.from_name('HH34'), 'ZCMa': SkyCoord.from_name('Z CMa'),\n",
    "           'hh160': SkyCoord.from_name('HH 160')} #, 'hh388':SkyCoord.from_name('HH 388')}\n"
   ]
  },
  {
   "cell_type": "code",
   "execution_count": 31,
   "metadata": {},
   "outputs": [
    {
     "data": {
      "text/plain": [
       "{'hh34': <SkyCoord (ICRS): (ra, dec) in deg\n",
       "     (83.880417, -6.478611)>,\n",
       " 'ZCMa': <SkyCoord (ICRS): (ra, dec) in deg\n",
       "     (105.92983309, -11.55172474)>,\n",
       " 'hh160': <SkyCoord (ICRS): (ra, dec) in deg\n",
       "     (105.92958, -11.55167)>}"
      ]
     },
     "execution_count": 31,
     "metadata": {},
     "output_type": "execute_result"
    }
   ],
   "source": [
    "simbad"
   ]
  },
  {
   "cell_type": "markdown",
   "metadata": {},
   "source": [
    "Set DS9 cross-hair parameters to WCS+fk4 and pasted the **fk5** values below into them."
   ]
  },
  {
   "cell_type": "code",
   "execution_count": 32,
   "metadata": {},
   "outputs": [
    {
     "data": {
      "text/plain": [
       "(<SkyCoord (FK5: equinox=J2000.000): (ra, dec) in deg\n",
       "     (105.92983926, -11.55173075)>,\n",
       " <SkyCoord (FK5: equinox=J2000.000): (ra, dec) in deg\n",
       "     (105.92958617, -11.55167601)>)"
      ]
     },
     "execution_count": 32,
     "metadata": {},
     "output_type": "execute_result"
    }
   ],
   "source": [
    "simbad['ZCMa'].fk5,  simbad['hh160'].fk5"
   ]
  },
  {
   "cell_type": "code",
   "execution_count": 33,
   "metadata": {},
   "outputs": [
    {
     "data": {
      "text/plain": [
       "<SkyCoord (FK5: equinox=J2000.000): (ra, dec) in deg\n",
       "    (83.88042301, -6.47861623)>"
      ]
     },
     "execution_count": 33,
     "metadata": {},
     "output_type": "execute_result"
    }
   ],
   "source": [
    "simbad['hh34'].fk5"
   ]
  },
  {
   "cell_type": "markdown",
   "metadata": {},
   "source": [
    "## Notes and Summary\n",
    "\n",
    "It appears that:\n",
    "+ DS9 in absence of a RADESYS card defaults to FK4 coordinates\n",
    "+ Bo's two images (hh34 and ZMCa) don't have the RADESYS cards, therefore DS9 treats them as FK4\n",
    "+ SIMBAD queries return objects in ICRS coords. Reframing them as FK5 and then  **entering them as if they were FK4 coordinates** places the object directly on top of object in image\n",
    "+ Gaia catalog search (from within DS9) will misplace objects returned\n",
    "+ Should not make a difference when using astropy `WCS` class and methods as the `WCS` operations all use the ICRS frame."
   ]
  },
  {
   "cell_type": "markdown",
   "metadata": {},
   "source": [
    "## DS9 Gaia Catalog Query\n",
    "\n",
    "What exactly does DS9 do with query results back Gaia?"
   ]
  },
  {
   "cell_type": "code",
   "execution_count": 33,
   "metadata": {},
   "outputs": [
    {
     "data": {
      "text/html": [
       "<div><i>Table length=13565</i>\n",
       "<table id=\"table2888370155376\" class=\"table-striped table-bordered table-condensed\">\n",
       "<thead><tr><th>_RAJ2000</th><th>_DEJ2000</th><th>RA_ICRS</th><th>e_RA_ICRS</th><th>DE_ICRS</th><th>e_DE_ICRS</th><th>Source</th><th>Plx</th><th>e_Plx</th><th>pmRA</th><th>e_pmRA</th><th>pmDE</th><th>e_pmDE</th><th>Dup</th><th>FG</th><th>e_FG</th><th>Gmag</th><th>e_Gmag</th><th>FBP</th><th>e_FBP</th><th>BPmag</th><th>e_BPmag</th><th>FRP</th><th>e_FRP</th><th>RPmag</th><th>e_RPmag</th><th>BP-RP</th><th>RV</th><th>e_RV</th><th>Teff</th><th>AG</th><th>E_BP-RP_</th><th>Rad</th><th>Lum</th></tr></thead>\n",
       "<thead><tr><th>deg</th><th>deg</th><th>deg</th><th>mas</th><th>deg</th><th>mas</th><th></th><th>mas</th><th>mas</th><th>mas / yr</th><th>mas / yr</th><th>mas / yr</th><th>mas / yr</th><th></th><th></th><th></th><th>mag</th><th>mag</th><th></th><th></th><th>mag</th><th>mag</th><th></th><th></th><th>mag</th><th>mag</th><th>mag</th><th>km / s</th><th>km / s</th><th>K</th><th>mag</th><th>mag</th><th>Rsun</th><th>Lsun</th></tr></thead>\n",
       "<thead><tr><th>float64</th><th>float64</th><th>float64</th><th>float64</th><th>float64</th><th>float64</th><th>int64</th><th>float64</th><th>float32</th><th>float64</th><th>float32</th><th>float64</th><th>float32</th><th>uint8</th><th>float32</th><th>float32</th><th>float64</th><th>float64</th><th>float32</th><th>float32</th><th>float64</th><th>float64</th><th>float32</th><th>float32</th><th>float64</th><th>float64</th><th>float64</th><th>float64</th><th>float32</th><th>float64</th><th>float32</th><th>float32</th><th>float32</th><th>float64</th></tr></thead>\n",
       "<tr><td>106.5960297972769</td><td>-11.8231343181156</td><td>106.59602990285</td><td>0.1000</td><td>-11.82313082631</td><td>0.1192</td><td>3045765784397960320</td><td>0.0653</td><td>0.1384</td><td>0.024</td><td>0.205</td><td>0.811</td><td>0.203</td><td>0</td><td>1502</td><td>2.135</td><td>17.7468</td><td>0.0015</td><td>459</td><td>6.338</td><td>18.6968</td><td>0.0150</td><td>1591</td><td>10.82</td><td>16.7575</td><td>0.0074</td><td>1.9393</td><td>--</td><td>--</td><td>--</td><td>--</td><td>--</td><td>--</td><td>--</td></tr>\n",
       "<tr><td>106.5874708290363</td><td>-11.8203845869555</td><td>106.58746673812</td><td>0.2509</td><td>-11.82038400140</td><td>0.2502</td><td>3045765784397962880</td><td>0.2677</td><td>0.3062</td><td>-0.930</td><td>0.549</td><td>0.136</td><td>0.539</td><td>0</td><td>455.1</td><td>1.623</td><td>19.0430</td><td>0.0039</td><td>202.6</td><td>10.36</td><td>19.5850</td><td>0.0556</td><td>371.8</td><td>10.39</td><td>18.3363</td><td>0.0303</td><td>1.2488</td><td>--</td><td>--</td><td>--</td><td>--</td><td>--</td><td>--</td><td>--</td></tr>\n",
       "<tr><td>106.5862601488865</td><td>-11.8228688876411</td><td>106.58625837614</td><td>0.3232</td><td>-11.82286709653</td><td>0.3217</td><td>3045765784397960832</td><td>0.0177</td><td>0.3959</td><td>-0.403</td><td>0.684</td><td>0.416</td><td>0.723</td><td>0</td><td>320.2</td><td>1.494</td><td>19.4248</td><td>0.0051</td><td>119.7</td><td>13.12</td><td>20.1562</td><td>0.1190</td><td>295.5</td><td>8.54</td><td>18.5855</td><td>0.0314</td><td>1.5707</td><td>--</td><td>--</td><td>--</td><td>--</td><td>--</td><td>--</td><td>--</td></tr>\n",
       "<tr><td>106.5848990215625</td><td>-11.8194283374477</td><td>106.58489292040</td><td>0.1028</td><td>-11.81942157342</td><td>0.1069</td><td>3045765784397963264</td><td>0.1981</td><td>0.1258</td><td>-1.387</td><td>0.209</td><td>1.571</td><td>0.195</td><td>0</td><td>1502</td><td>2.154</td><td>17.7469</td><td>0.0016</td><td>654.2</td><td>10.45</td><td>18.3122</td><td>0.0173</td><td>1275</td><td>12.76</td><td>16.9979</td><td>0.0109</td><td>1.3143</td><td>--</td><td>--</td><td>--</td><td>--</td><td>--</td><td>--</td><td>--</td></tr>\n",
       "<tr><td>106.5919793421407</td><td>-11.8229065547577</td><td>106.59197527758</td><td>0.0869</td><td>-11.82290126323</td><td>0.0942</td><td>3045765788700116608</td><td>0.2312</td><td>0.1093</td><td>-0.924</td><td>0.177</td><td>1.229</td><td>0.168</td><td>0</td><td>1939</td><td>2.368</td><td>17.4695</td><td>0.0013</td><td>878</td><td>11.11</td><td>17.9927</td><td>0.0137</td><td>1618</td><td>18.99</td><td>16.7391</td><td>0.0127</td><td>1.2536</td><td>--</td><td>--</td><td>--</td><td>--</td><td>--</td><td>--</td><td>--</td></tr>\n",
       "<tr><td>106.5886225278467</td><td>-11.8226691935784</td><td>106.58860571536</td><td>1.1089</td><td>-11.82267648719</td><td>1.1171</td><td>3045765788696951424</td><td>-0.8427</td><td>1.5955</td><td>-3.822</td><td>2.156</td><td>-1.694</td><td>2.245</td><td>0</td><td>80.95</td><td>1.282</td><td>20.9178</td><td>0.0172</td><td>52.33</td><td>10.48</td><td>21.0546</td><td>0.2175</td><td>92.98</td><td>7.228</td><td>19.8410</td><td>0.0844</td><td>1.2136</td><td>--</td><td>--</td><td>--</td><td>--</td><td>--</td><td>--</td><td>--</td></tr>\n",
       "<tr><td>106.6015895994260</td><td>-11.8074022893954</td><td>106.60154511172</td><td>0.0212</td><td>-11.80735947926</td><td>0.0227</td><td>3045765891779315200</td><td>1.0773</td><td>0.0260</td><td>-10.114</td><td>0.042</td><td>9.943</td><td>0.040</td><td>0</td><td>5.28e+04</td><td>13.72</td><td>13.8817</td><td>0.0003</td><td>2.424e+04</td><td>42.41</td><td>14.3902</td><td>0.0019</td><td>4.088e+04</td><td>38.19</td><td>13.2332</td><td>0.0010</td><td>1.1570</td><td>--</td><td>--</td><td>5035.33</td><td>--</td><td>--</td><td>1.84</td><td>1.969</td></tr>\n",
       "<tr><td>106.6046863355600</td><td>-11.8072176037700</td><td>106.60468633556</td><td>1.8280</td><td>-11.80721760377</td><td>2.4950</td><td>3045765926135885056</td><td>--</td><td>--</td><td>--</td><td>--</td><td>--</td><td>--</td><td>0</td><td>76.12</td><td>1.467</td><td>20.9846</td><td>0.0209</td><td>--</td><td>--</td><td>--</td><td>--</td><td>--</td><td>--</td><td>--</td><td>--</td><td>--</td><td>--</td><td>--</td><td>--</td><td>--</td><td>--</td><td>--</td><td>--</td></tr>\n",
       "<tr><td>106.6146827854766</td><td>-11.8186487557633</td><td>106.61467801717</td><td>0.0364</td><td>-11.81864597868</td><td>0.0413</td><td>3045765823059838720</td><td>0.0971</td><td>0.0466</td><td>-1.084</td><td>0.076</td><td>0.645</td><td>0.079</td><td>0</td><td>1.839e+04</td><td>9.335</td><td>15.0267</td><td>0.0006</td><td>5024</td><td>20.52</td><td>16.0988</td><td>0.0044</td><td>2.035e+04</td><td>44.72</td><td>13.9903</td><td>0.0024</td><td>2.1085</td><td>--</td><td>--</td><td>3604.85</td><td>1.3075</td><td>0.6305</td><td>--</td><td>--</td></tr>\n",
       "<tr><td>...</td><td>...</td><td>...</td><td>...</td><td>...</td><td>...</td><td>...</td><td>...</td><td>...</td><td>...</td><td>...</td><td>...</td><td>...</td><td>...</td><td>...</td><td>...</td><td>...</td><td>...</td><td>...</td><td>...</td><td>...</td><td>...</td><td>...</td><td>...</td><td>...</td><td>...</td><td>...</td><td>...</td><td>...</td><td>...</td><td>...</td><td>...</td><td>...</td><td>...</td></tr>\n",
       "<tr><td>106.5107494058000</td><td>-11.2718767088800</td><td>106.51074940580</td><td>1.0179</td><td>-11.27187670888</td><td>0.9770</td><td>3046224040230146560</td><td>--</td><td>--</td><td>--</td><td>--</td><td>--</td><td>--</td><td>0</td><td>1308</td><td>18.71</td><td>17.8971</td><td>0.0155</td><td>524</td><td>8.013</td><td>18.5530</td><td>0.0166</td><td>1774</td><td>7.679</td><td>16.6398</td><td>0.0047</td><td>1.9132</td><td>--</td><td>--</td><td>--</td><td>--</td><td>--</td><td>--</td><td>--</td></tr>\n",
       "<tr><td>106.5195817763980</td><td>-11.2643768468611</td><td>106.51958324270</td><td>0.4250</td><td>-11.26436811950</td><td>0.4824</td><td>3046224074590783360</td><td>0.8563</td><td>0.6907</td><td>0.334</td><td>1.145</td><td>2.027</td><td>1.228</td><td>0</td><td>244.3</td><td>1.333</td><td>19.7187</td><td>0.0059</td><td>127.3</td><td>6.074</td><td>20.0897</td><td>0.0518</td><td>319.7</td><td>8.991</td><td>18.5001</td><td>0.0305</td><td>1.5896</td><td>--</td><td>--</td><td>--</td><td>--</td><td>--</td><td>--</td><td>--</td></tr>\n",
       "<tr><td>106.5041155386352</td><td>-11.2673774641388</td><td>106.50411028360</td><td>0.0698</td><td>-11.26737247400</td><td>0.0735</td><td>3046224044530395776</td><td>0.2264</td><td>0.0922</td><td>-1.197</td><td>0.142</td><td>1.159</td><td>0.131</td><td>0</td><td>3176</td><td>3.303</td><td>16.9337</td><td>0.0011</td><td>1088</td><td>9.294</td><td>17.7600</td><td>0.0093</td><td>3245</td><td>9.69</td><td>15.9840</td><td>0.0032</td><td>1.7759</td><td>--</td><td>--</td><td>4173.04</td><td>--</td><td>--</td><td>--</td><td>--</td></tr>\n",
       "<tr><td>106.4976703285002</td><td>-11.2670430357585</td><td>106.49764076073</td><td>0.0624</td><td>-11.26699324201</td><td>0.0655</td><td>3046224044530397184</td><td>0.9809</td><td>0.0860</td><td>-6.735</td><td>0.127</td><td>11.565</td><td>0.116</td><td>0</td><td>1.016e+04</td><td>7.93</td><td>15.6714</td><td>0.0008</td><td>4446</td><td>21.98</td><td>16.2315</td><td>0.0054</td><td>8427</td><td>18.57</td><td>14.9477</td><td>0.0024</td><td>1.2837</td><td>--</td><td>--</td><td>4801.30</td><td>0.9555</td><td>0.4660</td><td>1.00</td><td>0.484</td></tr>\n",
       "<tr><td>106.4972357427547</td><td>-11.2702276166569</td><td>106.49720133225</td><td>0.0253</td><td>-11.27022936902</td><td>0.0256</td><td>3046224044530398592</td><td>1.8274</td><td>0.0341</td><td>-7.838</td><td>0.050</td><td>-0.407</td><td>0.047</td><td>0</td><td>2.614e+04</td><td>10.76</td><td>14.6453</td><td>0.0004</td><td>1.187e+04</td><td>32.05</td><td>15.1657</td><td>0.0029</td><td>2.045e+04</td><td>26.31</td><td>13.9851</td><td>0.0014</td><td>1.1805</td><td>--</td><td>--</td><td>4914.19</td><td>0.2605</td><td>0.1450</td><td>0.81</td><td>0.348</td></tr>\n",
       "<tr><td>106.5085803496356</td><td>-11.2749842607687</td><td>106.50859140877</td><td>0.7550</td><td>-11.27498922938</td><td>0.9722</td><td>3046224040231036928</td><td>-0.1030</td><td>1.1548</td><td>2.519</td><td>1.631</td><td>-1.154</td><td>1.659</td><td>0</td><td>113.9</td><td>1.31</td><td>20.5468</td><td>0.0125</td><td>68.24</td><td>8.583</td><td>20.7663</td><td>0.1366</td><td>169.2</td><td>11.41</td><td>19.1909</td><td>0.0732</td><td>1.5754</td><td>--</td><td>--</td><td>--</td><td>--</td><td>--</td><td>--</td><td>--</td></tr>\n",
       "<tr><td>106.4635531525580</td><td>-11.2743171449999</td><td>106.46356220531</td><td>0.7105</td><td>-11.27431939250</td><td>0.8980</td><td>3046224181962258432</td><td>2.8572</td><td>1.0976</td><td>2.062</td><td>1.505</td><td>-0.522</td><td>1.553</td><td>0</td><td>135.6</td><td>1.273</td><td>20.3579</td><td>0.0102</td><td>102.5</td><td>14.92</td><td>20.3249</td><td>0.1581</td><td>201.4</td><td>7.087</td><td>19.0020</td><td>0.0382</td><td>1.3228</td><td>--</td><td>--</td><td>--</td><td>--</td><td>--</td><td>--</td><td>--</td></tr>\n",
       "<tr><td>106.4529367839647</td><td>-11.2757993435355</td><td>106.45293964205</td><td>0.8360</td><td>-11.27580356298</td><td>1.1945</td><td>3046224181962269440</td><td>0.8668</td><td>1.4557</td><td>0.651</td><td>1.809</td><td>-0.980</td><td>1.843</td><td>0</td><td>108.8</td><td>1.17</td><td>20.5971</td><td>0.0117</td><td>87.65</td><td>16.85</td><td>20.4945</td><td>0.2087</td><td>178.9</td><td>6.858</td><td>19.1304</td><td>0.0416</td><td>1.3641</td><td>--</td><td>--</td><td>--</td><td>--</td><td>--</td><td>--</td><td>--</td></tr>\n",
       "<tr><td>106.4650522305513</td><td>-11.2728217182978</td><td>106.46505100128</td><td>0.3117</td><td>-11.27282522302</td><td>0.3575</td><td>3046224177669097216</td><td>0.7234</td><td>0.4572</td><td>-0.280</td><td>0.656</td><td>-0.814</td><td>0.702</td><td>0</td><td>398.1</td><td>1.756</td><td>19.1884</td><td>0.0048</td><td>159.9</td><td>15.27</td><td>19.8418</td><td>0.1037</td><td>468.4</td><td>9.171</td><td>18.0854</td><td>0.0213</td><td>1.7565</td><td>--</td><td>--</td><td>--</td><td>--</td><td>--</td><td>--</td><td>--</td></tr>\n",
       "<tr><td>106.4681599805186</td><td>-11.2722054417622</td><td>106.46816412491</td><td>0.2379</td><td>-11.27219573704</td><td>0.2921</td><td>3046224177669099264</td><td>0.3264</td><td>0.3724</td><td>0.944</td><td>0.522</td><td>2.254</td><td>0.517</td><td>0</td><td>479.4</td><td>1.654</td><td>18.9865</td><td>0.0037</td><td>186.3</td><td>9.782</td><td>19.6759</td><td>0.0570</td><td>572.8</td><td>20.05</td><td>17.8668</td><td>0.0380</td><td>1.8091</td><td>--</td><td>--</td><td>--</td><td>--</td><td>--</td><td>--</td><td>--</td></tr>\n",
       "</table></div>"
      ],
      "text/plain": [
       "<Table length=13565>\n",
       "     _RAJ2000          _DEJ2000         RA_ICRS     ...   Rad      Lum   \n",
       "       deg               deg              deg       ...   Rsun     Lsun  \n",
       "     float64           float64          float64     ... float32  float64 \n",
       "----------------- ----------------- --------------- ... ------- ---------\n",
       "106.5960297972769 -11.8231343181156 106.59602990285 ...      --        --\n",
       "106.5874708290363 -11.8203845869555 106.58746673812 ...      --        --\n",
       "106.5862601488865 -11.8228688876411 106.58625837614 ...      --        --\n",
       "106.5848990215625 -11.8194283374477 106.58489292040 ...      --        --\n",
       "106.5919793421407 -11.8229065547577 106.59197527758 ...      --        --\n",
       "106.5886225278467 -11.8226691935784 106.58860571536 ...      --        --\n",
       "106.6015895994260 -11.8074022893954 106.60154511172 ...    1.84     1.969\n",
       "106.6046863355600 -11.8072176037700 106.60468633556 ...      --        --\n",
       "106.6146827854766 -11.8186487557633 106.61467801717 ...      --        --\n",
       "              ...               ...             ... ...     ...       ...\n",
       "106.5107494058000 -11.2718767088800 106.51074940580 ...      --        --\n",
       "106.5195817763980 -11.2643768468611 106.51958324270 ...      --        --\n",
       "106.5041155386352 -11.2673774641388 106.50411028360 ...      --        --\n",
       "106.4976703285002 -11.2670430357585 106.49764076073 ...    1.00     0.484\n",
       "106.4972357427547 -11.2702276166569 106.49720133225 ...    0.81     0.348\n",
       "106.5085803496356 -11.2749842607687 106.50859140877 ...      --        --\n",
       "106.4635531525580 -11.2743171449999 106.46356220531 ...      --        --\n",
       "106.4529367839647 -11.2757993435355 106.45293964205 ...      --        --\n",
       "106.4650522305513 -11.2728217182978 106.46505100128 ...      --        --\n",
       "106.4681599805186 -11.2722054417622 106.46816412491 ...      --        --"
      ]
     },
     "execution_count": 33,
     "metadata": {},
     "output_type": "execute_result"
    }
   ],
   "source": [
    "from astropy.table import Table\n",
    "t = Table.read('../data/ds9.xml')\n",
    "t"
   ]
  },
  {
   "cell_type": "code",
   "execution_count": 34,
   "metadata": {},
   "outputs": [
    {
     "data": {
      "text/plain": [
       "(<Time object: scale='tcb' format='jyear' value=2015.5>,\n",
       " '2015-07-02 21:00:00.000')"
      ]
     },
     "execution_count": 34,
     "metadata": {},
     "output_type": "execute_result"
    }
   ],
   "source": [
    "from astropy.time import Time\n",
    "import astropy.units as u\n",
    "\n",
    "# gaia ref_epoch on each gaia source record:\n",
    "ref_epoch = 2015.5 #for dr2\n",
    "# gaia doc specifies ref_epoch is tcb\n",
    "t_gaia = Time(ref_epoch, scale='tcb',format='jyear')\n",
    "t_gaia, t_gaia.iso"
   ]
  },
  {
   "cell_type": "code",
   "execution_count": 35,
   "metadata": {},
   "outputs": [
    {
     "name": "stderr",
     "output_type": "stream",
     "text": [
      "WARNING: VerifyWarning: Invalid 'BLANK' keyword in header.  The 'BLANK' keyword is only applicable to integer data, and will be ignored in this HDU. [astropy.io.fits.hdu.image]\n"
     ]
    },
    {
     "data": {
      "text/plain": [
       "'2006-01-04 10:40:44.976'"
      ]
     },
     "execution_count": 35,
     "metadata": {},
     "output_type": "execute_result"
    }
   ],
   "source": [
    "# get the MJD from the fits file\n",
    "\n",
    "fitspath = os.path.join('../data', 'ZCMa_ha.fits')\n",
    "with fits.open(fitspath) as hdul:\n",
    "    hdu = hdul[0]\n",
    "    hdr = hdu.header\n",
    "    mjd = hdr['MJD'] # value from the header\n",
    "\n",
    "t_obs = Time(mjd, scale='utc', format='mjd')\n",
    "t_obs.iso"
   ]
  },
  {
   "cell_type": "code",
   "execution_count": 36,
   "metadata": {},
   "outputs": [],
   "source": [
    "# make the coordinates from the ICRS values and the GAIA ref epoch\n",
    "coords_icrs = SkyCoord(ra=t['RA_ICRS'],\n",
    "                dec=t['DE_ICRS'],\n",
    "                pm_ra_cosdec=t['pmRA'].filled(fill_value=0.0),\n",
    "                pm_dec=t['pmDE'].filled(fill_value=0.0), obstime=t_gaia)"
   ]
  },
  {
   "cell_type": "code",
   "execution_count": 37,
   "metadata": {},
   "outputs": [],
   "source": [
    "# function to compute root mean squared error\n",
    "def rmse(hat, act):\n",
    "    e2 = (hat-act)**2\n",
    "    return np.sqrt(np.nanmean(e2))"
   ]
  },
  {
   "cell_type": "markdown",
   "metadata": {},
   "source": [
    "Compare five predictions of the _RAJ2000 and _DEJ2000 values:\n",
    "1. with the ICRS values\n",
    "2. with the ICRS values transformed to FK5\n",
    "3. with the ICRS values, applied space motion to the observation date, transformed to FK5\n",
    "3. ICRS values, applied space motion to J2000, transformed to FK5\n",
    "3. ICRS values applied space motion to J2000"
   ]
  },
  {
   "cell_type": "code",
   "execution_count": 38,
   "metadata": {},
   "outputs": [
    {
     "name": "stdout",
     "output_type": "stream",
     "text": [
      "ICRS RMSE: RA: 46.20837588028197 mas, Dec: 61.91913934382889 mas\n",
      "FK5 RMSE: RA: 45.91363525102139 mas, Dec: 63.48592363332249 mas\n",
      "FK5_obs RMSE: RA: 24.78335912811097 mas, Dec: 30.6590319712022 mas\n",
      "FK5_2000 RMSE: RA: 22.27391177861022 mas, Dec: 21.667139300147635 mas\n",
      "ICRS_2000 RMSE: RA: 0.0010385274308936654 mas, Dec: 0.0020881441451843625 mas\n"
     ]
    },
    {
     "name": "stderr",
     "output_type": "stream",
     "text": [
      "c:\\Users\\Kevin\\anaconda3\\envs\\astro\\lib\\site-packages\\erfa\\core.py:154: ErfaWarning: ERFA function \"pmsafe\" yielded 13562 of \"distance overridden (Note 6)\", 3 of \"binary logical OR of the above warnings\"\n",
      "  warnings.warn('ERFA function \"{}\" yielded {}'.format(func_name, wmsg),\n"
     ]
    }
   ],
   "source": [
    "# the dependent variable\n",
    "coords_j2000 = SkyCoord(ra=t['_RAJ2000'],\n",
    "                dec=t['_DEJ2000'])\n",
    "\n",
    "# case 1: icrs as predictor\n",
    "ra_rmse_icrs = rmse(coords_icrs.ra, coords_j2000.ra).to(u.mas)\n",
    "dec_rmse_icrs = rmse(coords_icrs.dec, coords_j2000.dec).to(u.mas)\n",
    "print(f'ICRS RMSE: RA: {ra_rmse_icrs}, Dec: {dec_rmse_icrs}')\n",
    "\n",
    "#case 3: fk5 as predictor\n",
    "coords_fk5 = coords_icrs.fk5\n",
    "ra_rmse_fk5 = rmse(coords_fk5.ra, coords_j2000.ra).to(u.mas)\n",
    "dec_rmse_fk5 = rmse(coords_fk5.dec, coords_j2000.dec).to(u.mas)\n",
    "print(f'FK5 RMSE: RA: {ra_rmse_fk5}, Dec: {dec_rmse_fk5}')\n",
    "\n",
    "# case 3: icrs moved to obs date, then reframed to fk5\n",
    "coords_fk5_m = coords_icrs.apply_space_motion(new_obstime=t_obs).fk5\n",
    "ra_rmse_fk5_m = rmse(coords_fk5_m.ra, coords_j2000.ra).to(u.mas)\n",
    "dec_rmse_fk5_m = rmse(coords_fk5_m.dec, coords_j2000.dec).to(u.mas)\n",
    "print(f'FK5_obs RMSE: RA: {ra_rmse_fk5_m}, Dec: {dec_rmse_fk5_m}')\n",
    "\n",
    "# case 4: icrs moved to J2000 date, then reframed to fk5\n",
    "t_2000 = Time('J2000.0',  format='jyear_str')\n",
    "coords_fk5_m2000 = coords_icrs.apply_space_motion(new_obstime=t_2000).fk5\n",
    "ra_rmse_fk5_m2000 = rmse(coords_fk5_m2000.ra, coords_j2000.ra).to(u.mas)\n",
    "dec_rmse_fk5_m2000 = rmse(coords_fk5_m2000.dec, coords_j2000.dec).to(u.mas)\n",
    "print(f'FK5_2000 RMSE: RA: {ra_rmse_fk5_m2000}, Dec: {dec_rmse_fk5_m2000}')\n",
    "t_2000 = Time('J2000.0',  format='jyear_str')\n",
    "\n",
    "# case 5: icrs moved to J2000 date\n",
    "coords_icrs_m2000 = coords_icrs.apply_space_motion(new_obstime=t_2000)\n",
    "ra_rmse_icrs_m2000 = rmse(coords_icrs_m2000.ra, coords_j2000.ra).to(u.mas)\n",
    "dec_rmse_icrs_m2000 = rmse(coords_icrs_m2000.dec, coords_j2000.dec).to(u.mas)\n",
    "print(f'ICRS_2000 RMSE: RA: {ra_rmse_icrs_m2000}, Dec: {dec_rmse_icrs_m2000}')"
   ]
  },
  {
   "cell_type": "code",
   "execution_count": 39,
   "metadata": {},
   "outputs": [
    {
     "name": "stdout",
     "output_type": "stream",
     "text": [
      "Number of observations: 13565\n"
     ]
    },
    {
     "data": {
      "text/html": [
       "<div><i>Table length=5</i>\n",
       "<table id=\"table2888373144448\" class=\"table-striped table-bordered table-condensed\">\n",
       "<thead><tr><th>Predictor</th><th>RMSE_RA</th><th>RMSE_DEC</th></tr></thead>\n",
       "<thead><tr><th></th><th>mas</th><th>mas</th></tr></thead>\n",
       "<thead><tr><th>str9</th><th>float64</th><th>float64</th></tr></thead>\n",
       "<tr><td>ICRS</td><td>46.208</td><td>61.919</td></tr>\n",
       "<tr><td>FK5</td><td>45.914</td><td>63.486</td></tr>\n",
       "<tr><td>FK5 Obs</td><td>24.783</td><td>30.659</td></tr>\n",
       "<tr><td>FK5_2000</td><td>22.274</td><td>21.667</td></tr>\n",
       "<tr><td>ICRS_2000</td><td>0.001</td><td>0.002</td></tr>\n",
       "</table></div>"
      ],
      "text/plain": [
       "<Table length=5>\n",
       "Predictor RMSE_RA RMSE_DEC\n",
       "            mas     mas   \n",
       "   str9   float64 float64 \n",
       "--------- ------- --------\n",
       "     ICRS  46.208   61.919\n",
       "      FK5  45.914   63.486\n",
       "  FK5 Obs  24.783   30.659\n",
       " FK5_2000  22.274   21.667\n",
       "ICRS_2000   0.001    0.002"
      ]
     },
     "execution_count": 39,
     "metadata": {},
     "output_type": "execute_result"
    }
   ],
   "source": [
    "res_table = Table(rows=[('ICRS', ra_rmse_icrs, dec_rmse_icrs),\n",
    "                        ('FK5', ra_rmse_fk5, dec_rmse_fk5),\n",
    "                        ('FK5 Obs',ra_rmse_fk5_m, dec_rmse_fk5_m),\n",
    "                        ('FK5_2000', ra_rmse_fk5_m2000, dec_rmse_fk5_m2000),\n",
    "                        ('ICRS_2000', ra_rmse_icrs_m2000, dec_rmse_icrs_m2000)],\n",
    "                        names=['Predictor', 'RMSE_RA', 'RMSE_DEC'])\n",
    "res_table['RMSE_RA'].format = '.3f'\n",
    "res_table['RMSE_DEC'].format = '.3f'\n",
    "\n",
    "print(f'Number of observations: {len(coords_icrs)}')\n",
    "\n",
    "res_table"
   ]
  },
  {
   "cell_type": "markdown",
   "metadata": {},
   "source": [
    "**Conclusion** DS9 takes the returned values from Gaia and moves them back to epoch J2000."
   ]
  }
 ],
 "metadata": {
  "kernelspec": {
   "display_name": "astro",
   "language": "python",
   "name": "python3"
  },
  "language_info": {
   "codemirror_mode": {
    "name": "ipython",
    "version": 3
   },
   "file_extension": ".py",
   "mimetype": "text/x-python",
   "name": "python",
   "nbconvert_exporter": "python",
   "pygments_lexer": "ipython3",
   "version": "3.9.7"
  },
  "orig_nbformat": 4
 },
 "nbformat": 4,
 "nbformat_minor": 2
}
