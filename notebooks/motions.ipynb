{
 "cells": [
  {
   "attachments": {},
   "cell_type": "markdown",
   "metadata": {},
   "source": [
    "# Verify Space Motion Functionality"
   ]
  },
  {
   "cell_type": "code",
   "execution_count": 22,
   "metadata": {},
   "outputs": [],
   "source": [
    "import astropy.units as u\n",
    "from astropy.time import Time\n",
    "from astropy.coordinates import SkyCoord\n",
    "\n",
    "#exagerated motions for testing purposes\n",
    "c = SkyCoord(l=10*u.degree, b=45*u.degree, distance=100*u.pc,\n",
    "             pm_l_cosb=340*u.mas/u.yr, pm_b=-1170*u.mas/u.yr,\n",
    "             frame='galactic',\n",
    "             obstime=Time('1988-12-18 05:11:23.5'))"
   ]
  },
  {
   "cell_type": "code",
   "execution_count": 23,
   "metadata": {},
   "outputs": [
    {
     "data": {
      "text/plain": [
       "<SkyCoord (Galactic): (l, b, distance) in (deg, deg, pc)\n",
       "    (10., 45., 100.)\n",
       " (pm_l_cosb, pm_b) in mas / yr\n",
       "    (340., -1170.)>"
      ]
     },
     "execution_count": 23,
     "metadata": {},
     "output_type": "execute_result"
    }
   ],
   "source": [
    "c"
   ]
  },
  {
   "cell_type": "code",
   "execution_count": 24,
   "metadata": {},
   "outputs": [
    {
     "data": {
      "text/plain": [
       "<SkyCoord (Galactic): (l, b, distance) in (deg, deg, pc)\n",
       "    (10.00133557, 44.99674999, 99.99999448)\n",
       " (pm_l_cosb, pm_b, radial_velocity) in (mas / yr, mas / yr, km / s)\n",
       "    (339.98071452, -1170.00559973, 0.03411744)>"
      ]
     },
     "execution_count": 24,
     "metadata": {},
     "output_type": "execute_result"
    }
   ],
   "source": [
    "dt = 10*u.year\n",
    "c_new = c.apply_space_motion(dt=dt)\n",
    "c_new"
   ]
  },
  {
   "cell_type": "code",
   "execution_count": 27,
   "metadata": {},
   "outputs": [
    {
     "data": {
      "text/plain": [
       "True"
      ]
     },
     "execution_count": 27,
     "metadata": {},
     "output_type": "execute_result"
    }
   ],
   "source": [
    "import numpy as np\n",
    "np.allclose(c_new.b, (c.b + c.pm_b*dt))"
   ]
  },
  {
   "cell_type": "code",
   "execution_count": 31,
   "metadata": {},
   "outputs": [
    {
     "data": {
      "text/plain": [
       "'0.9999999998'"
      ]
     },
     "execution_count": 31,
     "metadata": {},
     "output_type": "execute_result"
    }
   ],
   "source": [
    "f'{c_new.b/ (c.b + c.pm_b*dt):.10f}'"
   ]
  },
  {
   "cell_type": "code",
   "execution_count": 21,
   "metadata": {},
   "outputs": [
    {
     "data": {
      "text/plain": [
       "True"
      ]
     },
     "execution_count": 21,
     "metadata": {},
     "output_type": "execute_result"
    }
   ],
   "source": [
    "np.allclose(c_new.l, (c.l+(c.pm_l_cosb/np.cos(c.b))*dt))"
   ]
  },
  {
   "attachments": {},
   "cell_type": "markdown",
   "metadata": {},
   "source": [
    "`apply_space_motion` appears to work the way I think it should, that is:\n",
    "\\begin{equation}\n",
    "\\begin{align*}\n",
    "\\delta' &= \\delta + \\dot{\\delta}dt \\cr\n",
    "\\alpha' &= \\alpha + \\dot{\\alpha}dt\n",
    "\\end{align*}\n",
    "\\end{equation}"
   ]
  },
  {
   "attachments": {},
   "cell_type": "markdown",
   "metadata": {},
   "source": [
    "# Verify Time Functionality"
   ]
  },
  {
   "cell_type": "code",
   "execution_count": 32,
   "metadata": {},
   "outputs": [
    {
     "data": {
      "text/plain": [
       "<Time object: scale='tcb' format='jyear' value=2016.0>"
      ]
     },
     "execution_count": 32,
     "metadata": {},
     "output_type": "execute_result"
    }
   ],
   "source": [
    "from astropy.time import Time\n",
    "import astropy.units as u\n",
    "\n",
    "# gaia ref_epoch on each gaia source record:\n",
    "ref_epoch = 2016 #for dr3\n",
    "# gaia doc specifies ref_epoch is tcb\n",
    "t_gaia = Time(ref_epoch, scale='tcb',format='jyear')\n",
    "t_gaia"
   ]
  },
  {
   "cell_type": "code",
   "execution_count": 33,
   "metadata": {},
   "outputs": [
    {
     "data": {
      "text/plain": [
       "'2016-01-01 12:00:00.000'"
      ]
     },
     "execution_count": 33,
     "metadata": {},
     "output_type": "execute_result"
    }
   ],
   "source": [
    "t_gaia.iso"
   ]
  },
  {
   "cell_type": "code",
   "execution_count": 34,
   "metadata": {},
   "outputs": [
    {
     "data": {
      "text/plain": [
       "<Time object: scale='utc' format='mjd' value=53739.304355>"
      ]
     },
     "execution_count": 34,
     "metadata": {},
     "output_type": "execute_result"
    }
   ],
   "source": [
    "#Fits header has OBSTIME as MJD\n",
    "mjd = 53739.304355 # value from the header\n",
    "t_obs = Time(mjd, scale='utc', format='mjd')\n",
    "t_obs"
   ]
  },
  {
   "cell_type": "code",
   "execution_count": 35,
   "metadata": {},
   "outputs": [
    {
     "data": {
      "text/plain": [
       "'2006-01-04 07:18:16.272'"
      ]
     },
     "execution_count": 35,
     "metadata": {},
     "output_type": "execute_result"
    }
   ],
   "source": [
    "t_obs.iso"
   ]
  },
  {
   "cell_type": "code",
   "execution_count": 36,
   "metadata": {},
   "outputs": [
    {
     "data": {
      "text/plain": [
       "-315290419.4613611"
      ]
     },
     "execution_count": 36,
     "metadata": {},
     "output_type": "execute_result"
    }
   ],
   "source": [
    "# calculate difference btwn the two times\n",
    "#difference in seconds\n",
    "(t_obs-t_gaia).sec\n"
   ]
  },
  {
   "cell_type": "code",
   "execution_count": 37,
   "metadata": {},
   "outputs": [
    {
     "data": {
      "text/latex": [
       "$9.9909507 \\; \\mathrm{yr}$"
      ],
      "text/plain": [
       "<Quantity 9.99095065 yr>"
      ]
     },
     "execution_count": 37,
     "metadata": {},
     "output_type": "execute_result"
    }
   ],
   "source": [
    "#difference in years\n",
    "(((t_gaia-t_obs).sec)*u.second).to(u.year)"
   ]
  },
  {
   "cell_type": "code",
   "execution_count": 38,
   "metadata": {},
   "outputs": [],
   "source": [
    "c = SkyCoord(l=10*u.degree, b=45*u.degree, distance=100*u.pc,\n",
    "             pm_l_cosb=340*u.mas/u.yr, pm_b=-1170*u.mas/u.yr,\n",
    "             frame='galactic',\n",
    "             obstime=t_gaia)\n",
    "c_new = c.apply_space_motion(t_obs)"
   ]
  },
  {
   "cell_type": "code",
   "execution_count": 40,
   "metadata": {},
   "outputs": [
    {
     "data": {
      "text/plain": [
       "True"
      ]
     },
     "execution_count": 40,
     "metadata": {},
     "output_type": "execute_result"
    }
   ],
   "source": [
    "dt = t_obs-t_gaia\n",
    "np.allclose(c_new.l, (c.l+(c.pm_l_cosb/np.cos(c.b))*dt))"
   ]
  },
  {
   "cell_type": "code",
   "execution_count": 41,
   "metadata": {},
   "outputs": [
    {
     "data": {
      "text/plain": [
       "True"
      ]
     },
     "execution_count": 41,
     "metadata": {},
     "output_type": "execute_result"
    }
   ],
   "source": [
    "np.allclose(c_new.b, (c.b + c.pm_b*dt))"
   ]
  },
  {
   "attachments": {},
   "cell_type": "markdown",
   "metadata": {},
   "source": [
    "Time and motions seem to check out!!"
   ]
  },
  {
   "cell_type": "code",
   "execution_count": 108,
   "metadata": {},
   "outputs": [],
   "source": [
    "from gaiastars import gaiastars as gs\n",
    "def gaia_from_image(hdu):\n",
    "    hdr = dict(hdu.header)\n",
    "    gstars = gs(name = hdr['OBJECT'], description =hdr['S_UFNAME'])\n",
    "\n",
    "    ra = hdr['CRVAL1']*u.degree\n",
    "    dec = hdr['CRVAL2'] * u.degree\n",
    "    radius = abs(hdr['CDELT1']*hdr['CRPIX1']) * u.degree\n",
    "\n",
    "    gstars.conesearch(ra, dec, radius)\n",
    "\n",
    "    return gstars"
   ]
  },
  {
   "cell_type": "code",
   "execution_count": 120,
   "metadata": {},
   "outputs": [],
   "source": [
    "from astropy.time import Time\n",
    "import astropy.coordinates as coord\n",
    "\n",
    "def __get_coords__(self, recalc, default_rv):\n",
    "    #computes and caches sky coordinates for the objects\n",
    "    #set recalc=True to force recalculation\n",
    "\n",
    "    if self.coords is None or recalc:\n",
    "        if default_rv is None:\n",
    "            rv = None\n",
    "        elif isinstance(default_rv, bool):\n",
    "            rv = np.array(self.objs.radial_velocity)*u.km/u.s if default_rv else None\n",
    "        else:\n",
    "            #use the reported rv if available otherwise the default rv\n",
    "            rv = np.where(np.isfinite(self.objs.radial_velocity),\n",
    "                            self.objs.radial_velocity,\n",
    "                            default_rv)*u.km/u.s\n",
    "        #hard code for gaia dr3:\n",
    "        t_gaia = Time(2016, scale='tcb',format='jyear')\n",
    "\n",
    "        self.coords = coord.SkyCoord(ra=np.array(self.objs.ra)*u.degree,\n",
    "                dec=np.array(self.objs.dec)*u.degree,\n",
    "                distance=np.array(self.objs.r_est)*u.pc,\n",
    "                pm_ra_cosdec=np.array(self.objs.pmra)*u.mas/u.yr,\n",
    "                pm_dec=np.array(self.objs.pmdec)*u.mas/u.yr,\n",
    "                radial_velocity=rv,\n",
    "                obstime = t_gaia)\n",
    "\n",
    "def get_coords(self, recalc=False, default_rv = None, newobstime=None):\n",
    "    #returns sky coordinates for the objects\n",
    "    self.__get_coords__(\n",
    "            recalc, default_rv)\n",
    "    if newobstime is not None:\n",
    "        return self.coords.apply_space_motion(newobstime)\n",
    "    else:\n",
    "        return self.coords\n",
    "\n",
    "gs.__get_coords__=__get_coords__\n",
    "gs.get_coords = get_coords"
   ]
  }
 ],
 "metadata": {
  "kernelspec": {
   "display_name": "astro",
   "language": "python",
   "name": "python3"
  },
  "language_info": {
   "codemirror_mode": {
    "name": "ipython",
    "version": 3
   },
   "file_extension": ".py",
   "mimetype": "text/x-python",
   "name": "python",
   "nbconvert_exporter": "python",
   "pygments_lexer": "ipython3",
   "version": "3.9.7"
  },
  "orig_nbformat": 4
 },
 "nbformat": 4,
 "nbformat_minor": 2
}
