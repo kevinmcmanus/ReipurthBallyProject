{
 "cells": [
  {
   "cell_type": "code",
   "execution_count": 2,
   "metadata": {},
   "outputs": [],
   "source": [
    "import numpy as np\n",
    "import matplotlib.pyplot as plt\n",
    "\n",
    "from astropy.io import fits"
   ]
  },
  {
   "cell_type": "code",
   "execution_count": 3,
   "metadata": {},
   "outputs": [],
   "source": [
    "dir = '/home/kevin/Documents/M8/object'\n",
    "fitspath = dir + '/H170524object117_chihiro.fits'\n",
    "with fits.open(fitspath) as hdul:\n",
    "    hdr = hdul[0].header.copy()\n",
    "    data = hdul[0].data.copy()"
   ]
  },
  {
   "cell_type": "code",
   "execution_count": 4,
   "metadata": {},
   "outputs": [],
   "source": [
    "nchan = 4\n",
    "\n",
    "x_oscan = np.array([[hdr['S_OSMN'+str(i+1)+'1'], hdr['S_OSMX'+str(i+1)+'1']]for i in range(nchan)])\n",
    "y_oscan = np.array([[hdr['S_OSMN'+str(i+1)+'2'], hdr['S_OSMX'+str(i+1)+'2']]for i in range(nchan)])"
   ]
  },
  {
   "cell_type": "code",
   "execution_count": 5,
   "metadata": {},
   "outputs": [
    {
     "data": {
      "text/plain": [
       "(array([[ 521,  568],\n",
       "        [ 569,  616],\n",
       "        [1657, 1704],\n",
       "        [1705, 1752]]),\n",
       " array([[ 1, 48],\n",
       "        [ 1, 48],\n",
       "        [ 1, 48],\n",
       "        [ 1, 48]]))"
      ]
     },
     "execution_count": 5,
     "metadata": {},
     "output_type": "execute_result"
    }
   ],
   "source": [
    "x_oscan, y_oscan"
   ]
  },
  {
   "cell_type": "code",
   "execution_count": 6,
   "metadata": {},
   "outputs": [
    {
     "data": {
      "text/plain": [
       "array([48, 48, 48, 48])"
      ]
     },
     "execution_count": 6,
     "metadata": {},
     "output_type": "execute_result"
    }
   ],
   "source": [
    "x_oscan[:,1]-x_oscan[:,0]+1"
   ]
  },
  {
   "cell_type": "code",
   "execution_count": 7,
   "metadata": {},
   "outputs": [],
   "source": [
    "x_eff = np.array([[hdr['S_EFMN'+str(i+1)+'1'], hdr['S_EFMX'+str(i+1)+'1']]for i in range(nchan)])\n",
    "y_eff = np.array([[hdr['S_EFMN'+str(i+1)+'2'], hdr['S_EFMX'+str(i+1)+'2']]for i in range(nchan)])"
   ]
  },
  {
   "cell_type": "code",
   "execution_count": 8,
   "metadata": {},
   "outputs": [
    {
     "data": {
      "text/plain": [
       "(array([[   9,  520],\n",
       "        [ 617, 1128],\n",
       "        [1145, 1656],\n",
       "        [1753, 2264]]),\n",
       " array([[  49, 4225],\n",
       "        [  49, 4225],\n",
       "        [  49, 4225],\n",
       "        [  49, 4225]]))"
      ]
     },
     "execution_count": 8,
     "metadata": {},
     "output_type": "execute_result"
    }
   ],
   "source": [
    "x_eff, y_eff"
   ]
  },
  {
   "cell_type": "code",
   "execution_count": 9,
   "metadata": {},
   "outputs": [
    {
     "data": {
      "text/plain": [
       "(2272, 4273)"
      ]
     },
     "execution_count": 9,
     "metadata": {},
     "output_type": "execute_result"
    }
   ],
   "source": [
    "hdr['NAXIS1'], hdr['NAXIS2']"
   ]
  },
  {
   "cell_type": "code",
   "execution_count": 10,
   "metadata": {},
   "outputs": [
    {
     "data": {
      "text/plain": [
       "False"
      ]
     },
     "execution_count": 10,
     "metadata": {},
     "output_type": "execute_result"
    }
   ],
   "source": [
    "hdr['S_XFLIP']"
   ]
  },
  {
   "cell_type": "code",
   "execution_count": 29,
   "metadata": {},
   "outputs": [],
   "source": [
    "def get_channel_info(fitspath):\n",
    "    with fits.open(fitspath) as hdul:\n",
    "        hdr = hdul[0].header.copy()\n",
    "        data = hdul[0].data.copy()\n",
    "\n",
    "    nchan = 4\n",
    "\n",
    "    x_oscan = np.array([[hdr['S_OSMN'+str(i+1)+'1'], hdr['S_OSMX'+str(i+1)+'1']]for i in range(nchan)])\n",
    "    x_eff = np.array([[hdr['S_EFMN'+str(i+1)+'1'], hdr['S_EFMX'+str(i+1)+'1']]for i in range(nchan)])\n",
    "    y_oscan = np.array([[hdr['S_OSMN'+str(i+1)+'2'], hdr['S_OSMX'+str(i+1)+'2']]for i in range(nchan)])    \n",
    "    y_eff = np.array([[hdr['S_EFMN'+str(i+1)+'2'], hdr['S_EFMX'+str(i+1)+'2']]for i in range(nchan)])\n",
    "\n",
    "    frame_pos = hdr['S_FRMPOS']\n",
    "\n",
    "    chan_info={'detector':hdr['DETECTOR'], 'chip_id': hdr['DET-ID'],\n",
    "               'frame_pos':frame_pos, 'frame_row':int(frame_pos[2:]), 'frame_col':int(frame_pos[:2]),\n",
    "               'xflip':hdr['S_XFLIP'], 'x_oscan':x_oscan, 'x_eff':x_eff,\n",
    "               'yflip':hdr['S_YFLIP'], 'y_oscan':y_oscan, 'y_eff':y_eff,\n",
    "               'NAXIS1': hdr['NAXIS1'], 'NAXIS2':hdr['NAXIS2'], 'image_shape':data.shape,\n",
    "               'CRPIX1': hdr['CRPIX1'], 'CRPIX2':hdr['CRPIX2'], 'CRVAL1':hdr['CRVAL1'], 'CRVAL2':hdr['CRVAL2']}\n",
    "    \n",
    "    return chan_info"
   ]
  },
  {
   "cell_type": "code",
   "execution_count": 30,
   "metadata": {},
   "outputs": [],
   "source": [
    "detectors = ['chihiro', 'clarisse', 'fio','kiki','nausicaa',\n",
    "             'ponyo','san','satsuki','sheeta','sophie']"
   ]
  },
  {
   "cell_type": "code",
   "execution_count": 31,
   "metadata": {},
   "outputs": [],
   "source": [
    "dir = '/home/kevin/Documents/M8/object'\n",
    "chan_info = {}\n",
    "for det in detectors:\n",
    "    fitspath = dir + '/H170524object117_'+det+'.fits'\n",
    "    chan_info[det] = get_channel_info(fitspath)"
   ]
  },
  {
   "cell_type": "code",
   "execution_count": 14,
   "metadata": {},
   "outputs": [],
   "source": [
    "import pandas as pd"
   ]
  },
  {
   "cell_type": "code",
   "execution_count": 47,
   "metadata": {},
   "outputs": [],
   "source": [
    "cols = ['detector', 'chip_id', 'frame_row', 'frame_col', 'xflip', 'yflip',\n",
    "        'NAXIS1', 'NAXIS2',\n",
    "        'CRPIX1', 'CRPIX2', 'CRVAL1', 'CRVAL2']\n",
    "chan_info_df = pd.DataFrame([[chan_info[det][c] for c in cols] for det in chan_info], columns=cols)"
   ]
  },
  {
   "attachments": {
    "image.png": {
     "image/png": "[encoded data removed]"
    }
   },
   "cell_type": "markdown",
   "metadata": {},
   "source": [
    "![image.png](attachment:image.png)"
   ]
  },
  {
   "cell_type": "code",
   "execution_count": 48,
   "metadata": {},
   "outputs": [
    {
     "data": {
      "text/html": [
       "<div>\n",
       "<style scoped>\n",
       "    .dataframe tbody tr th:only-of-type {\n",
       "        vertical-align: middle;\n",
       "    }\n",
       "\n",
       "    .dataframe tbody tr th {\n",
       "        vertical-align: top;\n",
       "    }\n",
       "\n",
       "    .dataframe thead th {\n",
       "        text-align: right;\n",
       "    }\n",
       "</style>\n",
       "<table border=\"1\" class=\"dataframe\">\n",
       "  <thead>\n",
       "    <tr style=\"text-align: right;\">\n",
       "      <th></th>\n",
       "      <th>detector</th>\n",
       "      <th>chip_id</th>\n",
       "      <th>frame_row</th>\n",
       "      <th>frame_col</th>\n",
       "      <th>xflip</th>\n",
       "      <th>yflip</th>\n",
       "      <th>NAXIS1</th>\n",
       "      <th>NAXIS2</th>\n",
       "      <th>CRPIX1</th>\n",
       "      <th>CRPIX2</th>\n",
       "      <th>CRVAL1</th>\n",
       "      <th>CRVAL2</th>\n",
       "    </tr>\n",
       "  </thead>\n",
       "  <tbody>\n",
       "    <tr>\n",
       "      <th>5</th>\n",
       "      <td>ponyo</td>\n",
       "      <td>8</td>\n",
       "      <td>0</td>\n",
       "      <td>0</td>\n",
       "      <td>True</td>\n",
       "      <td>False</td>\n",
       "      <td>2272</td>\n",
       "      <td>4273</td>\n",
       "      <td>5252.0</td>\n",
       "      <td>4213.0</td>\n",
       "      <td>270.90375</td>\n",
       "      <td>-24.386653</td>\n",
       "    </tr>\n",
       "    <tr>\n",
       "      <th>6</th>\n",
       "      <td>san</td>\n",
       "      <td>9</td>\n",
       "      <td>0</td>\n",
       "      <td>1</td>\n",
       "      <td>True</td>\n",
       "      <td>False</td>\n",
       "      <td>2272</td>\n",
       "      <td>4273</td>\n",
       "      <td>3162.0</td>\n",
       "      <td>4212.0</td>\n",
       "      <td>270.90375</td>\n",
       "      <td>-24.386653</td>\n",
       "    </tr>\n",
       "    <tr>\n",
       "      <th>7</th>\n",
       "      <td>satsuki</td>\n",
       "      <td>5</td>\n",
       "      <td>0</td>\n",
       "      <td>2</td>\n",
       "      <td>True</td>\n",
       "      <td>False</td>\n",
       "      <td>2272</td>\n",
       "      <td>4273</td>\n",
       "      <td>1055.0</td>\n",
       "      <td>4214.0</td>\n",
       "      <td>270.90375</td>\n",
       "      <td>-24.386653</td>\n",
       "    </tr>\n",
       "    <tr>\n",
       "      <th>8</th>\n",
       "      <td>sheeta</td>\n",
       "      <td>4</td>\n",
       "      <td>0</td>\n",
       "      <td>3</td>\n",
       "      <td>True</td>\n",
       "      <td>False</td>\n",
       "      <td>2272</td>\n",
       "      <td>4273</td>\n",
       "      <td>-1068.0</td>\n",
       "      <td>4189.0</td>\n",
       "      <td>270.90375</td>\n",
       "      <td>-24.386653</td>\n",
       "    </tr>\n",
       "    <tr>\n",
       "      <th>9</th>\n",
       "      <td>sophie</td>\n",
       "      <td>3</td>\n",
       "      <td>0</td>\n",
       "      <td>4</td>\n",
       "      <td>True</td>\n",
       "      <td>False</td>\n",
       "      <td>2272</td>\n",
       "      <td>4273</td>\n",
       "      <td>-3153.0</td>\n",
       "      <td>4167.0</td>\n",
       "      <td>270.90375</td>\n",
       "      <td>-24.386653</td>\n",
       "    </tr>\n",
       "    <tr>\n",
       "      <th>0</th>\n",
       "      <td>chihiro</td>\n",
       "      <td>6</td>\n",
       "      <td>1</td>\n",
       "      <td>0</td>\n",
       "      <td>False</td>\n",
       "      <td>True</td>\n",
       "      <td>2272</td>\n",
       "      <td>4273</td>\n",
       "      <td>5276.0</td>\n",
       "      <td>25.0</td>\n",
       "      <td>270.90375</td>\n",
       "      <td>-24.386653</td>\n",
       "    </tr>\n",
       "    <tr>\n",
       "      <th>1</th>\n",
       "      <td>clarisse</td>\n",
       "      <td>7</td>\n",
       "      <td>1</td>\n",
       "      <td>1</td>\n",
       "      <td>False</td>\n",
       "      <td>True</td>\n",
       "      <td>2272</td>\n",
       "      <td>4273</td>\n",
       "      <td>3184.0</td>\n",
       "      <td>-14.0</td>\n",
       "      <td>270.90375</td>\n",
       "      <td>-24.386653</td>\n",
       "    </tr>\n",
       "    <tr>\n",
       "      <th>2</th>\n",
       "      <td>fio</td>\n",
       "      <td>2</td>\n",
       "      <td>1</td>\n",
       "      <td>2</td>\n",
       "      <td>False</td>\n",
       "      <td>True</td>\n",
       "      <td>2272</td>\n",
       "      <td>4273</td>\n",
       "      <td>1068.0</td>\n",
       "      <td>-40.0</td>\n",
       "      <td>270.90375</td>\n",
       "      <td>-24.386653</td>\n",
       "    </tr>\n",
       "    <tr>\n",
       "      <th>3</th>\n",
       "      <td>kiki</td>\n",
       "      <td>1</td>\n",
       "      <td>1</td>\n",
       "      <td>3</td>\n",
       "      <td>False</td>\n",
       "      <td>True</td>\n",
       "      <td>2272</td>\n",
       "      <td>4273</td>\n",
       "      <td>-1032.0</td>\n",
       "      <td>-38.0</td>\n",
       "      <td>270.90375</td>\n",
       "      <td>-24.386653</td>\n",
       "    </tr>\n",
       "    <tr>\n",
       "      <th>4</th>\n",
       "      <td>nausicaa</td>\n",
       "      <td>0</td>\n",
       "      <td>1</td>\n",
       "      <td>4</td>\n",
       "      <td>False</td>\n",
       "      <td>True</td>\n",
       "      <td>2272</td>\n",
       "      <td>4273</td>\n",
       "      <td>-3130.0</td>\n",
       "      <td>-37.0</td>\n",
       "      <td>270.90375</td>\n",
       "      <td>-24.386653</td>\n",
       "    </tr>\n",
       "  </tbody>\n",
       "</table>\n",
       "</div>"
      ],
      "text/plain": [
       "   detector  chip_id  frame_row  frame_col  xflip  yflip  NAXIS1  NAXIS2  \\\n",
       "5     ponyo        8          0          0   True  False    2272    4273   \n",
       "6       san        9          0          1   True  False    2272    4273   \n",
       "7   satsuki        5          0          2   True  False    2272    4273   \n",
       "8    sheeta        4          0          3   True  False    2272    4273   \n",
       "9    sophie        3          0          4   True  False    2272    4273   \n",
       "0   chihiro        6          1          0  False   True    2272    4273   \n",
       "1  clarisse        7          1          1  False   True    2272    4273   \n",
       "2       fio        2          1          2  False   True    2272    4273   \n",
       "3      kiki        1          1          3  False   True    2272    4273   \n",
       "4  nausicaa        0          1          4  False   True    2272    4273   \n",
       "\n",
       "   CRPIX1  CRPIX2     CRVAL1     CRVAL2  \n",
       "5  5252.0  4213.0  270.90375 -24.386653  \n",
       "6  3162.0  4212.0  270.90375 -24.386653  \n",
       "7  1055.0  4214.0  270.90375 -24.386653  \n",
       "8 -1068.0  4189.0  270.90375 -24.386653  \n",
       "9 -3153.0  4167.0  270.90375 -24.386653  \n",
       "0  5276.0    25.0  270.90375 -24.386653  \n",
       "1  3184.0   -14.0  270.90375 -24.386653  \n",
       "2  1068.0   -40.0  270.90375 -24.386653  \n",
       "3 -1032.0   -38.0  270.90375 -24.386653  \n",
       "4 -3130.0   -37.0  270.90375 -24.386653  "
      ]
     },
     "execution_count": 48,
     "metadata": {},
     "output_type": "execute_result"
    }
   ],
   "source": [
    "chan_info_df.sort_values(['frame_row', 'frame_col'])"
   ]
  },
  {
   "cell_type": "code",
   "execution_count": 35,
   "metadata": {},
   "outputs": [],
   "source": [
    "dir = '/home/kevin/Documents/M8/object'\n",
    "chan_info_oscansub= {}\n",
    "for det in detectors:\n",
    "    fitspath = dir + '/To_RH170524object117_'+det+'.fits'\n",
    "    chan_info_oscansub[det] = get_channel_info(fitspath)"
   ]
  },
  {
   "cell_type": "code",
   "execution_count": 40,
   "metadata": {},
   "outputs": [],
   "source": [
    "cols = ['detector', 'chip_id', 'frame_row', 'frame_col', 'xflip', 'yflip',\n",
    "        'CRPIX1', 'CRPIX2', 'CRVAL1', 'CRVAL2']\n",
    "chan_info_oscansub_df = pd.DataFrame([[chan_info_oscansub[det][c] for c in cols] for det in chan_info_oscansub], columns=cols)"
   ]
  },
  {
   "cell_type": "code",
   "execution_count": 41,
   "metadata": {},
   "outputs": [
    {
     "data": {
      "text/html": [
       "<div>\n",
       "<style scoped>\n",
       "    .dataframe tbody tr th:only-of-type {\n",
       "        vertical-align: middle;\n",
       "    }\n",
       "\n",
       "    .dataframe tbody tr th {\n",
       "        vertical-align: top;\n",
       "    }\n",
       "\n",
       "    .dataframe thead th {\n",
       "        text-align: right;\n",
       "    }\n",
       "</style>\n",
       "<table border=\"1\" class=\"dataframe\">\n",
       "  <thead>\n",
       "    <tr style=\"text-align: right;\">\n",
       "      <th></th>\n",
       "      <th>detector</th>\n",
       "      <th>chip_id</th>\n",
       "      <th>frame_row</th>\n",
       "      <th>frame_col</th>\n",
       "      <th>xflip</th>\n",
       "      <th>yflip</th>\n",
       "      <th>CRPIX1</th>\n",
       "      <th>CRPIX2</th>\n",
       "      <th>CRVAL1</th>\n",
       "      <th>CRVAL2</th>\n",
       "    </tr>\n",
       "  </thead>\n",
       "  <tbody>\n",
       "    <tr>\n",
       "      <th>0</th>\n",
       "      <td>chihiro</td>\n",
       "      <td>6</td>\n",
       "      <td>1</td>\n",
       "      <td>0</td>\n",
       "      <td>False</td>\n",
       "      <td>True</td>\n",
       "      <td>5268.0</td>\n",
       "      <td>-23.0</td>\n",
       "      <td>270.90375</td>\n",
       "      <td>-24.386653</td>\n",
       "    </tr>\n",
       "    <tr>\n",
       "      <th>1</th>\n",
       "      <td>clarisse</td>\n",
       "      <td>7</td>\n",
       "      <td>1</td>\n",
       "      <td>1</td>\n",
       "      <td>False</td>\n",
       "      <td>True</td>\n",
       "      <td>3176.0</td>\n",
       "      <td>-62.0</td>\n",
       "      <td>270.90375</td>\n",
       "      <td>-24.386653</td>\n",
       "    </tr>\n",
       "    <tr>\n",
       "      <th>2</th>\n",
       "      <td>fio</td>\n",
       "      <td>2</td>\n",
       "      <td>1</td>\n",
       "      <td>2</td>\n",
       "      <td>False</td>\n",
       "      <td>True</td>\n",
       "      <td>1060.0</td>\n",
       "      <td>-88.0</td>\n",
       "      <td>270.90375</td>\n",
       "      <td>-24.386653</td>\n",
       "    </tr>\n",
       "    <tr>\n",
       "      <th>3</th>\n",
       "      <td>kiki</td>\n",
       "      <td>1</td>\n",
       "      <td>1</td>\n",
       "      <td>3</td>\n",
       "      <td>False</td>\n",
       "      <td>True</td>\n",
       "      <td>-1040.0</td>\n",
       "      <td>-86.0</td>\n",
       "      <td>270.90375</td>\n",
       "      <td>-24.386653</td>\n",
       "    </tr>\n",
       "    <tr>\n",
       "      <th>4</th>\n",
       "      <td>nausicaa</td>\n",
       "      <td>0</td>\n",
       "      <td>1</td>\n",
       "      <td>4</td>\n",
       "      <td>False</td>\n",
       "      <td>True</td>\n",
       "      <td>-3138.0</td>\n",
       "      <td>-85.0</td>\n",
       "      <td>270.90375</td>\n",
       "      <td>-24.386653</td>\n",
       "    </tr>\n",
       "    <tr>\n",
       "      <th>5</th>\n",
       "      <td>ponyo</td>\n",
       "      <td>8</td>\n",
       "      <td>0</td>\n",
       "      <td>0</td>\n",
       "      <td>True</td>\n",
       "      <td>False</td>\n",
       "      <td>5244.0</td>\n",
       "      <td>4165.0</td>\n",
       "      <td>270.90375</td>\n",
       "      <td>-24.386653</td>\n",
       "    </tr>\n",
       "    <tr>\n",
       "      <th>6</th>\n",
       "      <td>san</td>\n",
       "      <td>9</td>\n",
       "      <td>0</td>\n",
       "      <td>1</td>\n",
       "      <td>True</td>\n",
       "      <td>False</td>\n",
       "      <td>3154.0</td>\n",
       "      <td>4164.0</td>\n",
       "      <td>270.90375</td>\n",
       "      <td>-24.386653</td>\n",
       "    </tr>\n",
       "    <tr>\n",
       "      <th>7</th>\n",
       "      <td>satsuki</td>\n",
       "      <td>5</td>\n",
       "      <td>0</td>\n",
       "      <td>2</td>\n",
       "      <td>True</td>\n",
       "      <td>False</td>\n",
       "      <td>1047.0</td>\n",
       "      <td>4166.0</td>\n",
       "      <td>270.90375</td>\n",
       "      <td>-24.386653</td>\n",
       "    </tr>\n",
       "    <tr>\n",
       "      <th>8</th>\n",
       "      <td>sheeta</td>\n",
       "      <td>4</td>\n",
       "      <td>0</td>\n",
       "      <td>3</td>\n",
       "      <td>True</td>\n",
       "      <td>False</td>\n",
       "      <td>-1076.0</td>\n",
       "      <td>4141.0</td>\n",
       "      <td>270.90375</td>\n",
       "      <td>-24.386653</td>\n",
       "    </tr>\n",
       "    <tr>\n",
       "      <th>9</th>\n",
       "      <td>sophie</td>\n",
       "      <td>3</td>\n",
       "      <td>0</td>\n",
       "      <td>4</td>\n",
       "      <td>True</td>\n",
       "      <td>False</td>\n",
       "      <td>-3161.0</td>\n",
       "      <td>4119.0</td>\n",
       "      <td>270.90375</td>\n",
       "      <td>-24.386653</td>\n",
       "    </tr>\n",
       "  </tbody>\n",
       "</table>\n",
       "</div>"
      ],
      "text/plain": [
       "   detector  chip_id  frame_row  frame_col  xflip  yflip  CRPIX1  CRPIX2  \\\n",
       "0   chihiro        6          1          0  False   True  5268.0   -23.0   \n",
       "1  clarisse        7          1          1  False   True  3176.0   -62.0   \n",
       "2       fio        2          1          2  False   True  1060.0   -88.0   \n",
       "3      kiki        1          1          3  False   True -1040.0   -86.0   \n",
       "4  nausicaa        0          1          4  False   True -3138.0   -85.0   \n",
       "5     ponyo        8          0          0   True  False  5244.0  4165.0   \n",
       "6       san        9          0          1   True  False  3154.0  4164.0   \n",
       "7   satsuki        5          0          2   True  False  1047.0  4166.0   \n",
       "8    sheeta        4          0          3   True  False -1076.0  4141.0   \n",
       "9    sophie        3          0          4   True  False -3161.0  4119.0   \n",
       "\n",
       "      CRVAL1     CRVAL2  \n",
       "0  270.90375 -24.386653  \n",
       "1  270.90375 -24.386653  \n",
       "2  270.90375 -24.386653  \n",
       "3  270.90375 -24.386653  \n",
       "4  270.90375 -24.386653  \n",
       "5  270.90375 -24.386653  \n",
       "6  270.90375 -24.386653  \n",
       "7  270.90375 -24.386653  \n",
       "8  270.90375 -24.386653  \n",
       "9  270.90375 -24.386653  "
      ]
     },
     "execution_count": 41,
     "metadata": {},
     "output_type": "execute_result"
    }
   ],
   "source": [
    "chan_info_oscansub_df"
   ]
  },
  {
   "cell_type": "code",
   "execution_count": 38,
   "metadata": {},
   "outputs": [
    {
     "data": {
      "text/plain": [
       "0   -8.0\n",
       "1   -8.0\n",
       "2   -8.0\n",
       "3   -8.0\n",
       "4   -8.0\n",
       "5   -8.0\n",
       "6   -8.0\n",
       "7   -8.0\n",
       "8   -8.0\n",
       "9   -8.0\n",
       "Name: CRPIX1, dtype: float64"
      ]
     },
     "execution_count": 38,
     "metadata": {},
     "output_type": "execute_result"
    }
   ],
   "source": [
    "chan_info_oscansub_df.CRPIX1 - chan_info_df.CRPIX1"
   ]
  },
  {
   "cell_type": "code",
   "execution_count": 39,
   "metadata": {},
   "outputs": [
    {
     "data": {
      "text/plain": [
       "0   -48.0\n",
       "1   -48.0\n",
       "2   -48.0\n",
       "3   -48.0\n",
       "4   -48.0\n",
       "5   -48.0\n",
       "6   -48.0\n",
       "7   -48.0\n",
       "8   -48.0\n",
       "9   -48.0\n",
       "Name: CRPIX2, dtype: float64"
      ]
     },
     "execution_count": 39,
     "metadata": {},
     "output_type": "execute_result"
    }
   ],
   "source": [
    "chan_info_oscansub_df.CRPIX2 - chan_info_df.CRPIX2"
   ]
  },
  {
   "cell_type": "code",
   "execution_count": 52,
   "metadata": {},
   "outputs": [
    {
     "name": "stdout",
     "output_type": "stream",
     "text": [
      "----------------- chihiro -----------------\n",
      "before: [[   9  617 1145 1753]\n",
      " [ 520 1128 1656 2264]]\n",
      "after: [[   1  513 1025 1537]\n",
      " [ 512 1024 1536 2048]]\n",
      "\n",
      "----------------- clarisse -----------------\n",
      "before: [[   9  617 1145 1753]\n",
      " [ 520 1128 1656 2264]]\n",
      "after: [[   1  513 1025 1537]\n",
      " [ 512 1024 1536 2048]]\n",
      "\n",
      "----------------- fio -----------------\n",
      "before: [[   9  617 1145 1753]\n",
      " [ 520 1128 1656 2264]]\n",
      "after: [[   1  513 1025 1537]\n",
      " [ 512 1024 1536 2048]]\n",
      "\n",
      "----------------- kiki -----------------\n",
      "before: [[   9  617 1145 1753]\n",
      " [ 520 1128 1656 2264]]\n",
      "after: [[   1  513 1025 1537]\n",
      " [ 512 1024 1536 2048]]\n",
      "\n",
      "----------------- nausicaa -----------------\n",
      "before: [[   9  617 1145 1753]\n",
      " [ 520 1128 1656 2264]]\n",
      "after: [[   1  513 1025 1537]\n",
      " [ 512 1024 1536 2048]]\n",
      "\n",
      "----------------- ponyo -----------------\n",
      "before: [[1753 1145  617    9]\n",
      " [2264 1656 1128  520]]\n",
      "after: [[1537 1025  513    1]\n",
      " [2048 1536 1024  512]]\n",
      "\n",
      "----------------- san -----------------\n",
      "before: [[1753 1145  617    9]\n",
      " [2264 1656 1128  520]]\n",
      "after: [[1537 1025  513    1]\n",
      " [2048 1536 1024  512]]\n",
      "\n",
      "----------------- satsuki -----------------\n",
      "before: [[1753 1145  617    9]\n",
      " [2264 1656 1128  520]]\n",
      "after: [[1537 1025  513    1]\n",
      " [2048 1536 1024  512]]\n",
      "\n",
      "----------------- sheeta -----------------\n",
      "before: [[1753 1145  617    9]\n",
      " [2264 1656 1128  520]]\n",
      "after: [[1537 1025  513    1]\n",
      " [2048 1536 1024  512]]\n",
      "\n",
      "----------------- sophie -----------------\n",
      "before: [[1753 1145  617    9]\n",
      " [2264 1656 1128  520]]\n",
      "after: [[1537 1025  513    1]\n",
      " [2048 1536 1024  512]]\n",
      "\n"
     ]
    }
   ],
   "source": [
    "fld = 'x_eff'\n",
    "for det in detectors:\n",
    "    print(f'----------------- {det} -----------------')\n",
    "\n",
    "    print(f'before: {chan_info[det][fld].T}')\n",
    "    print(f'after: {chan_info_oscansub[det][fld].T}')\n",
    "    print()\n"
   ]
  },
  {
   "cell_type": "code",
   "execution_count": 45,
   "metadata": {},
   "outputs": [
    {
     "name": "stdout",
     "output_type": "stream",
     "text": [
      "Detector: chihiro, yflip: True\n",
      "[[  49   49   49   49]\n",
      " [4225 4225 4225 4225]]\n",
      "\n",
      "Detector: clarisse, yflip: True\n",
      "[[  49   49   49   49]\n",
      " [4225 4225 4225 4225]]\n",
      "\n",
      "Detector: fio, yflip: True\n",
      "[[  49   49   49   49]\n",
      " [4225 4225 4225 4225]]\n",
      "\n",
      "Detector: kiki, yflip: True\n",
      "[[  49   49   49   49]\n",
      " [4225 4225 4225 4225]]\n",
      "\n",
      "Detector: nausicaa, yflip: True\n",
      "[[  49   49   49   49]\n",
      " [4225 4225 4225 4225]]\n",
      "\n",
      "Detector: ponyo, yflip: False\n",
      "[[  49   49   49   49]\n",
      " [4225 4225 4225 4225]]\n",
      "\n",
      "Detector: san, yflip: False\n",
      "[[  49   49   49   49]\n",
      " [4225 4225 4225 4225]]\n",
      "\n",
      "Detector: satsuki, yflip: False\n",
      "[[  49   49   49   49]\n",
      " [4225 4225 4225 4225]]\n",
      "\n",
      "Detector: sheeta, yflip: False\n",
      "[[  49   49   49   49]\n",
      " [4225 4225 4225 4225]]\n",
      "\n",
      "Detector: sophie, yflip: False\n",
      "[[  49   49   49   49]\n",
      " [4225 4225 4225 4225]]\n",
      "\n"
     ]
    }
   ],
   "source": [
    "for det in detectors:\n",
    "    yflip = chan_info[det]['yflip']\n",
    "    print(f'Detector: {det}, yflip: {yflip}')\n",
    "    print(chan_info[det]['y_eff'].T)\n",
    "    print()"
   ]
  },
  {
   "cell_type": "code",
   "execution_count": 46,
   "metadata": {},
   "outputs": [
    {
     "name": "stdout",
     "output_type": "stream",
     "text": [
      "Detector: chihiro, xflip: False\n",
      "[[   9  617 1145 1753]\n",
      " [ 520 1128 1656 2264]]\n",
      "\n",
      "Detector: clarisse, xflip: False\n",
      "[[   9  617 1145 1753]\n",
      " [ 520 1128 1656 2264]]\n",
      "\n",
      "Detector: fio, xflip: False\n",
      "[[   9  617 1145 1753]\n",
      " [ 520 1128 1656 2264]]\n",
      "\n",
      "Detector: kiki, xflip: False\n",
      "[[   9  617 1145 1753]\n",
      " [ 520 1128 1656 2264]]\n",
      "\n",
      "Detector: nausicaa, xflip: False\n",
      "[[   9  617 1145 1753]\n",
      " [ 520 1128 1656 2264]]\n",
      "\n",
      "Detector: ponyo, xflip: True\n",
      "[[1753 1145  617    9]\n",
      " [2264 1656 1128  520]]\n",
      "\n",
      "Detector: san, xflip: True\n",
      "[[1753 1145  617    9]\n",
      " [2264 1656 1128  520]]\n",
      "\n",
      "Detector: satsuki, xflip: True\n",
      "[[1753 1145  617    9]\n",
      " [2264 1656 1128  520]]\n",
      "\n",
      "Detector: sheeta, xflip: True\n",
      "[[1753 1145  617    9]\n",
      " [2264 1656 1128  520]]\n",
      "\n",
      "Detector: sophie, xflip: True\n",
      "[[1753 1145  617    9]\n",
      " [2264 1656 1128  520]]\n",
      "\n"
     ]
    }
   ],
   "source": [
    "for det in detectors:\n",
    "    xflip = chan_info[det]['xflip']\n",
    "    print(f'Detector: {det}, xflip: {xflip}')\n",
    "    print(chan_info[det]['x_eff'].T)\n",
    "    print()"
   ]
  },
  {
   "cell_type": "code",
   "execution_count": 19,
   "metadata": {},
   "outputs": [
    {
     "data": {
      "text/plain": [
       "((4177, 2048), (4273, 2272))"
      ]
     },
     "execution_count": 19,
     "metadata": {},
     "output_type": "execute_result"
    }
   ],
   "source": [
    "chan_info_oscansub['nausicaa']['image_shape'],chan_info['nausicaa']['image_shape']"
   ]
  },
  {
   "cell_type": "code",
   "execution_count": 26,
   "metadata": {},
   "outputs": [
    {
     "data": {
      "text/plain": [
       "2048"
      ]
     },
     "execution_count": 26,
     "metadata": {},
     "output_type": "execute_result"
    }
   ],
   "source": [
    "(chan_info['nausicaa']['x_eff'][:,1]-chan_info['nausicaa']['x_eff'][:,0]+1).sum()"
   ]
  },
  {
   "cell_type": "code",
   "execution_count": 28,
   "metadata": {},
   "outputs": [
    {
     "data": {
      "text/plain": [
       "4177.0"
      ]
     },
     "execution_count": 28,
     "metadata": {},
     "output_type": "execute_result"
    }
   ],
   "source": [
    "(chan_info['nausicaa']['y_eff'][:,1]-chan_info['nausicaa']['y_eff'][:,0]+1).sum()/4"
   ]
  },
  {
   "cell_type": "code",
   "execution_count": 55,
   "metadata": {},
   "outputs": [],
   "source": [
    "det='sheeta'\n",
    "x_eff = chan_info['sheeta']['x_eff']\n",
    "x_effcols = np.concatenate([np.arange(x_eff[c,0],x_eff[c,1]+1)  for c in range(4)])"
   ]
  },
  {
   "cell_type": "code",
   "execution_count": 59,
   "metadata": {},
   "outputs": [
    {
     "data": {
      "text/plain": [
       "array([   9,   10,   11, ..., 2262, 2263, 2264])"
      ]
     },
     "execution_count": 59,
     "metadata": {},
     "output_type": "execute_result"
    }
   ],
   "source": [
    "x_effcols.sort()\n",
    "x_effcols"
   ]
  }
 ],
 "metadata": {
  "kernelspec": {
   "display_name": "astro",
   "language": "python",
   "name": "python3"
  },
  "language_info": {
   "codemirror_mode": {
    "name": "ipython",
    "version": 3
   },
   "file_extension": ".py",
   "mimetype": "text/x-python",
   "name": "python",
   "nbconvert_exporter": "python",
   "pygments_lexer": "ipython3",
   "version": "3.9.7"
  },
  "orig_nbformat": 4
 },
 "nbformat": 4,
 "nbformat_minor": 2
}
