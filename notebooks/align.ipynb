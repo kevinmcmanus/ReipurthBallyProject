{
 "cells": [
  {
   "cell_type": "code",
   "execution_count": 1,
   "metadata": {},
   "outputs": [],
   "source": [
    "import matplotlib.pyplot as plt\n",
    "\n",
    "import astroalign as aa\n",
    "from astropy.io import fits\n",
    "\n",
    "import numpy as np\n",
    "\n",
    "import matplotlib.colors as colors\n"
   ]
  },
  {
   "cell_type": "code",
   "execution_count": 2,
   "metadata": {},
   "outputs": [],
   "source": [
    "def remove_oscan(hdr, data):\n",
    "    #four channels\n",
    "    nchan=4\n",
    "    eff_regions = np.array([[[hdr[f'S_EFMN{i}{ax}'], hdr[f'S_EFMx{i}{ax}'] ]\\\n",
    "                             for i in range(1,nchan+1)] for ax in [1,2]])\n",
    "\n",
    "    #effective columns are page 0 of the above array\n",
    "    #effective rows are page 1 of the above array\n",
    "    eff_cols = np.concatenate([np.arange(eff_regions[0,c,0],eff_regions[0,c,1]+1)for c in range(nchan)])\n",
    "    eff_rows = np.concatenate([np.arange(eff_regions[1,c,0],eff_regions[1,c,1]+1)for c in range(nchan)])\n",
    "    \n",
    "    #unique-ify and subtract 1 for python indexing\n",
    "    # relying on np.unique to return array in sorted order\n",
    "    eff_rows = np.unique(eff_rows)-1\n",
    "    eff_cols = np.unique(eff_cols)-1\n",
    "\n",
    "    no_oscan = np.array([data[row][eff_cols] for row in eff_rows])\n",
    "\n",
    "    return no_oscan\n"
   ]
  },
  {
   "cell_type": "code",
   "execution_count": 30,
   "metadata": {},
   "outputs": [
    {
     "name": "stderr",
     "output_type": "stream",
     "text": [
      "WARNING: VerifyWarning: Invalid 'BLANK' keyword in header.  The 'BLANK' keyword is only applicable to integer data, and will be ignored in this HDU. [astropy.io.fits.hdu.image]\n"
     ]
    }
   ],
   "source": [
    "with fits.open(r'C:\\Users\\Kevin\\repos\\ReipurthBallyProject\\data\\M8\\no_bias\\SUPA01564803.fits') as f:\n",
    "    img_hdr = f[0].header.copy()\n",
    "    img_data = f[0].data.copy()\n",
    "    #take out the overscan\n",
    "    img_data = remove_oscan(img_hdr, img_data)\n",
    "with fits.open(r'C:\\Users\\Kevin\\repos\\ReipurthBallyProject\\data\\M8\\false_image\\SUPA01564803.fits') as f:\n",
    "    false_hdr = f[0].header.copy()\n",
    "    false_data = f[0].data.copy()\n",
    "\n",
    "#img_data = img_data.byteswap(inplace=True).newbyteorder()\n",
    "#false_data = false_data.byteswap(inplace=True).newbyteorder()"
   ]
  },
  {
   "cell_type": "code",
   "execution_count": null,
   "metadata": {},
   "outputs": [],
   "source": [
    "with fits.open(r'C:\\Users\\Kevin\\repos\\ReipurthBallyProject\\data\\ZCMa\\no_bias\\HH34_sii.fits') as f:\n",
    "    img1_hdr = f[0].header.copy()\n",
    "    img1_data = f[0].data.copy()\n",
    "    #take out the overscan\n",
    "    #img1_data = remove_oscan(img1_hdr, img1_data)\n",
    "with fits.open(r'C:\\Users\\Kevin\\repos\\ReipurthBallyProject\\data\\ZCMa\\false_image\\HH34_sii.fits') as f:\n",
    "    false1_hdr = f[0].header.copy()\n",
    "    false1_data = f[0].data.copy()\n",
    "    \n",
    "img1_data = img1_data.byteswap(inplace=True).newbyteorder()\n",
    "false1_data = false1_data.byteswap(inplace=True).newbyteorder()"
   ]
  },
  {
   "cell_type": "code",
   "execution_count": 4,
   "metadata": {},
   "outputs": [
    {
     "data": {
      "text/plain": [
       "5000000"
      ]
     },
     "execution_count": 4,
     "metadata": {},
     "output_type": "execute_result"
    }
   ],
   "source": [
    "import sep\n",
    "sep.set_extract_pixstack(5000000)\n",
    "sep.get_extract_pixstack()"
   ]
  },
  {
   "cell_type": "code",
   "execution_count": 5,
   "metadata": {},
   "outputs": [
    {
     "data": {
      "text/plain": [
       "1024"
      ]
     },
     "execution_count": 5,
     "metadata": {},
     "output_type": "execute_result"
    }
   ],
   "source": [
    "sep.get_sub_object_limit()"
   ]
  },
  {
   "cell_type": "markdown",
   "metadata": {},
   "source": [
    "## Experiment\n",
    "See what registers and what doesn't\n",
    "\n",
    "Using HH34_ha and HH34_sii, create false images for both -- these should be nearly identical since they are the same image, just different filters.\n",
    "\n",
    "Try registering:\n",
    "\n",
    "- HH34_ha against HH34_sii, the real images, should work but doesn't\n",
    "- HH34_ha against HH34_ha_false - should work but doesn't\n",
    "- HH34_sii against HH34_sii_false - should work but doesn't\n",
    "- HH34_ha_false against HH34_sii_false - should work and does!!"
   ]
  },
  {
   "cell_type": "code",
   "execution_count": 36,
   "metadata": {},
   "outputs": [
    {
     "ename": "MaxIterError",
     "evalue": "List of matching triangles exhausted before an acceptable transformation was found",
     "output_type": "error",
     "traceback": [
      "\u001b[1;31m---------------------------------------------------------------------------\u001b[0m",
      "\u001b[1;31mMaxIterError\u001b[0m                              Traceback (most recent call last)",
      "\u001b[1;32m~\\AppData\\Local\\Temp/ipykernel_6924/2407336399.py\u001b[0m in \u001b[0;36m<module>\u001b[1;34m\u001b[0m\n\u001b[0;32m      3\u001b[0m \u001b[0mfalse_data_norm\u001b[0m \u001b[1;33m=\u001b[0m \u001b[1;33m(\u001b[0m\u001b[0mfalse_data\u001b[0m\u001b[1;33m-\u001b[0m\u001b[0mfalse_data\u001b[0m\u001b[1;33m.\u001b[0m\u001b[0mmean\u001b[0m\u001b[1;33m(\u001b[0m\u001b[1;33m)\u001b[0m\u001b[1;33m)\u001b[0m\u001b[1;33m/\u001b[0m\u001b[0mfalse_data\u001b[0m\u001b[1;33m.\u001b[0m\u001b[0mstd\u001b[0m\u001b[1;33m(\u001b[0m\u001b[1;33m)\u001b[0m\u001b[1;33m\u001b[0m\u001b[1;33m\u001b[0m\u001b[0m\n\u001b[0;32m      4\u001b[0m \u001b[1;33m\u001b[0m\u001b[0m\n\u001b[1;32m----> 5\u001b[1;33m \u001b[0mregistered_image\u001b[0m\u001b[1;33m,\u001b[0m \u001b[0mfootprint\u001b[0m \u001b[1;33m=\u001b[0m \u001b[0maa\u001b[0m\u001b[1;33m.\u001b[0m\u001b[0mregister\u001b[0m\u001b[1;33m(\u001b[0m\u001b[0mimg_ma_norm\u001b[0m\u001b[1;33m,\u001b[0m \u001b[0mfalse_data_norm\u001b[0m\u001b[1;33m,\u001b[0m \u001b[0mfill_value\u001b[0m\u001b[1;33m=\u001b[0m\u001b[0mnp\u001b[0m\u001b[1;33m.\u001b[0m\u001b[0mnan\u001b[0m\u001b[1;33m)\u001b[0m\u001b[1;33m\u001b[0m\u001b[1;33m\u001b[0m\u001b[0m\n\u001b[0m",
      "\u001b[1;32mc:\\Users\\Kevin\\anaconda3\\envs\\astro\\lib\\site-packages\\astroalign.py\u001b[0m in \u001b[0;36mregister\u001b[1;34m(source, target, fill_value, propagate_mask, max_control_points, detection_sigma, min_area)\u001b[0m\n\u001b[0;32m    486\u001b[0m \u001b[1;33m\u001b[0m\u001b[0m\n\u001b[0;32m    487\u001b[0m     \"\"\"\n\u001b[1;32m--> 488\u001b[1;33m     t, __ = find_transform(\n\u001b[0m\u001b[0;32m    489\u001b[0m         \u001b[0msource\u001b[0m\u001b[1;33m=\u001b[0m\u001b[0msource\u001b[0m\u001b[1;33m,\u001b[0m\u001b[1;33m\u001b[0m\u001b[1;33m\u001b[0m\u001b[0m\n\u001b[0;32m    490\u001b[0m         \u001b[0mtarget\u001b[0m\u001b[1;33m=\u001b[0m\u001b[0mtarget\u001b[0m\u001b[1;33m,\u001b[0m\u001b[1;33m\u001b[0m\u001b[1;33m\u001b[0m\u001b[0m\n",
      "\u001b[1;32mc:\\Users\\Kevin\\anaconda3\\envs\\astro\\lib\\site-packages\\astroalign.py\u001b[0m in \u001b[0;36mfind_transform\u001b[1;34m(source, target, max_control_points, detection_sigma, min_area)\u001b[0m\n\u001b[0;32m    359\u001b[0m         \u001b[0minlier_ind\u001b[0m \u001b[1;33m=\u001b[0m \u001b[0m_np\u001b[0m\u001b[1;33m.\u001b[0m\u001b[0marange\u001b[0m\u001b[1;33m(\u001b[0m\u001b[0mlen\u001b[0m\u001b[1;33m(\u001b[0m\u001b[0mmatches\u001b[0m\u001b[1;33m)\u001b[0m\u001b[1;33m)\u001b[0m  \u001b[1;31m# All of the indices\u001b[0m\u001b[1;33m\u001b[0m\u001b[1;33m\u001b[0m\u001b[0m\n\u001b[0;32m    360\u001b[0m     \u001b[1;32melse\u001b[0m\u001b[1;33m:\u001b[0m\u001b[1;33m\u001b[0m\u001b[1;33m\u001b[0m\u001b[0m\n\u001b[1;32m--> 361\u001b[1;33m         best_t, inlier_ind = _ransac(\n\u001b[0m\u001b[0;32m    362\u001b[0m             \u001b[0mmatches\u001b[0m\u001b[1;33m,\u001b[0m \u001b[0minv_model\u001b[0m\u001b[1;33m,\u001b[0m \u001b[0mPIXEL_TOL\u001b[0m\u001b[1;33m,\u001b[0m \u001b[0mmin_matches\u001b[0m\u001b[1;33m\u001b[0m\u001b[1;33m\u001b[0m\u001b[0m\n\u001b[0;32m    363\u001b[0m         )\n",
      "\u001b[1;32mc:\\Users\\Kevin\\anaconda3\\envs\\astro\\lib\\site-packages\\astroalign.py\u001b[0m in \u001b[0;36m_ransac\u001b[1;34m(data, model, thresh, min_matches)\u001b[0m\n\u001b[0;32m    592\u001b[0m \u001b[1;33m\u001b[0m\u001b[0m\n\u001b[0;32m    593\u001b[0m     \u001b[1;32mif\u001b[0m \u001b[0mgood_fit\u001b[0m \u001b[1;32mis\u001b[0m \u001b[1;32mNone\u001b[0m\u001b[1;33m:\u001b[0m\u001b[1;33m\u001b[0m\u001b[1;33m\u001b[0m\u001b[0m\n\u001b[1;32m--> 594\u001b[1;33m         raise MaxIterError(\n\u001b[0m\u001b[0;32m    595\u001b[0m             \u001b[1;34m\"List of matching triangles exhausted before an acceptable \"\u001b[0m\u001b[1;33m\u001b[0m\u001b[1;33m\u001b[0m\u001b[0m\n\u001b[0;32m    596\u001b[0m             \u001b[1;34m\"transformation was found\"\u001b[0m\u001b[1;33m\u001b[0m\u001b[1;33m\u001b[0m\u001b[0m\n",
      "\u001b[1;31mMaxIterError\u001b[0m: List of matching triangles exhausted before an acceptable transformation was found"
     ]
    }
   ],
   "source": [
    "img_ma = np.ma.masked_array(img_data, mask = img_data < 3000)\n",
    "img_ma_norm = (img_ma - img_ma.mean())/img_ma.std()\n",
    "false_data_norm = (false_data-false_data.mean())/false_data.std()\n",
    "\n",
    "registered_image, footprint = aa.register(img_ma_norm, false_data_norm, fill_value=np.nan)"
   ]
  },
  {
   "cell_type": "code",
   "execution_count": 39,
   "metadata": {},
   "outputs": [
    {
     "data": {
      "text/plain": [
       "Text(0.5, 1.0, 'normalized Image')"
      ]
     },
     "execution_count": 39,
     "metadata": {},
     "output_type": "execute_result"
    },
    {
     "data": {
      "image/png": "[encoded data removed]",
      "text/plain": [
       "<Figure size 576x576 with 1 Axes>"
      ]
     },
     "metadata": {
      "needs_background": "light"
     },
     "output_type": "display_data"
    }
   ],
   "source": [
    "wcs = WCS(false_hdr)\n",
    "fig = plt.figure(figsize=(8,8))\n",
    "ax2 = plt.subplot(111, projection=wcs)\n",
    "\n",
    "ax2.imshow(np.ma.filled(img_ma_norm,fill_value=0)+5,   origin='lower', cmap=cmap)\n",
    "ax2.set_title('normalized Image')"
   ]
  },
  {
   "cell_type": "code",
   "execution_count": 32,
   "metadata": {},
   "outputs": [
    {
     "ename": "MaxIterError",
     "evalue": "List of matching triangles exhausted before an acceptable transformation was found",
     "output_type": "error",
     "traceback": [
      "\u001b[1;31m---------------------------------------------------------------------------\u001b[0m",
      "\u001b[1;31mMaxIterError\u001b[0m                              Traceback (most recent call last)",
      "\u001b[1;32m~\\AppData\\Local\\Temp/ipykernel_6924/958275226.py\u001b[0m in \u001b[0;36m<module>\u001b[1;34m\u001b[0m\n\u001b[0;32m      1\u001b[0m \u001b[0mimg_clipped\u001b[0m \u001b[1;33m=\u001b[0m \u001b[0mnp\u001b[0m\u001b[1;33m.\u001b[0m\u001b[0mwhere\u001b[0m\u001b[1;33m(\u001b[0m\u001b[0mimg_data\u001b[0m \u001b[1;33m>\u001b[0m \u001b[1;36m3000\u001b[0m\u001b[1;33m,\u001b[0m \u001b[0mimg_data\u001b[0m\u001b[1;33m,\u001b[0m \u001b[1;36m0.001\u001b[0m\u001b[1;33m)\u001b[0m\u001b[1;33m\u001b[0m\u001b[1;33m\u001b[0m\u001b[0m\n\u001b[1;32m----> 2\u001b[1;33m \u001b[0mregistered_image\u001b[0m\u001b[1;33m,\u001b[0m \u001b[0mfootprint\u001b[0m \u001b[1;33m=\u001b[0m \u001b[0maa\u001b[0m\u001b[1;33m.\u001b[0m\u001b[0mregister\u001b[0m\u001b[1;33m(\u001b[0m\u001b[0mimg_clipped\u001b[0m\u001b[1;33m,\u001b[0m \u001b[0mfalse_data\u001b[0m\u001b[1;33m,\u001b[0m \u001b[0mfill_value\u001b[0m\u001b[1;33m=\u001b[0m\u001b[0mnp\u001b[0m\u001b[1;33m.\u001b[0m\u001b[0mnan\u001b[0m\u001b[1;33m)\u001b[0m\u001b[1;33m\u001b[0m\u001b[1;33m\u001b[0m\u001b[0m\n\u001b[0m",
      "\u001b[1;32mc:\\Users\\Kevin\\anaconda3\\envs\\astro\\lib\\site-packages\\astroalign.py\u001b[0m in \u001b[0;36mregister\u001b[1;34m(source, target, fill_value, propagate_mask, max_control_points, detection_sigma, min_area)\u001b[0m\n\u001b[0;32m    486\u001b[0m \u001b[1;33m\u001b[0m\u001b[0m\n\u001b[0;32m    487\u001b[0m     \"\"\"\n\u001b[1;32m--> 488\u001b[1;33m     t, __ = find_transform(\n\u001b[0m\u001b[0;32m    489\u001b[0m         \u001b[0msource\u001b[0m\u001b[1;33m=\u001b[0m\u001b[0msource\u001b[0m\u001b[1;33m,\u001b[0m\u001b[1;33m\u001b[0m\u001b[1;33m\u001b[0m\u001b[0m\n\u001b[0;32m    490\u001b[0m         \u001b[0mtarget\u001b[0m\u001b[1;33m=\u001b[0m\u001b[0mtarget\u001b[0m\u001b[1;33m,\u001b[0m\u001b[1;33m\u001b[0m\u001b[1;33m\u001b[0m\u001b[0m\n",
      "\u001b[1;32mc:\\Users\\Kevin\\anaconda3\\envs\\astro\\lib\\site-packages\\astroalign.py\u001b[0m in \u001b[0;36mfind_transform\u001b[1;34m(source, target, max_control_points, detection_sigma, min_area)\u001b[0m\n\u001b[0;32m    359\u001b[0m         \u001b[0minlier_ind\u001b[0m \u001b[1;33m=\u001b[0m \u001b[0m_np\u001b[0m\u001b[1;33m.\u001b[0m\u001b[0marange\u001b[0m\u001b[1;33m(\u001b[0m\u001b[0mlen\u001b[0m\u001b[1;33m(\u001b[0m\u001b[0mmatches\u001b[0m\u001b[1;33m)\u001b[0m\u001b[1;33m)\u001b[0m  \u001b[1;31m# All of the indices\u001b[0m\u001b[1;33m\u001b[0m\u001b[1;33m\u001b[0m\u001b[0m\n\u001b[0;32m    360\u001b[0m     \u001b[1;32melse\u001b[0m\u001b[1;33m:\u001b[0m\u001b[1;33m\u001b[0m\u001b[1;33m\u001b[0m\u001b[0m\n\u001b[1;32m--> 361\u001b[1;33m         best_t, inlier_ind = _ransac(\n\u001b[0m\u001b[0;32m    362\u001b[0m             \u001b[0mmatches\u001b[0m\u001b[1;33m,\u001b[0m \u001b[0minv_model\u001b[0m\u001b[1;33m,\u001b[0m \u001b[0mPIXEL_TOL\u001b[0m\u001b[1;33m,\u001b[0m \u001b[0mmin_matches\u001b[0m\u001b[1;33m\u001b[0m\u001b[1;33m\u001b[0m\u001b[0m\n\u001b[0;32m    363\u001b[0m         )\n",
      "\u001b[1;32mc:\\Users\\Kevin\\anaconda3\\envs\\astro\\lib\\site-packages\\astroalign.py\u001b[0m in \u001b[0;36m_ransac\u001b[1;34m(data, model, thresh, min_matches)\u001b[0m\n\u001b[0;32m    592\u001b[0m \u001b[1;33m\u001b[0m\u001b[0m\n\u001b[0;32m    593\u001b[0m     \u001b[1;32mif\u001b[0m \u001b[0mgood_fit\u001b[0m \u001b[1;32mis\u001b[0m \u001b[1;32mNone\u001b[0m\u001b[1;33m:\u001b[0m\u001b[1;33m\u001b[0m\u001b[1;33m\u001b[0m\u001b[0m\n\u001b[1;32m--> 594\u001b[1;33m         raise MaxIterError(\n\u001b[0m\u001b[0;32m    595\u001b[0m             \u001b[1;34m\"List of matching triangles exhausted before an acceptable \"\u001b[0m\u001b[1;33m\u001b[0m\u001b[1;33m\u001b[0m\u001b[0m\n\u001b[0;32m    596\u001b[0m             \u001b[1;34m\"transformation was found\"\u001b[0m\u001b[1;33m\u001b[0m\u001b[1;33m\u001b[0m\u001b[0m\n",
      "\u001b[1;31mMaxIterError\u001b[0m: List of matching triangles exhausted before an acceptable transformation was found"
     ]
    }
   ],
   "source": [
    "img_clipped = np.where(img_data > 3000, img_data, 0.001)\n",
    "registered_image, footprint = aa.register(img_clipped, false_data, fill_value=np.nan)"
   ]
  },
  {
   "cell_type": "code",
   "execution_count": 21,
   "metadata": {},
   "outputs": [],
   "source": [
    "import matplotlib as mpl\n",
    "from astropy.wcs import WCS\n",
    "\n",
    "wcs = WCS(false_hdr)"
   ]
  },
  {
   "cell_type": "code",
   "execution_count": 33,
   "metadata": {},
   "outputs": [
    {
     "data": {
      "image/png": "[encoded data removed]",
      "text/plain": [
       "<Figure size 1728x576 with 2 Axes>"
      ]
     },
     "metadata": {
      "needs_background": "light"
     },
     "output_type": "display_data"
    }
   ],
   "source": [
    "cmap = mpl.cm.binary_r.copy()\n",
    "cmap.set_bad(color='blue')\n",
    "\n",
    "vmin=100; vmax=1500\n",
    "fig = plt.figure(figsize=(24,8))\n",
    "ax3 = plt.subplot(131, projection=wcs)\n",
    "#img_clipped = np.clip(img_data,np.percentile(img_data, 0.5), np.percentile(img_data,99.5))\n",
    "img_clipped = np.where(img_data > 5000, img_data, 0.001)\n",
    "ax3.imshow(img_clipped,   origin='lower', cmap=cmap, norm=colors.LogNorm())#a_min=vmin, a_max=vmax,\n",
    "ax3.set_title('Image to be Registered')\n",
    "\n",
    "ax1 = plt.subplot(132, projection=wcs)\n",
    "false_clipped = np.clip(false_data,a_min=vmin, a_max= vmax)\n",
    "ax1.imshow(false_clipped,  origin='lower', cmap=cmap, norm=colors.LogNorm())\n",
    "ax1.set_title('False Image')\n",
    "\n",
    "# ax2 = plt.subplot(133, projection=wcs)\n",
    "# reg_clipped = np.clip(registered_image,np.nanpercentile(registered_image, 0.5), np.nanpercentile(registered_image,99.5))\n",
    "\n",
    "\n",
    "# ax2.imshow(reg_clipped,   origin='lower', cmap=cmap, norm=colors.LogNorm())\n",
    "# ax2.set_title('Registered Image')\n",
    "\n",
    "\n",
    "\n",
    "fig.tight_layout()"
   ]
  },
  {
   "cell_type": "code",
   "execution_count": 31,
   "metadata": {},
   "outputs": [
    {
     "data": {
      "text/plain": [
       "Text(0.5, 1.0, 'clipped Image')"
      ]
     },
     "execution_count": 31,
     "metadata": {},
     "output_type": "execute_result"
    },
    {
     "data": {
      "image/png": "[encoded data removed]",
      "text/plain": [
       "<Figure size 576x576 with 1 Axes>"
      ]
     },
     "metadata": {
      "needs_background": "light"
     },
     "output_type": "display_data"
    }
   ],
   "source": [
    "fig = plt.figure(figsize=(8,8))\n",
    "ax2 = plt.subplot(111, projection=wcs)\n",
    "img_clipped = np.where(img_data > 3000, img_data, 0.001)\n",
    "\n",
    "\n",
    "ax2.imshow(img_clipped,   origin='lower', cmap=cmap, norm=colors.LogNorm())\n",
    "ax2.set_title('clipped Image')"
   ]
  },
  {
   "cell_type": "code",
   "execution_count": 13,
   "metadata": {},
   "outputs": [
    {
     "data": {
      "text/plain": [
       "(nan, nan)"
      ]
     },
     "execution_count": 13,
     "metadata": {},
     "output_type": "execute_result"
    }
   ],
   "source": [
    "np.percentile(registered_image, 1.0), np.percentile(registered_image,99)"
   ]
  },
  {
   "cell_type": "code",
   "execution_count": 11,
   "metadata": {},
   "outputs": [
    {
     "data": {
      "text/plain": [
       "(1337349, 1337349)"
      ]
     },
     "execution_count": 11,
     "metadata": {},
     "output_type": "execute_result"
    }
   ],
   "source": [
    "footprint.sum(), np.isnan(registered_image).sum()"
   ]
  },
  {
   "cell_type": "code",
   "execution_count": null,
   "metadata": {},
   "outputs": [],
   "source": [
    "np.nanmin(registered_image), np.nanmax(registered_image)\n"
   ]
  },
  {
   "cell_type": "code",
   "execution_count": null,
   "metadata": {},
   "outputs": [],
   "source": [
    "np.nanmin(img_data), np.nanmax(img_data)"
   ]
  },
  {
   "cell_type": "code",
   "execution_count": null,
   "metadata": {},
   "outputs": [],
   "source": [
    "img_data.dtype"
   ]
  },
  {
   "cell_type": "code",
   "execution_count": null,
   "metadata": {},
   "outputs": [],
   "source": [
    "new_hdr = wcs.to_header()\n",
    "phdu = fits.PrimaryHDU(data = registered_image, header=new_hdr)\n",
    "phdu.writeto('../data/registered_image.fits', overwrite=True)"
   ]
  },
  {
   "cell_type": "code",
   "execution_count": null,
   "metadata": {},
   "outputs": [],
   "source": [
    "fig = plt.figure(figsize=(8,8))\n",
    "ax3 = plt.subplot(111, projection=wcs)\n",
    "ax3.imshow(footprint,  origin='lower', cmap='Reds')\n",
    "ax3.set_title('Footprint')"
   ]
  },
  {
   "cell_type": "markdown",
   "metadata": {},
   "source": [
    "## Align overscan subracted images?"
   ]
  },
  {
   "cell_type": "code",
   "execution_count": null,
   "metadata": {},
   "outputs": [],
   "source": [
    "with fits.open(r'C:\\Users\\Kevin\\repos\\ReipurthBallyProject\\data\\M8\\no_bias\\SUPA01564801.fits') as f:\n",
    "    img1_hdr = f[0].header.copy()\n",
    "    wcs = WCS(img1_hdr)\n",
    "    img1_data = f[0].data.copy()\n",
    "    #take out the overscan\n",
    "    img1_data = remove_oscan(img1_hdr, img1_data)\n",
    "with fits.open(r'C:\\Users\\Kevin\\repos\\ReipurthBallyProject\\data\\M8\\no_bias\\SUPA01564811.fits') as f:\n",
    "    img11_hdr = f[0].header.copy()\n",
    "    img11_data = f[0].data.copy()\n",
    "    img11_data = remove_oscan(img11_hdr, img11_data)\n",
    "    \n",
    "#img1_data = img1_data.byteswap(inplace=True).newbyteorder()\n",
    "#false1_data = false1_data.byteswap(inplace=True).newbyteorder()"
   ]
  },
  {
   "cell_type": "code",
   "execution_count": null,
   "metadata": {},
   "outputs": [],
   "source": [
    "registered_image, footprint = aa.register(img11_data, img1_data, fill_value = np.nan)"
   ]
  },
  {
   "cell_type": "code",
   "execution_count": null,
   "metadata": {},
   "outputs": [],
   "source": [
    "vmin=1000; vmax=25000\n",
    "fig = plt.figure(figsize=(24,8))\n",
    "ax1 = plt.subplot(131, projection=wcs)\n",
    "ax1.imshow(img11_data,  origin='lower', cmap='binary_r', norm=colors.LogNorm(vmin=vmin, vmax=vmax))\n",
    "ax1.set_title('Image to be Registered')\n",
    "\n",
    "ax2 = plt.subplot(133, projection=wcs)\n",
    "ax2.imshow(registered_image,   origin='lower', cmap='binary_r', norm=colors.LogNorm(vmin=vmin, vmax=vmax))\n",
    "ax2.set_title('Registered Image')\n",
    "\n",
    "ax3 = plt.subplot(132, projection=wcs)\n",
    "ax3.imshow(img1_data,  origin='lower', cmap='binary_r', norm=colors.LogNorm(vmin=vmin, vmax=vmax))\n",
    "ax3.set_title('Target of Registration')"
   ]
  },
  {
   "cell_type": "code",
   "execution_count": null,
   "metadata": {},
   "outputs": [],
   "source": [
    "fig = plt.figure(figsize=(8,8))\n",
    "ax1 = plt.subplot(111, projection=wcs)\n",
    "ax1.imshow(footprint,  origin='lower', cmap='binary_r')"
   ]
  },
  {
   "cell_type": "code",
   "execution_count": null,
   "metadata": {},
   "outputs": [],
   "source": [
    "fig = plt.figure(figsize=(16,8))\n",
    "ax = plt.subplot(121,projection=wcs)\n",
    "ax.imshow(img_data, origin='lower', cmap='gray', norm=colors.LogNorm(vmin=500, vmax=30000))\n",
    "ax = plt.subplot(122,projection=wcs)\n",
    "ax.imshow(img1_data, origin='lower', cmap='gray', norm=colors.LogNorm(vmin=500, vmax=30000))"
   ]
  },
  {
   "cell_type": "code",
   "execution_count": null,
   "metadata": {},
   "outputs": [],
   "source": [
    "img_registered, footprint = aa.register(img1_data, img_data)"
   ]
  },
  {
   "cell_type": "code",
   "execution_count": null,
   "metadata": {},
   "outputs": [],
   "source": [
    "fig = plt.figure(figsize=(24,8))\n",
    "ax1 = plt.subplot(131, projection=wcs)\n",
    "ax1.imshow(img_data,  origin='lower', cmap='binary_r', norm=colors.LogNorm())\n",
    "ax2 = plt.subplot(132, projection=wcs)\n",
    "ax2.imshow(img_registered,  origin='lower', cmap='binary_r', norm=colors.LogNorm())\n",
    "ax3 = plt.subplot(133, projection=wcs)\n",
    "ax3.imshow(img1_data,  origin='lower', cmap='binary_r', norm=colors.LogNorm())"
   ]
  },
  {
   "cell_type": "code",
   "execution_count": null,
   "metadata": {},
   "outputs": [],
   "source": [
    "registered_image, footprint = aa.register(img_data, false_data)"
   ]
  },
  {
   "cell_type": "markdown",
   "metadata": {},
   "source": [
    "[Subprime Data Reduction Guide](https://www.subarutelescope.org/Observing/Instruments/SCam/sdfred/sdfred2.html.en)\n"
   ]
  },
  {
   "cell_type": "code",
   "execution_count": null,
   "metadata": {},
   "outputs": [],
   "source": []
  }
 ],
 "metadata": {
  "kernelspec": {
   "display_name": "astro",
   "language": "python",
   "name": "python3"
  },
  "language_info": {
   "codemirror_mode": {
    "name": "ipython",
    "version": 3
   },
   "file_extension": ".py",
   "mimetype": "text/x-python",
   "name": "python",
   "nbconvert_exporter": "python",
   "pygments_lexer": "ipython3",
   "version": "3.9.7"
  },
  "orig_nbformat": 4
 },
 "nbformat": 4,
 "nbformat_minor": 2
}
