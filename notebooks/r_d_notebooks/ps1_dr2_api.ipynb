{
 "cells": [
  {
   "attachments": {},
   "cell_type": "markdown",
   "metadata": {},
   "source": [
    "# Query Pan-STARRS DR2 catalog using MAST API\n",
    "\n",
    "The [new MAST interface](https://catalogs.mast.stsci.edu/) to the Pan-STARRS catalog supports queries to both the DR1 and DR2 PS1 catalogs.  It also has an associated [API](https://catalogs.mast.stsci.edu/docs/panstarrs.html), which is used in this script.\n",
    "\n",
    "This script shows how to query the Pan-STARRS DR2 catalog using the PS1 search API.  The examples show how to do a simple cone search, how to manipulate the table of results, and how to get a light curve from the table of detections.\n",
    "\n",
    "This notebook is available for [download](https://ps1images.stsci.edu/ps1_dr2_api.ipynb)."
   ]
  },
  {
   "cell_type": "code",
   "execution_count": 2,
   "metadata": {},
   "outputs": [],
   "source": [
    "from astropy.io import ascii\n",
    "from astropy.table import Table\n",
    "\n",
    "import sys\n",
    "import re\n",
    "import numpy as np\n",
    "import matplotlib.pyplot as plt\n",
    "import json\n",
    "import requests\n",
    "\n",
    "try: # Python 3.x\n",
    "    from urllib.parse import quote as urlencode\n",
    "    from urllib.request import urlretrieve\n",
    "except ImportError:  # Python 2.x\n",
    "    from urllib import pathname2url as urlencode\n",
    "    from urllib import urlretrieve\n",
    "\n",
    "try: # Python 3.x\n",
    "    import http.client as httplib \n",
    "except ImportError:  # Python 2.x\n",
    "    import httplib   "
   ]
  },
  {
   "attachments": {},
   "cell_type": "markdown",
   "metadata": {},
   "source": [
    "## Useful functions\n",
    "\n",
    "Execute PS1 searches and resolve names using [MAST query](https://mast.stsci.edu/api/v0/MastApiTutorial.html)."
   ]
  },
  {
   "cell_type": "code",
   "execution_count": 3,
   "metadata": {},
   "outputs": [],
   "source": [
    "def ps1cone(ra,dec,radius,table=\"mean\",release=\"dr1\",format=\"csv\",columns=None,\n",
    "           baseurl=\"https://catalogs.mast.stsci.edu/api/v0.1/panstarrs\", verbose=False,\n",
    "           **kw):\n",
    "    \"\"\"Do a cone search of the PS1 catalog\n",
    "    \n",
    "    Parameters\n",
    "    ----------\n",
    "    ra (float): (degrees) J2000 Right Ascension\n",
    "    dec (float): (degrees) J2000 Declination\n",
    "    radius (float): (degrees) Search radius (<= 0.5 degrees)\n",
    "    table (string): mean, stack, or detection\n",
    "    release (string): dr1 or dr2\n",
    "    format: csv, votable, json\n",
    "    columns: list of column names to include (None means use defaults)\n",
    "    baseurl: base URL for the request\n",
    "    verbose: print info about request\n",
    "    **kw: other parameters (e.g., 'nDetections.min':2)\n",
    "    \"\"\"\n",
    "    \n",
    "    data = kw.copy()\n",
    "    data['ra'] = ra\n",
    "    data['dec'] = dec\n",
    "    data['radius'] = radius\n",
    "    return ps1search(table=table,release=release,format=format,columns=columns,\n",
    "                    baseurl=baseurl, verbose=verbose, **data)\n",
    "\n",
    "\n",
    "def ps1search(table=\"mean\",release=\"dr1\",format=\"csv\",columns=None,\n",
    "           baseurl=\"https://catalogs.mast.stsci.edu/api/v0.1/panstarrs\", verbose=False,\n",
    "           **kw):\n",
    "    \"\"\"Do a general search of the PS1 catalog (possibly without ra/dec/radius)\n",
    "    \n",
    "    Parameters\n",
    "    ----------\n",
    "    table (string): mean, stack, or detection\n",
    "    release (string): dr1 or dr2\n",
    "    format: csv, votable, json\n",
    "    columns: list of column names to include (None means use defaults)\n",
    "    baseurl: base URL for the request\n",
    "    verbose: print info about request\n",
    "    **kw: other parameters (e.g., 'nDetections.min':2).  Note this is required!\n",
    "    \"\"\"\n",
    "    \n",
    "    data = kw.copy()\n",
    "    if not data:\n",
    "        raise ValueError(\"You must specify some parameters for search\")\n",
    "    checklegal(table,release)\n",
    "    if format not in (\"csv\",\"votable\",\"json\"):\n",
    "        raise ValueError(\"Bad value for format\")\n",
    "    url = f\"{baseurl}/{release}/{table}.{format}\"\n",
    "    if columns:\n",
    "        # check that column values are legal\n",
    "        # create a dictionary to speed this up\n",
    "        dcols = {}\n",
    "        for col in ps1metadata(table,release)['name']:\n",
    "            dcols[col.lower()] = 1\n",
    "        badcols = []\n",
    "        for col in columns:\n",
    "            if col.lower().strip() not in dcols:\n",
    "                badcols.append(col)\n",
    "        if badcols:\n",
    "            raise ValueError('Some columns not found in table: {}'.format(', '.join(badcols)))\n",
    "        # two different ways to specify a list of column values in the API\n",
    "        # data['columns'] = columns\n",
    "        data['columns'] = '[{}]'.format(','.join(columns))\n",
    "\n",
    "# either get or post works\n",
    "#    r = requests.post(url, data=data)\n",
    "    r = requests.get(url, params=data)\n",
    "\n",
    "    if verbose:\n",
    "        print(r.url)\n",
    "    r.raise_for_status()\n",
    "    if format == \"json\":\n",
    "        return r.json()\n",
    "    else:\n",
    "        return r.text\n",
    "\n",
    "\n",
    "def checklegal(table,release):\n",
    "    \"\"\"Checks if this combination of table and release is acceptable\n",
    "    \n",
    "    Raises a VelueError exception if there is problem\n",
    "    \"\"\"\n",
    "    \n",
    "    releaselist = (\"dr1\", \"dr2\")\n",
    "    if release not in (\"dr1\",\"dr2\"):\n",
    "        raise ValueError(\"Bad value for release (must be one of {})\".format(', '.join(releaselist)))\n",
    "    if release==\"dr1\":\n",
    "        tablelist = (\"mean\", \"stack\")\n",
    "    else:\n",
    "        tablelist = (\"mean\", \"stack\", \"detection\")\n",
    "    if table not in tablelist:\n",
    "        raise ValueError(\"Bad value for table (for {} must be one of {})\".format(release, \", \".join(tablelist)))\n",
    "\n",
    "\n",
    "def ps1metadata(table=\"mean\",release=\"dr1\",\n",
    "           baseurl=\"https://catalogs.mast.stsci.edu/api/v0.1/panstarrs\"):\n",
    "    \"\"\"Return metadata for the specified catalog and table\n",
    "    \n",
    "    Parameters\n",
    "    ----------\n",
    "    table (string): mean, stack, or detection\n",
    "    release (string): dr1 or dr2\n",
    "    baseurl: base URL for the request\n",
    "    \n",
    "    Returns an astropy table with columns name, type, description\n",
    "    \"\"\"\n",
    "    \n",
    "    checklegal(table,release)\n",
    "    url = f\"{baseurl}/{release}/{table}/metadata\"\n",
    "    r = requests.get(url)\n",
    "    r.raise_for_status()\n",
    "    v = r.json()\n",
    "    # convert to astropy table\n",
    "    tab = Table(rows=[(x['name'],x['type'],x['description']) for x in v],\n",
    "               names=('name','type','description'))\n",
    "    return tab\n",
    "\n",
    "\n",
    "def mastQuery(request):\n",
    "    \"\"\"Perform a MAST query.\n",
    "\n",
    "    Parameters\n",
    "    ----------\n",
    "    request (dictionary): The MAST request json object\n",
    "\n",
    "    Returns head,content where head is the response HTTP headers, and content is the returned data\n",
    "    \"\"\"\n",
    "    \n",
    "    server='mast.stsci.edu'\n",
    "\n",
    "    # Grab Python Version \n",
    "    version = \".\".join(map(str, sys.version_info[:3]))\n",
    "\n",
    "    # Create Http Header Variables\n",
    "    headers = {\"Content-type\": \"application/x-www-form-urlencoded\",\n",
    "               \"Accept\": \"text/plain\",\n",
    "               \"User-agent\":\"python-requests/\"+version}\n",
    "\n",
    "    # Encoding the request as a json string\n",
    "    requestString = json.dumps(request)\n",
    "    requestString = urlencode(requestString)\n",
    "    \n",
    "    # opening the https connection\n",
    "    conn = httplib.HTTPSConnection(server)\n",
    "\n",
    "    # Making the query\n",
    "    conn.request(\"POST\", \"/api/v0/invoke\", \"request=\"+requestString, headers)\n",
    "\n",
    "    # Getting the response\n",
    "    resp = conn.getresponse()\n",
    "    head = resp.getheaders()\n",
    "    content = resp.read().decode('utf-8')\n",
    "\n",
    "    # Close the https connection\n",
    "    conn.close()\n",
    "\n",
    "    return head,content\n",
    "\n",
    "\n",
    "def resolve(name):\n",
    "    \"\"\"Get the RA and Dec for an object using the MAST name resolver\n",
    "    \n",
    "    Parameters\n",
    "    ----------\n",
    "    name (str): Name of object\n",
    "\n",
    "    Returns RA, Dec tuple with position\"\"\"\n",
    "\n",
    "    resolverRequest = {'service':'Mast.Name.Lookup',\n",
    "                       'params':{'input':name,\n",
    "                                 'format':'json'\n",
    "                                },\n",
    "                      }\n",
    "    headers,resolvedObjectString = mastQuery(resolverRequest)\n",
    "    resolvedObject = json.loads(resolvedObjectString)\n",
    "    # The resolver returns a variety of information about the resolved object, \n",
    "    # however for our purposes all we need are the RA and Dec\n",
    "    try:\n",
    "        objRa = resolvedObject['resolvedCoordinate'][0]['ra']\n",
    "        objDec = resolvedObject['resolvedCoordinate'][0]['decl']\n",
    "    except IndexError as e:\n",
    "        raise ValueError(\"Unknown object '{}'\".format(name))\n",
    "    return (objRa, objDec)\n"
   ]
  },
  {
   "attachments": {},
   "cell_type": "markdown",
   "metadata": {},
   "source": [
    "### Use metadata query to get information on available columns\n",
    "\n",
    "This query works for any of the tables in the API (mean, stack, detection)."
   ]
  },
  {
   "cell_type": "code",
   "execution_count": 5,
   "metadata": {},
   "outputs": [
    {
     "data": {
      "text/html": [
       "<div><i>Table length=124</i>\n",
       "<table id=\"table2586964210352\" class=\"table-striped table-bordered table-condensed\">\n",
       "<thead><tr><th>name</th><th>type</th><th>description</th></tr></thead>\n",
       "<thead><tr><th>str17</th><th>str12</th><th>str142</th></tr></thead>\n",
       "<tr><td>objName</td><td>char</td><td>IAU name for this object.</td></tr>\n",
       "<tr><td>objAltName1</td><td>char</td><td>Alternate name for this object.</td></tr>\n",
       "<tr><td>objAltName2</td><td>char</td><td>Altername name for this object.</td></tr>\n",
       "<tr><td>objAltName3</td><td>char</td><td>Altername name for this object.</td></tr>\n",
       "<tr><td>objID</td><td>long</td><td>Unique object identifier.</td></tr>\n",
       "<tr><td>uniquePspsOBid</td><td>long</td><td>Unique internal PSPS object identifier.</td></tr>\n",
       "<tr><td>ippObjID</td><td>long</td><td>IPP internal object identifier.</td></tr>\n",
       "<tr><td>surveyID</td><td>unsignedbyte</td><td>Survey identifier.  Details in the Survey table.</td></tr>\n",
       "<tr><td>htmID</td><td>long</td><td>Hierarchical triangular mesh (Szalay 2007) index.</td></tr>\n",
       "<tr><td>zoneID</td><td>int</td><td>Local zone index, found by dividing the sky into bands of declination 1/2 arcminute in height: zoneID = floor((90 + declination)/0.0083333).</td></tr>\n",
       "<tr><td>...</td><td>...</td><td>...</td></tr>\n",
       "<tr><td>yMeanPSFMagMax</td><td>float</td><td>Maximum PSF magnitude from y filter detections.</td></tr>\n",
       "<tr><td>yMeanKronMag</td><td>float</td><td>Mean Kron (1980) magnitude from y filter detections.</td></tr>\n",
       "<tr><td>yMeanKronMagErr</td><td>float</td><td>Error in mean Kron (1980) magnitude from y filter detections.</td></tr>\n",
       "<tr><td>yMeanKronMagStd</td><td>float</td><td>Standard deviation of Kron (1980) magnitudes from y filter detections.</td></tr>\n",
       "<tr><td>yMeanKronMagNpt</td><td>short</td><td>Number of measurements included in mean Kron (1980) magnitude from y filter detections.</td></tr>\n",
       "<tr><td>yMeanApMag</td><td>float</td><td>Mean aperture magnitude from y filter detections.</td></tr>\n",
       "<tr><td>yMeanApMagErr</td><td>float</td><td>Error in mean aperture magnitude from y filter detections.</td></tr>\n",
       "<tr><td>yMeanApMagStd</td><td>float</td><td>Standard deviation of aperture magnitudes from y filter detections.</td></tr>\n",
       "<tr><td>yMeanApMagNpt</td><td>short</td><td>Number of measurements included in mean aperture magnitude from y filter detections.</td></tr>\n",
       "<tr><td>yFlags</td><td>int</td><td>Information flag bitmask for mean object from y filter detections.  Values listed in ObjectFilterFlags.</td></tr>\n",
       "</table></div>"
      ],
      "text/plain": [
       "<Table length=124>\n",
       "      name      ...\n",
       "     str17      ...\n",
       "--------------- ...\n",
       "        objName ...\n",
       "    objAltName1 ...\n",
       "    objAltName2 ...\n",
       "    objAltName3 ...\n",
       "          objID ...\n",
       " uniquePspsOBid ...\n",
       "       ippObjID ...\n",
       "       surveyID ...\n",
       "          htmID ...\n",
       "         zoneID ...\n",
       "            ... ...\n",
       " yMeanPSFMagMax ...\n",
       "   yMeanKronMag ...\n",
       "yMeanKronMagErr ...\n",
       "yMeanKronMagStd ...\n",
       "yMeanKronMagNpt ...\n",
       "     yMeanApMag ...\n",
       "  yMeanApMagErr ...\n",
       "  yMeanApMagStd ...\n",
       "  yMeanApMagNpt ...\n",
       "         yFlags ..."
      ]
     },
     "execution_count": 5,
     "metadata": {},
     "output_type": "execute_result"
    }
   ],
   "source": [
    "meta = ps1metadata(\"mean\",\"dr2\")\n",
    "meta"
   ]
  },
  {
   "attachments": {},
   "cell_type": "markdown",
   "metadata": {},
   "source": [
    "## Simple positional query\n",
    "\n",
    "Search mean object table with nDetections > 1.\n",
    "\n",
    "This searches the mean object catalog for objects within 50 arcsec of M87 (RA=187.706, Dec=12.391 in degrees). Note that the results are restricted to objects with `nDetections>1`, where `nDetections` is the total number of times the object was detected on the single-epoch images in any filter at any time.  Objects with `nDetections=1` tend to be  artifacts, so this is a quick way to eliminate most spurious objects from the catalog."
   ]
  },
  {
   "cell_type": "code",
   "execution_count": 7,
   "metadata": {
    "scrolled": false
   },
   "outputs": [
    {
     "name": "stdout",
     "output_type": "stream",
     "text": [
      "https://catalogs.mast.stsci.edu/api/v0.1/panstarrs/dr1/mean.csv?nDetections.gt=1&ra=158.47924&dec=-7.30962&radius=0.1&columns=%5BobjID%2CraMean%2CdecMean%2CnDetections%2Cng%2Cnr%2Cni%2Cnz%2Cny%2CgMeanPSFMag%2CrMeanPSFMag%2CiMeanPSFMag%2CzMeanPSFMag%2CyMeanPSFMag%5D\n",
      "930 rows in results -- first 5 rows:\n",
      "objID,raMean,decMean,nDetections,ng,nr,ni,nz,ny,gMeanPSFMag,rMeanPSFMag,iMeanPSFMag,zMeanPSFMag,yMeanPSFMag\n",
      "99271584986522895,158.49856558,-7.27292037,16,0,6,7,3,0,-999.0,21.82110023498535,21.47570037841797,21.21109962463379,-999.0\n",
      "99261585031213210,158.50305846,-7.28101512,32,0,7,9,15,1,-999.0,21.775699615478516,21.006900787353516,20.650699615478516,20.35540008544922\n",
      "99241584963296136,158.49625266,-7.29514018,2,0,0,0,2,0,-999.0,-999.0,-999.0,21.138999938964844,-999.0\n",
      "99241584994427416,158.49949311,-7.29405337,2,0,0,0,1,1,-999.0,-999.0,-999.0,20.91819953918457,19.917600631713867\n",
      "99251585058592551,158.50580993,-7.28987075,3,0,0,3,0,0,-999.0,-999.0,21.631000518798828,-999.0,-999.0\n"
     ]
    }
   ],
   "source": [
    "# ra = 187.706\n",
    "# dec = 12.391\n",
    "# radius = 50.0/3600.0\n",
    "ra=158.47924; dec= -7.30962;   radius=0.1\n",
    "constraints = {'nDetections.gt':1}\n",
    "\n",
    "# strip blanks and weed out blank and commented-out values\n",
    "columns = \"\"\"objID,raMean,decMean,nDetections,ng,nr,ni,nz,ny,\n",
    "    gMeanPSFMag,rMeanPSFMag,iMeanPSFMag,zMeanPSFMag,yMeanPSFMag\"\"\".split(',')\n",
    "columns = [x.strip() for x in columns]\n",
    "columns = [x for x in columns if x and not x.startswith('#')]\n",
    "results = ps1cone(ra,dec,radius,release='dr1',columns=columns,verbose=True,**constraints)\n",
    "# print first few lines\n",
    "lines = results.split('\\n')\n",
    "print(len(lines),\"rows in results -- first 5 rows:\")\n",
    "print('\\n'.join(lines[:6]))"
   ]
  },
  {
   "attachments": {},
   "cell_type": "markdown",
   "metadata": {},
   "source": [
    "### Convert the results to an astropy table\n",
    "\n",
    "The CSV results string is easily converted to an [astropy table](http://docs.astropy.org/en/stable/table/).  This table is easily manipulated to extract information on individual columns or rows."
   ]
  },
  {
   "cell_type": "code",
   "execution_count": 5,
   "metadata": {},
   "outputs": [
    {
     "name": "stderr",
     "output_type": "stream",
     "text": [
      "WARNING: OverflowError converting to IntType in column objID, reverting to String. [astropy.io.ascii.fastbasic]\n"
     ]
    },
    {
     "data": {
      "text/html": [
       "<div><i>Table length=45</i>\n",
       "<table id=\"table1312380229472\" class=\"table-striped table-bordered table-condensed\">\n",
       "<thead><tr><th>objID</th><th>raMean</th><th>decMean</th><th>nDetections</th><th>ng</th><th>nr</th><th>ni</th><th>nz</th><th>ny</th><th>gMeanPSFMag</th><th>rMeanPSFMag</th><th>iMeanPSFMag</th><th>zMeanPSFMag</th><th>yMeanPSFMag</th></tr></thead>\n",
       "<thead><tr><th>str18</th><th>float64</th><th>float64</th><th>int32</th><th>int32</th><th>int32</th><th>int32</th><th>int32</th><th>int32</th><th>float64</th><th>float64</th><th>float64</th><th>float64</th><th>float64</th></tr></thead>\n",
       "<tr><td>122881877112164157</td><td>187.71126262</td><td>12.40316813</td><td>2</td><td>0</td><td>0</td><td>2</td><td>0</td><td>0</td><td>nan</td><td>nan</td><td>19.0408</td><td>nan</td><td>nan</td></tr>\n",
       "<tr><td>122881877105204765</td><td>187.71049731</td><td>12.4035168</td><td>2</td><td>0</td><td>0</td><td>2</td><td>0</td><td>0</td><td>nan</td><td>nan</td><td>19.1368</td><td>nan</td><td>nan</td></tr>\n",
       "<tr><td>122881877095525205</td><td>187.70951703</td><td>12.40389466</td><td>2</td><td>0</td><td>0</td><td>2</td><td>0</td><td>0</td><td>nan</td><td>nan</td><td>18.8612</td><td>nan</td><td>nan</td></tr>\n",
       "<tr><td>122881877085143466</td><td>187.7085017546712</td><td>12.402395900723272</td><td>37</td><td>9</td><td>11</td><td>7</td><td>7</td><td>3</td><td>18.8261</td><td>18.0068</td><td>17.7669</td><td>17.8751</td><td>17.6812</td></tr>\n",
       "<tr><td>122881876951360506</td><td>187.69529229</td><td>12.40011853</td><td>2</td><td>0</td><td>0</td><td>1</td><td>0</td><td>1</td><td>nan</td><td>nan</td><td>19.2936</td><td>nan</td><td>17.7803</td></tr>\n",
       "<tr><td>122871877075050430</td><td>187.70747912</td><td>12.3915839</td><td>2</td><td>0</td><td>0</td><td>0</td><td>2</td><td>0</td><td>nan</td><td>nan</td><td>nan</td><td>15.5752</td><td>nan</td></tr>\n",
       "<tr><td>122871877068858435</td><td>187.70686957807234</td><td>12.398211082322556</td><td>7</td><td>3</td><td>1</td><td>2</td><td>1</td><td>0</td><td>18.6591</td><td>17.8651</td><td>17.7776</td><td>17.9392</td><td>nan</td></tr>\n",
       "<tr><td>122871877063310741</td><td>187.70631118732143</td><td>12.39181079630862</td><td>3</td><td>0</td><td>2</td><td>0</td><td>1</td><td>0</td><td>nan</td><td>14.4229</td><td>nan</td><td>14.4249</td><td>nan</td></tr>\n",
       "<tr><td>122871877062551436</td><td>187.70622365</td><td>12.39236505</td><td>2</td><td>0</td><td>0</td><td>0</td><td>0</td><td>2</td><td>nan</td><td>nan</td><td>nan</td><td>nan</td><td>15.1102</td></tr>\n",
       "<tr><td>122871877026011277</td><td>187.7025474086629</td><td>12.392341832482026</td><td>62</td><td>13</td><td>12</td><td>16</td><td>10</td><td>11</td><td>16.9417</td><td>15.3886</td><td>15.3299</td><td>15.7681</td><td>16.9338</td></tr>\n",
       "<tr><td>...</td><td>...</td><td>...</td><td>...</td><td>...</td><td>...</td><td>...</td><td>...</td><td>...</td><td>...</td><td>...</td><td>...</td><td>...</td><td>...</td></tr>\n",
       "<tr><td>122851877124637737</td><td>187.7124557950916</td><td>12.38104290416518</td><td>50</td><td>9</td><td>10</td><td>15</td><td>9</td><td>7</td><td>19.3247</td><td>18.0296</td><td>17.7988</td><td>17.9304</td><td>17.5089</td></tr>\n",
       "<tr><td>122851877115528846</td><td>187.71134341</td><td>12.38181909</td><td>2</td><td>1</td><td>1</td><td>0</td><td>0</td><td>0</td><td>23.3524</td><td>17.3302</td><td>nan</td><td>nan</td><td>nan</td></tr>\n",
       "<tr><td>122851877109888891</td><td>187.71098809</td><td>12.38200012</td><td>2</td><td>0</td><td>0</td><td>2</td><td>0</td><td>0</td><td>nan</td><td>nan</td><td>nan</td><td>nan</td><td>nan</td></tr>\n",
       "<tr><td>122851877096718451</td><td>187.70969564</td><td>12.38158628</td><td>2</td><td>1</td><td>0</td><td>1</td><td>0</td><td>0</td><td>20.5734</td><td>nan</td><td>nan</td><td>nan</td><td>nan</td></tr>\n",
       "<tr><td>122851877090477761</td><td>187.70901150138516</td><td>12.381089288872962</td><td>29</td><td>6</td><td>7</td><td>11</td><td>5</td><td>0</td><td>19.7468</td><td>17.7461</td><td>17.4915</td><td>17.6221</td><td>nan</td></tr>\n",
       "<tr><td>122851877062673559</td><td>187.70625306033213</td><td>12.377545233303906</td><td>7</td><td>1</td><td>2</td><td>3</td><td>0</td><td>1</td><td>20.5210</td><td>18.9063</td><td>18.9627</td><td>nan</td><td>18.1421</td></tr>\n",
       "<tr><td>122851877049294726</td><td>187.70494206905568</td><td>12.378523957309678</td><td>7</td><td>2</td><td>2</td><td>2</td><td>1</td><td>0</td><td>19.0306</td><td>18.4537</td><td>18.5761</td><td>nan</td><td>nan</td></tr>\n",
       "<tr><td>122851877018527082</td><td>187.70183256713327</td><td>12.380539342373664</td><td>5</td><td>2</td><td>2</td><td>1</td><td>0</td><td>0</td><td>20.3146</td><td>nan</td><td>18.1687</td><td>nan</td><td>nan</td></tr>\n",
       "<tr><td>122851877008084336</td><td>187.70079849589698</td><td>12.378285588066493</td><td>15</td><td>3</td><td>2</td><td>5</td><td>5</td><td>0</td><td>21.1629</td><td>nan</td><td>18.7543</td><td>18.4389</td><td>nan</td></tr>\n",
       "<tr><td>122851876947049923</td><td>187.69476386968975</td><td>12.382817851331282</td><td>8</td><td>2</td><td>1</td><td>2</td><td>3</td><td>0</td><td>19.8674</td><td>18.5927</td><td>19.0692</td><td>18.1394</td><td>nan</td></tr>\n",
       "</table></div>"
      ],
      "text/plain": [
       "<Table length=45>\n",
       "      objID              raMean       ... zMeanPSFMag yMeanPSFMag\n",
       "      str18             float64       ...   float64     float64  \n",
       "------------------ ------------------ ... ----------- -----------\n",
       "122881877112164157       187.71126262 ...         nan         nan\n",
       "122881877105204765       187.71049731 ...         nan         nan\n",
       "122881877095525205       187.70951703 ...         nan         nan\n",
       "122881877085143466  187.7085017546712 ...     17.8751     17.6812\n",
       "122881876951360506       187.69529229 ...         nan     17.7803\n",
       "122871877075050430       187.70747912 ...     15.5752         nan\n",
       "122871877068858435 187.70686957807234 ...     17.9392         nan\n",
       "122871877063310741 187.70631118732143 ...     14.4249         nan\n",
       "122871877062551436       187.70622365 ...         nan     15.1102\n",
       "122871877026011277  187.7025474086629 ...     15.7681     16.9338\n",
       "               ...                ... ...         ...         ...\n",
       "122851877124637737  187.7124557950916 ...     17.9304     17.5089\n",
       "122851877115528846       187.71134341 ...         nan         nan\n",
       "122851877109888891       187.71098809 ...         nan         nan\n",
       "122851877096718451       187.70969564 ...         nan         nan\n",
       "122851877090477761 187.70901150138516 ...     17.6221         nan\n",
       "122851877062673559 187.70625306033213 ...         nan     18.1421\n",
       "122851877049294726 187.70494206905568 ...         nan         nan\n",
       "122851877018527082 187.70183256713327 ...         nan         nan\n",
       "122851877008084336 187.70079849589698 ...     18.4389         nan\n",
       "122851876947049923 187.69476386968975 ...     18.1394         nan"
      ]
     },
     "execution_count": 5,
     "metadata": {},
     "output_type": "execute_result"
    }
   ],
   "source": [
    "tab = ascii.read(results)\n",
    "# improve the format\n",
    "for filter in 'grizy':\n",
    "    col = filter+'MeanPSFMag'\n",
    "    try:\n",
    "        tab[col].format = \".4f\"\n",
    "        tab[col][tab[col] == -999.0] = np.nan\n",
    "    except KeyError:\n",
    "        print(\"{} not found\".format(col))\n",
    "tab"
   ]
  },
  {
   "attachments": {},
   "cell_type": "markdown",
   "metadata": {},
   "source": [
    "### Query for a single object by objID\n",
    "\n",
    "It is possible to query the catalog directly on the object identifier without any RA/Dec restriction.  This might not be particularly useful when search for objects, but it is very useful when searching the detection table for time-series data."
   ]
  },
  {
   "cell_type": "code",
   "execution_count": 35,
   "metadata": {},
   "outputs": [
    {
     "name": "stdout",
     "output_type": "stream",
     "text": [
      "https://catalogs.mast.stsci.edu/api/v0.1/panstarrs/dr2/mean.csv?objid=122851876947049923&columns=%5BobjID%2CraMean%2CdecMean%2CnDetections%2Cng%2Cnr%2Cni%2Cnz%2Cny%2CgMeanPSFMag%2CrMeanPSFMag%2CiMeanPSFMag%2CzMeanPSFMag%2CyMeanPSFMag%5D\n"
     ]
    },
    {
     "name": "stderr",
     "output_type": "stream",
     "text": [
      "WARNING: OverflowError converting to IntType in column objID, reverting to String. [astropy.io.ascii.fastbasic]\n"
     ]
    },
    {
     "data": {
      "text/html": [
       "<div><i>Table length=1</i>\n",
       "<table id=\"table1312442727008\" class=\"table-striped table-bordered table-condensed\">\n",
       "<thead><tr><th>objID</th><th>raMean</th><th>decMean</th><th>nDetections</th><th>ng</th><th>nr</th><th>ni</th><th>nz</th><th>ny</th><th>gMeanPSFMag</th><th>rMeanPSFMag</th><th>iMeanPSFMag</th><th>zMeanPSFMag</th><th>yMeanPSFMag</th></tr></thead>\n",
       "<thead><tr><th>str18</th><th>float64</th><th>float64</th><th>int32</th><th>int32</th><th>int32</th><th>int32</th><th>int32</th><th>int32</th><th>float64</th><th>float64</th><th>float64</th><th>float64</th><th>float64</th></tr></thead>\n",
       "<tr><td>122851876947049923</td><td>187.69476386968975</td><td>12.382817851331282</td><td>8</td><td>2</td><td>1</td><td>2</td><td>3</td><td>0</td><td>19.8674</td><td>18.5927</td><td>19.0692</td><td>18.1394</td><td>nan</td></tr>\n",
       "</table></div>"
      ],
      "text/plain": [
       "<Table length=1>\n",
       "      objID              raMean       ... zMeanPSFMag yMeanPSFMag\n",
       "      str18             float64       ...   float64     float64  \n",
       "------------------ ------------------ ... ----------- -----------\n",
       "122851876947049923 187.69476386968975 ...     18.1394         nan"
      ]
     },
     "execution_count": 35,
     "metadata": {},
     "output_type": "execute_result"
    }
   ],
   "source": [
    "results1 = ps1search(release='dr2',columns=columns,verbose=True,objid=122851876947049923)\n",
    "#results1 = ps1search(release='dr1',columns=columns,verbose=True, objid=142610536300511024)\n",
    "tab1 = ascii.read(results1)\n",
    "# improve the format\n",
    "for filter in 'grizy':\n",
    "    col = filter+'MeanPSFMag'\n",
    "    try:\n",
    "        tab1[col].format = \".4f\"\n",
    "        tab1[col][tab1[col] == -999.0] = np.nan\n",
    "    except KeyError:\n",
    "        print(\"{} not found\".format(col))\n",
    "tab1"
   ]
  },
  {
   "cell_type": "code",
   "execution_count": 36,
   "metadata": {},
   "outputs": [
    {
     "data": {
      "text/plain": [
       "'objID,raMean,decMean,nDetections,ng,nr,ni,nz,ny,gMeanPSFMag,rMeanPSFMag,iMeanPSFMag,zMeanPSFMag,yMeanPSFMag\\r\\n122851876947049923,187.69476386968975,12.382817851331282,8,2,1,2,3,0,19.867399215698242,18.59269905090332,19.06920051574707,18.139400482177734,-999.0\\r\\n'"
      ]
     },
     "execution_count": 36,
     "metadata": {},
     "output_type": "execute_result"
    }
   ],
   "source": [
    "results1"
   ]
  },
  {
   "attachments": {},
   "cell_type": "markdown",
   "metadata": {},
   "source": [
    "### Search stack objects at same position\n",
    "\n",
    "There is no need for the `nDetections` limit for stack objects, which can in fact have `nDetections = 0` for objects that are too faint to be detected on single-epoch images.  But we require `primaryDetection=1` in order to eliminate duplicate sources at the edges of the skycell regions used for processing.  (There is another column `bestDetection` that would be better suited for this test but is currently not correct in the database.)"
   ]
  },
  {
   "cell_type": "code",
   "execution_count": null,
   "metadata": {},
   "outputs": [],
   "source": [
    "sconstraints = {'primaryDetection':1}\n",
    "\n",
    "scolumns = \"\"\"objID,raMean,decMean,nDetections,ng,nr,ni,nz,ny,\n",
    "    nStackDetections,primaryDetection,\n",
    "    gPSFMag,rPSFMag,iPSFMag,zPSFMag,yPSFMag\"\"\".split(',')\n",
    "# strip blanks and weed out blank and commented-out values\n",
    "scolumns = [x.strip() for x in scolumns]\n",
    "scolumns = [x for x in scolumns if x and not x.startswith('#')]\n",
    "\n",
    "sresults = ps1cone(ra,dec,radius,table=\"stack\",release=\"dr2\",columns=scolumns,verbose=True,**sconstraints)\n",
    "stab = ascii.read(sresults)\n",
    "for col in scolumns:\n",
    "    try:\n",
    "        stab[col]\n",
    "    except KeyError:\n",
    "        print(col,\"not found\")\n",
    "# improve the format\n",
    "for filter in 'grizy':\n",
    "    col = filter+'PSFMag'\n",
    "    try:\n",
    "        stab[col].format = \".4f\"\n",
    "        stab[col][stab[col] == -999.0] = np.nan\n",
    "    except KeyError:\n",
    "        print(\"{} not found\".format(col))\n",
    "stab"
   ]
  },
  {
   "attachments": {},
   "cell_type": "markdown",
   "metadata": {},
   "source": [
    "### Explore the tables\n",
    "\n",
    "Match the stack and mean tables and look at the subset of sources that are detected in both catalogs.  The commented-out lines show how to restrict the joined table to only stack detections and to only stack non-detections."
   ]
  },
  {
   "cell_type": "code",
   "execution_count": null,
   "metadata": {},
   "outputs": [],
   "source": [
    "from astropy.table import join\n",
    "jtab = join(stab,tab,join_type='outer')\n",
    "jtab.sort('objID')\n",
    "jtab_both = jtab[(jtab['primaryDetection']==1) & (jtab['nDetections']>1)]\n",
    "\n",
    "#jtab[jtab['nStackDetections'].mask].show_in_notebook()\n",
    "#jtab[~jtab['nStackDetections'].mask].show_in_notebook()\n",
    "#jtab.show_in_notebook()\n",
    "jtab_both.show_in_notebook()"
   ]
  },
  {
   "attachments": {},
   "cell_type": "markdown",
   "metadata": {},
   "source": [
    "### Plot RA & Dec positions of mean and stack objects\n",
    "\n",
    "Note that `raMean` and `decMean` are defined for all objects, including stack-only objects.   For objects detected only on the stacked images, the `raStack` and `decStack` values are given in the `raMean` and `decMean` columns.  That makes it simple to analyze the positions without testing to see what positions are available."
   ]
  },
  {
   "cell_type": "code",
   "execution_count": null,
   "metadata": {},
   "outputs": [],
   "source": [
    "plt.rcParams.update({'font.size': 16})\n",
    "plt.figure(1,(10,10))\n",
    "plt.plot(tab['raMean'], tab['decMean'], 'ro', label='Mean (nDet>1)')\n",
    "plt.plot(stab['raMean'], stab['decMean'], 'bo', label='Stack')\n",
    "plt.plot(jtab_both['raMean'], jtab_both['decMean'], 'go', label='Both')\n",
    "\n",
    "plt.xlabel('RA [deg]')\n",
    "plt.ylabel('Dec [deg]')\n",
    "plt.legend(loc='best')"
   ]
  },
  {
   "attachments": {},
   "cell_type": "markdown",
   "metadata": {},
   "source": [
    "## Get DR2 light curve for RR Lyrae star KQ UMa\n",
    "\n",
    "This time we start with the object name, use the MAST name resolver (which relies on Simbad and NED) to convert the name to RA and Dec, and then query the PS1 DR2 mean object catalog at that position.  A small search radius is used so only a single object is returned."
   ]
  },
  {
   "cell_type": "code",
   "execution_count": null,
   "metadata": {},
   "outputs": [],
   "source": [
    "objname = 'KQ UMa'\n",
    "ra, dec = resolve(objname)\n",
    "radius = 1.0/3600.0 # radius = 1 arcsec\n",
    "\n",
    "results = ps1cone(ra,dec,radius,release='dr2',columns=columns,**constraints)\n",
    "tab = ascii.read(results)\n",
    "# improve the format\n",
    "for filter in 'grizy':\n",
    "    col = filter+'MeanPSFMag'\n",
    "    tab[col].format = \".4f\"\n",
    "    tab[col][tab[col] == -999.0] = np.nan\n",
    "tab"
   ]
  },
  {
   "attachments": {},
   "cell_type": "markdown",
   "metadata": {},
   "source": [
    "### Get the detection information\n",
    "\n",
    "Extract all the objects with the same object ID from the Detection table, which contains all the individual measurements for this source."
   ]
  },
  {
   "cell_type": "code",
   "execution_count": null,
   "metadata": {},
   "outputs": [],
   "source": [
    "def addfilter(dtab):\n",
    "    \"\"\"Add filter name as column in detection table by translating filterID\n",
    "    \n",
    "    This modifies the table in place.  If the 'filter' column already exists,\n",
    "    the table is returned unchanged.\n",
    "    \"\"\"\n",
    "    if 'filter' not in dtab.colnames:\n",
    "        # the filterID value goes from 1 to 5 for grizy\n",
    "        id2filter = np.array(list('grizy'))\n",
    "        dtab['filter'] = id2filter[(dtab['filterID']-1).data]\n",
    "    return dtab\n",
    "\n",
    "objid = tab['objID'][0]\n",
    "dconstraints = {'objID': objid}\n",
    "dcolumns = (\"\"\"objID,detectID,filterID,obsTime,ra,dec,psfFlux,psfFluxErr,psfMajorFWHM,psfMinorFWHM,\n",
    "            psfQfPerfect,apFlux,apFluxErr,infoFlag,infoFlag2,infoFlag3\"\"\").split(',')\n",
    "# strip blanks and weed out blank and commented-out values\n",
    "dcolumns = [x.strip() for x in dcolumns]\n",
    "dcolumns = [x for x in dcolumns if x and not x.startswith('#')]\n",
    "\n",
    "dresults = ps1search(table='detection',release='dr2',columns=dcolumns,**dconstraints)\n",
    "dtab = addfilter(ascii.read(dresults))\n",
    "dtab.sort('obsTime')\n",
    "dtab"
   ]
  },
  {
   "attachments": {},
   "cell_type": "markdown",
   "metadata": {},
   "source": [
    "### Plot the light curves\n",
    "\n",
    "The `psfFlux` values from the Detection table are converted from Janskys to AB magnitudes.  Measurements in the 5 different filters are plotted separately."
   ]
  },
  {
   "cell_type": "code",
   "execution_count": null,
   "metadata": {},
   "outputs": [],
   "source": [
    "# convert flux in Jy to magnitudes\n",
    "t = dtab['obsTime']\n",
    "mag = -2.5*np.log10(dtab['psfFlux']) + 8.90\n",
    "xlim = np.array([t.min(),t.max()])\n",
    "xlim = xlim + np.array([-1,1])*0.02*(xlim[1]-xlim[0])\n",
    "\n",
    "plt.rcParams.update({'font.size': 14})\n",
    "plt.figure(1,(10,10))\n",
    "for i, filter in enumerate(\"grizy\"):\n",
    "    plt.subplot(511+i)\n",
    "    w = np.where(dtab['filter']==filter)\n",
    "    plt.plot(t[w],mag[w],'-o')\n",
    "    plt.ylabel(filter+' [mag]')\n",
    "    plt.xlim(xlim)\n",
    "    plt.gca().invert_yaxis()\n",
    "    if i==0:\n",
    "        plt.title(objname)\n",
    "plt.xlabel('Time [MJD]')\n",
    "plt.tight_layout()"
   ]
  },
  {
   "attachments": {},
   "cell_type": "markdown",
   "metadata": {},
   "source": [
    "Plot differences from the mean magnitudes in the initial search."
   ]
  },
  {
   "cell_type": "code",
   "execution_count": null,
   "metadata": {},
   "outputs": [],
   "source": [
    "# convert flux in Jy to magnitudes\n",
    "t = dtab['obsTime']\n",
    "mag = -2.5*np.log10(dtab['psfFlux']) + 8.90\n",
    "xlim = np.array([t.min(),t.max()])\n",
    "xlim = xlim + np.array([-1,1])*0.02*(xlim[1]-xlim[0])\n",
    "\n",
    "plt.rcParams.update({'font.size': 14})\n",
    "plt.figure(1,(10,10))\n",
    "for i, filter in enumerate(\"grizy\"):\n",
    "    plt.subplot(511+i)\n",
    "    w = np.where(dtab['filter']==filter)\n",
    "    magmean = tab[filter+'MeanPSFMag'][0]\n",
    "    plt.plot(t[w],mag[w] - magmean,'-o')\n",
    "    plt.ylabel('{} [mag - {:.2f}]'.format(filter,magmean))\n",
    "    plt.xlim(xlim)\n",
    "    plt.gca().invert_yaxis()\n",
    "    if i==0:\n",
    "        plt.title(objname)\n",
    "plt.xlabel('Time [MJD]')\n",
    "plt.tight_layout()"
   ]
  },
  {
   "attachments": {},
   "cell_type": "markdown",
   "metadata": {},
   "source": [
    "### Identify bad data\n",
    "\n",
    "There is one clearly bad $z$ magnitude with a very large difference.  Select the bad point and look at it in more detail.\n",
    "\n",
    "Note that indexing a table (or numpy array) with a logical expression selects just the rows where that expression is true."
   ]
  },
  {
   "cell_type": "code",
   "execution_count": null,
   "metadata": {},
   "outputs": [],
   "source": [
    "dtab[ (dtab['filter']=='z') & (np.abs(mag-tab['zMeanPSFMag'][0]) > 2) ]"
   ]
  },
  {
   "attachments": {},
   "cell_type": "markdown",
   "metadata": {},
   "source": [
    "From examining this table, it looks like `psfQfPerfect` is bad.  This flag is the PSF-weighted fraction of unmasked pixels in the image (see the [documentation](https://outerspace.stsci.edu/x/IoOc) for more details). Values near unity indicate good data that is not significantly affected by bad pixels.\n",
    "\n",
    "Check all the `psfQfPerfect` values for the $z$ filter to see if this value really is unusual.  The list of values below are sorted by magnitude.  The bad point is the only value with `psfQfPerfect` < 0.95."
   ]
  },
  {
   "cell_type": "code",
   "execution_count": null,
   "metadata": {},
   "outputs": [],
   "source": [
    "w = np.where(dtab['filter']=='z')\n",
    "zdtab = dtab[w]\n",
    "zdtab['mag'] = mag[w]\n",
    "zdtab['dmag'] = zdtab['mag'] - tab['zMeanPSFMag'][0]\n",
    "ii = np.argsort(-np.abs(zdtab['dmag']))\n",
    "zdtab = zdtab[ii]\n",
    "zdtab['objID','obsTime','mag','dmag','psfQfPerfect']"
   ]
  },
  {
   "attachments": {},
   "cell_type": "markdown",
   "metadata": {},
   "source": [
    "### Repeat the plot with bad psfQfPerfect values excluded\n",
    "\n",
    "Do the plot again but exclude low psfQfPerfect values."
   ]
  },
  {
   "cell_type": "code",
   "execution_count": null,
   "metadata": {},
   "outputs": [],
   "source": [
    "# convert flux in Jy to magnitudes\n",
    "t = dtab['obsTime']\n",
    "mag = -2.5*np.log10(dtab['psfFlux']) + 8.90\n",
    "magmean = 0.0*mag\n",
    "for filter in \"grizy\":\n",
    "    magmean[dtab['filter']==filter] = tab[filter+'MeanPSFMag'][0]\n",
    "dmag = mag - magmean\n",
    "dmag1 = dmag[dtab['psfQfPerfect']>0.9]\n",
    "# fix the x and y axis ranges\n",
    "xlim = np.array([t.min(),t.max()])\n",
    "xlim = xlim + np.array([-1,1])*0.02*(xlim[1]-xlim[0])\n",
    "# flip axis direction for magnitude\n",
    "ylim = np.array([dmag1.max(),dmag1.min()])\n",
    "ylim = ylim + np.array([-1,1])*0.02*(ylim[1]-ylim[0])\n",
    "\n",
    "plt.rcParams.update({'font.size': 14})\n",
    "plt.figure(1,(10,10))\n",
    "for i, filter in enumerate(\"grizy\"):\n",
    "    plt.subplot(511+i)\n",
    "    w = np.where((dtab['filter']==filter) & (dtab['psfQfPerfect']>0.9))[0]\n",
    "    plt.plot(t[w],dmag[w],'-o')\n",
    "    plt.ylabel('{} [mag - {:.2f}]'.format(filter,magmean[w[0]]))\n",
    "    plt.xlim(xlim)\n",
    "    plt.ylim(ylim)\n",
    "    if i==0:\n",
    "        plt.title(objname)\n",
    "plt.xlabel('Time [MJD]')\n",
    "plt.tight_layout()"
   ]
  },
  {
   "attachments": {},
   "cell_type": "markdown",
   "metadata": {},
   "source": [
    "### Plot versus the periodic phase instead of epoch\n",
    "\n",
    "Plot versus phase using known RR Lyr period from Simbad (table [J/AJ/132/1202/table4](http://vizier.u-strasbg.fr/viz-bin/VizieR-3?-source=J/AJ/132/1202/table4&-c=KQ%20UMa&-c.u=arcmin&-c.r=2&-c.eq=J2000&-c.geom=r&-out.max=50&-out.form=HTML%20Table&-oc.form=sexa))."
   ]
  },
  {
   "cell_type": "code",
   "execution_count": null,
   "metadata": {},
   "outputs": [],
   "source": [
    "period = 0.48636\n",
    "# convert flux in Jy to magnitudes\n",
    "t = (dtab['obsTime'] % period) / period\n",
    "mag = -2.5*np.log10(dtab['psfFlux']) + 8.90\n",
    "magmean = 0.0*mag\n",
    "for filter in \"grizy\":\n",
    "    magmean[dtab['filter']==filter] = tab[filter+'MeanPSFMag'][0]\n",
    "dmag = mag - magmean\n",
    "dmag1 = dmag[dtab['psfQfPerfect']>0.9]\n",
    "# fix the x and y axis ranges\n",
    "xlim = np.array([t.min(),t.max()])\n",
    "xlim = xlim + np.array([-1,1])*0.02*(xlim[1]-xlim[0])\n",
    "# flip axis direction for magnitude\n",
    "ylim = np.array([dmag1.max(),dmag1.min()])\n",
    "ylim = ylim + np.array([-1,1])*0.02*(ylim[1]-ylim[0])\n",
    "\n",
    "plt.rcParams.update({'font.size': 14})\n",
    "plt.figure(1,(10,10))\n",
    "for i, filter in enumerate(\"grizy\"):\n",
    "    plt.subplot(511+i)\n",
    "    w = np.where((dtab['filter']==filter) & (dtab['psfQfPerfect']>0.9))[0]\n",
    "    w = w[np.argsort(t[w])]\n",
    "    plt.plot(t[w],dmag[w],'-o')\n",
    "    plt.ylabel('{} [mag - {:.2f}]'.format(filter,magmean[w[0]]))\n",
    "    plt.xlim(xlim)\n",
    "    plt.ylim(ylim)\n",
    "    if i==0:\n",
    "        plt.title(objname)\n",
    "plt.xlabel('Phase')\n",
    "plt.tight_layout()"
   ]
  },
  {
   "attachments": {},
   "cell_type": "markdown",
   "metadata": {},
   "source": [
    "## Repeat search using eclipsing binary KIC 2161623\n",
    "\n",
    "From [Villanova Kepler Eclipsing Binaries](http://keplerebs.villanova.edu)"
   ]
  },
  {
   "cell_type": "code",
   "execution_count": null,
   "metadata": {},
   "outputs": [],
   "source": [
    "objname = 'KIC 2161623'\n",
    "ra, dec = resolve(objname)\n",
    "radius = 1.0/3600.0 # radius = 1 arcsec\n",
    "\n",
    "results = ps1cone(ra,dec,radius,release='dr2',columns=columns,**constraints)\n",
    "tab = ascii.read(results)\n",
    "# improve the format\n",
    "for filter in 'grizy':\n",
    "    col = filter+'MeanPSFMag'\n",
    "    tab[col].format = \".4f\"\n",
    "    tab[col][tab[col] == -999.0] = np.nan\n",
    "tab"
   ]
  },
  {
   "attachments": {},
   "cell_type": "markdown",
   "metadata": {},
   "source": [
    "### Get the detection information\n",
    "\n",
    "This time include the `psfQfPerfect` limit directly in the database query."
   ]
  },
  {
   "cell_type": "code",
   "execution_count": null,
   "metadata": {},
   "outputs": [],
   "source": [
    "objid = tab['objID'][0]\n",
    "dconstraints = {'objID': objid, 'psfQfPerfect.min': 0.9}\n",
    "dcolumns = (\"\"\"objID,detectID,filterID,obsTime,ra,dec,psfFlux,psfFluxErr,psfMajorFWHM,psfMinorFWHM,\n",
    "            psfQfPerfect,apFlux,apFluxErr,infoFlag,infoFlag2,infoFlag3\"\"\").split(',')\n",
    "# strip blanks and weed out blank and commented-out values\n",
    "dcolumns = [x.strip() for x in dcolumns]\n",
    "dcolumns = [x for x in dcolumns if x and not x.startswith('#')]\n",
    "\n",
    "dresults = ps1search(table='detection',release='dr2',columns=dcolumns,**dconstraints)\n",
    "dtab = addfilter(ascii.read(dresults))\n",
    "dtab.sort('obsTime')\n",
    "\n",
    "# add magnitude and difference from mean\n",
    "dtab['magmean'] = 0.0\n",
    "for filter in \"grizy\":\n",
    "    dtab['magmean'][dtab['filter']==filter] = tab[filter+'MeanPSFMag'][0]\n",
    "dtab['mag'] = -2.5*np.log10(dtab['psfFlux']) + 8.90\n",
    "dtab['dmag'] = dtab['mag']-dtab['magmean']\n",
    "dtab"
   ]
  },
  {
   "cell_type": "code",
   "execution_count": null,
   "metadata": {},
   "outputs": [],
   "source": [
    "t = dtab['obsTime']\n",
    "dmag = dtab['dmag']\n",
    "xlim = np.array([t.min(),t.max()])\n",
    "xlim = xlim + np.array([-1,1])*0.02*(xlim[1]-xlim[0])\n",
    "ylim = np.array([dmag.max(),dmag.min()])\n",
    "ylim = ylim + np.array([-1,1])*0.02*(ylim[1]-ylim[0])\n",
    "\n",
    "plt.rcParams.update({'font.size': 14})\n",
    "plt.figure(1,(10,10))\n",
    "for i, filter in enumerate(\"grizy\"):\n",
    "    plt.subplot(511+i)\n",
    "    w = np.where(dtab['filter']==filter)[0]\n",
    "    plt.plot(t[w],dmag[w],'-o')\n",
    "    magmean = dtab['magmean'][w[0]]\n",
    "    plt.ylabel('{} [mag - {:.2f}]'.format(filter,magmean))\n",
    "    plt.xlim(xlim)\n",
    "    plt.ylim(ylim)\n",
    "    if i==0:\n",
    "        plt.title(objname)\n",
    "plt.xlabel('Time [MJD]')\n",
    "plt.tight_layout()"
   ]
  },
  {
   "attachments": {},
   "cell_type": "markdown",
   "metadata": {},
   "source": [
    "### Plot versus phase using known period\n",
    "\n",
    "Eclipsing binaries basically vary by same amount in all filters since it is a geometrical effect, so combine the data into a single light curve.  Wrap using known period and plot versus phase."
   ]
  },
  {
   "cell_type": "code",
   "execution_count": null,
   "metadata": {},
   "outputs": [],
   "source": [
    "period = 2.2834698\n",
    "bjd0 = 54999.599837\n",
    "t = ((dtab['obsTime']-bjd0) % period) / period\n",
    "dmag = dtab['dmag']\n",
    "w = np.argsort(t)\n",
    "t = t[w]\n",
    "dmag = dmag[w]\n",
    "xlim = np.array([t.min(),t.max()])\n",
    "xlim = xlim + np.array([-1,1])*0.02*(xlim[1]-xlim[0])\n",
    "ylim = np.array([dmag.max(),dmag.min()])\n",
    "ylim = ylim + np.array([-1,1])*0.02*(ylim[1]-ylim[0])\n",
    "\n",
    "plt.rcParams.update({'font.size': 14})\n",
    "plt.figure(1,(10,6))\n",
    "plt.plot(t,dmag,'-o')\n",
    "plt.xlim(xlim)\n",
    "plt.ylim(ylim)\n",
    "plt.xlabel('Phase')\n",
    "plt.ylabel('Delta magnitude from mean [mag]')\n",
    "plt.title(objname)\n",
    "plt.tight_layout()"
   ]
  },
  {
   "attachments": {},
   "cell_type": "markdown",
   "metadata": {},
   "source": [
    "## Repeat search for another eclipsing binary KIC 8153568"
   ]
  },
  {
   "cell_type": "code",
   "execution_count": null,
   "metadata": {},
   "outputs": [],
   "source": [
    "objname = 'KIC 8153568'\n",
    "ra, dec = resolve(objname)\n",
    "radius = 1.0/3600.0 # radius = 1 arcsec\n",
    "\n",
    "results = ps1cone(ra,dec,radius,release='dr2',columns=columns,**constraints)\n",
    "tab = ascii.read(results)\n",
    "# improve the format\n",
    "for filter in 'grizy':\n",
    "    col = filter+'MeanPSFMag'\n",
    "    tab[col].format = \".4f\"\n",
    "    tab[col][tab[col] == -999.0] = np.nan\n",
    "tab"
   ]
  },
  {
   "cell_type": "code",
   "execution_count": null,
   "metadata": {},
   "outputs": [],
   "source": [
    "objid = tab['objID'][0]\n",
    "dconstraints = {'objID': objid, 'psfQfPerfect.min': 0.9}\n",
    "dcolumns = (\"\"\"objID,detectID,filterID,obsTime,ra,dec,psfFlux,psfFluxErr,psfMajorFWHM,psfMinorFWHM,\n",
    "            psfQfPerfect,apFlux,apFluxErr,infoFlag,infoFlag2,infoFlag3\"\"\").split(',')\n",
    "# strip blanks and weed out blank and commented-out values\n",
    "dcolumns = [x.strip() for x in dcolumns]\n",
    "dcolumns = [x for x in dcolumns if x and not x.startswith('#')]\n",
    "\n",
    "dresults = ps1search(table='detection',release='dr2',columns=dcolumns,**dconstraints)\n",
    "dtab = addfilter(ascii.read(dresults))\n",
    "dtab.sort('obsTime')\n",
    "\n",
    "# add magnitude and difference from mean\n",
    "dtab['magmean'] = 0.0\n",
    "for filter in \"grizy\":\n",
    "    dtab['magmean'][dtab['filter']==filter] = tab[filter+'MeanPSFMag'][0]\n",
    "dtab['mag'] = -2.5*np.log10(dtab['psfFlux']) + 8.90\n",
    "dtab['dmag'] = dtab['mag']-dtab['magmean']\n",
    "dtab"
   ]
  },
  {
   "cell_type": "code",
   "execution_count": null,
   "metadata": {},
   "outputs": [],
   "source": [
    "t = dtab['obsTime']\n",
    "dmag = dtab['dmag']\n",
    "xlim = np.array([t.min(),t.max()])\n",
    "xlim = xlim + np.array([-1,1])*0.02*(xlim[1]-xlim[0])\n",
    "ylim = np.array([dmag.max(),dmag.min()])\n",
    "ylim = ylim + np.array([-1,1])*0.02*(ylim[1]-ylim[0])\n",
    "\n",
    "plt.rcParams.update({'font.size': 14})\n",
    "plt.figure(1,(10,10))\n",
    "for i, filter in enumerate(\"grizy\"):\n",
    "    plt.subplot(511+i)\n",
    "    w = np.where(dtab['filter']==filter)[0]\n",
    "    plt.plot(t[w],dmag[w],'-o')\n",
    "    magmean = dtab['magmean'][w[0]]\n",
    "    plt.ylabel('{} [mag - {:.2f}]'.format(filter,magmean))\n",
    "    plt.xlim(xlim)\n",
    "    plt.ylim(ylim)\n",
    "    if i==0:\n",
    "        plt.title(objname)\n",
    "plt.xlabel('Time [MJD]')\n",
    "plt.tight_layout()"
   ]
  },
  {
   "attachments": {},
   "cell_type": "markdown",
   "metadata": {},
   "source": [
    "Eclipsing binaries basically vary by same amount in all filters since it is a geometrical effect, so combine the data into a single light curve.\n",
    "\n",
    "Wrap using known period and plot versus phase.  Plot two periods of the light curve this time.\n",
    "\n",
    "This nice light curve appears to show a secondary eclipse."
   ]
  },
  {
   "cell_type": "code",
   "execution_count": null,
   "metadata": {},
   "outputs": [],
   "source": [
    "period = 3.6071431\n",
    "bjd0 = 54999.289794\n",
    "t = ((dtab['obsTime']-bjd0) % period) / period\n",
    "dmag = dtab['dmag']\n",
    "w = np.argsort(t)\n",
    "# extend to two periods\n",
    "nw = len(w)\n",
    "w = np.append(w,w)\n",
    "t = t[w]\n",
    "# add one to second period\n",
    "t[-nw:] += 1\n",
    "dmag = dmag[w]\n",
    "xlim = [0,2.0]\n",
    "ylim = np.array([dmag.max(),dmag.min()])\n",
    "ylim = ylim + np.array([-1,1])*0.02*(ylim[1]-ylim[0])\n",
    "\n",
    "plt.rcParams.update({'font.size': 14})\n",
    "plt.figure(1,(12,6))\n",
    "plt.plot(t,dmag,'-o')\n",
    "plt.xlim(xlim)\n",
    "plt.ylim(ylim)\n",
    "plt.xlabel('Phase')\n",
    "plt.ylabel('Delta magnitude from mean [mag]')\n",
    "plt.title(objname)\n",
    "plt.tight_layout()"
   ]
  },
  {
   "cell_type": "code",
   "execution_count": null,
   "metadata": {},
   "outputs": [],
   "source": []
  }
 ],
 "metadata": {
  "kernelspec": {
   "display_name": "Python 3",
   "language": "python",
   "name": "python3"
  },
  "language_info": {
   "codemirror_mode": {
    "name": "ipython",
    "version": 3
   },
   "file_extension": ".py",
   "mimetype": "text/x-python",
   "name": "python",
   "nbconvert_exporter": "python",
   "pygments_lexer": "ipython3",
   "version": "3.9.7"
  }
 },
 "nbformat": 4,
 "nbformat_minor": 2
}
