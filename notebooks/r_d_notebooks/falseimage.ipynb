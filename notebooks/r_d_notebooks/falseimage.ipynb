{
 "cells": [
  {
   "cell_type": "code",
   "execution_count": 1,
   "metadata": {},
   "outputs": [],
   "source": [
    "import os,sys\n",
    "import astropy.units as u\n",
    "from astropy.io import fits\n",
    "from astropy.wcs import WCS\n",
    "from astropy.coordinates import SkyCoord\n",
    "from astropy.time import Time\n",
    "import numpy as np\n",
    "\n",
    "import warnings\n",
    "from matplotlib import pyplot as plt\n",
    "from matplotlib import colors as colors\n",
    "from astropy.io import fits\n",
    "from astropy.wcs import WCS, FITSFixedWarning\n",
    "\n",
    "\n",
    "sys.path.append(os.path.expanduser('~/repos/runawaysearch/src'))\n",
    "sys.path.append(os.path.expanduser('~/repos/ReipurthBallyProject/src'))\n",
    "\n",
    "from false_image  import false_image\n",
    "from utils import obs_dirs\n",
    "\n",
    "from astropy.table import Table"
   ]
  },
  {
   "cell_type": "code",
   "execution_count": 2,
   "metadata": {},
   "outputs": [],
   "source": [
    "obs_root = '../data'\n",
    "objname = 'M8'\n",
    "dirs = obs_dirs(obs_root, objname)"
   ]
  },
  {
   "cell_type": "code",
   "execution_count": 3,
   "metadata": {},
   "outputs": [
    {
     "name": "stderr",
     "output_type": "stream",
     "text": [
      "WARNING: VerifyWarning: Invalid 'BLANK' keyword in header.  The 'BLANK' keyword is only applicable to integer data, and will be ignored in this HDU. [astropy.io.fits.hdu.image]\n"
     ]
    }
   ],
   "source": [
    "obs_path = os.path.join(dirs['no_bias'], 'SUPA01564806.fits')\n",
    "with fits.open(obs_path) as hdul:\n",
    "    hdr = hdul[0].header.copy()\n",
    "detector = hdr['DETECTOR']\n",
    "\n",
    "xmatchpath = os.path.join(dirs['xmatch_tables'], detector)\n",
    "xmatch_tbl = Table.read(xmatchpath)"
   ]
  },
  {
   "cell_type": "code",
   "execution_count": 4,
   "metadata": {},
   "outputs": [
    {
     "name": "stderr",
     "output_type": "stream",
     "text": [
      "c:\\Users\\Kevin\\anaconda3\\envs\\astro\\lib\\site-packages\\erfa\\core.py:154: ErfaWarning: ERFA function \"pmsafe\" yielded 80 of \"distance overridden (Note 6)\"\n",
      "  warnings.warn('ERFA function \"{}\" yielded {}'.format(func_name, wmsg),\n"
     ]
    }
   ],
   "source": [
    "t_obs = Time(hdr['MJD'], scale='utc', format='mjd')\n",
    "#hard code for gaia dr3:\n",
    "t_gaia = Time(2016, scale='tcb',format='jyear')\n",
    "\n",
    "coords_gaia = SkyCoord(ra = xmatch_tbl['ra']*u.degree, dec = xmatch_tbl['dec']*u.degree,\n",
    "                pm_ra_cosdec = xmatch_tbl['pmra'].filled(fill_value=0.0)*u.mas/u.year,\n",
    "                pm_dec = xmatch_tbl['pmdec'].filled(fill_value=0.0)*u.mas/u.year,\n",
    "                radial_velocity = xmatch_tbl['radial_velocity'].filled(fill_value=0.0)*u.km/u.second,\n",
    "                distance = 1000.0/np.abs(xmatch_tbl['parallax']) * u.pc,\n",
    "                obstime = t_gaia)\n",
    "\n",
    "#move the positions to the obs time and reframe to FK5\n",
    "t_2000 = Time('J2000.0',  format='jyear_str')\n",
    "coords = coords_gaia.apply_space_motion(new_obstime=t_2000).fk5"
   ]
  },
  {
   "cell_type": "markdown",
   "metadata": {},
   "source": [
    "(https://dc.zah.uni-heidelberg.de/tableinfo/gaia.dr2epochflux)\n",
    "\n",
    "mag = -2.5 log10(flux)+zero point,\n",
    "where the zero points assumed for Gaia DR2 are 25.6884±0.0018 in G, 25.3514±0.0014 in BP, and 24.7619±0.0019 in RP (VEGAMAG).\n",
    "\n",
    "25.6874 for DR3 G-band. See [this GAIA DR3 Doc](https://gea.esac.esa.int/archive/documentation/GDR3/Data_processing/chap_cu5pho/cu5pho_sec_photProc/cu5pho_ssec_photCal.html#Ch5.T4)"
   ]
  },
  {
   "cell_type": "code",
   "execution_count": 5,
   "metadata": {},
   "outputs": [
    {
     "name": "stderr",
     "output_type": "stream",
     "text": [
      "WARNING: FITSFixedWarning: RADECSYS= 'FK5 ' / The equatorial coordinate system \n",
      "the RADECSYS keyword is deprecated, use RADESYSa. [astropy.wcs.wcs]\n"
     ]
    }
   ],
   "source": [
    "scale=20\n",
    "outpath = f'../data/testfits_{scale:.0f}.fits'\n",
    "phdu = false_image(hdr, coords, xmatch_tbl['phot_g_mean_flux'], scale=scale)\n",
    "phdu.writeto(outpath, overwrite=True)"
   ]
  },
  {
   "cell_type": "code",
   "execution_count": null,
   "metadata": {},
   "outputs": [],
   "source": []
  },
  {
   "cell_type": "code",
   "execution_count": null,
   "metadata": {},
   "outputs": [],
   "source": [
    "def mag_to_flux(mags, zp = 25.6874):\n",
    "    expnts = (mags-zp)/-2.5\n",
    "    flux = np.power(10, expnts)\n",
    "    return flux"
   ]
  },
  {
   "cell_type": "code",
   "execution_count": null,
   "metadata": {},
   "outputs": [],
   "source": [
    "mag_to_flux(18.0)"
   ]
  },
  {
   "cell_type": "code",
   "execution_count": null,
   "metadata": {},
   "outputs": [],
   "source": [
    "fig = plt.figure(figsize=(16,8))\n",
    "ax = fig.add_subplot(121,)\n",
    "zz = ax.hist(mag_to_flux(xmatch_tbl['rMeanPSFMag']), range=(0.0, 20000), bins=50, log=True)\n",
    "\n",
    "ax = fig.add_subplot(122,)\n",
    "zz = ax.hist(xmatch_tbl['rMeanPSFMag'], bins=50)\n",
    "\n"
   ]
  },
  {
   "cell_type": "code",
   "execution_count": null,
   "metadata": {},
   "outputs": [],
   "source": [
    "from scipy.stats import linregress\n",
    "\n",
    "def add_trend_to_scatter(ax, x, y):\n",
    "    \"\"\"\n",
    "    x,y masked arrays\n",
    "    \"\"\"\n",
    "    valid = np.logical_not(np.logical_or(x.mask, y.mask))\n",
    "    xy = np.array([x[valid],y[valid]])\n",
    "\n",
    "    res = linregress(xy)\n",
    "\n",
    "    xx = np.linspace(x.min(), x.max(), 10000)\n",
    "\n",
    "    yhat = res.intercept + res.slope*xx\n",
    "\n",
    "    ax.plot(xx,yhat, color='red', lw=3, label='Fitted')"
   ]
  },
  {
   "cell_type": "code",
   "execution_count": null,
   "metadata": {},
   "outputs": [],
   "source": [
    "fig = plt.figure(figsize=(8,8))\n",
    "ax = fig.add_subplot(111,)\n",
    "flux_hat = mag_to_flux(xmatch_tbl['phot_g_mean_mag'])\n",
    "ax.scatter( xmatch_tbl['phot_g_mean_mag'], xmatch_tbl['phot_g_mean_flux'],  s=3, label='Actual Flux', color='green')\n",
    "ax.scatter( xmatch_tbl['phot_g_mean_mag'], flux_hat,  s=3, label='Predicted Flux', color='red')\n",
    "#add_trend_to_scatter(ax, flux_hat, xmatch_tbl['phot_g_mean_flux'])\n",
    "# ax.set_xlim(0, 100000)\n",
    "#ax.set_ylim(0, 100000)\n",
    "ax.grid()\n",
    "ax.legend()\n",
    "ax.set_xlabel('Observed Magnitude')\n",
    "ax.set_ylabel('Flux')"
   ]
  },
  {
   "cell_type": "code",
   "execution_count": null,
   "metadata": {},
   "outputs": [],
   "source": [
    "def rmse(hat, act):\n",
    "    e2 = (hat-act)**2\n",
    "    return np.sqrt(np.nanmean(e2))"
   ]
  },
  {
   "cell_type": "code",
   "execution_count": null,
   "metadata": {},
   "outputs": [],
   "source": [
    "err = rmse(mag_to_flux(xmatch_tbl['phot_g_mean_mag']),xmatch_tbl['phot_g_mean_flux'] )\n",
    "print(f'RMSE flux from magnnitude: {err:.4f} flux units')\n",
    "rel = rmse(mag_to_flux(xmatch_tbl['phot_g_mean_mag']),xmatch_tbl['phot_g_mean_flux'] )/xmatch_tbl['phot_g_mean_flux'].mean()\n",
    "print(f'Fractional RMSE: {rel:.3e}')"
   ]
  },
  {
   "cell_type": "code",
   "execution_count": null,
   "metadata": {},
   "outputs": [],
   "source": [
    "from scipy.ndimage.filters import gaussian_filter\n",
    "def false_image(hdu, coords, mags, sigma=3, zeropt = 25.6874, noise_dc= 1, scale=1000):\n",
    "    \n",
    "    #fix the magnitude: (missing mag to be considered dimmest)\n",
    "    f_mags = np.nan_to_num(mags, zeropt)\n",
    "\n",
    "    s = hdu.data.shape\n",
    "    wcs = WCS(hdu.header)\n",
    " \n",
    "\n",
    "    in_image = wcs.footprint_contains(coords)\n",
    "    pxs = wcs.world_to_pixel(coords)\n",
    "\n",
    "    p_x = np.round(pxs[0][in_image]).astype(int)\n",
    "    p_y = np.round(pxs[1][in_image]).astype(int)\n",
    "    f_mags = f_mags[in_image]\n",
    "    \n",
    "    img = np.zeros(s, dtype=np.float32)\n",
    "    img[p_y, p_x] = (zeropt - f_mags)\n",
    "    img = gaussian_filter(img, sigma=sigma, mode='nearest')*scale\n",
    "\n",
    "    # # Let's add some noise to the images\n",
    "    # noise_std = np.sqrt(noise_dc)\n",
    "    # img += np.random.normal(loc=noise_dc, scale=noise_std, size=img.shape)\n",
    "\n",
    "    return img"
   ]
  },
  {
   "cell_type": "code",
   "execution_count": null,
   "metadata": {},
   "outputs": [],
   "source": [
    "from astropy.coordinates import SkyCoord\n",
    "import astropy.units as u\n",
    "from astropy.time import Time\n",
    "\n",
    "with fits.open(fitspath) as hdul:\n",
    "    hdu = hdul[0].copy()\n",
    "    hdr = hdu.header\n",
    "    wcs = WCS(hdr)\n",
    "\n",
    "#hard code for gaia dr3:\n",
    "t_gaia = Time(2016, scale='tcb',format='jyear')\n",
    "t_obs = Time(hdu.header['MJD'], scale='utc', format='mjd')\n",
    "\n",
    "coords_gaia = SkyCoord(ra = xmatch_tbl['ra']*u.degree, dec = xmatch_tbl['dec']*u.degree,\n",
    "                  pm_ra_cosdec = xmatch_tbl['pmra']*u.mas/u.year,\n",
    "                  pm_dec = xmatch_tbl['pmdec']*u.mas/u.year,\n",
    "                  radial_velocity = xmatch_tbl['radial_velocity'].filled(fill_value=0.0)*u.km/u.second,\n",
    "                  distance = 1000.0/np.abs(xmatch_tbl['parallax']) * u.pc,\n",
    "                  obstime = t_gaia)\n",
    "\n",
    "#move the positions to the obs time and reframe to FK5\n",
    "coords = coords_gaia.apply_space_motion(new_obstime=t_obs).fk5"
   ]
  },
  {
   "cell_type": "code",
   "execution_count": null,
   "metadata": {},
   "outputs": [],
   "source": [
    "img = false_image(hdu, coords, xmatch_tbl['rMeanPSFMag'], sigma=10)"
   ]
  },
  {
   "cell_type": "code",
   "execution_count": null,
   "metadata": {},
   "outputs": [],
   "source": [
    "import matplotlib.colors as colors\n",
    "fig = plt.figure(figsize=(16,12))\n",
    "ax = fig.add_subplot(121, projection=wcs)\n",
    "ax.imshow(hdu.data, origin='lower',norm=colors.LogNorm(vmin=1000, vmax=2500), cmap=plt.cm.gray_r)\n",
    "\n",
    "ax = fig.add_subplot(122, projection=wcs)\n",
    "ax.imshow(img, origin='lower', cmap=plt.cm.gray_r, norm=colors.LogNorm(vmin=0, vmax=7))\n"
   ]
  },
  {
   "cell_type": "code",
   "execution_count": null,
   "metadata": {},
   "outputs": [],
   "source": [
    "fig = plt.figure(figsize=(8,8))\n",
    "ax = fig.add_subplot(111, projection=wcs)\n",
    "ax.imshow(img, origin='lower', cmap=plt.cm.gray_r, norm=colors.LogNorm(vmin=0, vmax=3))"
   ]
  },
  {
   "cell_type": "code",
   "execution_count": null,
   "metadata": {},
   "outputs": [],
   "source": [
    "img1000= false_image(hdu, coords, xmatch_tbl['rMeanPSFMag'], sigma=10)\n",
    "img1= false_image(hdu, coords, xmatch_tbl['rMeanPSFMag'], sigma=10, scale=1)"
   ]
  },
  {
   "cell_type": "code",
   "execution_count": null,
   "metadata": {},
   "outputs": [],
   "source": [
    "fig = plt.figure(figsize=(16,12))\n",
    "ax = fig.add_subplot(121, projection=wcs)\n",
    "ax.imshow(img1000, origin='lower', cmap=plt.cm.gray_r, norm=colors.LogNorm(vmin=0, vmax=7))\n",
    "ax.set_title('Scale=1000')\n",
    "\n",
    "ax = fig.add_subplot(122, projection=wcs)\n",
    "ax.imshow(img1, origin='lower', cmap=plt.cm.gray_r, norm=colors.LogNorm(vmin=0, vmax=4))\n",
    "ax.set_title('Scale=1')"
   ]
  }
 ],
 "metadata": {
  "kernelspec": {
   "display_name": "astro",
   "language": "python",
   "name": "python3"
  },
  "language_info": {
   "codemirror_mode": {
    "name": "ipython",
    "version": 3
   },
   "file_extension": ".py",
   "mimetype": "text/x-python",
   "name": "python",
   "nbconvert_exporter": "python",
   "pygments_lexer": "ipython3",
   "version": "3.9.7"
  },
  "orig_nbformat": 4
 },
 "nbformat": 4,
 "nbformat_minor": 2
}
