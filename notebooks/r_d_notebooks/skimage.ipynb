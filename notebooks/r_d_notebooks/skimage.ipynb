{
 "cells": [
  {
   "cell_type": "code",
   "execution_count": 1,
   "metadata": {},
   "outputs": [],
   "source": [
    "import numpy as np\n",
    "import pandas as pd"
   ]
  },
  {
   "cell_type": "code",
   "execution_count": 2,
   "metadata": {},
   "outputs": [],
   "source": [
    "import skimage as sk\n"
   ]
  },
  {
   "cell_type": "code",
   "execution_count": 3,
   "metadata": {},
   "outputs": [],
   "source": [
    "import sys\n",
    "sys.path.append(r'/home/kevin/repos/ReipurthBallyProject/')"
   ]
  },
  {
   "cell_type": "code",
   "execution_count": 4,
   "metadata": {},
   "outputs": [],
   "source": [
    "from src.r_d_src.coo_utils import coo2df"
   ]
  },
  {
   "cell_type": "code",
   "execution_count": 5,
   "metadata": {},
   "outputs": [],
   "source": [
    "satsuki_df = coo2df(r'/home/kevin/repos/ReipurthBallyProject/SubaruCoordinateMaps/satsuki.coo')"
   ]
  },
  {
   "cell_type": "code",
   "execution_count": 6,
   "metadata": {},
   "outputs": [
    {
     "data": {
      "text/html": [
       "<div>\n",
       "<style scoped>\n",
       "    .dataframe tbody tr th:only-of-type {\n",
       "        vertical-align: middle;\n",
       "    }\n",
       "\n",
       "    .dataframe tbody tr th {\n",
       "        vertical-align: top;\n",
       "    }\n",
       "\n",
       "    .dataframe thead th {\n",
       "        text-align: right;\n",
       "    }\n",
       "</style>\n",
       "<table border=\"1\" class=\"dataframe\">\n",
       "  <thead>\n",
       "    <tr style=\"text-align: right;\">\n",
       "      <th></th>\n",
       "      <th>x_ref</th>\n",
       "      <th>y_ref</th>\n",
       "      <th>x_in</th>\n",
       "      <th>y_in</th>\n",
       "    </tr>\n",
       "  </thead>\n",
       "  <tbody>\n",
       "    <tr>\n",
       "      <th>0</th>\n",
       "      <td>1986.0542</td>\n",
       "      <td>94.003948</td>\n",
       "      <td>2004.39440</td>\n",
       "      <td>68.327594</td>\n",
       "    </tr>\n",
       "    <tr>\n",
       "      <th>1</th>\n",
       "      <td>1945.7056</td>\n",
       "      <td>53.655391</td>\n",
       "      <td>1960.37780</td>\n",
       "      <td>27.979037</td>\n",
       "    </tr>\n",
       "    <tr>\n",
       "      <th>2</th>\n",
       "      <td>1718.2865</td>\n",
       "      <td>119.680300</td>\n",
       "      <td>1732.95870</td>\n",
       "      <td>94.003948</td>\n",
       "    </tr>\n",
       "    <tr>\n",
       "      <th>3</th>\n",
       "      <td>1718.2865</td>\n",
       "      <td>71.995644</td>\n",
       "      <td>1729.29060</td>\n",
       "      <td>49.987341</td>\n",
       "    </tr>\n",
       "    <tr>\n",
       "      <th>4</th>\n",
       "      <td>1751.2989</td>\n",
       "      <td>71.995644</td>\n",
       "      <td>1765.97110</td>\n",
       "      <td>46.319290</td>\n",
       "    </tr>\n",
       "    <tr>\n",
       "      <th>...</th>\n",
       "      <td>...</td>\n",
       "      <td>...</td>\n",
       "      <td>...</td>\n",
       "      <td>...</td>\n",
       "    </tr>\n",
       "    <tr>\n",
       "      <th>75</th>\n",
       "      <td>938.1168</td>\n",
       "      <td>3801.921400</td>\n",
       "      <td>947.48534</td>\n",
       "      <td>3810.438300</td>\n",
       "    </tr>\n",
       "    <tr>\n",
       "      <th>76</th>\n",
       "      <td>1080.3482</td>\n",
       "      <td>3908.382000</td>\n",
       "      <td>1088.01340</td>\n",
       "      <td>3915.195500</td>\n",
       "    </tr>\n",
       "    <tr>\n",
       "      <th>77</th>\n",
       "      <td>1575.7865</td>\n",
       "      <td>3991.431400</td>\n",
       "      <td>1584.30330</td>\n",
       "      <td>3999.005900</td>\n",
       "    </tr>\n",
       "    <tr>\n",
       "      <th>78</th>\n",
       "      <td>1880.6579</td>\n",
       "      <td>4051.407400</td>\n",
       "      <td>1890.02250</td>\n",
       "      <td>4058.307600</td>\n",
       "    </tr>\n",
       "    <tr>\n",
       "      <th>79</th>\n",
       "      <td>1934.8740</td>\n",
       "      <td>4070.361300</td>\n",
       "      <td>1944.73150</td>\n",
       "      <td>4078.515400</td>\n",
       "    </tr>\n",
       "  </tbody>\n",
       "</table>\n",
       "<p>80 rows × 4 columns</p>\n",
       "</div>"
      ],
      "text/plain": [
       "        x_ref        y_ref        x_in         y_in\n",
       "0   1986.0542    94.003948  2004.39440    68.327594\n",
       "1   1945.7056    53.655391  1960.37780    27.979037\n",
       "2   1718.2865   119.680300  1732.95870    94.003948\n",
       "3   1718.2865    71.995644  1729.29060    49.987341\n",
       "4   1751.2989    71.995644  1765.97110    46.319290\n",
       "..        ...          ...         ...          ...\n",
       "75   938.1168  3801.921400   947.48534  3810.438300\n",
       "76  1080.3482  3908.382000  1088.01340  3915.195500\n",
       "77  1575.7865  3991.431400  1584.30330  3999.005900\n",
       "78  1880.6579  4051.407400  1890.02250  4058.307600\n",
       "79  1934.8740  4070.361300  1944.73150  4078.515400\n",
       "\n",
       "[80 rows x 4 columns]"
      ]
     },
     "execution_count": 6,
     "metadata": {},
     "output_type": "execute_result"
    }
   ],
   "source": [
    "satsuki_df"
   ]
  },
  {
   "cell_type": "code",
   "execution_count": 7,
   "metadata": {},
   "outputs": [],
   "source": [
    "src = np.array([satsuki_df.x_in, satsuki_df.y_in]).T\n",
    "dst = np.array([satsuki_df.x_ref, satsuki_df.y_ref]).T"
   ]
  },
  {
   "cell_type": "code",
   "execution_count": 8,
   "metadata": {},
   "outputs": [],
   "source": [
    "tran = sk.transform.estimate_transform('polynomial', src,dst, 3)"
   ]
  },
  {
   "cell_type": "code",
   "execution_count": 9,
   "metadata": {},
   "outputs": [],
   "source": [
    "def rmse(resid):\n",
    "    RMSE = np.sqrt((resid**2).mean())\n",
    "    return RMSE"
   ]
  },
  {
   "cell_type": "code",
   "execution_count": 10,
   "metadata": {},
   "outputs": [
    {
     "data": {
      "text/plain": [
       "1.2059972935060397"
      ]
     },
     "execution_count": 10,
     "metadata": {},
     "output_type": "execute_result"
    }
   ],
   "source": [
    "resid = tran.residuals(src, dst)\n",
    "rmse(resid)"
   ]
  },
  {
   "cell_type": "code",
   "execution_count": 11,
   "metadata": {},
   "outputs": [
    {
     "name": "stdout",
     "output_type": "stream",
     "text": [
      "Detector: sophie.coo, Number of Points: 51, RMSE: 22.47747791789204\n",
      "Detector: san.coo, Number of Points: 92, RMSE: 2.5453579198926146\n",
      "Detector: sheeta.coo, Number of Points: 53, RMSE: 3.712878140279741\n",
      "Detector: fio.coo, Number of Points: 54, RMSE: 3.8304663027083623\n",
      "Detector: nausicaa.coo, Number of Points: 51, RMSE: 1.1590773423714407\n",
      "Detector: chihiro.coo, Number of Points: 68, RMSE: 2.0524221611681916\n",
      "Detector: ponyo.coo, Number of Points: 70, RMSE: 1.670003507736529\n",
      "Detector: kiki.coo, Number of Points: 51, RMSE: 2.0682780839445742\n",
      "Detector: satsuki.coo, Number of Points: 80, RMSE: 1.2059972935060397\n",
      "Detector: clarisse.coo, Number of Points: 78, RMSE: 3.3100903000797772\n"
     ]
    }
   ],
   "source": [
    "import os\n",
    "coo_maps = r'/home/kevin/repos/ReipurthBallyProject/SubaruCoordinateMaps/'\n",
    "for detector in os.listdir(coo_maps):\n",
    "    coo_path = os.path.join(coo_maps, detector)\n",
    "    coo_df = coo2df(coo_path)\n",
    "    src = np.array([coo_df.x_in, coo_df.y_in]).T\n",
    "    dst = np.array([coo_df.x_ref, coo_df.y_ref]).T\n",
    "    tran = sk.transform.estimate_transform('polynomial', src,dst, 3)\n",
    "    resid = tran.residuals(src, dst)\n",
    "    RMSE = rmse(resid)\n",
    "    print(f'Detector: {detector}, Number of Points: {len(resid)}, RMSE: {RMSE}')\n"
   ]
  },
  {
   "cell_type": "code",
   "execution_count": 12,
   "metadata": {},
   "outputs": [
    {
     "name": "stdout",
     "output_type": "stream",
     "text": [
      "Detector: satsuki.coo, Number of  RMSE: 1.2059972935060397\n"
     ]
    }
   ],
   "source": [
    "for detector in ['satsuki.coo']:\n",
    "    coo_path = os.path.join(coo_maps, detector)\n",
    "    coo_df = coo2df(coo_path)\n",
    "    src = np.array([coo_df.x_in, coo_df.y_in]).T\n",
    "    dst = np.array([coo_df.x_ref, coo_df.y_ref]).T\n",
    "    tran = sk.transform.estimate_transform('polynomial', src,dst, 3)\n",
    "    resid = tran.residuals(src, dst)\n",
    "    RMSE = rmse(resid)\n",
    "    print(f'Detector: {detector}, Number of  RMSE: {RMSE}')"
   ]
  },
  {
   "cell_type": "code",
   "execution_count": 13,
   "metadata": {},
   "outputs": [
    {
     "data": {
      "text/plain": [
       "(3.9639337757325785, 3)"
      ]
     },
     "execution_count": 13,
     "metadata": {},
     "output_type": "execute_result"
    }
   ],
   "source": [
    "resid.max(), resid.argmax()"
   ]
  },
  {
   "cell_type": "code",
   "execution_count": 14,
   "metadata": {},
   "outputs": [
    {
     "data": {
      "text/plain": [
       "True"
      ]
     },
     "execution_count": 14,
     "metadata": {},
     "output_type": "execute_result"
    }
   ],
   "source": [
    "np.allclose(np.sqrt(((dst - tran(src))**2).sum(axis=1)), resid)"
   ]
  },
  {
   "cell_type": "code",
   "execution_count": 15,
   "metadata": {},
   "outputs": [],
   "source": [
    "def df2reg(df, regpath, x='x_in', y='y_in', radius=8, nameroot='Region'):\n",
    "    reghdr =[ '# Region file format: DS9 version 4.1',\n",
    "             'global color=green dashlist=8 3 width=1 font=\"helvetica 10 normal roman\" select=1 highlite=1 dash=0 fixed=0 edit=1 move=1 delete=1 include=1 source=1',\n",
    "            'physical']\n",
    "    x_col = 1 if x == 'x_ref' else 3\n",
    "    y_col = 2 if y == 'y_ref' else 4\n",
    "    with open(regpath, 'w') as reg:\n",
    "        for hdr in reghdr:\n",
    "            reg.write(hdr+'\\n')\n",
    "        for i, r in enumerate(df.itertuples()):\n",
    "            title = '{' + f'{nameroot}_{i:03d}' + '}'\n",
    "            circ = f'Circle({r[x_col]}, {r[y_col]}, {radius}) # text={title}'\n",
    "            reg.write(circ+'\\n')\n",
    "\n",
    "        \n",
    "\n"
   ]
  },
  {
   "cell_type": "code",
   "execution_count": 16,
   "metadata": {},
   "outputs": [],
   "source": [
    "detector = 'nausicaa'\n",
    "coo_path = os.path.join(coo_maps, detector+'.coo')\n",
    "coo_df = coo2df(coo_path)\n",
    "\n",
    "regpath = os.path.join(r'/home/kevin/Documents/M8new/N-A-L656',detector+'.reg')\n",
    "\n",
    "df2reg(coo_df, regpath)"
   ]
  },
  {
   "cell_type": "code",
   "execution_count": 17,
   "metadata": {},
   "outputs": [],
   "source": [
    "import sep\n",
    "from astropy.io import fits"
   ]
  },
  {
   "cell_type": "code",
   "execution_count": 18,
   "metadata": {},
   "outputs": [],
   "source": [
    "def find_objects(unbiased_image, thresh = 3):\n",
    "    with fits.open(unbiased_image) as f:\n",
    "        hdr = f[0].header.copy()\n",
    "        img = f[0].data.copy()\n",
    "    img = img.byteswap().newbyteorder()\n",
    "    bkg = sep.Background(img)\n",
    "    bkg_img = bkg.back() #2d array of background\n",
    "\n",
    "    img_noback = img - bkg\n",
    "    objects = sep.extract(img_noback, thresh=thresh, err = bkg.globalrms)\n",
    "    objects_df = pd.DataFrame(objects)\n",
    "    return objects_df"
   ]
  },
  {
   "cell_type": "code",
   "execution_count": 19,
   "metadata": {},
   "outputs": [],
   "source": [
    "img_path = r'/home/kevin/Documents/M8new/N-A-L656/no_bias/SUPA01564800.fits'\n",
    "object_df = find_objects(img_path,thresh=50)\n"
   ]
  },
  {
   "cell_type": "code",
   "execution_count": 20,
   "metadata": {},
   "outputs": [
    {
     "data": {
      "text/html": [
       "<div>\n",
       "<style scoped>\n",
       "    .dataframe tbody tr th:only-of-type {\n",
       "        vertical-align: middle;\n",
       "    }\n",
       "\n",
       "    .dataframe tbody tr th {\n",
       "        vertical-align: top;\n",
       "    }\n",
       "\n",
       "    .dataframe thead th {\n",
       "        text-align: right;\n",
       "    }\n",
       "</style>\n",
       "<table border=\"1\" class=\"dataframe\">\n",
       "  <thead>\n",
       "    <tr style=\"text-align: right;\">\n",
       "      <th></th>\n",
       "      <th>thresh</th>\n",
       "      <th>npix</th>\n",
       "      <th>tnpix</th>\n",
       "      <th>xmin</th>\n",
       "      <th>xmax</th>\n",
       "      <th>ymin</th>\n",
       "      <th>ymax</th>\n",
       "      <th>x</th>\n",
       "      <th>y</th>\n",
       "      <th>x2</th>\n",
       "      <th>...</th>\n",
       "      <th>cxy</th>\n",
       "      <th>cflux</th>\n",
       "      <th>flux</th>\n",
       "      <th>cpeak</th>\n",
       "      <th>peak</th>\n",
       "      <th>xcpeak</th>\n",
       "      <th>ycpeak</th>\n",
       "      <th>xpeak</th>\n",
       "      <th>ypeak</th>\n",
       "      <th>flag</th>\n",
       "    </tr>\n",
       "  </thead>\n",
       "  <tbody>\n",
       "    <tr>\n",
       "      <th>0</th>\n",
       "      <td>6641.226074</td>\n",
       "      <td>1879</td>\n",
       "      <td>1803</td>\n",
       "      <td>117</td>\n",
       "      <td>1218</td>\n",
       "      <td>0</td>\n",
       "      <td>2</td>\n",
       "      <td>513.093704</td>\n",
       "      <td>0.405470</td>\n",
       "      <td>32580.640333</td>\n",
       "      <td>...</td>\n",
       "      <td>0.001143</td>\n",
       "      <td>3.241972e+07</td>\n",
       "      <td>3.835907e+07</td>\n",
       "      <td>25895.722656</td>\n",
       "      <td>40562.605469</td>\n",
       "      <td>486</td>\n",
       "      <td>0</td>\n",
       "      <td>486</td>\n",
       "      <td>0</td>\n",
       "      <td>3</td>\n",
       "    </tr>\n",
       "    <tr>\n",
       "      <th>1</th>\n",
       "      <td>6641.226074</td>\n",
       "      <td>69</td>\n",
       "      <td>62</td>\n",
       "      <td>784</td>\n",
       "      <td>804</td>\n",
       "      <td>0</td>\n",
       "      <td>4</td>\n",
       "      <td>794.071296</td>\n",
       "      <td>1.303480</td>\n",
       "      <td>11.488112</td>\n",
       "      <td>...</td>\n",
       "      <td>0.064884</td>\n",
       "      <td>2.359982e+06</td>\n",
       "      <td>2.513625e+06</td>\n",
       "      <td>120495.070312</td>\n",
       "      <td>159031.296875</td>\n",
       "      <td>794</td>\n",
       "      <td>2</td>\n",
       "      <td>794</td>\n",
       "      <td>1</td>\n",
       "      <td>3</td>\n",
       "    </tr>\n",
       "    <tr>\n",
       "      <th>2</th>\n",
       "      <td>6641.226074</td>\n",
       "      <td>1597</td>\n",
       "      <td>1343</td>\n",
       "      <td>652</td>\n",
       "      <td>1387</td>\n",
       "      <td>0</td>\n",
       "      <td>2</td>\n",
       "      <td>975.958320</td>\n",
       "      <td>0.421026</td>\n",
       "      <td>29180.813151</td>\n",
       "      <td>...</td>\n",
       "      <td>-0.001980</td>\n",
       "      <td>2.627216e+07</td>\n",
       "      <td>3.129998e+07</td>\n",
       "      <td>32723.970703</td>\n",
       "      <td>56711.957031</td>\n",
       "      <td>1087</td>\n",
       "      <td>0</td>\n",
       "      <td>1087</td>\n",
       "      <td>0</td>\n",
       "      <td>3</td>\n",
       "    </tr>\n",
       "    <tr>\n",
       "      <th>3</th>\n",
       "      <td>6641.226074</td>\n",
       "      <td>474</td>\n",
       "      <td>362</td>\n",
       "      <td>0</td>\n",
       "      <td>194</td>\n",
       "      <td>0</td>\n",
       "      <td>4</td>\n",
       "      <td>63.071406</td>\n",
       "      <td>0.449424</td>\n",
       "      <td>2421.919123</td>\n",
       "      <td>...</td>\n",
       "      <td>-0.003391</td>\n",
       "      <td>6.916538e+06</td>\n",
       "      <td>8.229890e+06</td>\n",
       "      <td>28972.302734</td>\n",
       "      <td>50145.363281</td>\n",
       "      <td>1</td>\n",
       "      <td>0</td>\n",
       "      <td>0</td>\n",
       "      <td>0</td>\n",
       "      <td>3</td>\n",
       "    </tr>\n",
       "    <tr>\n",
       "      <th>4</th>\n",
       "      <td>6641.226074</td>\n",
       "      <td>1557</td>\n",
       "      <td>1395</td>\n",
       "      <td>1280</td>\n",
       "      <td>2047</td>\n",
       "      <td>0</td>\n",
       "      <td>3</td>\n",
       "      <td>1818.519101</td>\n",
       "      <td>0.451082</td>\n",
       "      <td>79648.466126</td>\n",
       "      <td>...</td>\n",
       "      <td>0.003883</td>\n",
       "      <td>1.728244e+07</td>\n",
       "      <td>2.132837e+07</td>\n",
       "      <td>24869.839844</td>\n",
       "      <td>38546.835938</td>\n",
       "      <td>1431</td>\n",
       "      <td>0</td>\n",
       "      <td>1431</td>\n",
       "      <td>0</td>\n",
       "      <td>3</td>\n",
       "    </tr>\n",
       "    <tr>\n",
       "      <th>...</th>\n",
       "      <td>...</td>\n",
       "      <td>...</td>\n",
       "      <td>...</td>\n",
       "      <td>...</td>\n",
       "      <td>...</td>\n",
       "      <td>...</td>\n",
       "      <td>...</td>\n",
       "      <td>...</td>\n",
       "      <td>...</td>\n",
       "      <td>...</td>\n",
       "      <td>...</td>\n",
       "      <td>...</td>\n",
       "      <td>...</td>\n",
       "      <td>...</td>\n",
       "      <td>...</td>\n",
       "      <td>...</td>\n",
       "      <td>...</td>\n",
       "      <td>...</td>\n",
       "      <td>...</td>\n",
       "      <td>...</td>\n",
       "      <td>...</td>\n",
       "    </tr>\n",
       "    <tr>\n",
       "      <th>283</th>\n",
       "      <td>6641.226074</td>\n",
       "      <td>36</td>\n",
       "      <td>35</td>\n",
       "      <td>1408</td>\n",
       "      <td>1413</td>\n",
       "      <td>4104</td>\n",
       "      <td>4110</td>\n",
       "      <td>1410.696711</td>\n",
       "      <td>4106.787589</td>\n",
       "      <td>1.866739</td>\n",
       "      <td>...</td>\n",
       "      <td>-0.061588</td>\n",
       "      <td>5.971992e+05</td>\n",
       "      <td>6.276966e+05</td>\n",
       "      <td>33402.171875</td>\n",
       "      <td>40052.625000</td>\n",
       "      <td>1411</td>\n",
       "      <td>4107</td>\n",
       "      <td>1411</td>\n",
       "      <td>4107</td>\n",
       "      <td>0</td>\n",
       "    </tr>\n",
       "    <tr>\n",
       "      <th>284</th>\n",
       "      <td>6641.226074</td>\n",
       "      <td>37</td>\n",
       "      <td>32</td>\n",
       "      <td>959</td>\n",
       "      <td>964</td>\n",
       "      <td>4126</td>\n",
       "      <td>4132</td>\n",
       "      <td>961.429708</td>\n",
       "      <td>4128.984497</td>\n",
       "      <td>1.870205</td>\n",
       "      <td>...</td>\n",
       "      <td>-0.037503</td>\n",
       "      <td>5.438224e+05</td>\n",
       "      <td>5.707694e+05</td>\n",
       "      <td>29572.214844</td>\n",
       "      <td>34778.433594</td>\n",
       "      <td>961</td>\n",
       "      <td>4129</td>\n",
       "      <td>961</td>\n",
       "      <td>4129</td>\n",
       "      <td>0</td>\n",
       "    </tr>\n",
       "    <tr>\n",
       "      <th>285</th>\n",
       "      <td>6641.226074</td>\n",
       "      <td>13</td>\n",
       "      <td>13</td>\n",
       "      <td>1941</td>\n",
       "      <td>1944</td>\n",
       "      <td>4164</td>\n",
       "      <td>4167</td>\n",
       "      <td>1942.622209</td>\n",
       "      <td>4165.332876</td>\n",
       "      <td>0.903689</td>\n",
       "      <td>...</td>\n",
       "      <td>0.295439</td>\n",
       "      <td>1.138968e+05</td>\n",
       "      <td>1.274128e+05</td>\n",
       "      <td>11422.157227</td>\n",
       "      <td>13597.765625</td>\n",
       "      <td>1943</td>\n",
       "      <td>4165</td>\n",
       "      <td>1943</td>\n",
       "      <td>4165</td>\n",
       "      <td>0</td>\n",
       "    </tr>\n",
       "    <tr>\n",
       "      <th>286</th>\n",
       "      <td>6641.226074</td>\n",
       "      <td>12</td>\n",
       "      <td>10</td>\n",
       "      <td>1312</td>\n",
       "      <td>1316</td>\n",
       "      <td>4174</td>\n",
       "      <td>4176</td>\n",
       "      <td>1314.139354</td>\n",
       "      <td>4175.360562</td>\n",
       "      <td>1.444880</td>\n",
       "      <td>...</td>\n",
       "      <td>0.178904</td>\n",
       "      <td>1.361073e+05</td>\n",
       "      <td>1.732873e+05</td>\n",
       "      <td>16913.484375</td>\n",
       "      <td>29250.277344</td>\n",
       "      <td>1314</td>\n",
       "      <td>4176</td>\n",
       "      <td>1314</td>\n",
       "      <td>4176</td>\n",
       "      <td>2</td>\n",
       "    </tr>\n",
       "    <tr>\n",
       "      <th>287</th>\n",
       "      <td>6641.226074</td>\n",
       "      <td>28</td>\n",
       "      <td>15</td>\n",
       "      <td>1604</td>\n",
       "      <td>1608</td>\n",
       "      <td>4170</td>\n",
       "      <td>4176</td>\n",
       "      <td>1606.114840</td>\n",
       "      <td>4173.783540</td>\n",
       "      <td>0.787879</td>\n",
       "      <td>...</td>\n",
       "      <td>-0.233797</td>\n",
       "      <td>1.476930e+06</td>\n",
       "      <td>1.592734e+06</td>\n",
       "      <td>127997.468750</td>\n",
       "      <td>181662.062500</td>\n",
       "      <td>1606</td>\n",
       "      <td>4175</td>\n",
       "      <td>1607</td>\n",
       "      <td>4176</td>\n",
       "      <td>2</td>\n",
       "    </tr>\n",
       "  </tbody>\n",
       "</table>\n",
       "<p>288 rows × 30 columns</p>\n",
       "</div>"
      ],
      "text/plain": [
       "          thresh  npix  tnpix  xmin  xmax  ymin  ymax            x  \\\n",
       "0    6641.226074  1879   1803   117  1218     0     2   513.093704   \n",
       "1    6641.226074    69     62   784   804     0     4   794.071296   \n",
       "2    6641.226074  1597   1343   652  1387     0     2   975.958320   \n",
       "3    6641.226074   474    362     0   194     0     4    63.071406   \n",
       "4    6641.226074  1557   1395  1280  2047     0     3  1818.519101   \n",
       "..           ...   ...    ...   ...   ...   ...   ...          ...   \n",
       "283  6641.226074    36     35  1408  1413  4104  4110  1410.696711   \n",
       "284  6641.226074    37     32   959   964  4126  4132   961.429708   \n",
       "285  6641.226074    13     13  1941  1944  4164  4167  1942.622209   \n",
       "286  6641.226074    12     10  1312  1316  4174  4176  1314.139354   \n",
       "287  6641.226074    28     15  1604  1608  4170  4176  1606.114840   \n",
       "\n",
       "               y            x2  ...       cxy         cflux          flux  \\\n",
       "0       0.405470  32580.640333  ...  0.001143  3.241972e+07  3.835907e+07   \n",
       "1       1.303480     11.488112  ...  0.064884  2.359982e+06  2.513625e+06   \n",
       "2       0.421026  29180.813151  ... -0.001980  2.627216e+07  3.129998e+07   \n",
       "3       0.449424   2421.919123  ... -0.003391  6.916538e+06  8.229890e+06   \n",
       "4       0.451082  79648.466126  ...  0.003883  1.728244e+07  2.132837e+07   \n",
       "..           ...           ...  ...       ...           ...           ...   \n",
       "283  4106.787589      1.866739  ... -0.061588  5.971992e+05  6.276966e+05   \n",
       "284  4128.984497      1.870205  ... -0.037503  5.438224e+05  5.707694e+05   \n",
       "285  4165.332876      0.903689  ...  0.295439  1.138968e+05  1.274128e+05   \n",
       "286  4175.360562      1.444880  ...  0.178904  1.361073e+05  1.732873e+05   \n",
       "287  4173.783540      0.787879  ... -0.233797  1.476930e+06  1.592734e+06   \n",
       "\n",
       "             cpeak           peak  xcpeak  ycpeak  xpeak  ypeak  flag  \n",
       "0     25895.722656   40562.605469     486       0    486      0     3  \n",
       "1    120495.070312  159031.296875     794       2    794      1     3  \n",
       "2     32723.970703   56711.957031    1087       0   1087      0     3  \n",
       "3     28972.302734   50145.363281       1       0      0      0     3  \n",
       "4     24869.839844   38546.835938    1431       0   1431      0     3  \n",
       "..             ...            ...     ...     ...    ...    ...   ...  \n",
       "283   33402.171875   40052.625000    1411    4107   1411   4107     0  \n",
       "284   29572.214844   34778.433594     961    4129    961   4129     0  \n",
       "285   11422.157227   13597.765625    1943    4165   1943   4165     0  \n",
       "286   16913.484375   29250.277344    1314    4176   1314   4176     2  \n",
       "287  127997.468750  181662.062500    1606    4175   1607   4176     2  \n",
       "\n",
       "[288 rows x 30 columns]"
      ]
     },
     "execution_count": 20,
     "metadata": {},
     "output_type": "execute_result"
    }
   ],
   "source": [
    "object_df"
   ]
  },
  {
   "cell_type": "code",
   "execution_count": 22,
   "metadata": {},
   "outputs": [
    {
     "data": {
      "text/html": [
       "<div><i>Table length=288</i>\n",
       "<table id=\"table139804493240720\" class=\"table-striped table-bordered table-condensed\">\n",
       "<thead><tr><th>thresh</th><th>npix</th><th>tnpix</th><th>xmin</th><th>xmax</th><th>ymin</th><th>ymax</th><th>x</th><th>y</th><th>x2</th><th>y2</th><th>xy</th><th>errx2</th><th>erry2</th><th>errxy</th><th>a</th><th>b</th><th>theta</th><th>cxx</th><th>cyy</th><th>cxy</th><th>cflux</th><th>flux</th><th>cpeak</th><th>peak</th><th>xcpeak</th><th>ycpeak</th><th>xpeak</th><th>ypeak</th><th>flag</th></tr></thead>\n",
       "<thead><tr><th>float64</th><th>int64</th><th>int64</th><th>int64</th><th>int64</th><th>int64</th><th>int64</th><th>float64</th><th>float64</th><th>float64</th><th>float64</th><th>float64</th><th>float64</th><th>float64</th><th>float64</th><th>float64</th><th>float64</th><th>float64</th><th>float64</th><th>float64</th><th>float64</th><th>float64</th><th>float64</th><th>float64</th><th>float64</th><th>int64</th><th>int64</th><th>int64</th><th>int64</th><th>int64</th></tr></thead>\n",
       "<tr><td>6641.22607421875</td><td>1879</td><td>1803</td><td>117</td><td>1218</td><td>0</td><td>2</td><td>513.0937044861028</td><td>0.40547031588103993</td><td>32580.640333067626</td><td>0.6718435460301583</td><td>-12.425323138244323</td><td>0.0011256607765709429</td><td>3.194353210229981e-08</td><td>-7.715822827945221e-07</td><td>180.5010986328125</td><td>0.8167648315429688</td><td>-0.00038137915544211864</td><td>3.091109829256311e-05</td><td>1.4990146160125732</td><td>0.001143362489528954</td><td>32419724.0</td><td>38359072.0</td><td>25895.72265625</td><td>40562.60546875</td><td>486</td><td>0</td><td>486</td><td>0</td><td>3</td></tr>\n",
       "<tr><td>6641.22607421875</td><td>69</td><td>62</td><td>784</td><td>804</td><td>0</td><td>4</td><td>794.0712960062833</td><td>1.303479659414456</td><td>11.488112067094505</td><td>1.220461230092063</td><td>-0.44834186704258094</td><td>5.13002761724011e-06</td><td>3.802517934722891e-07</td><td>-1.6403735620522266e-07</td><td>3.3922929763793945</td><td>1.0958656072616577</td><td>-0.04355497285723686</td><td>0.08831260353326797</td><td>0.8312801122665405</td><td>0.06488405913114548</td><td>2359982.25</td><td>2513625.0</td><td>120495.0703125</td><td>159031.296875</td><td>794</td><td>2</td><td>794</td><td>1</td><td>3</td></tr>\n",
       "<tr><td>6641.22607421875</td><td>1597</td><td>1343</td><td>652</td><td>1387</td><td>0</td><td>2</td><td>975.9583202115081</td><td>0.4210264629733451</td><td>29180.81315142807</td><td>0.6468846372030977</td><td>18.353094584076473</td><td>0.0013464357183840961</td><td>3.9920069302868755e-08</td><td>1.6991982638956703e-06</td><td>170.82395935058594</td><td>0.7970830202102661</td><td>0.000628957524895668</td><td>3.489170194370672e-05</td><td>1.5739564895629883</td><td>-0.00197986070998013</td><td>26272156.0</td><td>31299976.0</td><td>32723.970703125</td><td>56711.95703125</td><td>1087</td><td>0</td><td>1087</td><td>0</td><td>3</td></tr>\n",
       "<tr><td>6641.22607421875</td><td>474</td><td>362</td><td>0</td><td>194</td><td>0</td><td>4</td><td>63.07140626676837</td><td>0.4494239157342371</td><td>2421.9191228157742</td><td>0.6909454065792604</td><td>2.8237537574683955</td><td>0.0004432007308290002</td><td>1.8229007223832315e-07</td><td>1.088268281932646e-06</td><td>49.21303176879883</td><td>0.8292479515075684</td><td>0.0011662463657557964</td><td>0.0004148725129198283</td><td>1.454221487045288</td><td>-0.0033909997437149286</td><td>6916537.5</td><td>8229890.0</td><td>28972.302734375</td><td>50145.36328125</td><td>1</td><td>0</td><td>0</td><td>0</td><td>3</td></tr>\n",
       "<tr><td>6641.22607421875</td><td>1557</td><td>1395</td><td>1280</td><td>2047</td><td>0</td><td>3</td><td>1818.5191014171985</td><td>0.45108186475969403</td><td>79648.46612554597</td><td>0.43532001319424096</td><td>-60.26931393816392</td><td>0.006376674435267798</td><td>4.581719912871678e-08</td><td>-6.965727260623394e-06</td><td>282.2206726074219</td><td>0.6242712140083313</td><td>-0.0007566949934698641</td><td>1.4024402844370343e-05</td><td>2.565979480743408</td><td>0.003883309429511428</td><td>17282444.0</td><td>21328368.0</td><td>24869.83984375</td><td>38546.8359375</td><td>1431</td><td>0</td><td>1431</td><td>0</td><td>3</td></tr>\n",
       "<tr><td>6641.22607421875</td><td>163</td><td>151</td><td>97</td><td>110</td><td>6</td><td>21</td><td>103.34720976166635</td><td>13.7132148934834</td><td>4.424200576568737</td><td>9.92977820293477</td><td>0.14571503149649345</td><td>2.1119692006730625e-07</td><td>2.8184442041370427e-07</td><td>1.373938755016461e-09</td><td>3.151766538619995</td><td>2.10246205329895</td><td>1.5443542003631592</td><td>0.22613883018493652</td><td>0.10075587779283524</td><td>-0.006636971607804298</td><td>12399866.0</td><td>12435247.0</td><td>202560.140625</td><td>203111.578125</td><td>103</td><td>14</td><td>103</td><td>14</td><td>0</td></tr>\n",
       "<tr><td>6641.22607421875</td><td>28</td><td>25</td><td>1010</td><td>1015</td><td>151</td><td>156</td><td>1012.743443975925</td><td>153.4634547435931</td><td>1.6757534873097857</td><td>1.8999363355026713</td><td>0.007594263633074583</td><td>9.291767611942569e-06</td><td>9.63935535719893e-06</td><td>6.614152508731549e-09</td><td>1.3784749507904053</td><td>1.2944097518920898</td><td>1.5369727611541748</td><td>0.5967572927474976</td><td>0.5263429880142212</td><td>-0.004770614672452211</td><td>339667.03125</td><td>363187.8125</td><td>20434.40625</td><td>24188.27734375</td><td>1013</td><td>153</td><td>1013</td><td>153</td><td>0</td></tr>\n",
       "<tr><td>6641.22607421875</td><td>11</td><td>11</td><td>402</td><td>405</td><td>234</td><td>237</td><td>403.64421586587036</td><td>235.43351548504816</td><td>0.7179830478759546</td><td>0.9261803889759275</td><td>0.06687037543980923</td><td>1.8937034707361834e-05</td><td>2.3780915552436232e-05</td><td>1.8089514455432881e-06</td><td>0.9725266098976135</td><td>0.8356766700744629</td><td>1.285298228263855</td><td>1.4022197723388672</td><td>1.0870128870010376</td><td>-0.2024809867143631</td><td>89229.21875</td><td>98697.546875</td><td>9603.7041015625</td><td>11060.2255859375</td><td>404</td><td>235</td><td>404</td><td>235</td><td>0</td></tr>\n",
       "<tr><td>6641.22607421875</td><td>92</td><td>88</td><td>494</td><td>503</td><td>262</td><td>272</td><td>498.8147434267742</td><td>266.67780248316706</td><td>3.373285019365923</td><td>4.277337713541648</td><td>0.10208531064266424</td><td>6.516570467384969e-07</td><td>8.101136646035432e-07</td><td>2.4342749548807368e-08</td><td>2.0709228515625</td><td>1.8335487842559814</td><td>1.4597398042678833</td><td>0.2966611981391907</td><td>0.23395927250385284</td><td>-0.014160561375319958</td><td>4051352.25</td><td>4094655.5</td><td>160261.71875</td><td>185481.34375</td><td>499</td><td>266</td><td>499</td><td>266</td><td>0</td></tr>\n",
       "<tr><td>6641.22607421875</td><td>14</td><td>14</td><td>946</td><td>949</td><td>269</td><td>272</td><td>947.4773583943711</td><td>270.70675163441484</td><td>0.9780580801721035</td><td>0.9766965236319525</td><td>-0.0028756184314184807</td><td>1.6069264940147737e-05</td><td>1.5396492524427705e-05</td><td>2.4747352512824255e-09</td><td>0.9901173710823059</td><td>0.9871282577514648</td><td>-0.6691673398017883</td><td>1.0224430561065674</td><td>1.0238683223724365</td><td>0.0060206130146980286</td><td>130480.8046875</td><td>146042.9375</td><td>12208.0078125</td><td>14488.21484375</td><td>947</td><td>271</td><td>947</td><td>271</td><td>0</td></tr>\n",
       "<tr><td>...</td><td>...</td><td>...</td><td>...</td><td>...</td><td>...</td><td>...</td><td>...</td><td>...</td><td>...</td><td>...</td><td>...</td><td>...</td><td>...</td><td>...</td><td>...</td><td>...</td><td>...</td><td>...</td><td>...</td><td>...</td><td>...</td><td>...</td><td>...</td><td>...</td><td>...</td><td>...</td><td>...</td><td>...</td><td>...</td></tr>\n",
       "<tr><td>6641.22607421875</td><td>104</td><td>100</td><td>1538</td><td>1548</td><td>3994</td><td>4005</td><td>1543.29572031715</td><td>3998.9312229065945</td><td>3.655727898505045</td><td>4.512037493799159</td><td>0.16094966981784253</td><td>4.989914562895529e-07</td><td>6.181815966097667e-07</td><td>2.922525929409157e-08</td><td>2.131030321121216</td><td>1.9043307304382324</td><td>1.3910101652145386</td><td>0.27397361397743225</td><td>0.22197797894477844</td><td>-0.019545920193195343</td><td>5250784.0</td><td>5292948.5</td><td>182538.15625</td><td>185407.140625</td><td>1543</td><td>3999</td><td>1543</td><td>3999</td><td>0</td></tr>\n",
       "<tr><td>6641.22607421875</td><td>27</td><td>25</td><td>828</td><td>833</td><td>4006</td><td>4011</td><td>830.4387939313962</td><td>4008.7815423580596</td><td>1.6098432977044963</td><td>1.7973594702942766</td><td>-0.050334843703867094</td><td>8.744120751078109e-06</td><td>9.159331083731276e-06</td><td>-4.814817932655653e-07</td><td>1.345368504524231</td><td>1.2637983560562134</td><td>-1.3244473934173584</td><td>0.6217228770256042</td><td>0.5568593144416809</td><td>0.034822553396224976</td><td>337767.40625</td><td>361742.375</td><td>21275.05859375</td><td>25116.953125</td><td>830</td><td>4009</td><td>831</td><td>4009</td><td>0</td></tr>\n",
       "<tr><td>6641.22607421875</td><td>73</td><td>68</td><td>788</td><td>796</td><td>4024</td><td>4033</td><td>791.8952940693888</td><td>4028.2207692945394</td><td>2.9186200846493886</td><td>3.663594114258096</td><td>0.06992972019283172</td><td>1.1006062102548032e-06</td><td>1.3658111968911624e-06</td><td>2.8425275609211563e-08</td><td>1.9157508611679077</td><td>1.7064913511276245</td><td>1.4780076742172241</td><td>0.34278443455696106</td><td>0.27308088541030884</td><td>-0.013085958547890186</td><td>2467929.5</td><td>2506537.5</td><td>113231.7265625</td><td>135010.734375</td><td>792</td><td>4028</td><td>792</td><td>4028</td><td>0</td></tr>\n",
       "<tr><td>6641.22607421875</td><td>21</td><td>21</td><td>1552</td><td>1556</td><td>4078</td><td>4082</td><td>1554.2393434943067</td><td>4080.1821225548324</td><td>1.3184414720531539</td><td>1.4845176493957446</td><td>0.047020774886221695</td><td>1.0404831951242027e-05</td><td>1.1441169849035503e-05</td><td>4.59120203379298e-07</td><td>1.223481297492981</td><td>1.1428266763687134</td><td>1.313177466392517</td><td>0.7593290209770203</td><td>0.6743812561035156</td><td>-0.04810214415192604</td><td>237577.96875</td><td>258673.8125</td><td>17544.33984375</td><td>20898.576171875</td><td>1554</td><td>4080</td><td>1554</td><td>4080</td><td>0</td></tr>\n",
       "<tr><td>6641.22607421875</td><td>33</td><td>30</td><td>1850</td><td>1855</td><td>4084</td><td>4090</td><td>1852.6565607479301</td><td>4087.2335922230754</td><td>1.7601361398380417</td><td>2.257187543286218</td><td>0.08103989348089868</td><td>5.792608729247146e-06</td><td>7.803682478281121e-06</td><td>3.4083592205545054e-07</td><td>1.50667405128479</td><td>1.3218384981155396</td><td>1.4131909608840942</td><td>0.5690785646438599</td><td>0.44376274943351746</td><td>-0.04086330160498619</td><td>475626.03125</td><td>502614.78125</td><td>27749.271484375</td><td>33098.76171875</td><td>1853</td><td>4087</td><td>1853</td><td>4087</td><td>0</td></tr>\n",
       "<tr><td>6641.22607421875</td><td>36</td><td>35</td><td>1408</td><td>1413</td><td>4104</td><td>4110</td><td>1410.6967110049757</td><td>4106.78758913794</td><td>1.8667392205408113</td><td>2.416056640653867</td><td>0.1382971729540401</td><td>4.39365189110979e-06</td><td>5.861881224295439e-06</td><td>4.86213507898553e-07</td><td>1.5648993253707886</td><td>1.3542104959487915</td><td>1.3375650644302368</td><td>0.5379748344421387</td><td>0.4156602621078491</td><td>-0.06158829107880592</td><td>597199.1875</td><td>627696.625</td><td>33402.171875</td><td>40052.625</td><td>1411</td><td>4107</td><td>1411</td><td>4107</td><td>0</td></tr>\n",
       "<tr><td>6641.22607421875</td><td>37</td><td>32</td><td>959</td><td>964</td><td>4126</td><td>4132</td><td>961.4297075646762</td><td>4128.984497271786</td><td>1.870205426727134</td><td>2.5146458593864462</td><td>0.0880416118553713</td><td>5.433401054035296e-06</td><td>7.6399892690304e-06</td><td>3.067515996224546e-07</td><td>1.589483380317688</td><td>1.3632292747497559</td><td>1.4374343156814575</td><td>0.5355833768844604</td><td>0.3983268439769745</td><td>-0.0375031903386116</td><td>543822.4375</td><td>570769.4375</td><td>29572.21484375</td><td>34778.43359375</td><td>961</td><td>4129</td><td>961</td><td>4129</td><td>0</td></tr>\n",
       "<tr><td>6641.22607421875</td><td>13</td><td>13</td><td>1941</td><td>1944</td><td>4164</td><td>4167</td><td>1942.6222094179484</td><td>4165.332876050901</td><td>0.9036893174906164</td><td>0.9265966019726535</td><td>-0.1215124369004541</td><td>1.7785214918521788e-05</td><td>1.783171946408856e-05</td><td>-2.8308227347474017e-06</td><td>1.0184272527694702</td><td>0.890557050704956</td><td>-0.8323888182640076</td><td>1.1264376640319824</td><td>1.0985900163650513</td><td>0.29543858766555786</td><td>113896.8046875</td><td>127412.84375</td><td>11422.1572265625</td><td>13597.765625</td><td>1943</td><td>4165</td><td>1943</td><td>4165</td><td>0</td></tr>\n",
       "<tr><td>6641.22607421875</td><td>12</td><td>10</td><td>1312</td><td>1316</td><td>4174</td><td>4176</td><td>1314.1393540843221</td><td>4175.360562112338</td><td>1.444879979584532</td><td>0.43919389936067965</td><td>-0.05647922171171871</td><td>1.9955706649316585e-05</td><td>6.091840950229453e-06</td><td>-1.1196456227341797e-06</td><td>1.2033461332321167</td><td>0.6603271961212158</td><td>-0.05592549592256546</td><td>0.6955956220626831</td><td>2.2884018421173096</td><td>0.17890366911888123</td><td>136107.34375</td><td>173287.3125</td><td>16913.484375</td><td>29250.27734375</td><td>1314</td><td>4176</td><td>1314</td><td>4176</td><td>2</td></tr>\n",
       "<tr><td>6641.22607421875</td><td>28</td><td>15</td><td>1604</td><td>1608</td><td>4170</td><td>4176</td><td>1606.1148398747753</td><td>4173.783539704475</td><td>0.7878788761065367</td><td>3.1459074701638485</td><td>0.2805436287716816</td><td>3.463941701821529e-07</td><td>8.927858506635648e-07</td><td>2.1905993658438202e-08</td><td>1.782926082611084</td><td>0.8688849806785583</td><td>1.453994631767273</td><td>1.3108552694320679</td><td>0.32829800248146057</td><td>-0.2337971329689026</td><td>1476930.5</td><td>1592733.75</td><td>127997.46875</td><td>181662.0625</td><td>1606</td><td>4175</td><td>1607</td><td>4176</td><td>2</td></tr>\n",
       "</table></div>"
      ],
      "text/plain": [
       "<Table length=288>\n",
       "     thresh       npix tnpix  xmin  xmax ... xcpeak ycpeak xpeak ypeak  flag\n",
       "    float64      int64 int64 int64 int64 ... int64  int64  int64 int64 int64\n",
       "---------------- ----- ----- ----- ----- ... ------ ------ ----- ----- -----\n",
       "6641.22607421875  1879  1803   117  1218 ...    486      0   486     0     3\n",
       "6641.22607421875    69    62   784   804 ...    794      2   794     1     3\n",
       "6641.22607421875  1597  1343   652  1387 ...   1087      0  1087     0     3\n",
       "6641.22607421875   474   362     0   194 ...      1      0     0     0     3\n",
       "6641.22607421875  1557  1395  1280  2047 ...   1431      0  1431     0     3\n",
       "6641.22607421875   163   151    97   110 ...    103     14   103    14     0\n",
       "6641.22607421875    28    25  1010  1015 ...   1013    153  1013   153     0\n",
       "6641.22607421875    11    11   402   405 ...    404    235   404   235     0\n",
       "6641.22607421875    92    88   494   503 ...    499    266   499   266     0\n",
       "6641.22607421875    14    14   946   949 ...    947    271   947   271     0\n",
       "             ...   ...   ...   ...   ... ...    ...    ...   ...   ...   ...\n",
       "6641.22607421875   104   100  1538  1548 ...   1543   3999  1543  3999     0\n",
       "6641.22607421875    27    25   828   833 ...    830   4009   831  4009     0\n",
       "6641.22607421875    73    68   788   796 ...    792   4028   792  4028     0\n",
       "6641.22607421875    21    21  1552  1556 ...   1554   4080  1554  4080     0\n",
       "6641.22607421875    33    30  1850  1855 ...   1853   4087  1853  4087     0\n",
       "6641.22607421875    36    35  1408  1413 ...   1411   4107  1411  4107     0\n",
       "6641.22607421875    37    32   959   964 ...    961   4129   961  4129     0\n",
       "6641.22607421875    13    13  1941  1944 ...   1943   4165  1943  4165     0\n",
       "6641.22607421875    12    10  1312  1316 ...   1314   4176  1314  4176     2\n",
       "6641.22607421875    28    15  1604  1608 ...   1606   4175  1607  4176     2"
      ]
     },
     "execution_count": 22,
     "metadata": {},
     "output_type": "execute_result"
    }
   ],
   "source": [
    "from astropy.table import Table\n",
    "Table.from_pandas(object_df)"
   ]
  },
  {
   "cell_type": "code",
   "execution_count": 23,
   "metadata": {},
   "outputs": [],
   "source": [
    "reg_df = object_df[['x','y']].rename(columns={'x':'x_ref', 'y':'y_ref'})\n",
    "#convert to fits (1-relative) indexing\n",
    "reg_df.x_ref += 1\n",
    "reg_df.y_ref += 1\n",
    "df2reg(reg_df, r'C:\\Users\\Kevin\\repos\\ReipurthBallyProject\\data\\M8\\N-A-L656\\region\\SUPA01564800.reg', x='x_ref', y='y_ref')"
   ]
  },
  {
   "cell_type": "code",
   "execution_count": 24,
   "metadata": {},
   "outputs": [],
   "source": [
    "def coo2reg(coo, reg_path, nameroot='Star'):\n",
    "    reghdr =[ '# Region file format: DS9 version 4.1',\n",
    "            'global color=green dashlist=8 3 width=1 font=\"helvetica 10 normal roman\" select=1 highlite=1 dash=0 fixed=0 edit=1 move=1 delete=1 include=1 source=1',\n",
    "        'physical']\n",
    "    \n",
    "    if type(coo) == str:\n",
    "        coo_df = coo2df(coo_path)\n",
    "    elif type(coo) == pd.DataFrame:\n",
    "        coo_df = coo\n",
    "    else:\n",
    "        raise ValueError('Invalid coo type')\n",
    "\n",
    "    with open(reg_path, 'w') as reg:\n",
    "        for hdr in reghdr:\n",
    "            reg.write(hdr+'\\n')\n",
    "        for i,pair in enumerate(coo_df.itertuples()):\n",
    "            title = '{' + f'{nameroot}_{i:03d}' + '}'\n",
    "            circ = f'Circle({pair.x_in}, {pair.y_in}, 8) # text={title}'\n",
    "            reg.write(circ+'\\n')\n",
    "            circ = f'Circle({pair.x_ref}, {pair.y_ref}, 8) # color=blue'\n",
    "            reg.write(circ+'\\n')\n",
    "            line = f'line( {pair.x_in}, {pair.y_in}, {pair.x_ref}, {pair.y_ref}) # line=0 1'\n",
    "            reg.write(line+'\\n')\n",
    "    "
   ]
  },
  {
   "cell_type": "code",
   "execution_count": 25,
   "metadata": {},
   "outputs": [],
   "source": [
    "coo_maps = r'C:\\Users\\Kevin\\repos\\ReipurthBallyProject\\SubaruCoordinateMaps'\n",
    "regpath = r'C:\\Users\\Kevin\\repos\\ReipurthBallyProject\\data\\M8\\N-A-L656\\region\\SUPA01564800_coo.reg'\n",
    "detector = 'nausicaa'\n",
    "coo2reg(os.path.join(coo_maps, detector+'.coo'), regpath)"
   ]
  },
  {
   "cell_type": "code",
   "execution_count": 26,
   "metadata": {},
   "outputs": [
    {
     "data": {
      "text/plain": [
       "(False, True)"
      ]
     },
     "execution_count": 26,
     "metadata": {},
     "output_type": "execute_result"
    }
   ],
   "source": [
    "type(regpath) == int, type(object_df)==pd.DataFrame"
   ]
  },
  {
   "cell_type": "code",
   "execution_count": 25,
   "metadata": {},
   "outputs": [],
   "source": [
    "#get transform from coo file\n",
    "coo_maps = r'C:\\Users\\Kevin\\repos\\ReipurthBallyProject\\SubaruCoordinateMaps'\n",
    "detector = 'nausicaa'\n",
    "coo_path = os.path.join(coo_maps, detector+'.coo')\n",
    "coo_df = coo2df(coo_path)\n",
    "src = np.array([coo_df.x_in, coo_df.y_in]).T\n",
    "dst = np.array([coo_df.x_ref, coo_df.y_ref]).T\n",
    "tran = sk.transform.estimate_transform('polynomial', src,dst, 3)\n",
    "#apply transform to stars extracted from image\n",
    "img_path = r'C:\\Users\\Kevin\\repos\\ReipurthBallyProject\\data\\M8\\N-A-L656\\no_bias\\SUPA01564800.fits'\n",
    "object_df = find_objects(img_path,thresh=50)\n",
    "src = np.array([object_df.x+1, object_df.y+1]).T\n",
    "dst = tran(src)\n",
    "# write out new region file\n",
    "coo_df = pd.DataFrame({'x_in':src[:,0], 'y_in':src[:,1], 'x_ref':dst[:,0], 'y_ref':dst[:,1]})\n",
    "coo2reg(coo_df, r'C:\\Users\\Kevin\\repos\\ReipurthBallyProject\\data\\M8\\N-A-L656\\region\\nausicaa_coo.reg')\n"
   ]
  },
  {
   "cell_type": "code",
   "execution_count": 355,
   "metadata": {},
   "outputs": [],
   "source": [
    "def warp_image(img_path, out_path, src=None, degree = 3, dst=None,detector = 'nausicaa',\n",
    "               coo_maps =r'C:\\Users\\Kevin\\repos\\ReipurthBallyProject\\SubaruCoordinateMaps' ):\n",
    "    coo_path = os.path.join(coo_maps, detector+'.coo')\n",
    "\n",
    "    if src is None:\n",
    "        coo_df = coo2df(coo_path)\n",
    "        src = np.array([coo_df.x_in, coo_df.y_in]).T\n",
    "        dst = np.array([coo_df.x_ref, coo_df.y_ref]).T\n",
    "\n",
    "    # we actually need the inverse transform, to get it, swap dst and src as below\n",
    "    tran = sk.transform.estimate_transform('polynomial', dst, src, degree)\n",
    "\n",
    "    with fits.open(img_path) as f:\n",
    "        img = f[0].data.copy()\n",
    "        hdr = f[0].header.copy()\n",
    "\n",
    "    img_new = sk.transform.warp(img, tran)\n",
    "    phdu = fits.PrimaryHDU(data = img_new, header=hdr)\n",
    "\n",
    "    phdu.writeto(out_path, overwrite=True)"
   ]
  },
  {
   "cell_type": "code",
   "execution_count": 27,
   "metadata": {},
   "outputs": [],
   "source": [
    "img_path = r'C:\\Users\\Kevin\\repos\\ReipurthBallyProject\\data\\M8\\N-A-L656\\no_bias\\SUPA01564800.fits'\n",
    "out_path = r'C:\\Users\\Kevin\\repos\\ReipurthBallyProject\\data\\M8\\N-A-L656\\region\\SUPA01564800.fits'\n",
    "warp_image(img_path, out_path)"
   ]
  },
  {
   "cell_type": "code",
   "execution_count": 28,
   "metadata": {},
   "outputs": [
    {
     "data": {
      "text/plain": [
       "287"
      ]
     },
     "execution_count": 28,
     "metadata": {},
     "output_type": "execute_result"
    }
   ],
   "source": [
    "len(object_df)"
   ]
  },
  {
   "cell_type": "code",
   "execution_count": 28,
   "metadata": {},
   "outputs": [],
   "source": [
    "from astropy.table import Table"
   ]
  },
  {
   "cell_type": "code",
   "execution_count": 30,
   "metadata": {},
   "outputs": [],
   "source": [
    "tbl_path = r\"C:\\Users\\Kevin\\repos\\ReipurthBallyProject\\data\\M8\\N-A-L656\\region\\ds9.xml\"\n",
    "ds9tbl = Table.read(tbl_path)"
   ]
  },
  {
   "cell_type": "code",
   "execution_count": 31,
   "metadata": {},
   "outputs": [
    {
     "data": {
      "text/html": [
       "<div><i>Table length=2491</i>\n",
       "<table id=\"table2177289523312\" class=\"table-striped table-bordered table-condensed\">\n",
       "<thead><tr><th>_RAJ2000</th><th>_DEJ2000</th><th>RA_ICRS</th><th>e_RA_ICRS</th><th>DE_ICRS</th><th>e_DE_ICRS</th><th>Source</th><th>Plx</th><th>e_Plx</th><th>pmRA</th><th>e_pmRA</th><th>pmDE</th><th>e_pmDE</th><th>Dup</th><th>FG</th><th>e_FG</th><th>Gmag</th><th>e_Gmag</th><th>FBP</th><th>e_FBP</th><th>BPmag</th><th>e_BPmag</th><th>FRP</th><th>e_FRP</th><th>RPmag</th><th>e_RPmag</th><th>BP-RP</th><th>RV</th><th>e_RV</th><th>Teff</th><th>AG</th><th>E_BP-RP_</th><th>Rad</th><th>Lum</th></tr></thead>\n",
       "<thead><tr><th>deg</th><th>deg</th><th>deg</th><th>mas</th><th>deg</th><th>mas</th><th></th><th>mas</th><th>mas</th><th>mas / yr</th><th>mas / yr</th><th>mas / yr</th><th>mas / yr</th><th></th><th></th><th></th><th>mag</th><th>mag</th><th></th><th></th><th>mag</th><th>mag</th><th></th><th></th><th>mag</th><th>mag</th><th>mag</th><th>km / s</th><th>km / s</th><th>K</th><th>mag</th><th>mag</th><th>Rsun</th><th>Lsun</th></tr></thead>\n",
       "<thead><tr><th>float64</th><th>float64</th><th>float64</th><th>float64</th><th>float64</th><th>float64</th><th>int64</th><th>float64</th><th>float32</th><th>float64</th><th>float32</th><th>float64</th><th>float32</th><th>uint8</th><th>float32</th><th>float32</th><th>float64</th><th>float64</th><th>float32</th><th>float32</th><th>float64</th><th>float64</th><th>float32</th><th>float32</th><th>float64</th><th>float64</th><th>float64</th><th>float64</th><th>float32</th><th>float64</th><th>float32</th><th>float32</th><th>float32</th><th>float64</th></tr></thead>\n",
       "<tr><td>270.6607305152326</td><td>-24.3466958686422</td><td>270.66070255571</td><td>0.1104</td><td>-24.34672267461</td><td>0.0990</td><td>4066019808008492416</td><td>0.8285</td><td>0.1082</td><td>-5.916</td><td>0.205</td><td>-6.226</td><td>0.161</td><td>0</td><td>2700</td><td>3.311</td><td>17.1099</td><td>0.0013</td><td>1274</td><td>24.5</td><td>17.5886</td><td>0.0209</td><td>2832</td><td>31.88</td><td>16.1316</td><td>0.0122</td><td>1.4570</td><td>--</td><td>--</td><td>--</td><td>--</td><td>--</td><td>--</td><td>--</td></tr>\n",
       "<tr><td>270.6521413634034</td><td>-24.3480323559917</td><td>270.65214136340</td><td>0.7679</td><td>-24.34803235599</td><td>0.7437</td><td>4066019803690596480</td><td>--</td><td>--</td><td>--</td><td>--</td><td>--</td><td>--</td><td>0</td><td>321.8</td><td>2.904</td><td>19.4194</td><td>0.0098</td><td>482</td><td>30.11</td><td>18.6437</td><td>0.0678</td><td>966</td><td>30.33</td><td>17.2994</td><td>0.0341</td><td>1.3443</td><td>--</td><td>--</td><td>--</td><td>--</td><td>--</td><td>--</td><td>--</td></tr>\n",
       "<tr><td>270.6521034038814</td><td>-24.3466744221536</td><td>270.65209726287</td><td>0.2828</td><td>-24.34667888617</td><td>0.2823</td><td>4066019803681079424</td><td>0.7684</td><td>0.2977</td><td>-1.299</td><td>0.480</td><td>-1.037</td><td>0.401</td><td>0</td><td>813.1</td><td>2.809</td><td>18.4130</td><td>0.0038</td><td>634.5</td><td>21.3</td><td>18.3453</td><td>0.0365</td><td>1198</td><td>20.58</td><td>17.0661</td><td>0.0187</td><td>1.2792</td><td>--</td><td>--</td><td>--</td><td>--</td><td>--</td><td>--</td><td>--</td></tr>\n",
       "<tr><td>270.6669860809204</td><td>-24.3463621783497</td><td>270.66698608092</td><td>6.6455</td><td>-24.34636217835</td><td>6.0490</td><td>4066019807999188992</td><td>--</td><td>--</td><td>--</td><td>--</td><td>--</td><td>--</td><td>0</td><td>229.3</td><td>3.867</td><td>19.7874</td><td>0.0183</td><td>412.2</td><td>39.66</td><td>18.8136</td><td>0.1045</td><td>698.7</td><td>34.72</td><td>17.6512</td><td>0.0540</td><td>1.1624</td><td>--</td><td>--</td><td>--</td><td>--</td><td>--</td><td>--</td><td>--</td></tr>\n",
       "<tr><td>270.6638630774177</td><td>-24.3433482074884</td><td>270.66387017871</td><td>0.9269</td><td>-24.34333812808</td><td>0.8399</td><td>4066019803690608128</td><td>1.6992</td><td>0.9087</td><td>1.503</td><td>1.982</td><td>2.341</td><td>1.724</td><td>0</td><td>201.1</td><td>1.8</td><td>19.9300</td><td>0.0097</td><td>--</td><td>--</td><td>--</td><td>--</td><td>--</td><td>--</td><td>--</td><td>--</td><td>--</td><td>--</td><td>--</td><td>--</td><td>--</td><td>--</td><td>--</td><td>--</td></tr>\n",
       "<tr><td>270.6846830664570</td><td>-24.3260169878842</td><td>270.68468306646</td><td>5.7222</td><td>-24.32601698788</td><td>2.5360</td><td>4066020220316058368</td><td>--</td><td>--</td><td>--</td><td>--</td><td>--</td><td>--</td><td>0</td><td>131.6</td><td>2.248</td><td>20.3899</td><td>0.0185</td><td>--</td><td>--</td><td>--</td><td>--</td><td>--</td><td>--</td><td>--</td><td>--</td><td>--</td><td>--</td><td>--</td><td>--</td><td>--</td><td>--</td><td>--</td><td>--</td></tr>\n",
       "<tr><td>270.6926632528732</td><td>-24.3279138863670</td><td>270.69266325287</td><td>2.5770</td><td>-24.32791388637</td><td>1.9835</td><td>4066020151597899648</td><td>--</td><td>--</td><td>--</td><td>--</td><td>--</td><td>--</td><td>0</td><td>218.3</td><td>2.173</td><td>19.8406</td><td>0.0108</td><td>--</td><td>--</td><td>--</td><td>--</td><td>--</td><td>--</td><td>--</td><td>--</td><td>--</td><td>--</td><td>--</td><td>--</td><td>--</td><td>--</td><td>--</td><td>--</td></tr>\n",
       "<tr><td>270.6730185536942</td><td>-24.3365905701811</td><td>270.67301855369</td><td>17.5367</td><td>-24.33659057018</td><td>14.8840</td><td>4066020185958619904</td><td>--</td><td>--</td><td>--</td><td>--</td><td>--</td><td>--</td><td>0</td><td>90.79</td><td>2.416</td><td>20.7933</td><td>0.0289</td><td>--</td><td>--</td><td>--</td><td>--</td><td>--</td><td>--</td><td>--</td><td>--</td><td>--</td><td>--</td><td>--</td><td>--</td><td>--</td><td>--</td><td>--</td><td>--</td></tr>\n",
       "<tr><td>270.6693973532762</td><td>-24.3280954418092</td><td>270.66936881829</td><td>0.7631</td><td>-24.32809804599</td><td>0.7052</td><td>4066020185956340608</td><td>2.2058</td><td>0.7483</td><td>-6.039</td><td>1.624</td><td>-0.605</td><td>1.477</td><td>0</td><td>427.4</td><td>2.974</td><td>19.1114</td><td>0.0076</td><td>587.2</td><td>29.5</td><td>18.4293</td><td>0.0545</td><td>909.2</td><td>32.27</td><td>17.3653</td><td>0.0385</td><td>1.0641</td><td>--</td><td>--</td><td>--</td><td>--</td><td>--</td><td>--</td><td>--</td></tr>\n",
       "<tr><td>...</td><td>...</td><td>...</td><td>...</td><td>...</td><td>...</td><td>...</td><td>...</td><td>...</td><td>...</td><td>...</td><td>...</td><td>...</td><td>...</td><td>...</td><td>...</td><td>...</td><td>...</td><td>...</td><td>...</td><td>...</td><td>...</td><td>...</td><td>...</td><td>...</td><td>...</td><td>...</td><td>...</td><td>...</td><td>...</td><td>...</td><td>...</td><td>...</td><td>...</td></tr>\n",
       "<tr><td>270.6430271092340</td><td>-24.1780110840313</td><td>270.64302607949</td><td>0.2405</td><td>-24.17802703103</td><td>0.2338</td><td>4066042554155387136</td><td>0.1440</td><td>0.2439</td><td>-0.218</td><td>0.444</td><td>-3.704</td><td>0.381</td><td>0</td><td>1148</td><td>3.162</td><td>18.0385</td><td>0.0030</td><td>777.5</td><td>34.86</td><td>18.1246</td><td>0.0487</td><td>2377</td><td>120.4</td><td>16.3220</td><td>0.0550</td><td>1.8027</td><td>--</td><td>--</td><td>--</td><td>--</td><td>--</td><td>--</td><td>--</td></tr>\n",
       "<tr><td>270.6331291900490</td><td>-24.1807725390781</td><td>270.63312835740</td><td>0.3969</td><td>-24.18078207231</td><td>0.4287</td><td>4066042515478983424</td><td>0.5756</td><td>0.4726</td><td>-0.176</td><td>0.687</td><td>-2.214</td><td>0.568</td><td>0</td><td>541.4</td><td>2.733</td><td>18.8546</td><td>0.0055</td><td>558.5</td><td>51.78</td><td>18.4837</td><td>0.1007</td><td>1074</td><td>44.93</td><td>17.1849</td><td>0.0454</td><td>1.2988</td><td>--</td><td>--</td><td>--</td><td>--</td><td>--</td><td>--</td><td>--</td></tr>\n",
       "<tr><td>270.6400204807912</td><td>-24.1883394379939</td><td>270.64002048079</td><td>0.9102</td><td>-24.18833943799</td><td>0.7590</td><td>4066042519795645056</td><td>--</td><td>--</td><td>--</td><td>--</td><td>--</td><td>--</td><td>0</td><td>258</td><td>2.63</td><td>19.6594</td><td>0.0111</td><td>576.4</td><td>34.38</td><td>18.4495</td><td>0.0648</td><td>686</td><td>44.97</td><td>17.6711</td><td>0.0712</td><td>0.7785</td><td>--</td><td>--</td><td>--</td><td>--</td><td>--</td><td>--</td><td>--</td></tr>\n",
       "<tr><td>270.6344592722364</td><td>-24.1901867876801</td><td>270.63446439363</td><td>0.3448</td><td>-24.19019700338</td><td>0.4066</td><td>4066042515478986112</td><td>0.2573</td><td>0.4521</td><td>1.085</td><td>0.593</td><td>-2.373</td><td>0.502</td><td>0</td><td>659</td><td>3.13</td><td>18.6412</td><td>0.0052</td><td>516.8</td><td>32.1</td><td>18.5680</td><td>0.0674</td><td>1197</td><td>31.82</td><td>17.0667</td><td>0.0289</td><td>1.5012</td><td>--</td><td>--</td><td>--</td><td>--</td><td>--</td><td>--</td><td>--</td></tr>\n",
       "<tr><td>270.6352796822412</td><td>-24.1813247088450</td><td>270.63528697636</td><td>0.4479</td><td>-24.18133216070</td><td>0.5081</td><td>4066042515478987136</td><td>0.8224</td><td>0.5934</td><td>1.545</td><td>0.799</td><td>-1.731</td><td>0.651</td><td>0</td><td>536.3</td><td>2.921</td><td>18.8648</td><td>0.0059</td><td>514.4</td><td>53.23</td><td>18.5731</td><td>0.1123</td><td>1104</td><td>21.75</td><td>17.1547</td><td>0.0214</td><td>1.4183</td><td>--</td><td>--</td><td>--</td><td>--</td><td>--</td><td>--</td><td>--</td></tr>\n",
       "<tr><td>270.6363182673733</td><td>-24.1823764510124</td><td>270.63631682082</td><td>0.4717</td><td>-24.18238680743</td><td>0.5143</td><td>4066042515478989056</td><td>-0.3164</td><td>0.5972</td><td>-0.306</td><td>0.854</td><td>-2.405</td><td>0.687</td><td>0</td><td>539.4</td><td>2.996</td><td>18.8585</td><td>0.0060</td><td>447.8</td><td>42.22</td><td>18.7236</td><td>0.1024</td><td>1359</td><td>38.59</td><td>16.9290</td><td>0.0308</td><td>1.7946</td><td>--</td><td>--</td><td>--</td><td>--</td><td>--</td><td>--</td><td>--</td></tr>\n",
       "<tr><td>270.6381451960914</td><td>-24.1908207707155</td><td>270.63814519609</td><td>10.8188</td><td>-24.19082077072</td><td>9.5469</td><td>4066042515478991616</td><td>--</td><td>--</td><td>--</td><td>--</td><td>--</td><td>--</td><td>0</td><td>157.7</td><td>2.623</td><td>20.1937</td><td>0.0181</td><td>--</td><td>--</td><td>--</td><td>--</td><td>--</td><td>--</td><td>--</td><td>--</td><td>--</td><td>--</td><td>--</td><td>--</td><td>--</td><td>--</td><td>--</td><td>--</td></tr>\n",
       "<tr><td>270.6498027872621</td><td>-24.1794453806398</td><td>270.64980278726</td><td>14.5938</td><td>-24.17944538064</td><td>12.6924</td><td>4066042554148655104</td><td>--</td><td>--</td><td>--</td><td>--</td><td>--</td><td>--</td><td>0</td><td>88.91</td><td>2.154</td><td>20.8160</td><td>0.0263</td><td>--</td><td>--</td><td>--</td><td>--</td><td>--</td><td>--</td><td>--</td><td>--</td><td>--</td><td>--</td><td>--</td><td>--</td><td>--</td><td>--</td><td>--</td><td>--</td></tr>\n",
       "<tr><td>270.6410065068250</td><td>-24.1895934454864</td><td>270.64100650683</td><td>1.2372</td><td>-24.18959344549</td><td>1.0608</td><td>4066042515478994816</td><td>--</td><td>--</td><td>--</td><td>--</td><td>--</td><td>--</td><td>1</td><td>241.8</td><td>3.38</td><td>19.7296</td><td>0.0152</td><td>--</td><td>--</td><td>--</td><td>--</td><td>--</td><td>--</td><td>--</td><td>--</td><td>--</td><td>--</td><td>--</td><td>--</td><td>--</td><td>--</td><td>--</td><td>--</td></tr>\n",
       "<tr><td>270.6425636254153</td><td>-24.1878466117443</td><td>270.64256362542</td><td>1.3431</td><td>-24.18784661174</td><td>1.1863</td><td>4066042515478996864</td><td>--</td><td>--</td><td>--</td><td>--</td><td>--</td><td>--</td><td>0</td><td>499.8</td><td>2.931</td><td>18.9413</td><td>0.0064</td><td>476.1</td><td>42.71</td><td>18.6572</td><td>0.0974</td><td>1041</td><td>25.3</td><td>17.2179</td><td>0.0264</td><td>1.4393</td><td>--</td><td>--</td><td>--</td><td>--</td><td>--</td><td>--</td><td>--</td></tr>\n",
       "</table></div>"
      ],
      "text/plain": [
       "<Table length=2491>\n",
       "     _RAJ2000          _DEJ2000         RA_ICRS     ... E_BP-RP_   Rad     Lum  \n",
       "       deg               deg              deg       ...   mag      Rsun    Lsun \n",
       "     float64           float64          float64     ... float32  float32 float64\n",
       "----------------- ----------------- --------------- ... -------- ------- -------\n",
       "270.6607305152326 -24.3466958686422 270.66070255571 ...       --      --      --\n",
       "270.6521413634034 -24.3480323559917 270.65214136340 ...       --      --      --\n",
       "270.6521034038814 -24.3466744221536 270.65209726287 ...       --      --      --\n",
       "270.6669860809204 -24.3463621783497 270.66698608092 ...       --      --      --\n",
       "270.6638630774177 -24.3433482074884 270.66387017871 ...       --      --      --\n",
       "270.6846830664570 -24.3260169878842 270.68468306646 ...       --      --      --\n",
       "270.6926632528732 -24.3279138863670 270.69266325287 ...       --      --      --\n",
       "270.6730185536942 -24.3365905701811 270.67301855369 ...       --      --      --\n",
       "270.6693973532762 -24.3280954418092 270.66936881829 ...       --      --      --\n",
       "              ...               ...             ... ...      ...     ...     ...\n",
       "270.6430271092340 -24.1780110840313 270.64302607949 ...       --      --      --\n",
       "270.6331291900490 -24.1807725390781 270.63312835740 ...       --      --      --\n",
       "270.6400204807912 -24.1883394379939 270.64002048079 ...       --      --      --\n",
       "270.6344592722364 -24.1901867876801 270.63446439363 ...       --      --      --\n",
       "270.6352796822412 -24.1813247088450 270.63528697636 ...       --      --      --\n",
       "270.6363182673733 -24.1823764510124 270.63631682082 ...       --      --      --\n",
       "270.6381451960914 -24.1908207707155 270.63814519609 ...       --      --      --\n",
       "270.6498027872621 -24.1794453806398 270.64980278726 ...       --      --      --\n",
       "270.6410065068250 -24.1895934454864 270.64100650683 ...       --      --      --\n",
       "270.6425636254153 -24.1878466117443 270.64256362542 ...       --      --      --"
      ]
     },
     "execution_count": 31,
     "metadata": {},
     "output_type": "execute_result"
    }
   ],
   "source": [
    "ds9tbl"
   ]
  },
  {
   "cell_type": "code",
   "execution_count": 32,
   "metadata": {},
   "outputs": [
    {
     "ename": "OSError",
     "evalue": "File exists: C:\\Users\\Kevin\\repos\\ReipurthBallyProject\\data\\M8\\N-A-L656\\region\\newtbl.xml",
     "output_type": "error",
     "traceback": [
      "\u001b[1;31m---------------------------------------------------------------------------\u001b[0m",
      "\u001b[1;31mOSError\u001b[0m                                   Traceback (most recent call last)",
      "\u001b[1;32m~\\AppData\\Local\\Temp/ipykernel_21284/223926000.py\u001b[0m in \u001b[0;36m<module>\u001b[1;34m\u001b[0m\n\u001b[0;32m      2\u001b[0m \u001b[0mnewtbl\u001b[0m \u001b[1;33m=\u001b[0m \u001b[0mds9tbl\u001b[0m\u001b[1;33m[\u001b[0m\u001b[0mcolumns\u001b[0m\u001b[1;33m]\u001b[0m\u001b[1;33m\u001b[0m\u001b[1;33m\u001b[0m\u001b[0m\n\u001b[0;32m      3\u001b[0m \u001b[0mnewtbl\u001b[0m\u001b[1;33m[\u001b[0m\u001b[1;34m'ObjType'\u001b[0m\u001b[1;33m]\u001b[0m \u001b[1;33m=\u001b[0m \u001b[1;34m'star'\u001b[0m\u001b[1;33m\u001b[0m\u001b[1;33m\u001b[0m\u001b[0m\n\u001b[1;32m----> 4\u001b[1;33m \u001b[0mnewtbl\u001b[0m\u001b[1;33m.\u001b[0m\u001b[0mwrite\u001b[0m\u001b[1;33m(\u001b[0m\u001b[1;34mr\"C:\\Users\\Kevin\\repos\\ReipurthBallyProject\\data\\M8\\N-A-L656\\region\\newtbl.xml\"\u001b[0m\u001b[1;33m,\u001b[0m\u001b[0mformat\u001b[0m\u001b[1;33m=\u001b[0m\u001b[1;34m'votable'\u001b[0m\u001b[1;33m)\u001b[0m\u001b[1;33m\u001b[0m\u001b[1;33m\u001b[0m\u001b[0m\n\u001b[0m",
      "\u001b[1;32mc:\\Users\\Kevin\\anaconda3\\envs\\astro\\lib\\site-packages\\astropy\\table\\connect.py\u001b[0m in \u001b[0;36m__call__\u001b[1;34m(self, serialize_method, *args, **kwargs)\u001b[0m\n\u001b[0;32m    125\u001b[0m         \u001b[0minstance\u001b[0m \u001b[1;33m=\u001b[0m \u001b[0mself\u001b[0m\u001b[1;33m.\u001b[0m\u001b[0m_instance\u001b[0m\u001b[1;33m\u001b[0m\u001b[1;33m\u001b[0m\u001b[0m\n\u001b[0;32m    126\u001b[0m         \u001b[1;32mwith\u001b[0m \u001b[0mserialize_method_as\u001b[0m\u001b[1;33m(\u001b[0m\u001b[0minstance\u001b[0m\u001b[1;33m,\u001b[0m \u001b[0mserialize_method\u001b[0m\u001b[1;33m)\u001b[0m\u001b[1;33m:\u001b[0m\u001b[1;33m\u001b[0m\u001b[1;33m\u001b[0m\u001b[0m\n\u001b[1;32m--> 127\u001b[1;33m             \u001b[0mregistry\u001b[0m\u001b[1;33m.\u001b[0m\u001b[0mwrite\u001b[0m\u001b[1;33m(\u001b[0m\u001b[0minstance\u001b[0m\u001b[1;33m,\u001b[0m \u001b[1;33m*\u001b[0m\u001b[0margs\u001b[0m\u001b[1;33m,\u001b[0m \u001b[1;33m**\u001b[0m\u001b[0mkwargs\u001b[0m\u001b[1;33m)\u001b[0m\u001b[1;33m\u001b[0m\u001b[1;33m\u001b[0m\u001b[0m\n\u001b[0m",
      "\u001b[1;32mc:\\Users\\Kevin\\anaconda3\\envs\\astro\\lib\\site-packages\\astropy\\io\\registry.py\u001b[0m in \u001b[0;36mwrite\u001b[1;34m(data, format, *args, **kwargs)\u001b[0m\n\u001b[0;32m    568\u001b[0m \u001b[1;33m\u001b[0m\u001b[0m\n\u001b[0;32m    569\u001b[0m     \u001b[0mwriter\u001b[0m \u001b[1;33m=\u001b[0m \u001b[0mget_writer\u001b[0m\u001b[1;33m(\u001b[0m\u001b[0mformat\u001b[0m\u001b[1;33m,\u001b[0m \u001b[0mdata\u001b[0m\u001b[1;33m.\u001b[0m\u001b[0m__class__\u001b[0m\u001b[1;33m)\u001b[0m\u001b[1;33m\u001b[0m\u001b[1;33m\u001b[0m\u001b[0m\n\u001b[1;32m--> 570\u001b[1;33m     \u001b[0mwriter\u001b[0m\u001b[1;33m(\u001b[0m\u001b[0mdata\u001b[0m\u001b[1;33m,\u001b[0m \u001b[1;33m*\u001b[0m\u001b[0margs\u001b[0m\u001b[1;33m,\u001b[0m \u001b[1;33m**\u001b[0m\u001b[0mkwargs\u001b[0m\u001b[1;33m)\u001b[0m\u001b[1;33m\u001b[0m\u001b[1;33m\u001b[0m\u001b[0m\n\u001b[0m\u001b[0;32m    571\u001b[0m \u001b[1;33m\u001b[0m\u001b[0m\n\u001b[0;32m    572\u001b[0m \u001b[1;33m\u001b[0m\u001b[0m\n",
      "\u001b[1;32mc:\\Users\\Kevin\\anaconda3\\envs\\astro\\lib\\site-packages\\astropy\\io\\votable\\connect.py\u001b[0m in \u001b[0;36mwrite_table_votable\u001b[1;34m(input, output, table_id, overwrite, tabledata_format)\u001b[0m\n\u001b[0;32m    165\u001b[0m             \u001b[0mos\u001b[0m\u001b[1;33m.\u001b[0m\u001b[0mremove\u001b[0m\u001b[1;33m(\u001b[0m\u001b[0moutput\u001b[0m\u001b[1;33m)\u001b[0m\u001b[1;33m\u001b[0m\u001b[1;33m\u001b[0m\u001b[0m\n\u001b[0;32m    166\u001b[0m         \u001b[1;32melse\u001b[0m\u001b[1;33m:\u001b[0m\u001b[1;33m\u001b[0m\u001b[1;33m\u001b[0m\u001b[0m\n\u001b[1;32m--> 167\u001b[1;33m             \u001b[1;32mraise\u001b[0m \u001b[0mOSError\u001b[0m\u001b[1;33m(\u001b[0m\u001b[1;34mf\"File exists: {output}\"\u001b[0m\u001b[1;33m)\u001b[0m\u001b[1;33m\u001b[0m\u001b[1;33m\u001b[0m\u001b[0m\n\u001b[0m\u001b[0;32m    168\u001b[0m \u001b[1;33m\u001b[0m\u001b[0m\n\u001b[0;32m    169\u001b[0m     \u001b[1;31m# Create a new VOTable file\u001b[0m\u001b[1;33m\u001b[0m\u001b[1;33m\u001b[0m\u001b[0m\n",
      "\u001b[1;31mOSError\u001b[0m: File exists: C:\\Users\\Kevin\\repos\\ReipurthBallyProject\\data\\M8\\N-A-L656\\region\\newtbl.xml"
     ]
    }
   ],
   "source": [
    "columns = ['_RAJ2000', '_DEJ2000', 'Source']\n",
    "newtbl = ds9tbl[columns]\n",
    "newtbl['ObjType'] = 'star'\n",
    "newtbl.write(r\"C:\\Users\\Kevin\\repos\\ReipurthBallyProject\\data\\M8\\N-A-L656\\region\\newtbl.xml\",format='votable')"
   ]
  },
  {
   "cell_type": "code",
   "execution_count": 33,
   "metadata": {},
   "outputs": [
    {
     "data": {
      "text/plain": [
       "Index(['thresh', 'npix', 'tnpix', 'xmin', 'xmax', 'ymin', 'ymax', 'x', 'y',\n",
       "       'x2', 'y2', 'xy', 'errx2', 'erry2', 'errxy', 'a', 'b', 'theta', 'cxx',\n",
       "       'cyy', 'cxy', 'cflux', 'flux', 'cpeak', 'peak', 'xcpeak', 'ycpeak',\n",
       "       'xpeak', 'ypeak', 'flag'],\n",
       "      dtype='object')"
      ]
     },
     "execution_count": 33,
     "metadata": {},
     "output_type": "execute_result"
    }
   ],
   "source": [
    "object_df.columns"
   ]
  },
  {
   "cell_type": "code",
   "execution_count": 34,
   "metadata": {},
   "outputs": [],
   "source": [
    "object_tbl = Table.from_pandas(object_df[['x','y','flux', 'npix', 'a', 'b', 'theta']])\n",
    "object_tbl['x'] += 1\n",
    "object_tbl['y'] += 1\n",
    "object_tbl['eccentricity'] = object_df.b/object_df.a"
   ]
  },
  {
   "cell_type": "code",
   "execution_count": 35,
   "metadata": {},
   "outputs": [],
   "source": [
    "object_tbl['ObjName'] = [f'Obj_{i:03d}' for i in range(len(object_df))]\n",
    "object_tbl['ObjType'] = 'star'\n",
    "object_tbl.write(r\"C:\\Users\\Kevin\\repos\\ReipurthBallyProject\\data\\M8\\N-A-L656\\region\\object_tbl.xml\",\n",
    "                 overwrite=True, format='votable')"
   ]
  },
  {
   "cell_type": "code",
   "execution_count": 36,
   "metadata": {},
   "outputs": [
    {
     "name": "stdout",
     "output_type": "stream",
     "text": [
      "Minutes: 7.829\n"
     ]
    }
   ],
   "source": [
    "deg = 0.1304870229507045\n",
    "print(f'Minutes: {60.0*deg:.3f}')"
   ]
  },
  {
   "cell_type": "code",
   "execution_count": 38,
   "metadata": {},
   "outputs": [],
   "source": [
    "def find_closest_ref( refs, point):\n",
    "    pt = point.reshape(-1,2)\n",
    "    offs = refs - pt\n",
    "    dist = (offs **2).sum(axis=1)\n",
    "    indx = dist.argmin()\n",
    "    return {'index': indx, 'distance': np.sqrt(dist[indx]), 'x': refs[indx][0], 'y':refs[indx][1]}"
   ]
  },
  {
   "cell_type": "code",
   "execution_count": 39,
   "metadata": {},
   "outputs": [
    {
     "data": {
      "text/plain": [
       "{'index': 55,\n",
       " 'distance': 28.69267941647783,\n",
       " 'x': 443.63312191238106,\n",
       " 'y': 1156.3857510315772}"
      ]
     },
     "execution_count": 39,
     "metadata": {},
     "output_type": "execute_result"
    }
   ],
   "source": [
    "find_closest_ref(dst, src[55])"
   ]
  },
  {
   "cell_type": "code",
   "execution_count": 40,
   "metadata": {},
   "outputs": [
    {
     "data": {
      "text/plain": [
       "array([141.04706814,  10.41951623])"
      ]
     },
     "execution_count": 40,
     "metadata": {},
     "output_type": "execute_result"
    }
   ],
   "source": [
    "dst[5]"
   ]
  },
  {
   "cell_type": "code",
   "execution_count": 41,
   "metadata": {},
   "outputs": [
    {
     "data": {
      "text/plain": [
       "57898.595399"
      ]
     },
     "execution_count": 41,
     "metadata": {},
     "output_type": "execute_result"
    }
   ],
   "source": [
    "fits.getval(img_path, 'MJD')"
   ]
  },
  {
   "cell_type": "code",
   "execution_count": 43,
   "metadata": {},
   "outputs": [
    {
     "data": {
      "text/plain": [
       "array([ 1,  5,  9, 13, 17, 21, 25, 29, 33, 37])"
      ]
     },
     "execution_count": 43,
     "metadata": {},
     "output_type": "execute_result"
    }
   ],
   "source": [
    "xx = np.arange(20).reshape(-1,2)\n",
    "xx.sum(axis=1)"
   ]
  },
  {
   "cell_type": "code",
   "execution_count": 44,
   "metadata": {},
   "outputs": [],
   "source": [
    "def printit(x,y):\n",
    "    print(f'X: {x}, Y:{y}')"
   ]
  },
  {
   "cell_type": "code",
   "execution_count": 47,
   "metadata": {},
   "outputs": [
    {
     "data": {
      "text/plain": [
       "array([[ 0,  1],\n",
       "       [ 2,  3],\n",
       "       [ 4,  5],\n",
       "       [44, 55],\n",
       "       [ 8,  9],\n",
       "       [10, 11],\n",
       "       [12, 13],\n",
       "       [14, 15],\n",
       "       [16, 17],\n",
       "       [18, 19]])"
      ]
     },
     "execution_count": 47,
     "metadata": {},
     "output_type": "execute_result"
    }
   ],
   "source": [
    "xx[3]=[44,55]\n",
    "xx"
   ]
  },
  {
   "cell_type": "code",
   "execution_count": 45,
   "metadata": {},
   "outputs": [
    {
     "name": "stdout",
     "output_type": "stream",
     "text": [
      "X: 0, Y:1\n",
      "X: 2, Y:3\n",
      "X: 4, Y:5\n",
      "X: 6, Y:7\n",
      "X: 8, Y:9\n",
      "X: 10, Y:11\n",
      "X: 12, Y:13\n",
      "X: 14, Y:15\n",
      "X: 16, Y:17\n",
      "X: 18, Y:19\n"
     ]
    }
   ],
   "source": [
    "for x in xx:\n",
    "    printit(*x)"
   ]
  },
  {
   "cell_type": "code",
   "execution_count": 27,
   "metadata": {},
   "outputs": [],
   "source": [
    "def df2reg(df, regpath, x='x_in', y='y_in', radius=8, nameroot='Region'):\n",
    "    reghdr =[ '# Region file format: DS9 version 4.1',\n",
    "             'global color=green dashlist=8 3 width=1 font=\"helvetica 10 normal roman\" select=1 highlite=1 dash=0 fixed=0 edit=1 move=1 delete=1 include=1 source=1',\n",
    "            'physical']\n",
    "\n",
    "    with open(regpath, 'w') as reg:\n",
    "        for hdr in reghdr:\n",
    "            reg.write(hdr+'\\n')\n",
    "        for i, r in enumerate(df.itertuples()):\n",
    "            title = '{' + f'{nameroot}_{i:03d}' + '}'\n",
    "            circ = f'Circle({r[x_col]}, {r[y_col]}, {radius}) # text={title}'\n",
    "            reg.write(circ+'\\n')"
   ]
  },
  {
   "cell_type": "code",
   "execution_count": 28,
   "metadata": {},
   "outputs": [
    {
     "data": {
      "text/plain": [
       "array([7, 2, 9])"
      ]
     },
     "execution_count": 28,
     "metadata": {},
     "output_type": "execute_result"
    }
   ],
   "source": [
    "np.random.choice(np.arange(10), 3, replace=False)"
   ]
  },
  {
   "cell_type": "code",
   "execution_count": 29,
   "metadata": {},
   "outputs": [],
   "source": [
    "def map2reg(ref_xy,  obj_xy, obj_hat, reg_path, nameroot='Star', regfrac=0.3):\n",
    "    reghdr =[ '# Region file format: DS9 version 4.1',\n",
    "            'global color=green dashlist=8 3 width=1 font=\"helvetica 10 normal roman\" select=1 highlite=1 dash=0 fixed=0 edit=1 move=1 delete=1 include=1 source=1',\n",
    "        'physical']\n",
    "    n =  ref_xy.shape[0]\n",
    "    indices = np.random.choice(np.arange(n), int(regfrac*n))\n",
    "    with open(reg_path, 'w') as reg:\n",
    "        for hdr in reghdr:\n",
    "            reg.write(hdr+'\\n')\n",
    "        for i in indices:\n",
    "            title = '{' + f'{nameroot}_{i:03d}' + '}'\n",
    "            circ = f'Circle({obj_xy[i][0]+1}, {obj_xy[i][1]+1}, 8) # text={title}, color=red'\n",
    "            reg.write(circ+'\\n')\n",
    "            circ = f'Circle({ref_xy[i][0]+1}, {ref_xy[i][1]+1}, 8) # text={title}, color=blue'\n",
    "            reg.write(circ+'\\n')\n",
    "            line = f'line( {obj_xy[i][0]+1}, {obj_xy[i][1]+1}, {obj_hat[i][0]+1}, {obj_hat[i][1]+1}) # line=0 1, color=red'\n",
    "            reg.write(line+'\\n')\n",
    "            line = f'line( {obj_hat[i][0]+1}, {obj_hat[i][1]+1}, {ref_xy[i][0]+1}, {ref_xy[i][1]+1}) # line=0 1, color=blue'\n",
    "            reg.write(line+'\\n')"
   ]
  },
  {
   "cell_type": "code",
   "execution_count": 30,
   "metadata": {},
   "outputs": [],
   "source": [
    "# def pairing2reg(src, dst, reg_path, nameroot='Pair'):\n",
    "#     reghdr =[ '# Region file format: DS9 version 4.1',\n",
    "#             'global color=green dashlist=8 3 width=1 font=\"helvetica 10 normal roman\" select=1 highlite=1 dash=0 fixed=0 edit=1 move=1 delete=1 include=1 source=1',\n",
    "#         'physical']\n",
    "\n",
    "#     with open(reg_path, 'w') as reg:\n",
    "#         for hdr in reghdr:\n",
    "#             reg.write(hdr+'\\n')\n",
    "#         for i in range(src.shape[0]):\n",
    "#             title = '{' + f'{nameroot}_{i:03d}' + '}'\n",
    "#             point = f'point({src[i][0]+1}, {src[i][1]+1}) # point=circle, color=red'\n",
    "#             reg.write(point+'\\n')\n",
    "#             line = f'line( {src[i][0]+1}, {src[i][1]+1}, {dst[i][0]+1}, {dst[i][1]+1}) # line=0 1, color=red'\n",
    "#             reg.write(line+'\\n')\n"
   ]
  },
  {
   "cell_type": "code",
   "execution_count": 483,
   "metadata": {},
   "outputs": [
    {
     "data": {
      "text/html": [
       "<div>\n",
       "<style scoped>\n",
       "    .dataframe tbody tr th:only-of-type {\n",
       "        vertical-align: middle;\n",
       "    }\n",
       "\n",
       "    .dataframe tbody tr th {\n",
       "        vertical-align: top;\n",
       "    }\n",
       "\n",
       "    .dataframe thead th {\n",
       "        text-align: right;\n",
       "    }\n",
       "</style>\n",
       "<table border=\"1\" class=\"dataframe\">\n",
       "  <thead>\n",
       "    <tr style=\"text-align: right;\">\n",
       "      <th></th>\n",
       "      <th>thresh</th>\n",
       "      <th>npix</th>\n",
       "      <th>tnpix</th>\n",
       "      <th>xmin</th>\n",
       "      <th>xmax</th>\n",
       "      <th>ymin</th>\n",
       "      <th>ymax</th>\n",
       "      <th>x</th>\n",
       "      <th>y</th>\n",
       "      <th>x2</th>\n",
       "      <th>...</th>\n",
       "      <th>cxy</th>\n",
       "      <th>cflux</th>\n",
       "      <th>flux</th>\n",
       "      <th>cpeak</th>\n",
       "      <th>peak</th>\n",
       "      <th>xcpeak</th>\n",
       "      <th>ycpeak</th>\n",
       "      <th>xpeak</th>\n",
       "      <th>ypeak</th>\n",
       "      <th>flag</th>\n",
       "    </tr>\n",
       "    <tr>\n",
       "      <th>obj_id</th>\n",
       "      <th></th>\n",
       "      <th></th>\n",
       "      <th></th>\n",
       "      <th></th>\n",
       "      <th></th>\n",
       "      <th></th>\n",
       "      <th></th>\n",
       "      <th></th>\n",
       "      <th></th>\n",
       "      <th></th>\n",
       "      <th></th>\n",
       "      <th></th>\n",
       "      <th></th>\n",
       "      <th></th>\n",
       "      <th></th>\n",
       "      <th></th>\n",
       "      <th></th>\n",
       "      <th></th>\n",
       "      <th></th>\n",
       "      <th></th>\n",
       "      <th></th>\n",
       "    </tr>\n",
       "  </thead>\n",
       "  <tbody>\n",
       "    <tr>\n",
       "      <th>obj_001</th>\n",
       "      <td>6641.226074</td>\n",
       "      <td>69</td>\n",
       "      <td>62</td>\n",
       "      <td>784</td>\n",
       "      <td>804</td>\n",
       "      <td>0</td>\n",
       "      <td>4</td>\n",
       "      <td>794.071296</td>\n",
       "      <td>1.303480</td>\n",
       "      <td>11.488112</td>\n",
       "      <td>...</td>\n",
       "      <td>0.064884</td>\n",
       "      <td>2.359982e+06</td>\n",
       "      <td>2.513625e+06</td>\n",
       "      <td>120495.070312</td>\n",
       "      <td>159031.296875</td>\n",
       "      <td>794</td>\n",
       "      <td>2</td>\n",
       "      <td>794</td>\n",
       "      <td>1</td>\n",
       "      <td>3</td>\n",
       "    </tr>\n",
       "    <tr>\n",
       "      <th>obj_006</th>\n",
       "      <td>6641.226074</td>\n",
       "      <td>28</td>\n",
       "      <td>25</td>\n",
       "      <td>1010</td>\n",
       "      <td>1015</td>\n",
       "      <td>151</td>\n",
       "      <td>156</td>\n",
       "      <td>1012.743444</td>\n",
       "      <td>153.463455</td>\n",
       "      <td>1.675753</td>\n",
       "      <td>...</td>\n",
       "      <td>-0.004771</td>\n",
       "      <td>3.396670e+05</td>\n",
       "      <td>3.631878e+05</td>\n",
       "      <td>20434.406250</td>\n",
       "      <td>24188.277344</td>\n",
       "      <td>1013</td>\n",
       "      <td>153</td>\n",
       "      <td>1013</td>\n",
       "      <td>153</td>\n",
       "      <td>0</td>\n",
       "    </tr>\n",
       "    <tr>\n",
       "      <th>obj_007</th>\n",
       "      <td>6641.226074</td>\n",
       "      <td>11</td>\n",
       "      <td>11</td>\n",
       "      <td>402</td>\n",
       "      <td>405</td>\n",
       "      <td>234</td>\n",
       "      <td>237</td>\n",
       "      <td>403.644216</td>\n",
       "      <td>235.433515</td>\n",
       "      <td>0.717983</td>\n",
       "      <td>...</td>\n",
       "      <td>-0.202481</td>\n",
       "      <td>8.922922e+04</td>\n",
       "      <td>9.869755e+04</td>\n",
       "      <td>9603.704102</td>\n",
       "      <td>11060.225586</td>\n",
       "      <td>404</td>\n",
       "      <td>235</td>\n",
       "      <td>404</td>\n",
       "      <td>235</td>\n",
       "      <td>0</td>\n",
       "    </tr>\n",
       "    <tr>\n",
       "      <th>obj_008</th>\n",
       "      <td>6641.226074</td>\n",
       "      <td>92</td>\n",
       "      <td>88</td>\n",
       "      <td>494</td>\n",
       "      <td>503</td>\n",
       "      <td>262</td>\n",
       "      <td>272</td>\n",
       "      <td>498.814743</td>\n",
       "      <td>266.677802</td>\n",
       "      <td>3.373285</td>\n",
       "      <td>...</td>\n",
       "      <td>-0.014161</td>\n",
       "      <td>4.051352e+06</td>\n",
       "      <td>4.094656e+06</td>\n",
       "      <td>160261.718750</td>\n",
       "      <td>185481.343750</td>\n",
       "      <td>499</td>\n",
       "      <td>266</td>\n",
       "      <td>499</td>\n",
       "      <td>266</td>\n",
       "      <td>0</td>\n",
       "    </tr>\n",
       "    <tr>\n",
       "      <th>obj_009</th>\n",
       "      <td>6641.226074</td>\n",
       "      <td>14</td>\n",
       "      <td>14</td>\n",
       "      <td>946</td>\n",
       "      <td>949</td>\n",
       "      <td>269</td>\n",
       "      <td>272</td>\n",
       "      <td>947.477358</td>\n",
       "      <td>270.706752</td>\n",
       "      <td>0.978058</td>\n",
       "      <td>...</td>\n",
       "      <td>0.006021</td>\n",
       "      <td>1.304808e+05</td>\n",
       "      <td>1.460429e+05</td>\n",
       "      <td>12208.007812</td>\n",
       "      <td>14488.214844</td>\n",
       "      <td>947</td>\n",
       "      <td>271</td>\n",
       "      <td>947</td>\n",
       "      <td>271</td>\n",
       "      <td>0</td>\n",
       "    </tr>\n",
       "    <tr>\n",
       "      <th>...</th>\n",
       "      <td>...</td>\n",
       "      <td>...</td>\n",
       "      <td>...</td>\n",
       "      <td>...</td>\n",
       "      <td>...</td>\n",
       "      <td>...</td>\n",
       "      <td>...</td>\n",
       "      <td>...</td>\n",
       "      <td>...</td>\n",
       "      <td>...</td>\n",
       "      <td>...</td>\n",
       "      <td>...</td>\n",
       "      <td>...</td>\n",
       "      <td>...</td>\n",
       "      <td>...</td>\n",
       "      <td>...</td>\n",
       "      <td>...</td>\n",
       "      <td>...</td>\n",
       "      <td>...</td>\n",
       "      <td>...</td>\n",
       "      <td>...</td>\n",
       "    </tr>\n",
       "    <tr>\n",
       "      <th>obj_283</th>\n",
       "      <td>6641.226074</td>\n",
       "      <td>36</td>\n",
       "      <td>35</td>\n",
       "      <td>1408</td>\n",
       "      <td>1413</td>\n",
       "      <td>4104</td>\n",
       "      <td>4110</td>\n",
       "      <td>1410.696711</td>\n",
       "      <td>4106.787589</td>\n",
       "      <td>1.866739</td>\n",
       "      <td>...</td>\n",
       "      <td>-0.061588</td>\n",
       "      <td>5.971992e+05</td>\n",
       "      <td>6.276966e+05</td>\n",
       "      <td>33402.171875</td>\n",
       "      <td>40052.625000</td>\n",
       "      <td>1411</td>\n",
       "      <td>4107</td>\n",
       "      <td>1411</td>\n",
       "      <td>4107</td>\n",
       "      <td>0</td>\n",
       "    </tr>\n",
       "    <tr>\n",
       "      <th>obj_284</th>\n",
       "      <td>6641.226074</td>\n",
       "      <td>37</td>\n",
       "      <td>32</td>\n",
       "      <td>959</td>\n",
       "      <td>964</td>\n",
       "      <td>4126</td>\n",
       "      <td>4132</td>\n",
       "      <td>961.429708</td>\n",
       "      <td>4128.984497</td>\n",
       "      <td>1.870205</td>\n",
       "      <td>...</td>\n",
       "      <td>-0.037503</td>\n",
       "      <td>5.438224e+05</td>\n",
       "      <td>5.707694e+05</td>\n",
       "      <td>29572.214844</td>\n",
       "      <td>34778.433594</td>\n",
       "      <td>961</td>\n",
       "      <td>4129</td>\n",
       "      <td>961</td>\n",
       "      <td>4129</td>\n",
       "      <td>0</td>\n",
       "    </tr>\n",
       "    <tr>\n",
       "      <th>obj_285</th>\n",
       "      <td>6641.226074</td>\n",
       "      <td>13</td>\n",
       "      <td>13</td>\n",
       "      <td>1941</td>\n",
       "      <td>1944</td>\n",
       "      <td>4164</td>\n",
       "      <td>4167</td>\n",
       "      <td>1942.622209</td>\n",
       "      <td>4165.332876</td>\n",
       "      <td>0.903689</td>\n",
       "      <td>...</td>\n",
       "      <td>0.295439</td>\n",
       "      <td>1.138968e+05</td>\n",
       "      <td>1.274128e+05</td>\n",
       "      <td>11422.157227</td>\n",
       "      <td>13597.765625</td>\n",
       "      <td>1943</td>\n",
       "      <td>4165</td>\n",
       "      <td>1943</td>\n",
       "      <td>4165</td>\n",
       "      <td>0</td>\n",
       "    </tr>\n",
       "    <tr>\n",
       "      <th>obj_286</th>\n",
       "      <td>6641.226074</td>\n",
       "      <td>12</td>\n",
       "      <td>10</td>\n",
       "      <td>1312</td>\n",
       "      <td>1316</td>\n",
       "      <td>4174</td>\n",
       "      <td>4176</td>\n",
       "      <td>1314.139354</td>\n",
       "      <td>4175.360562</td>\n",
       "      <td>1.444880</td>\n",
       "      <td>...</td>\n",
       "      <td>0.178904</td>\n",
       "      <td>1.361073e+05</td>\n",
       "      <td>1.732873e+05</td>\n",
       "      <td>16913.484375</td>\n",
       "      <td>29250.277344</td>\n",
       "      <td>1314</td>\n",
       "      <td>4176</td>\n",
       "      <td>1314</td>\n",
       "      <td>4176</td>\n",
       "      <td>2</td>\n",
       "    </tr>\n",
       "    <tr>\n",
       "      <th>obj_287</th>\n",
       "      <td>6641.226074</td>\n",
       "      <td>28</td>\n",
       "      <td>15</td>\n",
       "      <td>1604</td>\n",
       "      <td>1608</td>\n",
       "      <td>4170</td>\n",
       "      <td>4176</td>\n",
       "      <td>1606.114840</td>\n",
       "      <td>4173.783540</td>\n",
       "      <td>0.787879</td>\n",
       "      <td>...</td>\n",
       "      <td>-0.233797</td>\n",
       "      <td>1.476930e+06</td>\n",
       "      <td>1.592734e+06</td>\n",
       "      <td>127997.468750</td>\n",
       "      <td>181662.062500</td>\n",
       "      <td>1606</td>\n",
       "      <td>4175</td>\n",
       "      <td>1607</td>\n",
       "      <td>4176</td>\n",
       "      <td>2</td>\n",
       "    </tr>\n",
       "  </tbody>\n",
       "</table>\n",
       "<p>238 rows × 30 columns</p>\n",
       "</div>"
      ],
      "text/plain": [
       "              thresh  npix  tnpix  xmin  xmax  ymin  ymax            x  \\\n",
       "obj_id                                                                   \n",
       "obj_001  6641.226074    69     62   784   804     0     4   794.071296   \n",
       "obj_006  6641.226074    28     25  1010  1015   151   156  1012.743444   \n",
       "obj_007  6641.226074    11     11   402   405   234   237   403.644216   \n",
       "obj_008  6641.226074    92     88   494   503   262   272   498.814743   \n",
       "obj_009  6641.226074    14     14   946   949   269   272   947.477358   \n",
       "...              ...   ...    ...   ...   ...   ...   ...          ...   \n",
       "obj_283  6641.226074    36     35  1408  1413  4104  4110  1410.696711   \n",
       "obj_284  6641.226074    37     32   959   964  4126  4132   961.429708   \n",
       "obj_285  6641.226074    13     13  1941  1944  4164  4167  1942.622209   \n",
       "obj_286  6641.226074    12     10  1312  1316  4174  4176  1314.139354   \n",
       "obj_287  6641.226074    28     15  1604  1608  4170  4176  1606.114840   \n",
       "\n",
       "                   y         x2  ...       cxy         cflux          flux  \\\n",
       "obj_id                           ...                                         \n",
       "obj_001     1.303480  11.488112  ...  0.064884  2.359982e+06  2.513625e+06   \n",
       "obj_006   153.463455   1.675753  ... -0.004771  3.396670e+05  3.631878e+05   \n",
       "obj_007   235.433515   0.717983  ... -0.202481  8.922922e+04  9.869755e+04   \n",
       "obj_008   266.677802   3.373285  ... -0.014161  4.051352e+06  4.094656e+06   \n",
       "obj_009   270.706752   0.978058  ...  0.006021  1.304808e+05  1.460429e+05   \n",
       "...              ...        ...  ...       ...           ...           ...   \n",
       "obj_283  4106.787589   1.866739  ... -0.061588  5.971992e+05  6.276966e+05   \n",
       "obj_284  4128.984497   1.870205  ... -0.037503  5.438224e+05  5.707694e+05   \n",
       "obj_285  4165.332876   0.903689  ...  0.295439  1.138968e+05  1.274128e+05   \n",
       "obj_286  4175.360562   1.444880  ...  0.178904  1.361073e+05  1.732873e+05   \n",
       "obj_287  4173.783540   0.787879  ... -0.233797  1.476930e+06  1.592734e+06   \n",
       "\n",
       "                 cpeak           peak  xcpeak  ycpeak  xpeak  ypeak  flag  \n",
       "obj_id                                                                     \n",
       "obj_001  120495.070312  159031.296875     794       2    794      1     3  \n",
       "obj_006   20434.406250   24188.277344    1013     153   1013    153     0  \n",
       "obj_007    9603.704102   11060.225586     404     235    404    235     0  \n",
       "obj_008  160261.718750  185481.343750     499     266    499    266     0  \n",
       "obj_009   12208.007812   14488.214844     947     271    947    271     0  \n",
       "...                ...            ...     ...     ...    ...    ...   ...  \n",
       "obj_283   33402.171875   40052.625000    1411    4107   1411   4107     0  \n",
       "obj_284   29572.214844   34778.433594     961    4129    961   4129     0  \n",
       "obj_285   11422.157227   13597.765625    1943    4165   1943   4165     0  \n",
       "obj_286   16913.484375   29250.277344    1314    4176   1314   4176     2  \n",
       "obj_287  127997.468750  181662.062500    1606    4175   1607   4176     2  \n",
       "\n",
       "[238 rows x 30 columns]"
      ]
     },
     "execution_count": 483,
     "metadata": {},
     "output_type": "execute_result"
    }
   ],
   "source": [
    "pctile = np.percentile(object_df.npix, (10,90))\n",
    "validrows= np.logical_and(object_df.npix >= pctile[0], object_df.npix<= pctile[1])\n",
    "object_df.loc[validrows]"
   ]
  },
  {
   "cell_type": "code",
   "execution_count": 485,
   "metadata": {},
   "outputs": [
    {
     "data": {
      "image/png": "[encoded data removed]",
      "text/plain": [
       "<Figure size 640x480 with 1 Axes>"
      ]
     },
     "metadata": {},
     "output_type": "display_data"
    }
   ],
   "source": [
    "qq=plt.hist(object_df.loc[validrows].npix, bins=30)"
   ]
  },
  {
   "cell_type": "code",
   "execution_count": 469,
   "metadata": {},
   "outputs": [],
   "source": [
    "def pairing2reg(obj_df,  obj_hat, ref_df, ref_index, reg_path, nameroot='Pair'):\n",
    "    reghdr =[ '# Region file format: DS9 version 4.1',\n",
    "            'global color=green dashlist=8 3 width=1 font=\"helvetica 10 normal roman\" select=1 highlite=1 dash=0 fixed=0 edit=1 move=1 delete=1 include=1 source=1',\n",
    "        'physical']\n",
    "    n =  len(ref_index)\n",
    "\n",
    "    with open(reg_path, 'w') as reg:\n",
    "        for hdr in reghdr:\n",
    "            reg.write(hdr+'\\n')\n",
    "        for i in range(n):\n",
    "            title = '{' + f'{nameroot}_{i:03d}' + '}'\n",
    "            circ = f'point({obj_df.iloc[i].x+1}, {obj_df.iloc[i].y+1}) # point=circle, text={title}, color=red'\n",
    "            reg.write(circ+'\\n')\n",
    "            circ = f'point({obj_hat.iloc[i].x+1}, {obj_hat.iloc[i].y+1}) # point=circle, color=blue'\n",
    "            reg.write(circ+'\\n')\n",
    "            line = f'line( {obj_df.iloc[i].x+1}, {obj_df.iloc[i].y+1}, {obj_hat.iloc[i].x+1}, {obj_hat.iloc[i].y+1} ) # line=0 1, color=red'\n",
    "            reg.write(line+'\\n')\n",
    "            line = f'line( {obj_hat.iloc[i].x+1}, {obj_hat.iloc[i].y+1},'\\\n",
    "                f'{ref_df.iloc[ref_index.iloc[i]].x+1}, {ref_df.iloc[ref_index.iloc[i]].y+1}) # line=0 1, color=blue'\n",
    "            reg.write(line+'\\n')\n",
    "            circ = f'point({ref_df.iloc[ref_index.iloc[i]].x+1}, {ref_df.iloc[ref_index.iloc[i]].y+1}) # point=circle, color=green'\n",
    "            reg.write(circ+'\\n')"
   ]
  },
  {
   "cell_type": "markdown",
   "metadata": {},
   "source": [
    "## Variables\n",
    "\n",
    "|Variable|Meaning|\n",
    "|--------|-------|\n",
    "|`obj_df` | object extracted from the image|\n",
    "|`obj_hat` | where the objects should be according to the model|\n",
    "|`ref_df` | reference objects data base|\n",
    "|`ref_index` | len(obj_df), index info ref_df; maps from obj_df to ref_df, which ref_df corresponds to each obj_df|\n",
    "\n",
    "\n",
    "## Functions\n",
    "### `update_model`\n",
    "computes new transformation, new flux model, predictions for position and flux\n",
    "### `score`\n",
    "computes score given `obj_hat`, `ref_df`, `ref_index`\n",
    "### `update_pairing`\n",
    "given hat dataframe, computes 'best' partner for each row of data frame, returns a `ref_index`\n",
    "### `optimize pairing`\n",
    "iterates till RMSE doesn't change\n",
    "### `initialize`\n",
    "creates an initial `ref_index`\n"
   ]
  },
  {
   "cell_type": "code",
   "execution_count": 496,
   "metadata": {},
   "outputs": [],
   "source": [
    "def RMSE(xy_hat, xy_act):\n",
    "    err = (xy_act - xy_hat)**2\n",
    "    resid2 = err.sum(axis=1)\n",
    "    rmse = np.sqrt(resid2.mean())\n",
    "    return rmse\n",
    "\n",
    "def initial_transform(dirs, detector):\n",
    "\n",
    "    coo_path = os.path.join(dirs['coord_maps'], detector+'.coo')\n",
    "\n",
    "    coo_df = coo2df(coo_path)\n",
    "    src = np.array([coo_df.x_in, coo_df.y_in]).T\n",
    "    dst = np.array([coo_df.x_ref, coo_df.y_ref]).T\n",
    "\n",
    "    tran = sk.transform.estimate_transform('polynomial', src, dst, 3)\n",
    "\n",
    "    return tran\n",
    "\n",
    "def apply_transform(tran, obj_df):\n",
    "    src = np.array([obj_df.x, obj_df.y]).T\n",
    "    xy_hat = tran(src)\n",
    "    return xy_hat\n",
    "\n",
    "def get_ref_df(dirs, inpath, minmag = 18.5):\n",
    "    img_path = os.path.basename(inpath)\n",
    "    img_name = os.path.splitext(img_path)[0]\n",
    "    x_tbl_path = os.path.join(dirs['xmatch_tables'], img_name+'.xml')\n",
    "    x_tbl = Table.read(x_tbl_path)\n",
    "    valid_rows = x_tbl['phot_g_mean_mag'] <= minmag\n",
    "    ref_df = x_tbl[valid_rows].to_pandas()\n",
    "    #adjust for python indexing:\n",
    "    ref_df.x -= 1\n",
    "    ref_df.y -= 1\n",
    "    return ref_df\n",
    "\n",
    "def find_objects(img, exp_time, thresh = 250, npix_pctile=(10,90), border_margin=32):\n",
    "\n",
    "    bkg = sep.Background(img)\n",
    "    bkg_img = bkg.back() #2d array of background\n",
    "\n",
    "    img_noback = img - bkg\n",
    "    objects = sep.extract(img_noback, thresh=thresh, err = bkg.globalrms)\n",
    "    objects_df = pd.DataFrame(objects)\n",
    "    objects_df.flux /= exp_time\n",
    "    objects_df['obj_id'] = [f'obj_{i:04d}' for i in range(len(objects_df))]\n",
    "\n",
    "    # lose the extreme values\n",
    "    pctile = np.percentile(objects_df.npix, npix_pctile)\n",
    "    valid_npix = np.logical_and(objects_df.npix >= pctile[0], objects_df.npix<= pctile[1])\n",
    "\n",
    "    # lose the objects too close to the edge\n",
    "    imgshape = img.shape\n",
    "    x_ok = np.logical_and(objects_df.x > border_margin, objects_df.x < imgshape[1]-border_margin)\n",
    "    y_ok = np.logical_and(objects_df.y > border_margin, objects_df.y < imgshape[0]-border_margin)\n",
    "    valid_pos = np.logical_and(x_ok, y_ok)\n",
    "\n",
    "    #combine the criteria:\n",
    "    valid_rows = np.logical_and(valid_npix, valid_pos)\n",
    "\n",
    "    return objects_df.loc[valid_rows]\n",
    "\n",
    "def find_closest_ref(  obj_hat_ser, ref_df, flux_col = 'phot_g_mean_flux'):\n",
    "    # get the pixel distance from point to each ref\n",
    "    pix_dist2 = (ref_df.x-obj_hat_ser.x)**2 + (ref_df.y-obj_hat_ser.y)**2\n",
    "\n",
    "    # get the flux distance from point to each ref\n",
    "    flux_dist = np.sqrt((ref_df[flux_col] - obj_hat_ser.flux)**2)\n",
    "\n",
    "    # score is the product of the two\n",
    "    score = pix_dist2*flux_dist\n",
    "\n",
    "    # find and return the index of the lowest score\n",
    "    indx = score.argmin()\n",
    "    return indx\n",
    "\n",
    "def find_pairs(obj_hat, ref_df):\n",
    "    \"\"\"\n",
    "    for each row in obj_hat, find the closest match in ref_df\n",
    "    \"\"\"\n",
    "    pair_indx = pd.Series([find_closest_ref(r[1], ref_df) for r in obj_hat.iterrows()],\n",
    "                          index = obj_hat.index)\n",
    "    return pair_indx\n",
    "\n",
    "def initialize(dirs, fitspath, thresh=250.0):\n",
    "    # get the image\n",
    "    with fits.open(fitspath) as f:\n",
    "        img_hdr = f[0].header.copy()\n",
    "        img_data = f[0].data.copy()\n",
    "    img_data = img_data.astype(float)\n",
    "    \n",
    "    #extract the objects out of the image:\n",
    "    obj_df = find_objects(img_data, img_hdr['EXPTIME'], thresh=thresh)\n",
    "\n",
    "    #get the initial transform and apply it\n",
    "    tran = initial_transform(dirs, img_hdr['DETECTOR'])\n",
    "    xy_hat = apply_transform( tran, obj_df)\n",
    "\n",
    "    #intialize the flux model with parameters from earlier analysis\n",
    "    flux_hat = 3690.1804746983726 + 0.8374108011606967*obj_df.flux\n",
    "\n",
    "    # Build the data frame with the model estimates\n",
    "    obj_hat = pd.DataFrame({'x':xy_hat[:,0],'y':xy_hat[:,1], 'flux': flux_hat})\n",
    "\n",
    "    # get the reference data frame:\n",
    "    ref_df = get_ref_df(dirs, fitspath)\n",
    "    \n",
    "    # find the intial matches\n",
    "    ref_index = find_pairs(obj_hat,  ref_df)\n",
    "\n",
    "    return obj_df, obj_hat, ref_df, ref_index\n",
    "\n"
   ]
  },
  {
   "cell_type": "code",
   "execution_count": 497,
   "metadata": {},
   "outputs": [],
   "source": [
    "dirs = obs_dirs('/home/kevin/Documents/M8new/', 'N-A-L671')\n",
    "dirs['region'] =  os.path.join('/home/kevin/Documents/M8new/', 'N-A-L671','region')\n",
    "img_name = 'SUPA01566780'\n",
    "fits_path = os.path.join(dirs['no_bias'], img_name+'.fits')\n",
    "reg_path = os.path.join(dirs['region'],img_name+'_initial.reg')\n",
    "obj_df, obj_hat, ref_df, ref_index = initialize(dirs,fits_path)\n",
    "pairing2reg(obj_df,  obj_hat, ref_df, ref_index, reg_path)"
   ]
  },
  {
   "cell_type": "code",
   "execution_count": 472,
   "metadata": {},
   "outputs": [
    {
     "ename": "KeyError",
     "evalue": "'region'",
     "output_type": "error",
     "traceback": [
      "\u001b[0;31m---------------------------------------------------------------------------\u001b[0m",
      "\u001b[0;31mKeyError\u001b[0m                                  Traceback (most recent call last)",
      "Cell \u001b[0;32mIn[472], line 1\u001b[0m\n\u001b[0;32m----> 1\u001b[0m \u001b[43mdirs\u001b[49m\u001b[43m[\u001b[49m\u001b[38;5;124;43m'\u001b[39;49m\u001b[38;5;124;43mregion\u001b[39;49m\u001b[38;5;124;43m'\u001b[39;49m\u001b[43m]\u001b[49m\n",
      "\u001b[0;31mKeyError\u001b[0m: 'region'"
     ]
    }
   ],
   "source": [
    "dirs['region']"
   ]
  },
  {
   "cell_type": "code",
   "execution_count": 463,
   "metadata": {},
   "outputs": [
    {
     "data": {
      "text/plain": [
       "(214, 207)"
      ]
     },
     "execution_count": 463,
     "metadata": {},
     "output_type": "execute_result"
    }
   ],
   "source": [
    "len(ref_index), len(ref_index.unique())"
   ]
  },
  {
   "cell_type": "code",
   "execution_count": 464,
   "metadata": {},
   "outputs": [
    {
     "data": {
      "text/html": [
       "<div>\n",
       "<style scoped>\n",
       "    .dataframe tbody tr th:only-of-type {\n",
       "        vertical-align: middle;\n",
       "    }\n",
       "\n",
       "    .dataframe tbody tr th {\n",
       "        vertical-align: top;\n",
       "    }\n",
       "\n",
       "    .dataframe thead th {\n",
       "        text-align: right;\n",
       "    }\n",
       "</style>\n",
       "<table border=\"1\" class=\"dataframe\">\n",
       "  <thead>\n",
       "    <tr style=\"text-align: right;\">\n",
       "      <th></th>\n",
       "      <th>x_src</th>\n",
       "      <th>y_src</th>\n",
       "      <th>ref_x</th>\n",
       "      <th>ref_y</th>\n",
       "      <th>dist</th>\n",
       "      <th>flux_src</th>\n",
       "      <th>ref_flux</th>\n",
       "    </tr>\n",
       "  </thead>\n",
       "  <tbody>\n",
       "    <tr>\n",
       "      <th>0</th>\n",
       "      <td>745.770087</td>\n",
       "      <td>14.356975</td>\n",
       "      <td>762.812299</td>\n",
       "      <td>-3.602364</td>\n",
       "      <td>24.758329</td>\n",
       "      <td>2.113591e+05</td>\n",
       "      <td>13470.377021</td>\n",
       "    </tr>\n",
       "    <tr>\n",
       "      <th>1</th>\n",
       "      <td>749.537049</td>\n",
       "      <td>29.214882</td>\n",
       "      <td>749.630691</td>\n",
       "      <td>34.319531</td>\n",
       "      <td>5.105508</td>\n",
       "      <td>5.236958e+04</td>\n",
       "      <td>10386.660569</td>\n",
       "    </tr>\n",
       "    <tr>\n",
       "      <th>2</th>\n",
       "      <td>779.001219</td>\n",
       "      <td>54.519318</td>\n",
       "      <td>776.070361</td>\n",
       "      <td>59.989019</td>\n",
       "      <td>6.205447</td>\n",
       "      <td>3.115228e+04</td>\n",
       "      <td>17710.008648</td>\n",
       "    </tr>\n",
       "    <tr>\n",
       "      <th>3</th>\n",
       "      <td>787.206117</td>\n",
       "      <td>67.579529</td>\n",
       "      <td>776.070361</td>\n",
       "      <td>59.989019</td>\n",
       "      <td>13.476680</td>\n",
       "      <td>4.187046e+04</td>\n",
       "      <td>17710.008648</td>\n",
       "    </tr>\n",
       "    <tr>\n",
       "      <th>4</th>\n",
       "      <td>1029.799370</td>\n",
       "      <td>82.398294</td>\n",
       "      <td>1026.673104</td>\n",
       "      <td>88.448328</td>\n",
       "      <td>6.810025</td>\n",
       "      <td>1.711985e+03</td>\n",
       "      <td>5034.398169</td>\n",
       "    </tr>\n",
       "    <tr>\n",
       "      <th>...</th>\n",
       "      <td>...</td>\n",
       "      <td>...</td>\n",
       "      <td>...</td>\n",
       "      <td>...</td>\n",
       "      <td>...</td>\n",
       "      <td>...</td>\n",
       "      <td>...</td>\n",
       "    </tr>\n",
       "    <tr>\n",
       "      <th>209</th>\n",
       "      <td>1857.759507</td>\n",
       "      <td>3962.467482</td>\n",
       "      <td>1849.678334</td>\n",
       "      <td>3934.799547</td>\n",
       "      <td>28.823948</td>\n",
       "      <td>1.045929e+05</td>\n",
       "      <td>98152.144139</td>\n",
       "    </tr>\n",
       "    <tr>\n",
       "      <th>210</th>\n",
       "      <td>1850.484685</td>\n",
       "      <td>3968.987992</td>\n",
       "      <td>1841.798412</td>\n",
       "      <td>3940.407245</td>\n",
       "      <td>29.871565</td>\n",
       "      <td>1.255653e+04</td>\n",
       "      <td>13367.045104</td>\n",
       "    </tr>\n",
       "    <tr>\n",
       "      <th>211</th>\n",
       "      <td>1912.952242</td>\n",
       "      <td>3974.989206</td>\n",
       "      <td>1907.118938</td>\n",
       "      <td>3942.762440</td>\n",
       "      <td>32.750449</td>\n",
       "      <td>3.443592e+03</td>\n",
       "      <td>6365.460174</td>\n",
       "    </tr>\n",
       "    <tr>\n",
       "      <th>212</th>\n",
       "      <td>10.957989</td>\n",
       "      <td>1035.604672</td>\n",
       "      <td>76.232370</td>\n",
       "      <td>1178.976603</td>\n",
       "      <td>157.531760</td>\n",
       "      <td>1.623958e+07</td>\n",
       "      <td>5227.376907</td>\n",
       "    </tr>\n",
       "    <tr>\n",
       "      <th>213</th>\n",
       "      <td>9.390340</td>\n",
       "      <td>3825.727140</td>\n",
       "      <td>-6.142666</td>\n",
       "      <td>3907.258946</td>\n",
       "      <td>82.998251</td>\n",
       "      <td>2.228965e+06</td>\n",
       "      <td>3164.610441</td>\n",
       "    </tr>\n",
       "  </tbody>\n",
       "</table>\n",
       "<p>214 rows × 7 columns</p>\n",
       "</div>"
      ],
      "text/plain": [
       "           x_src        y_src        ref_x        ref_y        dist  \\\n",
       "0     745.770087    14.356975   762.812299    -3.602364   24.758329   \n",
       "1     749.537049    29.214882   749.630691    34.319531    5.105508   \n",
       "2     779.001219    54.519318   776.070361    59.989019    6.205447   \n",
       "3     787.206117    67.579529   776.070361    59.989019   13.476680   \n",
       "4    1029.799370    82.398294  1026.673104    88.448328    6.810025   \n",
       "..           ...          ...          ...          ...         ...   \n",
       "209  1857.759507  3962.467482  1849.678334  3934.799547   28.823948   \n",
       "210  1850.484685  3968.987992  1841.798412  3940.407245   29.871565   \n",
       "211  1912.952242  3974.989206  1907.118938  3942.762440   32.750449   \n",
       "212    10.957989  1035.604672    76.232370  1178.976603  157.531760   \n",
       "213     9.390340  3825.727140    -6.142666  3907.258946   82.998251   \n",
       "\n",
       "         flux_src      ref_flux  \n",
       "0    2.113591e+05  13470.377021  \n",
       "1    5.236958e+04  10386.660569  \n",
       "2    3.115228e+04  17710.008648  \n",
       "3    4.187046e+04  17710.008648  \n",
       "4    1.711985e+03   5034.398169  \n",
       "..            ...           ...  \n",
       "209  1.045929e+05  98152.144139  \n",
       "210  1.255653e+04  13367.045104  \n",
       "211  3.443592e+03   6365.460174  \n",
       "212  1.623958e+07   5227.376907  \n",
       "213  2.228965e+06   3164.610441  \n",
       "\n",
       "[214 rows x 7 columns]"
      ]
     },
     "execution_count": 464,
     "metadata": {},
     "output_type": "execute_result"
    }
   ],
   "source": [
    "ref_x = np.array([ref_df.iloc[i].x for i in ref_index])\n",
    "ref_y = np.array([ref_df.iloc[i].y for i in ref_index])\n",
    "gflux = np.array([ref_df.iloc[i].phot_g_mean_flux for i in ref_index])\n",
    "dist = np.sqrt((obj_df.x-ref_x)**2 + (obj_df.y-ref_y)**2)\n",
    "xx=pd.DataFrame({'x_src':obj_df.x,'y_src':obj_df.y,\n",
    "              'ref_x':ref_x, 'ref_y':ref_y, 'dist':dist,\n",
    "              'flux_src':obj_df.flux, 'ref_flux':gflux})\n",
    "xx"
   ]
  },
  {
   "cell_type": "code",
   "execution_count": 465,
   "metadata": {},
   "outputs": [
    {
     "data": {
      "image/png": "[encoded data removed]",
      "text/plain": [
       "<Figure size 640x480 with 1 Axes>"
      ]
     },
     "metadata": {},
     "output_type": "display_data"
    }
   ],
   "source": [
    "zz = plt.hist(xx.dist, bins=20)"
   ]
  },
  {
   "cell_type": "code",
   "execution_count": 467,
   "metadata": {},
   "outputs": [
    {
     "data": {
      "text/plain": [
       "<matplotlib.collections.PathCollection at 0x7f26b4035690>"
      ]
     },
     "execution_count": 467,
     "metadata": {},
     "output_type": "execute_result"
    },
    {
     "data": {
      "image/png": "[encoded data removed]",
      "text/plain": [
       "<Figure size 640x480 with 1 Axes>"
      ]
     },
     "metadata": {},
     "output_type": "display_data"
    }
   ],
   "source": [
    "plt.scatter(xx.flux_src, xx.ref_flux)"
   ]
  },
  {
   "cell_type": "code",
   "execution_count": 468,
   "metadata": {},
   "outputs": [
    {
     "data": {
      "text/plain": [
       "3164.6104405096817"
      ]
     },
     "execution_count": 468,
     "metadata": {},
     "output_type": "execute_result"
    }
   ],
   "source": [
    "xx.ref_flux.min()"
   ]
  },
  {
   "cell_type": "code",
   "execution_count": null,
   "metadata": {},
   "outputs": [],
   "source": [
    "\n",
    "\n",
    "def mod_upate(obj_df, ref_df, ref_index):\n",
    "    \"\"\"\n",
    "    returns a new obj_hat and the model that produced it\n",
    "    \"\"\"\n",
    "    assert len(ref_index) == len(obj_df)\n",
    "\n",
    "    newmod = {}\n",
    "\n",
    "    # position\n",
    "    src = obj_df[['x','y']].to_numpy()\n",
    "    dst = ref_df.iloc[ref_index][['x','y']].to_numpy()\n",
    "    tran = sk.estimate_transform('polynomial', src, dst, order=3)\n",
    "    newmod['tran'] = tran\n",
    "    xy_hat = tran(src)\n",
    "\n",
    "    # flux\n",
    "    ref_flux = ref_df.iloc[ref_index].phot_g_mean_flux\n",
    "    obj_flux = obj_df.flux.reshape(-1,1)\n",
    "    flux_mod = LinearRegression().fit( obj_flux, ref_flux)\n",
    "    newmod['flux'] = flux_mod\n",
    "    flux_hat = flux_mod.predict(obj_flux)\n",
    "    \n",
    "    obj_hat = pd.DataFrame({'x':xy_hat[:, 0], 'y':xy_hat[:,1], 'flux':flux_hat})\n",
    "    \n",
    "    return newmod, obj_hat\n",
    "    \n",
    "def optimize_pairing(obj_df, ref_df, maxiter=15)\n",
    "    \"\"\"\n",
    "    returns series indicating which ref_df goes with which obj_df\n",
    "    \"\"\"\n",
    "\n",
    "    scores = np.full(maxiter, np.nan, dtype=np.float64)\n",
    "    scores[0] = score_last_iter = np.finfo(scores.dtype).max\n",
    "\n",
    "    for iter in range(maxiter):\n",
    "        score_this_iter = score(obj_df, obj_hat, ref_df)\n",
    "        if score_this_iter/score_last_iter <= converge_crit:\n",
    "            break\n",
    "\n",
    "        # compute new pairing\n",
    "        ref_index =  \n",
    "        # update the model\n",
    "        score_last_iter = score_this_iter\n",
    "\n",
    "\n",
    "def align_image(dirs, inpath, outpath, maxiter=15):\n",
    "\n",
    "\n",
    "    # get the image\n",
    "    with fits.open(inpath) as f:\n",
    "        img_hdr = f[0].header.copy()\n",
    "        img_data = f[0].data.copy()\n",
    "    img_data = img_data.astype(float)\n",
    "\n",
    "    #get the intial transform and the objects in the image\n",
    "    tran = initial_transorm(dirs, img_hdr['DETECTOR'])\n",
    "    obj_df = find_objects(img_data, thresh=250.0)\n",
    "    obj_tbl = Table.from_pandas(obj_df)\n",
    "    obj_xy = np.array([obj_df.x, obj_df.y]).T\n",
    "    ref_all = get_refs(dirs, inpath, minmag=50.0)\n",
    "    ref_xy = np.zeros_like(obj_xy)\n",
    "    rmse = np.full(maxiter, np.nan)\n",
    "\n",
    "    # calculate the intial pairing\n",
    "\n",
    "    print(f'Objects found: {len(obj_df)}')\n",
    "\n",
    "    imname = os.path.splitext(os.path.basename(inpath))[0]\n",
    "    obj_tbl_path = os.path.join(dirs['region'], imname+'_objects.xml')\n",
    "    obj_tbl['x'] += 1; obj_tbl['y'] += 1\n",
    "    obj_tbl.write(obj_tbl_path, table_id= 'objects',format = 'votable', overwrite=True)\n",
    "\n",
    "    for iter in range(maxiter):\n",
    "        obj_hat = tran(obj_xy)\n",
    "        #calculate a new pairing\n",
    "        ref_xy = np.array([find_closest_ref(ref_all, obj) for obj in obj_hat])\n",
    "        # score this iteration\n",
    "        rmse[iter] = RMSE(obj_hat, ref_xy)\n",
    "\n",
    "        #write the region file:\n",
    "        map2reg(ref_xy,  obj_xy, obj_hat, os.path.join(dirs['region'], imname+f'_{iter:03d}.reg'), regfrac=1.0)\n",
    "        # estimate the transform with the new pairing\n",
    "        tran = sk.transform.estimate_transform('polynomial', obj_xy, ref_xy, 3)\n",
    "\n",
    "    pairing2reg(obj_xy, ref_xy, os.path.join(dirs['region'], imname+'_final.reg') )\n",
    "    return rmse\n",
    "\n",
    "    # img_new = sk.transform.warp(img_data, tran, cval = np.nan)\n",
    "    # img_new = img_new.astype(np.float32)\n",
    "\n",
    "    # #write out the result\n",
    "    # phdu = fits.PrimaryHDU(data = img_new, header=img_hdr)\n",
    "\n",
    "    # phdu.writeto(outpath, overwrite=True)\n"
   ]
  },
  {
   "cell_type": "code",
   "execution_count": 32,
   "metadata": {},
   "outputs": [],
   "source": [
    "from utils import obs_dirs\n",
    "import matplotlib.pyplot as plt"
   ]
  },
  {
   "cell_type": "code",
   "execution_count": 33,
   "metadata": {},
   "outputs": [
    {
     "name": "stdout",
     "output_type": "stream",
     "text": [
      "Objects found: 232\n"
     ]
    },
    {
     "data": {
      "text/plain": [
       "[<matplotlib.lines.Line2D at 0x7f26c545ccd0>]"
      ]
     },
     "execution_count": 33,
     "metadata": {},
     "output_type": "execute_result"
    },
    {
     "data": {
      "image/png": "[encoded data removed]",
      "text/plain": [
       "<Figure size 640x480 with 1 Axes>"
      ]
     },
     "metadata": {},
     "output_type": "display_data"
    }
   ],
   "source": [
    "dirs = obs_dirs('/home/kevin/Documents/M8new/', 'N-A-L671')\n",
    "dirs['region'] =  os.path.join('/home/kevin/Documents/M8new/', 'N-A-L671','region')\n",
    "img_path = r'/home/kevin/Documents/M8new/N-A-L671/no_bias/SUPA01566780.fits'\n",
    "rmse = align_image(dirs, img_path, None)\n",
    "plt.plot(rmse)"
   ]
  },
  {
   "cell_type": "code",
   "execution_count": 34,
   "metadata": {},
   "outputs": [],
   "source": [
    "tbl = Table.read(r'/home/kevin/Documents/M8new/N-A-L671/xmatch_tables/SUPA01566788.xml')"
   ]
  },
  {
   "cell_type": "code",
   "execution_count": 329,
   "metadata": {},
   "outputs": [
    {
     "data": {
      "text/html": [
       "<div><i>Table length=224</i>\n",
       "<table id=\"table139804449950400\" class=\"table-striped table-bordered table-condensed\">\n",
       "<thead><tr><th>obj</th><th>gaia</th><th>obj_id</th><th>GaiaId</th></tr></thead>\n",
       "<thead><tr><th>int64</th><th>int64</th><th>str8</th><th>str9</th></tr></thead>\n",
       "<tr><td>1</td><td>2771</td><td>obj_0001</td><td>gaia_2771</td></tr>\n",
       "<tr><td>2</td><td>2755</td><td>obj_0002</td><td>gaia_2755</td></tr>\n",
       "<tr><td>3</td><td>2803</td><td>obj_0003</td><td>gaia_2803</td></tr>\n",
       "<tr><td>4</td><td>2754</td><td>obj_0004</td><td>gaia_2754</td></tr>\n",
       "<tr><td>5</td><td>4415</td><td>obj_0005</td><td>gaia_4415</td></tr>\n",
       "<tr><td>6</td><td>4083</td><td>obj_0006</td><td>gaia_4083</td></tr>\n",
       "<tr><td>7</td><td>2836</td><td>obj_0007</td><td>gaia_2836</td></tr>\n",
       "<tr><td>8</td><td>4426</td><td>obj_0008</td><td>gaia_4426</td></tr>\n",
       "<tr><td>9</td><td>2806</td><td>obj_0009</td><td>gaia_2806</td></tr>\n",
       "<tr><td>10</td><td>2824</td><td>obj_0010</td><td>gaia_2824</td></tr>\n",
       "<tr><td>...</td><td>...</td><td>...</td><td>...</td></tr>\n",
       "<tr><td>220</td><td>1900</td><td>obj_0220</td><td>gaia_1900</td></tr>\n",
       "<tr><td>221</td><td>2272</td><td>obj_0221</td><td>gaia_2272</td></tr>\n",
       "<tr><td>222</td><td>2273</td><td>obj_0222</td><td>gaia_2273</td></tr>\n",
       "<tr><td>223</td><td>2392</td><td>obj_0223</td><td>gaia_2392</td></tr>\n",
       "<tr><td>224</td><td>2390</td><td>obj_0224</td><td>gaia_2390</td></tr>\n",
       "<tr><td>225</td><td>2276</td><td>obj_0225</td><td>gaia_2276</td></tr>\n",
       "<tr><td>226</td><td>2330</td><td>obj_0226</td><td>gaia_2330</td></tr>\n",
       "<tr><td>227</td><td>2317</td><td>obj_0227</td><td>gaia_2317</td></tr>\n",
       "<tr><td>228</td><td>2445</td><td>obj_0228</td><td>gaia_2445</td></tr>\n",
       "<tr><td>229</td><td>2647</td><td>obj_0229</td><td>gaia_2647</td></tr>\n",
       "</table></div>"
      ],
      "text/plain": [
       "<Table length=224>\n",
       " obj   gaia  obj_id    GaiaId \n",
       "int64 int64   str8      str9  \n",
       "----- ----- -------- ---------\n",
       "    1  2771 obj_0001 gaia_2771\n",
       "    2  2755 obj_0002 gaia_2755\n",
       "    3  2803 obj_0003 gaia_2803\n",
       "    4  2754 obj_0004 gaia_2754\n",
       "    5  4415 obj_0005 gaia_4415\n",
       "    6  4083 obj_0006 gaia_4083\n",
       "    7  2836 obj_0007 gaia_2836\n",
       "    8  4426 obj_0008 gaia_4426\n",
       "    9  2806 obj_0009 gaia_2806\n",
       "   10  2824 obj_0010 gaia_2824\n",
       "  ...   ...      ...       ...\n",
       "  220  1900 obj_0220 gaia_1900\n",
       "  221  2272 obj_0221 gaia_2272\n",
       "  222  2273 obj_0222 gaia_2273\n",
       "  223  2392 obj_0223 gaia_2392\n",
       "  224  2390 obj_0224 gaia_2390\n",
       "  225  2276 obj_0225 gaia_2276\n",
       "  226  2330 obj_0226 gaia_2330\n",
       "  227  2317 obj_0227 gaia_2317\n",
       "  228  2445 obj_0228 gaia_2445\n",
       "  229  2647 obj_0229 gaia_2647"
      ]
     },
     "execution_count": 329,
     "metadata": {},
     "output_type": "execute_result"
    }
   ],
   "source": [
    "obj_map_path = '/home/kevin/Documents/M8new/N-A-L671/obj_map.csv'\n",
    "xmatch = Table.read(obj_map_path, delimiter='\\s', comment='#')\n",
    "xmatch['obj_id'] = [f'obj_{i:04d}' for i in xmatch['obj']]\n",
    "xmatch['GaiaId'] = [f'gaia_{i:04d}' for i in xmatch['gaia']]\n",
    "xmatch"
   ]
  },
  {
   "cell_type": "code",
   "execution_count": 406,
   "metadata": {},
   "outputs": [],
   "source": [
    "img_path = r'/home/kevin/Documents/M8new/N-A-L671/no_bias/SUPA01566780.fits'\n",
    "exp_time = fits.getval(img_path, 'EXPTIME')"
   ]
  },
  {
   "cell_type": "code",
   "execution_count": 407,
   "metadata": {},
   "outputs": [
    {
     "data": {
      "text/plain": [
       "120.0"
      ]
     },
     "execution_count": 407,
     "metadata": {},
     "output_type": "execute_result"
    }
   ],
   "source": [
    "exp_time"
   ]
  },
  {
   "cell_type": "code",
   "execution_count": 408,
   "metadata": {},
   "outputs": [],
   "source": [
    "img_path = r'/home/kevin/Documents/M8new/N-A-L671/no_bias/SUPA01566780.fits'\n",
    "exp_time = fits.getval(img_path, 'EXPTIME')\n",
    "obj_tbl =  Table.read('/home/kevin/Documents/M8new/N-A-L671/region/SUPA01566780_objects.xml')\n",
    "gaia_tbl = Table.read('/home/kevin/Documents/M8new/N-A-L671/xmatch_tables/SUPA01566780.xml')"
   ]
  },
  {
   "cell_type": "code",
   "execution_count": 347,
   "metadata": {},
   "outputs": [
    {
     "data": {
      "text/plain": [
       "{'ID': 'xmatch'}"
      ]
     },
     "execution_count": 347,
     "metadata": {},
     "output_type": "execute_result"
    }
   ],
   "source": [
    "gaia_tbl.meta"
   ]
  },
  {
   "cell_type": "code",
   "execution_count": 294,
   "metadata": {},
   "outputs": [],
   "source": [
    "from astropy.table import join"
   ]
  },
  {
   "cell_type": "code",
   "execution_count": 409,
   "metadata": {},
   "outputs": [
    {
     "data": {
      "text/plain": [
       "(True, True, True)"
      ]
     },
     "execution_count": 409,
     "metadata": {},
     "output_type": "execute_result"
    }
   ],
   "source": [
    "xx=join(xmatch, gaia_tbl)\n",
    "# xx.add_index('GaiaID')\n",
    "# xmatch_tbl = join(xx, gaia_tbl, keys='GaiaID')\n",
    "'GaiaId' in xx.columns, 'GaiaId' in gaia_tbl.columns, 'GaiaId' in xmatch.columns\n"
   ]
  },
  {
   "cell_type": "code",
   "execution_count": 410,
   "metadata": {},
   "outputs": [
    {
     "name": "stderr",
     "output_type": "stream",
     "text": [
      "WARNING: MergeConflictWarning: Cannot merge meta key 'ID' types <class 'str'> and <class 'str'>, choosing ID='objects' [astropy.utils.metadata.merge]\n"
     ]
    }
   ],
   "source": [
    "xmatch_tbl = join(xx, obj_tbl, keys='obj_id')"
   ]
  },
  {
   "cell_type": "code",
   "execution_count": 411,
   "metadata": {},
   "outputs": [],
   "source": [
    "from sklearn.linear_model import LinearRegression\n",
    "obs_flux = xmatch_tbl['flux']/exp_time\n",
    "gaia_flux = xmatch_tbl['phot_g_mean_flux']\n",
    "mod = LinearRegression().fit( obs_flux.reshape(-1,1), gaia_flux)\n",
    "y_hat = mod.predict(obs_flux.reshape(-1,1))\n",
    "rsq = mod.score( obs_flux.reshape(-1,1), gaia_flux)\n",
    "mod_rmse = np.sqrt(((gaia_flux - y_hat)**2).mean())\n",
    "mod_nrmse = mod_rmse/gaia_flux.mean()\n",
    "zz = np.linspace(obs_flux.min(),obs_flux.max(), 10000).reshape(-1,1)\n",
    "fitted = mod.predict(zz)"
   ]
  },
  {
   "cell_type": "code",
   "execution_count": 412,
   "metadata": {},
   "outputs": [
    {
     "data": {
      "text/plain": [
       "(3690.1804746983726, 0.8374108011606967, 0.969109026730168)"
      ]
     },
     "execution_count": 412,
     "metadata": {},
     "output_type": "execute_result"
    }
   ],
   "source": [
    "mod.intercept_,mod.coef_[0], rsq"
   ]
  },
  {
   "cell_type": "code",
   "execution_count": 390,
   "metadata": {},
   "outputs": [
    {
     "data": {
      "text/plain": [
       "<matplotlib.legend.Legend at 0x7f26ba74ccd0>"
      ]
     },
     "execution_count": 390,
     "metadata": {},
     "output_type": "execute_result"
    },
    {
     "data": {
      "image/png": "[encoded data removed]",
      "text/plain": [
       "<Figure size 600x600 with 1 Axes>"
      ]
     },
     "metadata": {},
     "output_type": "display_data"
    }
   ],
   "source": [
    "fig, ax = plt.subplots(figsize=(6,6))\n",
    "\n",
    "ax.scatter(xmatch_tbl['phot_g_mean_flux'], obs_flux, s=5, label='Actual')\n",
    "ax.plot(zz, fitted, color='red', label='Fitted')\n",
    "ax.set_ylabel('Subaru Observed Flux\\n(electron/s)')\n",
    "ax.set_xlabel('Gaia G Flux\\n(electron/s)')\n",
    "ax.set_title('Observed and Actual Flux\\nFilter: N-A-L671')\n",
    "ax.text(50000, 175000, f'Slope: {mod.coef_[0]:.3f}\\nR Squared: {rsq:.3f}'\n",
    "        f'\\nRMSE: {mod_rmse:.3f}\\nnRMSE: {mod_nrmse:.3f}')\n",
    "ax.legend()"
   ]
  },
  {
   "cell_type": "code",
   "execution_count": 337,
   "metadata": {},
   "outputs": [],
   "source": [
    "max_obs_flux = 30000.0\n",
    "\n",
    "obs_flux = xmatch_tbl['flux']/300\n",
    "g_flux = xmatch_tbl['phot_g_mean_flux']\n",
    "\n",
    "valid_flux = obs_flux <= max_obs_flux\n",
    "obs_flux = obs_flux[valid_flux]\n",
    "g_flux = g_flux[valid_flux]\n",
    "\n",
    "\n",
    "mod = LinearRegression().fit(g_flux.reshape(-1,1), obs_flux)\n",
    "y_hat = mod.predict(g_flux.reshape(-1,1))\n",
    "rsq = mod.score(g_flux.reshape(-1,1), obs_flux)\n",
    "mod_rmse = np.sqrt(((obs_flux - y_hat)**2).mean())\n",
    "mod_nrmse = mod_rmse/obs_flux.mean()\n",
    "zz = np.linspace(g_flux.min(),g_flux.max(), 10000).reshape(-1,1)\n",
    "fitted = mod.predict(zz)"
   ]
  },
  {
   "cell_type": "code",
   "execution_count": 338,
   "metadata": {},
   "outputs": [
    {
     "data": {
      "text/plain": [
       "<matplotlib.legend.Legend at 0x7f26ba800ca0>"
      ]
     },
     "execution_count": 338,
     "metadata": {},
     "output_type": "execute_result"
    },
    {
     "data": {
      "image/png": "[encoded data removed]",
      "text/plain": [
       "<Figure size 600x600 with 1 Axes>"
      ]
     },
     "metadata": {},
     "output_type": "display_data"
    }
   ],
   "source": [
    "fig, ax = plt.subplots(figsize=(6,6))\n",
    "\n",
    "ax.scatter(g_flux, obs_flux, s=5, label='Actual')\n",
    "ax.plot(zz, fitted, color='red', label='Fitted')\n",
    "ax.set_ylabel('Subaru Observed Flux\\n(electron/s)')\n",
    "ax.set_xlabel('Gaia G Flux\\n(electron/s)')\n",
    "ax.set_title('Observed and Actual Flux\\nFilter: N-A-L671')\n",
    "ax.text(10000, 30000, f'Slope: {mod.coef_[0]:.3f}\\nR Squared: {rsq:.3f}'\n",
    "        f'\\nRMSE: {mod_rmse:.3f}\\nnRMSE: {mod_nrmse:.3f}')\n",
    "ax.legend()"
   ]
  },
  {
   "cell_type": "code",
   "execution_count": 320,
   "metadata": {},
   "outputs": [
    {
     "data": {
      "text/plain": [
       "<TableColumns names=('obj','gaia','obj_id','GaiaId','source_id','ra','dec','parallax','pmra','pmdec','radial_velocity','phot_g_mean_mag','phot_bp_mean_mag','phot_rp_mean_mag','phot_g_mean_flux','phot_bp_mean_flux','phot_rp_mean_flux','r_est','RA_MJD','DEC_MJD','x_1','y_1','thresh','npix','tnpix','xmin','xmax','ymin','ymax','x_2','y_2','x2','y2','xy','errx2','erry2','errxy','a','b','theta','cxx','cyy','cxy','cflux','flux','cpeak','peak','xcpeak','ycpeak','xpeak','ypeak','flag')>"
      ]
     },
     "execution_count": 320,
     "metadata": {},
     "output_type": "execute_result"
    }
   ],
   "source": [
    "xmatch_tbl.columns"
   ]
  },
  {
   "cell_type": "code",
   "execution_count": 360,
   "metadata": {},
   "outputs": [],
   "source": [
    "src = np.array([xmatch_tbl['x_2'],xmatch_tbl['y_2']]).T\n",
    "dst = np.array([xmatch_tbl['x_1'],xmatch_tbl['y_1']]).T"
   ]
  },
  {
   "cell_type": "code",
   "execution_count": 356,
   "metadata": {},
   "outputs": [],
   "source": [
    "\n",
    "img_path = r'/home/kevin/Documents/M8new/N-A-L671/no_bias/SUPA01566780.fits'\n",
    "\n",
    "for degree in range(4):\n",
    "    out_path = f'/home/kevin/Documents/M8new/N-A-L671/registered_image/SUPA01566780_{degree:02d}.fits'\n",
    "    warp_image(img_path, out_path, degree=degree, src=src, dst=dst) #coo_maps='/home/kevin/repos/ReipurthBallyProject/SubaruCoordinateMaps')"
   ]
  },
  {
   "cell_type": "code",
   "execution_count": 382,
   "metadata": {},
   "outputs": [],
   "source": [
    "detector = 'nausicaa'\n",
    "coo_path = os.path.join(coo_maps, detector+'.coo')\n",
    "coo_df = coo2df(coo_path)"
   ]
  },
  {
   "cell_type": "code",
   "execution_count": 387,
   "metadata": {},
   "outputs": [],
   "source": [
    "src = np.array([coo_df.x_in, coo_df.y_in]).T\n",
    "dst = np.array([coo_df.x_ref, coo_df.y_ref]).T\n",
    "out_path = f'/home/kevin/Documents/M8new/N-A-L671/registered_image/SUPA01566780_orig.fits'\n",
    "warp_image(img_path, out_path, degree=3, src=src, dst=dst) #coo_maps='/home/kevin/repos/ReipurthBallyProject/SubaruCoordinateMaps')"
   ]
  },
  {
   "cell_type": "code",
   "execution_count": 361,
   "metadata": {},
   "outputs": [
    {
     "name": "stdout",
     "output_type": "stream",
     "text": [
      "Degree: 1, RMSE: 7.157\n",
      "Degree: 2, RMSE: 7.497\n",
      "Degree: 3, RMSE: 11.724\n",
      "Degree: 4, RMSE: 20.588\n",
      "Degree: 5, RMSE: 2120.481\n"
     ]
    }
   ],
   "source": [
    "for degree in range(1,6):\n",
    "    tran = sk.transform.estimate_transform('polynomial', src, dst, order=degree)\n",
    "    resid = tran.residuals(src, dst)\n",
    "    rmse = np.sqrt((resid**2).mean())\n",
    "    print(f'Degree: {degree}, RMSE: {rmse:.3f}')"
   ]
  },
  {
   "cell_type": "code",
   "execution_count": 342,
   "metadata": {},
   "outputs": [
    {
     "data": {
      "text/plain": [
       "(55.730545235465414, 12)"
      ]
     },
     "execution_count": 342,
     "metadata": {},
     "output_type": "execute_result"
    }
   ],
   "source": [
    "resid.max(), resid.argmax()"
   ]
  },
  {
   "cell_type": "code",
   "execution_count": 343,
   "metadata": {},
   "outputs": [
    {
     "data": {
      "text/plain": [
       "array([23.11945216, 36.4559486 , 11.81758591, 41.25627696,  7.52046214,\n",
       "        9.10227467, 45.21020529,  5.65237679, 14.61220808,  7.5771336 ,\n",
       "        9.83954194,  4.1890069 , 55.73054524,  2.39284768, 35.16554383,\n",
       "        4.5286886 , 52.84612251,  3.54534899, 15.69038597,  8.02556486,\n",
       "        5.6743019 , 11.39007674,  4.40496796, 29.78785712,  3.81019602,\n",
       "        8.23989252,  6.16645873, 24.7786146 , 14.71944937,  6.86258921,\n",
       "        5.38541717,  4.69941099,  9.78882987, 21.80609669, 27.83780752,\n",
       "        9.24591933, 10.1574221 ,  3.21617412, 10.56986902, 19.2437774 ,\n",
       "       12.37072937,  0.94267459,  3.37134045, 14.55539447, 14.98202439,\n",
       "       11.15395735, 12.46983162, 14.53105426,  6.56060311,  4.77664402,\n",
       "        7.6036999 , 11.5137836 ,  3.04142641, 11.72717195, 13.57869764,\n",
       "        7.89269797,  7.53225061, 12.05414301, 17.33290184,  4.15000505,\n",
       "        3.76173168,  6.65134327,  7.38162198,  6.5289372 ,  4.64714502,\n",
       "        5.19701411,  1.40987561,  5.34282456,  9.51656968, 11.4414756 ,\n",
       "        2.76950174,  4.965295  ,  5.09205474, 13.40440816,  4.0902504 ,\n",
       "        8.9958048 ,  9.58776692,  5.25467538, 15.96138995,  9.28557004,\n",
       "        6.63744677,  5.33093338,  3.31026701,  3.73594684,  6.08693904,\n",
       "        5.47853981,  3.96867201,  5.62779715,  8.41439463,  9.03627489,\n",
       "       10.11974111,  3.7937346 ,  8.11578537,  8.26360239,  2.33381682,\n",
       "        2.12216474,  4.69951365,  6.95901765,  5.85939343,  4.59526816,\n",
       "        6.29421773, 15.54848503,  9.11079683,  3.26244021,  5.86677655,\n",
       "        7.63648386,  4.09216339,  6.88386086,  4.81771795,  6.43292837,\n",
       "        7.32218709,  1.66662032,  1.88804688,  5.79148984,  3.23597658,\n",
       "        1.51080184,  4.54662267,  5.03579949,  4.4186432 ,  2.01993901,\n",
       "        5.03818793,  4.01320373,  3.62923951,  3.7478601 ,  3.75189838,\n",
       "        4.08178077,  1.68706923,  5.78946875,  7.14544245,  4.68334933,\n",
       "        2.17103379,  6.45915387,  3.1087149 ,  1.19398346,  8.26981402,\n",
       "        5.97255489,  2.23836443,  3.98128193,  8.67591277,  1.96701641,\n",
       "        3.60777865,  3.3911669 ,  0.23101037,  1.65236808,  1.59548616,\n",
       "        3.48306749,  4.26221489,  4.11797583,  1.36133857,  1.62244103,\n",
       "       12.44508011,  0.48219773,  1.92888317,  5.45950558,  1.40776985,\n",
       "        3.66459143, 18.02026344,  2.1899528 ,  7.5534021 ,  2.75228023,\n",
       "        2.12623163,  7.91058894,  6.15640599,  3.51010079,  7.00274482,\n",
       "        6.39277014,  7.10507021,  1.30196184, 14.08848681,  6.79877995,\n",
       "        6.30400936,  5.71846744,  8.48996193,  8.86788705,  9.76063206,\n",
       "        7.08187724,  3.58339268,  1.45260582,  1.59706216,  7.74754095,\n",
       "        9.38108123,  3.17388134,  3.9975495 , 11.49033747, 12.08986935,\n",
       "        0.28413405, 13.84748546,  6.95563196, 15.02502532,  3.27019506,\n",
       "        1.1307134 ,  2.91085903, 11.87445574, 12.71023731, 10.16262715,\n",
       "        2.90337627, 15.43911104,  3.54333978,  2.82546435,  2.0716044 ,\n",
       "       49.24278977,  9.10030765,  7.44082667,  8.73071609,  5.73126718,\n",
       "        5.03904984,  6.02747378,  9.0997073 ,  1.32473245,  3.34940938,\n",
       "        1.21194337,  4.5791397 ,  7.83454649,  5.05414257,  6.40122278,\n",
       "        4.64172559,  8.7742331 ,  0.677432  ,  0.95220912,  6.7604093 ,\n",
       "       16.62741326,  2.17738476,  1.47226461, 27.4103326 ])"
      ]
     },
     "execution_count": 343,
     "metadata": {},
     "output_type": "execute_result"
    }
   ],
   "source": [
    "resid"
   ]
  },
  {
   "cell_type": "code",
   "execution_count": 344,
   "metadata": {},
   "outputs": [
    {
     "name": "stdout",
     "output_type": "stream",
     "text": [
      "Distance: 84.76, index: 223\n"
     ]
    }
   ],
   "source": [
    "src = np.array([xmatch_tbl['x_2'],xmatch_tbl['y_2']]).T\n",
    "dst = np.array([xmatch_tbl['x_1'],xmatch_tbl['y_1']]).T\n",
    "off2= (src-dst)**2\n",
    "dists = np.sqrt(off2.sum(axis=1))\n",
    "xmatch_tbl['Distance'] = dists\n",
    "ndx = dists.argmax()\n",
    "print(f'Distance: {dists[ndx]:.2f}, index: {ndx}')"
   ]
  },
  {
   "cell_type": "code",
   "execution_count": 345,
   "metadata": {},
   "outputs": [
    {
     "data": {
      "text/html": [
       "<i>Row index=223</i>\n",
       "<table id=\"table139804317331088\">\n",
       "<thead><tr><th>obj</th><th>gaia</th><th>obj_id</th><th>GaiaId</th><th>source_id</th><th>ra</th><th>dec</th><th>parallax</th><th>pmra</th><th>pmdec</th><th>radial_velocity</th><th>phot_g_mean_mag</th><th>phot_bp_mean_mag</th><th>phot_rp_mean_mag</th><th>phot_g_mean_flux</th><th>phot_bp_mean_flux</th><th>phot_rp_mean_flux</th><th>r_est</th><th>RA_MJD</th><th>DEC_MJD</th><th>x_1</th><th>y_1</th><th>thresh</th><th>npix</th><th>tnpix</th><th>xmin</th><th>xmax</th><th>ymin</th><th>ymax</th><th>x_2</th><th>y_2</th><th>x2</th><th>y2</th><th>xy</th><th>errx2</th><th>erry2</th><th>errxy</th><th>a</th><th>b</th><th>theta</th><th>cxx</th><th>cyy</th><th>cxy</th><th>cflux</th><th>flux</th><th>cpeak</th><th>peak</th><th>xcpeak</th><th>ycpeak</th><th>xpeak</th><th>ypeak</th><th>flag</th><th>Distance</th></tr></thead>\n",
       "<thead><tr><th></th><th></th><th></th><th></th><th></th><th></th><th></th><th></th><th></th><th></th><th></th><th></th><th></th><th></th><th></th><th></th><th></th><th></th><th>deg</th><th>deg</th><th></th><th></th><th></th><th></th><th></th><th></th><th></th><th></th><th></th><th></th><th></th><th></th><th></th><th></th><th></th><th></th><th></th><th></th><th></th><th></th><th></th><th></th><th></th><th></th><th></th><th></th><th></th><th></th><th></th><th></th><th></th><th></th><th></th></tr></thead>\n",
       "<thead><tr><th>int64</th><th>int64</th><th>str8</th><th>str9</th><th>int64</th><th>float64</th><th>float64</th><th>float64</th><th>float64</th><th>float64</th><th>float32</th><th>float32</th><th>float32</th><th>float32</th><th>float64</th><th>float64</th><th>float64</th><th>float64</th><th>float64</th><th>float64</th><th>float64</th><th>float64</th><th>float64</th><th>int64</th><th>int64</th><th>int64</th><th>int64</th><th>int64</th><th>int64</th><th>float64</th><th>float64</th><th>float64</th><th>float64</th><th>float64</th><th>float64</th><th>float64</th><th>float64</th><th>float64</th><th>float64</th><th>float64</th><th>float64</th><th>float64</th><th>float64</th><th>float64</th><th>float64</th><th>float64</th><th>float64</th><th>int64</th><th>int64</th><th>int64</th><th>int64</th><th>int64</th><th>float64</th></tr></thead>\n",
       "<tr><td>229</td><td>2647</td><td>obj_0229</td><td>gaia_2647</td><td>4066043619307330944</td><td>270.5936422175172</td><td>-24.152006996975</td><td>0.4900445089672835</td><td>-1.2775950779798508</td><td>-8.961473836696458</td><td>--</td><td>16.44605</td><td>17.254313</td><td>15.512073</td><td>4971.946712757077</td><td>1712.7423940973601</td><td>4946.854034148886</td><td>2040.6309665776955</td><td>270.59358748807057</td><td>-24.15239953109631</td><td>1906.413537183059</td><td>4084.230052287745</td><td>12663.7099609375</td><td>6</td><td>6</td><td>1950</td><td>1951</td><td>4154</td><td>4156</td><td>1951.503326345807</td><td>4156.004827233616</td><td>0.24998893542357187</td><td>0.6377334141231203</td><td>-0.007908687943480763</td><td>5.364387546681602e-07</td><td>1.4304900354955495e-06</td><td>3.4452967145210556e-11</td><td>0.7986831068992615</td><td>0.49982765316963196</td><td>-1.5504109859466553</td><td>4.001747131347656</td><td>1.5686687231063843</td><td>0.09925328940153122</td><td>84706.375</td><td>97141.1953125</td><td>15438.5146484375</td><td>17900.36328125</td><td>1951</td><td>4155</td><td>1951</td><td>4155</td><td>0</td><td>84.76265336379899</td></tr>\n",
       "</table>"
      ],
      "text/plain": [
       "<Row index=223>\n",
       " obj   gaia  obj_id    GaiaId       source_id              ra              dec             parallax              pmra              pmdec        radial_velocity phot_g_mean_mag phot_bp_mean_mag phot_rp_mean_mag  phot_g_mean_flux phot_bp_mean_flux  phot_rp_mean_flux       r_est              RA_MJD            DEC_MJD              x_1               y_1             thresh       npix tnpix  xmin  xmax  ymin  ymax        x_2               y_2                 x2                 y2                   xy                  errx2                 erry2                  errxy                  a                   b                 theta               cxx               cyy                 cxy           cflux        flux          cpeak            peak      xcpeak ycpeak xpeak ypeak  flag      Distance    \n",
       "                                                                                                                                                                                                                                                                                                   deg                deg                                                                                                                                                                                                                                                                                                                                                                                                                                                                                                    \n",
       "int64 int64   str8      str9          int64             float64          float64           float64             float64            float64           float32         float32         float32          float32           float64           float64            float64           float64            float64            float64            float64           float64          float64      int64 int64 int64 int64 int64 int64      float64           float64            float64            float64              float64               float64               float64                float64              float64             float64             float64            float64           float64             float64        float64     float64        float64         float64     int64  int64  int64 int64 int64      float64     \n",
       "----- ----- -------- --------- ------------------- ----------------- ---------------- ------------------ ------------------- ------------------ --------------- --------------- ---------------- ---------------- ----------------- ------------------ ----------------- ------------------ ------------------ ------------------ ----------------- ----------------- ---------------- ----- ----- ----- ----- ----- ----- ----------------- ----------------- ------------------- ------------------ --------------------- --------------------- ---------------------- ---------------------- ------------------ ------------------- ------------------- ----------------- ------------------ ------------------- --------- ------------- ---------------- -------------- ------ ------ ----- ----- ----- -----------------\n",
       "  229  2647 obj_0229 gaia_2647 4066043619307330944 270.5936422175172 -24.152006996975 0.4900445089672835 -1.2775950779798508 -8.961473836696458              --        16.44605        17.254313        15.512073 4971.946712757077 1712.7423940973601 4946.854034148886 2040.6309665776955 270.59358748807057 -24.15239953109631 1906.413537183059 4084.230052287745 12663.7099609375     6     6  1950  1951  4154  4156 1951.503326345807 4156.004827233616 0.24998893542357187 0.6377334141231203 -0.007908687943480763 5.364387546681602e-07 1.4304900354955495e-06 3.4452967145210556e-11 0.7986831068992615 0.49982765316963196 -1.5504109859466553 4.001747131347656 1.5686687231063843 0.09925328940153122 84706.375 97141.1953125 15438.5146484375 17900.36328125   1951   4155  1951  4155     0 84.76265336379899"
      ]
     },
     "execution_count": 345,
     "metadata": {},
     "output_type": "execute_result"
    }
   ],
   "source": [
    "xmatch_tbl[ndx]"
   ]
  },
  {
   "cell_type": "code",
   "execution_count": 346,
   "metadata": {},
   "outputs": [
    {
     "data": {
      "text/html": [
       "<div><i>Table length=20</i>\n",
       "<table id=\"table139804317533136\" class=\"table-striped table-bordered table-condensed\">\n",
       "<thead><tr><th>obj_id</th><th>GaiaId</th><th>Distance</th></tr></thead>\n",
       "<thead><tr><th>str8</th><th>str9</th><th>float64</th></tr></thead>\n",
       "<tr><td>obj_0229</td><td>gaia_2647</td><td>84.76265336379899</td></tr>\n",
       "<tr><td>obj_0226</td><td>gaia_2330</td><td>76.0542344845211</td></tr>\n",
       "<tr><td>obj_0225</td><td>gaia_2276</td><td>74.90154502600922</td></tr>\n",
       "<tr><td>obj_0222</td><td>gaia_2273</td><td>74.00291280969704</td></tr>\n",
       "<tr><td>obj_0213</td><td>gaia_2237</td><td>73.34418909839138</td></tr>\n",
       "<tr><td>obj_0204</td><td>gaia_2167</td><td>69.54922081049885</td></tr>\n",
       "<tr><td>obj_0218</td><td>gaia_2189</td><td>68.29155387471141</td></tr>\n",
       "<tr><td>obj_0216</td><td>gaia_2274</td><td>65.68952498576363</td></tr>\n",
       "<tr><td>obj_0227</td><td>gaia_2317</td><td>64.7211998118058</td></tr>\n",
       "<tr><td>obj_0221</td><td>gaia_2272</td><td>60.38619318822772</td></tr>\n",
       "<tr><td>obj_0208</td><td>gaia_2102</td><td>59.27399326900305</td></tr>\n",
       "<tr><td>obj_0228</td><td>gaia_2445</td><td>55.866822253882894</td></tr>\n",
       "<tr><td>obj_0207</td><td>gaia_2126</td><td>54.89714522695758</td></tr>\n",
       "<tr><td>obj_0171</td><td>gaia_6220</td><td>54.38398268199036</td></tr>\n",
       "<tr><td>obj_0200</td><td>gaia_2008</td><td>52.8664185124543</td></tr>\n",
       "<tr><td>obj_0212</td><td>gaia_2150</td><td>52.63230859273859</td></tr>\n",
       "<tr><td>obj_0198</td><td>gaia_2035</td><td>52.04910893367958</td></tr>\n",
       "<tr><td>obj_0224</td><td>gaia_2390</td><td>51.73589823607838</td></tr>\n",
       "<tr><td>obj_0223</td><td>gaia_2392</td><td>50.20542482964807</td></tr>\n",
       "<tr><td>obj_0184</td><td>gaia_6301</td><td>49.529607288359465</td></tr>\n",
       "</table></div>"
      ],
      "text/plain": [
       "<Table length=20>\n",
       " obj_id    GaiaId       Distance     \n",
       "  str8      str9        float64      \n",
       "-------- --------- ------------------\n",
       "obj_0229 gaia_2647  84.76265336379899\n",
       "obj_0226 gaia_2330   76.0542344845211\n",
       "obj_0225 gaia_2276  74.90154502600922\n",
       "obj_0222 gaia_2273  74.00291280969704\n",
       "obj_0213 gaia_2237  73.34418909839138\n",
       "obj_0204 gaia_2167  69.54922081049885\n",
       "obj_0218 gaia_2189  68.29155387471141\n",
       "obj_0216 gaia_2274  65.68952498576363\n",
       "obj_0227 gaia_2317   64.7211998118058\n",
       "obj_0221 gaia_2272  60.38619318822772\n",
       "obj_0208 gaia_2102  59.27399326900305\n",
       "obj_0228 gaia_2445 55.866822253882894\n",
       "obj_0207 gaia_2126  54.89714522695758\n",
       "obj_0171 gaia_6220  54.38398268199036\n",
       "obj_0200 gaia_2008   52.8664185124543\n",
       "obj_0212 gaia_2150  52.63230859273859\n",
       "obj_0198 gaia_2035  52.04910893367958\n",
       "obj_0224 gaia_2390  51.73589823607838\n",
       "obj_0223 gaia_2392  50.20542482964807\n",
       "obj_0184 gaia_6301 49.529607288359465"
      ]
     },
     "execution_count": 346,
     "metadata": {},
     "output_type": "execute_result"
    }
   ],
   "source": [
    "cols = ['obj_id', 'GaiaId', 'Distance']\n",
    "xmatch_tbl.sort('Distance', reverse=True)\n",
    "xmatch_tbl[cols][:20]"
   ]
  },
  {
   "cell_type": "code",
   "execution_count": 279,
   "metadata": {},
   "outputs": [
    {
     "name": "stdout",
     "output_type": "stream",
     "text": [
      "Detector: nausicaa.coo, Number of  RMSE: 1.1590773423714407\n"
     ]
    }
   ],
   "source": [
    "coo_maps = '/home/kevin/repos/ReipurthBallyProject/SubaruCoordinateMaps'\n",
    "for detector in ['nausicaa.coo']:\n",
    "    coo_path = os.path.join(coo_maps, detector)\n",
    "    coo_df = coo2df(coo_path)\n",
    "    src = np.array([coo_df.x_in, coo_df.y_in]).T\n",
    "    dst = np.array([coo_df.x_ref, coo_df.y_ref]).T\n",
    "    tran = sk.transform.estimate_transform('polynomial', src,dst, 3)\n",
    "    resid = tran.residuals(src, dst)\n",
    "    rmse = np.sqrt((resid**2).mean())\n",
    "    print(f'Detector: {detector}, Number of  RMSE: {rmse}')"
   ]
  },
  {
   "cell_type": "code",
   "execution_count": 280,
   "metadata": {},
   "outputs": [
    {
     "data": {
      "text/plain": [
       "array([1.3440902 , 0.636933  , 0.70922539, 1.12447224, 0.19656326,\n",
       "       0.77386843, 1.75414895, 1.01072144, 0.31726802, 0.07278188,\n",
       "       0.34111454, 1.43377423, 0.7115632 , 0.77356316, 2.20890001,\n",
       "       1.4817619 , 1.2234361 , 0.93549607, 2.42893444, 1.25273316,\n",
       "       0.5040395 , 1.06858764, 1.28427304, 1.4086789 , 0.6194247 ,\n",
       "       0.8228082 , 0.82269698, 0.98577224, 0.37987198, 0.38027315,\n",
       "       0.63857292, 0.28632867, 0.57344964, 1.34964116, 0.68606098,\n",
       "       1.98049827, 0.82304264, 1.45766523, 0.79572563, 0.11876619,\n",
       "       0.70049311, 0.90024538, 1.17367369, 1.67503353, 2.11808465,\n",
       "       0.449803  , 1.58075045, 0.26578342, 0.33384981, 1.31508445,\n",
       "       2.53144929])"
      ]
     },
     "execution_count": 280,
     "metadata": {},
     "output_type": "execute_result"
    }
   ],
   "source": [
    "resid"
   ]
  },
  {
   "cell_type": "code",
   "execution_count": 285,
   "metadata": {},
   "outputs": [
    {
     "data": {
      "text/plain": [
       "array([ 6.95369525,  8.11828741,  8.432632  ,  9.08221972,  9.54041904,\n",
       "       10.25870724, 10.25870724, 10.79901739, 10.79901739, 10.79901739,\n",
       "       11.31354693, 11.92550436, 11.92550436, 11.92557507, 13.17213332,\n",
       "       13.17214997, 23.07517108, 24.37007807, 24.62088554, 24.62091513,\n",
       "       25.3584813 , 26.38753015, 27.15246165, 28.11588302, 28.11596939,\n",
       "       28.62122743, 28.62122884, 28.76398653, 28.97678482, 30.62606096,\n",
       "       30.892417  , 31.41823959, 32.44448114, 32.63320378, 32.94550467,\n",
       "       34.46447144, 36.65304986, 36.9313674 , 37.31744031, 47.59893924,\n",
       "       49.93210332, 51.07819957, 51.07820116, 51.52297051, 51.88128442,\n",
       "       69.95112815, 70.21543132, 72.65759062, 72.83732749, 76.40541619,\n",
       "       80.77814982])"
      ]
     },
     "execution_count": 285,
     "metadata": {},
     "output_type": "execute_result"
    }
   ],
   "source": [
    "off2= (src-dst)**2\n",
    "dist2 = np.sqrt(off2.sum(axis=1))\n",
    "dist2.sort()\n",
    "dist2"
   ]
  },
  {
   "cell_type": "code",
   "execution_count": null,
   "metadata": {},
   "outputs": [],
   "source": []
  },
  {
   "cell_type": "code",
   "execution_count": 268,
   "metadata": {},
   "outputs": [
    {
     "data": {
      "text/html": [
       "<div><i>Table length=2</i>\n",
       "<table id=\"table139804319530672\" class=\"table-striped table-bordered table-condensed\">\n",
       "<thead><tr><th>obj</th><th>gaia</th><th>obj_id</th><th>GaiaId</th><th>source_id</th><th>ra</th><th>dec</th><th>parallax</th><th>pmra</th><th>pmdec</th><th>radial_velocity</th><th>phot_g_mean_mag</th><th>phot_bp_mean_mag</th><th>phot_rp_mean_mag</th><th>phot_g_mean_flux</th><th>phot_bp_mean_flux</th><th>phot_rp_mean_flux</th><th>r_est</th><th>RA_MJD</th><th>DEC_MJD</th><th>x_1</th><th>y_1</th><th>thresh</th><th>npix</th><th>tnpix</th><th>xmin</th><th>xmax</th><th>ymin</th><th>ymax</th><th>x_2</th><th>y_2</th><th>x2</th><th>y2</th><th>xy</th><th>errx2</th><th>erry2</th><th>errxy</th><th>a</th><th>b</th><th>theta</th><th>cxx</th><th>cyy</th><th>cxy</th><th>cflux</th><th>flux</th><th>cpeak</th><th>peak</th><th>xcpeak</th><th>ycpeak</th><th>xpeak</th><th>ypeak</th><th>flag</th></tr></thead>\n",
       "<thead><tr><th></th><th></th><th></th><th></th><th></th><th></th><th></th><th></th><th></th><th></th><th></th><th></th><th></th><th></th><th></th><th></th><th></th><th></th><th>deg</th><th>deg</th><th></th><th></th><th></th><th></th><th></th><th></th><th></th><th></th><th></th><th></th><th></th><th></th><th></th><th></th><th></th><th></th><th></th><th></th><th></th><th></th><th></th><th></th><th></th><th></th><th></th><th></th><th></th><th></th><th></th><th></th><th></th><th></th></tr></thead>\n",
       "<thead><tr><th>int64</th><th>int64</th><th>str8</th><th>str9</th><th>int64</th><th>float64</th><th>float64</th><th>float64</th><th>float64</th><th>float64</th><th>float32</th><th>float32</th><th>float32</th><th>float32</th><th>float64</th><th>float64</th><th>float64</th><th>float64</th><th>float64</th><th>float64</th><th>float64</th><th>float64</th><th>float64</th><th>int64</th><th>int64</th><th>int64</th><th>int64</th><th>int64</th><th>int64</th><th>float64</th><th>float64</th><th>float64</th><th>float64</th><th>float64</th><th>float64</th><th>float64</th><th>float64</th><th>float64</th><th>float64</th><th>float64</th><th>float64</th><th>float64</th><th>float64</th><th>float64</th><th>float64</th><th>float64</th><th>float64</th><th>int64</th><th>int64</th><th>int64</th><th>int64</th><th>int64</th></tr></thead>\n",
       "<tr><td>1</td><td>2771</td><td>obj_0001</td><td>gaia_2771</td><td>4066019597532160640</td><td>270.64686339766314</td><td>-24.373221093650276</td><td>2.0018252201751165</td><td>-0.47891786862956603</td><td>-11.729845042367296</td><td>--</td><td>16.522076</td><td>17.39112</td><td>15.500379</td><td>4635.713389387472</td><td>1509.9703953894975</td><td>5000.423591614373</td><td>499.5441110051164</td><td>270.6468475194534</td><td>-24.373736602468757</td><td>1032.9723362874156</td><td>141.23533842114728</td><td>12663.7099609375</td><td>18</td><td>16</td><td>1019</td><td>1023</td><td>141</td><td>144</td><td>1021.7292893319351</td><td>143.4918537174976</td><td>1.367072654498128</td><td>1.0224742474110307</td><td>-0.00768812062378732</td><td>5.019149526389222e-07</td><td>3.3029607327965273e-07</td><td>1.145498383214586e-10</td><td>1.1692920923233032</td><td>1.0110899209976196</td><td>-0.02229558862745762</td><td>0.73152095079422</td><td>0.9780610799789429</td><td>0.011000807397067547</td><td>399078.9375</td><td>440438.96875</td><td>33580.875</td><td>41761.86328125</td><td>1021</td><td>142</td><td>1021</td><td>142</td><td>0</td></tr>\n",
       "<tr><td>2</td><td>2755</td><td>obj_0002</td><td>gaia_2755</td><td>4066019533130570112</td><td>270.6778924634641</td><td>-24.366947670627912</td><td>1.0535055998097655</td><td>-2.6619230651726475</td><td>-0.3980124317116792</td><td>34.35718</td><td>14.144041</td><td>14.537588</td><td>13.573222</td><td>41431.483942727704</td><td>20911.326955480952</td><td>29503.22463090857</td><td>949.2118505877642</td><td>270.67777012882135</td><td>-24.36695979373863</td><td>531.174014832679</td><td>262.8862619033626</td><td>12663.7099609375</td><td>78</td><td>70</td><td>502</td><td>511</td><td>251</td><td>260</td><td>507.6939188083178</td><td>256.7394642595332</td><td>3.18239142056893</td><td>3.8826969457907197</td><td>0.03167911255053113</td><td>3.6433662691693833e-08</td><td>3.620870153413762e-08</td><td>4.2263847940495817e-10</td><td>1.9708188772201538</td><td>1.783524990081787</td><td>1.525683045387268</td><td>0.31425461173057556</td><td>0.25757384300231934</td><td>-0.00512803765013814</td><td>5846763.0</td><td>5916600.5</td><td>198793.65625</td><td>200953.34375</td><td>507</td><td>256</td><td>507</td><td>256</td><td>0</td></tr>\n",
       "</table></div>"
      ],
      "text/plain": [
       "<Table length=2>\n",
       " obj   gaia  obj_id    GaiaId       source_id      ... ycpeak xpeak ypeak  flag\n",
       "                                                   ...                         \n",
       "int64 int64   str8      str9          int64        ... int64  int64 int64 int64\n",
       "----- ----- -------- --------- ------------------- ... ------ ----- ----- -----\n",
       "    1  2771 obj_0001 gaia_2771 4066019597532160640 ...    142  1021   142     0\n",
       "    2  2755 obj_0002 gaia_2755 4066019533130570112 ...    256   507   256     0"
      ]
     },
     "execution_count": 268,
     "metadata": {},
     "output_type": "execute_result"
    }
   ],
   "source": [
    "xmatch_tbl[:2]"
   ]
  },
  {
   "cell_type": "code",
   "execution_count": 269,
   "metadata": {},
   "outputs": [
    {
     "data": {
      "text/html": [
       "<div><i>Table length=1</i>\n",
       "<table id=\"table139804319530096\" class=\"table-striped table-bordered table-condensed\">\n",
       "<thead><tr><th>obj</th><th>gaia</th><th>obj_id</th><th>GaiaId</th><th>source_id</th><th>ra</th><th>dec</th><th>parallax</th><th>pmra</th><th>pmdec</th><th>radial_velocity</th><th>phot_g_mean_mag</th><th>phot_bp_mean_mag</th><th>phot_rp_mean_mag</th><th>phot_g_mean_flux</th><th>phot_bp_mean_flux</th><th>phot_rp_mean_flux</th><th>r_est</th><th>RA_MJD</th><th>DEC_MJD</th><th>x_1</th><th>y_1</th><th>thresh</th><th>npix</th><th>tnpix</th><th>xmin</th><th>xmax</th><th>ymin</th><th>ymax</th><th>x_2</th><th>y_2</th><th>x2</th><th>y2</th><th>xy</th><th>errx2</th><th>erry2</th><th>errxy</th><th>a</th><th>b</th><th>theta</th><th>cxx</th><th>cyy</th><th>cxy</th><th>cflux</th><th>flux</th><th>cpeak</th><th>peak</th><th>xcpeak</th><th>ycpeak</th><th>xpeak</th><th>ypeak</th><th>flag</th></tr></thead>\n",
       "<thead><tr><th></th><th></th><th></th><th></th><th></th><th></th><th></th><th></th><th></th><th></th><th></th><th></th><th></th><th></th><th></th><th></th><th></th><th></th><th>deg</th><th>deg</th><th></th><th></th><th></th><th></th><th></th><th></th><th></th><th></th><th></th><th></th><th></th><th></th><th></th><th></th><th></th><th></th><th></th><th></th><th></th><th></th><th></th><th></th><th></th><th></th><th></th><th></th><th></th><th></th><th></th><th></th><th></th><th></th></tr></thead>\n",
       "<thead><tr><th>int64</th><th>int64</th><th>str8</th><th>str9</th><th>int64</th><th>float64</th><th>float64</th><th>float64</th><th>float64</th><th>float64</th><th>float32</th><th>float32</th><th>float32</th><th>float32</th><th>float64</th><th>float64</th><th>float64</th><th>float64</th><th>float64</th><th>float64</th><th>float64</th><th>float64</th><th>float64</th><th>int64</th><th>int64</th><th>int64</th><th>int64</th><th>int64</th><th>int64</th><th>float64</th><th>float64</th><th>float64</th><th>float64</th><th>float64</th><th>float64</th><th>float64</th><th>float64</th><th>float64</th><th>float64</th><th>float64</th><th>float64</th><th>float64</th><th>float64</th><th>float64</th><th>float64</th><th>float64</th><th>float64</th><th>int64</th><th>int64</th><th>int64</th><th>int64</th><th>int64</th></tr></thead>\n",
       "<tr><td>108</td><td>5386</td><td>obj_0108</td><td>gaia_5386</td><td>4066033208306504064</td><td>270.647394814581</td><td>-24.261102769193226</td><td>0.6437017469616684</td><td>2.176462934945411</td><td>-2.0533573515126506</td><td>-21.11494</td><td>15.182337</td><td>17.018452</td><td>13.898112</td><td>15922.533406593297</td><td>2128.3155829333864</td><td>21873.239954922137</td><td>1553.5145037590657</td><td>270.6475083361875</td><td>-24.261188427890165</td><td>1025.949075511825</td><td>2147.120748321123</td><td>12663.7099609375</td><td>39</td><td>37</td><td>1022</td><td>1028</td><td>2159</td><td>2165</td><td>1026.2111378048717</td><td>2162.745301223797</td><td>2.1573578715417714</td><td>2.1568078599844336</td><td>-0.13271708734027854</td><td>1.408436308715484e-07</td><td>1.4125904892249683e-07</td><td>-1.3740367891017554e-08</td><td>1.5132086277008057</td><td>1.4228019714355469</td><td>-0.7843620777130127</td><td>0.465291291475296</td><td>0.4654099643230438</td><td>0.05726250261068344</td><td>1482432.625</td><td>1545469.625</td><td>86302.7421875</td><td>105951.2734375</td><td>1025</td><td>2162</td><td>1025</td><td>2162</td><td>0</td></tr>\n",
       "</table></div>"
      ],
      "text/plain": [
       "<Table length=1>\n",
       " obj   gaia  obj_id    GaiaId       source_id      ... ycpeak xpeak ypeak  flag\n",
       "                                                   ...                         \n",
       "int64 int64   str8      str9          int64        ... int64  int64 int64 int64\n",
       "----- ----- -------- --------- ------------------- ... ------ ----- ----- -----\n",
       "  108  5386 obj_0108 gaia_5386 4066033208306504064 ...   2162  1025  2162     0"
      ]
     },
     "execution_count": 269,
     "metadata": {},
     "output_type": "execute_result"
    }
   ],
   "source": [
    "row = xmatch_tbl['obj_id'] == 'obj_0108'\n",
    "xmatch_tbl[row]"
   ]
  }
 ],
 "metadata": {
  "kernelspec": {
   "display_name": "Subaru",
   "language": "python",
   "name": "python3"
  },
  "language_info": {
   "codemirror_mode": {
    "name": "ipython",
    "version": 3
   },
   "file_extension": ".py",
   "mimetype": "text/x-python",
   "name": "python",
   "nbconvert_exporter": "python",
   "pygments_lexer": "ipython3",
   "version": "3.10.16"
  }
 },
 "nbformat": 4,
 "nbformat_minor": 2
}
