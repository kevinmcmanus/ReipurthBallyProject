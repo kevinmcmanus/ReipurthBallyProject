{
 "cells": [
  {
   "cell_type": "code",
   "execution_count": 1,
   "metadata": {},
   "outputs": [],
   "source": [
    "import numpy as np\n",
    "import pandas as pd"
   ]
  },
  {
   "cell_type": "code",
   "execution_count": 2,
   "metadata": {},
   "outputs": [],
   "source": [
    "import skimage as sk\n"
   ]
  },
  {
   "cell_type": "code",
   "execution_count": 3,
   "metadata": {},
   "outputs": [],
   "source": [
    "import sys\n",
    "sys.path.append(r'C:\\Users\\Kevin\\repos\\ReipurthBallyProject')"
   ]
  },
  {
   "cell_type": "code",
   "execution_count": 4,
   "metadata": {},
   "outputs": [],
   "source": [
    "from src.r_d_src.coo_utils import coo2df"
   ]
  },
  {
   "cell_type": "code",
   "execution_count": 5,
   "metadata": {},
   "outputs": [],
   "source": [
    "satsuki_df = coo2df(r'C:\\Users\\Kevin\\repos\\ReipurthBallyProject\\SubaruCoordinateMaps\\satsuki.coo')"
   ]
  },
  {
   "cell_type": "code",
   "execution_count": 6,
   "metadata": {},
   "outputs": [
    {
     "data": {
      "text/html": [
       "<div>\n",
       "<style scoped>\n",
       "    .dataframe tbody tr th:only-of-type {\n",
       "        vertical-align: middle;\n",
       "    }\n",
       "\n",
       "    .dataframe tbody tr th {\n",
       "        vertical-align: top;\n",
       "    }\n",
       "\n",
       "    .dataframe thead th {\n",
       "        text-align: right;\n",
       "    }\n",
       "</style>\n",
       "<table border=\"1\" class=\"dataframe\">\n",
       "  <thead>\n",
       "    <tr style=\"text-align: right;\">\n",
       "      <th></th>\n",
       "      <th>x_ref</th>\n",
       "      <th>y_ref</th>\n",
       "      <th>x_in</th>\n",
       "      <th>y_in</th>\n",
       "    </tr>\n",
       "  </thead>\n",
       "  <tbody>\n",
       "    <tr>\n",
       "      <th>0</th>\n",
       "      <td>1986.0542</td>\n",
       "      <td>94.003948</td>\n",
       "      <td>2004.39440</td>\n",
       "      <td>68.327594</td>\n",
       "    </tr>\n",
       "    <tr>\n",
       "      <th>1</th>\n",
       "      <td>1945.7056</td>\n",
       "      <td>53.655391</td>\n",
       "      <td>1960.37780</td>\n",
       "      <td>27.979037</td>\n",
       "    </tr>\n",
       "    <tr>\n",
       "      <th>2</th>\n",
       "      <td>1718.2865</td>\n",
       "      <td>119.680300</td>\n",
       "      <td>1732.95870</td>\n",
       "      <td>94.003948</td>\n",
       "    </tr>\n",
       "    <tr>\n",
       "      <th>3</th>\n",
       "      <td>1718.2865</td>\n",
       "      <td>71.995644</td>\n",
       "      <td>1729.29060</td>\n",
       "      <td>49.987341</td>\n",
       "    </tr>\n",
       "    <tr>\n",
       "      <th>4</th>\n",
       "      <td>1751.2989</td>\n",
       "      <td>71.995644</td>\n",
       "      <td>1765.97110</td>\n",
       "      <td>46.319290</td>\n",
       "    </tr>\n",
       "    <tr>\n",
       "      <th>...</th>\n",
       "      <td>...</td>\n",
       "      <td>...</td>\n",
       "      <td>...</td>\n",
       "      <td>...</td>\n",
       "    </tr>\n",
       "    <tr>\n",
       "      <th>75</th>\n",
       "      <td>938.1168</td>\n",
       "      <td>3801.921400</td>\n",
       "      <td>947.48534</td>\n",
       "      <td>3810.438300</td>\n",
       "    </tr>\n",
       "    <tr>\n",
       "      <th>76</th>\n",
       "      <td>1080.3482</td>\n",
       "      <td>3908.382000</td>\n",
       "      <td>1088.01340</td>\n",
       "      <td>3915.195500</td>\n",
       "    </tr>\n",
       "    <tr>\n",
       "      <th>77</th>\n",
       "      <td>1575.7865</td>\n",
       "      <td>3991.431400</td>\n",
       "      <td>1584.30330</td>\n",
       "      <td>3999.005900</td>\n",
       "    </tr>\n",
       "    <tr>\n",
       "      <th>78</th>\n",
       "      <td>1880.6579</td>\n",
       "      <td>4051.407400</td>\n",
       "      <td>1890.02250</td>\n",
       "      <td>4058.307600</td>\n",
       "    </tr>\n",
       "    <tr>\n",
       "      <th>79</th>\n",
       "      <td>1934.8740</td>\n",
       "      <td>4070.361300</td>\n",
       "      <td>1944.73150</td>\n",
       "      <td>4078.515400</td>\n",
       "    </tr>\n",
       "  </tbody>\n",
       "</table>\n",
       "<p>80 rows × 4 columns</p>\n",
       "</div>"
      ],
      "text/plain": [
       "        x_ref        y_ref        x_in         y_in\n",
       "0   1986.0542    94.003948  2004.39440    68.327594\n",
       "1   1945.7056    53.655391  1960.37780    27.979037\n",
       "2   1718.2865   119.680300  1732.95870    94.003948\n",
       "3   1718.2865    71.995644  1729.29060    49.987341\n",
       "4   1751.2989    71.995644  1765.97110    46.319290\n",
       "..        ...          ...         ...          ...\n",
       "75   938.1168  3801.921400   947.48534  3810.438300\n",
       "76  1080.3482  3908.382000  1088.01340  3915.195500\n",
       "77  1575.7865  3991.431400  1584.30330  3999.005900\n",
       "78  1880.6579  4051.407400  1890.02250  4058.307600\n",
       "79  1934.8740  4070.361300  1944.73150  4078.515400\n",
       "\n",
       "[80 rows x 4 columns]"
      ]
     },
     "execution_count": 6,
     "metadata": {},
     "output_type": "execute_result"
    }
   ],
   "source": [
    "satsuki_df"
   ]
  },
  {
   "cell_type": "code",
   "execution_count": 7,
   "metadata": {},
   "outputs": [],
   "source": [
    "src = np.array([satsuki_df.x_in, satsuki_df.y_in]).T\n",
    "dst = np.array([satsuki_df.x_ref, satsuki_df.y_ref]).T"
   ]
  },
  {
   "cell_type": "code",
   "execution_count": 8,
   "metadata": {},
   "outputs": [],
   "source": [
    "tran = sk.transform.estimate_transform('polynomial', src,dst, 3)"
   ]
  },
  {
   "cell_type": "code",
   "execution_count": 9,
   "metadata": {},
   "outputs": [],
   "source": [
    "def rmse(resid):\n",
    "    RMSE = np.sqrt((resid**2).mean())\n",
    "    return RMSE"
   ]
  },
  {
   "cell_type": "code",
   "execution_count": 10,
   "metadata": {},
   "outputs": [
    {
     "data": {
      "text/plain": [
       "1.2059969731883307"
      ]
     },
     "execution_count": 10,
     "metadata": {},
     "output_type": "execute_result"
    }
   ],
   "source": [
    "resid = tran.residuals(src, dst)\n",
    "rmse(resid)"
   ]
  },
  {
   "cell_type": "code",
   "execution_count": 11,
   "metadata": {},
   "outputs": [
    {
     "name": "stdout",
     "output_type": "stream",
     "text": [
      "Detector: chihiro.coo, Number of Points: 68, RMSE: 2.0524217551510096\n",
      "Detector: clarisse.coo, Number of Points: 78, RMSE: 3.3100906165179977\n",
      "Detector: fio.coo, Number of Points: 54, RMSE: 3.8304669770356994\n",
      "Detector: kiki.coo, Number of Points: 51, RMSE: 2.0682778001658164\n",
      "Detector: nausicaa.coo, Number of Points: 51, RMSE: 1.1590772147647659\n",
      "Detector: ponyo.coo, Number of Points: 70, RMSE: 1.6700033305330588\n",
      "Detector: san.coo, Number of Points: 92, RMSE: 2.5453589806923773\n",
      "Detector: satsuki.coo, Number of Points: 80, RMSE: 1.2059969731883307\n",
      "Detector: sheeta.coo, Number of Points: 53, RMSE: 3.7128780551456586\n",
      "Detector: sophie.coo, Number of Points: 49, RMSE: 10.599157412578823\n",
      "Detector: sophie.coo.bak, Number of Points: 50, RMSE: 12.663184747056043\n"
     ]
    }
   ],
   "source": [
    "import os\n",
    "coo_maps = r'C:\\Users\\Kevin\\repos\\ReipurthBallyProject\\SubaruCoordinateMaps'\n",
    "for detector in os.listdir(coo_maps):\n",
    "    coo_path = os.path.join(coo_maps, detector)\n",
    "    coo_df = coo2df(coo_path)\n",
    "    src = np.array([coo_df.x_in, coo_df.y_in]).T\n",
    "    dst = np.array([coo_df.x_ref, coo_df.y_ref]).T\n",
    "    tran = sk.transform.estimate_transform('polynomial', src,dst, 3)\n",
    "    resid = tran.residuals(src, dst)\n",
    "    RMSE = rmse(resid)\n",
    "    print(f'Detector: {detector}, Number of Points: {len(resid)}, RMSE: {RMSE}')\n"
   ]
  },
  {
   "cell_type": "code",
   "execution_count": 12,
   "metadata": {},
   "outputs": [
    {
     "name": "stdout",
     "output_type": "stream",
     "text": [
      "Detector: satsuki.coo, Number of  RMSE: 1.2059969731883307\n"
     ]
    }
   ],
   "source": [
    "for detector in ['satsuki.coo']:\n",
    "    coo_path = os.path.join(coo_maps, detector)\n",
    "    coo_df = coo2df(coo_path)\n",
    "    src = np.array([coo_df.x_in, coo_df.y_in]).T\n",
    "    dst = np.array([coo_df.x_ref, coo_df.y_ref]).T\n",
    "    tran = sk.transform.estimate_transform('polynomial', src,dst, 3)\n",
    "    resid = tran.residuals(src, dst)\n",
    "    RMSE = rmse(resid)\n",
    "    print(f'Detector: {detector}, Number of  RMSE: {RMSE}')"
   ]
  },
  {
   "cell_type": "code",
   "execution_count": 13,
   "metadata": {},
   "outputs": [
    {
     "data": {
      "text/plain": [
       "(3.9639358902060486, 3)"
      ]
     },
     "execution_count": 13,
     "metadata": {},
     "output_type": "execute_result"
    }
   ],
   "source": [
    "resid.max(), resid.argmax()"
   ]
  },
  {
   "cell_type": "code",
   "execution_count": 14,
   "metadata": {},
   "outputs": [
    {
     "data": {
      "text/plain": [
       "True"
      ]
     },
     "execution_count": 14,
     "metadata": {},
     "output_type": "execute_result"
    }
   ],
   "source": [
    "np.allclose(np.sqrt(((dst - tran(src))**2).sum(axis=1)), resid)"
   ]
  },
  {
   "cell_type": "code",
   "execution_count": 15,
   "metadata": {},
   "outputs": [],
   "source": [
    "def df2reg(df, regpath, x='x_in', y='y_in', radius=8, nameroot='Region'):\n",
    "    reghdr =[ '# Region file format: DS9 version 4.1',\n",
    "             'global color=green dashlist=8 3 width=1 font=\"helvetica 10 normal roman\" select=1 highlite=1 dash=0 fixed=0 edit=1 move=1 delete=1 include=1 source=1',\n",
    "            'physical']\n",
    "    x_col = 1 if x == 'x_ref' else 3\n",
    "    y_col = 2 if y == 'y_ref' else 4\n",
    "    with open(regpath, 'w') as reg:\n",
    "        for hdr in reghdr:\n",
    "            reg.write(hdr+'\\n')\n",
    "        for i, r in enumerate(df.itertuples()):\n",
    "            title = '{' + f'{nameroot}_{i:03d}' + '}'\n",
    "            circ = f'Circle({r[x_col]}, {r[y_col]}, {radius}) # text={title}'\n",
    "            reg.write(circ+'\\n')\n",
    "\n",
    "        \n",
    "\n"
   ]
  },
  {
   "cell_type": "code",
   "execution_count": 16,
   "metadata": {},
   "outputs": [],
   "source": [
    "detector = 'nausicaa'\n",
    "coo_path = os.path.join(coo_maps, detector+'.coo')\n",
    "coo_df = coo2df(coo_path)\n",
    "\n",
    "regpath = os.path.join(r'C:\\Users\\Kevin\\repos\\ReipurthBallyProject\\data\\M8\\N-A-L656',detector+'.reg')\n",
    "\n",
    "df2reg(coo_df, regpath)"
   ]
  },
  {
   "cell_type": "code",
   "execution_count": 17,
   "metadata": {},
   "outputs": [],
   "source": [
    "import sep\n",
    "from astropy.io import fits"
   ]
  },
  {
   "cell_type": "code",
   "execution_count": 18,
   "metadata": {},
   "outputs": [],
   "source": [
    "def find_objects(unbiased_image, thresh = 3):\n",
    "    with fits.open(unbiased_image) as f:\n",
    "        hdr = f[0].header.copy()\n",
    "        img = f[0].data.copy()\n",
    "    img = img.byteswap().newbyteorder()\n",
    "    bkg = sep.Background(img)\n",
    "    bkg_img = bkg.back() #2d array of background\n",
    "\n",
    "    img_noback = img - bkg\n",
    "    objects = sep.extract(img_noback, thresh=thresh, err = bkg.globalrms)\n",
    "    objects_df = pd.DataFrame(objects)\n",
    "    return objects_df"
   ]
  },
  {
   "cell_type": "code",
   "execution_count": 19,
   "metadata": {},
   "outputs": [],
   "source": [
    "img_path = r'C:\\Users\\Kevin\\repos\\ReipurthBallyProject\\data\\M8\\N-A-L656\\no_bias\\SUPA01564800.fits'\n",
    "object_df = find_objects(img_path,thresh=50)\n"
   ]
  },
  {
   "cell_type": "code",
   "execution_count": 20,
   "metadata": {},
   "outputs": [
    {
     "data": {
      "text/html": [
       "<div>\n",
       "<style scoped>\n",
       "    .dataframe tbody tr th:only-of-type {\n",
       "        vertical-align: middle;\n",
       "    }\n",
       "\n",
       "    .dataframe tbody tr th {\n",
       "        vertical-align: top;\n",
       "    }\n",
       "\n",
       "    .dataframe thead th {\n",
       "        text-align: right;\n",
       "    }\n",
       "</style>\n",
       "<table border=\"1\" class=\"dataframe\">\n",
       "  <thead>\n",
       "    <tr style=\"text-align: right;\">\n",
       "      <th></th>\n",
       "      <th>thresh</th>\n",
       "      <th>npix</th>\n",
       "      <th>tnpix</th>\n",
       "      <th>xmin</th>\n",
       "      <th>xmax</th>\n",
       "      <th>ymin</th>\n",
       "      <th>ymax</th>\n",
       "      <th>x</th>\n",
       "      <th>y</th>\n",
       "      <th>x2</th>\n",
       "      <th>...</th>\n",
       "      <th>cxy</th>\n",
       "      <th>cflux</th>\n",
       "      <th>flux</th>\n",
       "      <th>cpeak</th>\n",
       "      <th>peak</th>\n",
       "      <th>xcpeak</th>\n",
       "      <th>ycpeak</th>\n",
       "      <th>xpeak</th>\n",
       "      <th>ypeak</th>\n",
       "      <th>flag</th>\n",
       "    </tr>\n",
       "  </thead>\n",
       "  <tbody>\n",
       "    <tr>\n",
       "      <th>0</th>\n",
       "      <td>6641.522461</td>\n",
       "      <td>1871</td>\n",
       "      <td>1800</td>\n",
       "      <td>8</td>\n",
       "      <td>1044</td>\n",
       "      <td>0</td>\n",
       "      <td>2</td>\n",
       "      <td>513.168784</td>\n",
       "      <td>0.409608</td>\n",
       "      <td>32609.195080</td>\n",
       "      <td>...</td>\n",
       "      <td>0.001279</td>\n",
       "      <td>3.232333e+07</td>\n",
       "      <td>3.828258e+07</td>\n",
       "      <td>25922.291016</td>\n",
       "      <td>40604.335938</td>\n",
       "      <td>486</td>\n",
       "      <td>0</td>\n",
       "      <td>486</td>\n",
       "      <td>0</td>\n",
       "      <td>3</td>\n",
       "    </tr>\n",
       "    <tr>\n",
       "      <th>1</th>\n",
       "      <td>6641.522461</td>\n",
       "      <td>65</td>\n",
       "      <td>60</td>\n",
       "      <td>784</td>\n",
       "      <td>804</td>\n",
       "      <td>0</td>\n",
       "      <td>4</td>\n",
       "      <td>794.071595</td>\n",
       "      <td>1.303218</td>\n",
       "      <td>10.433083</td>\n",
       "      <td>...</td>\n",
       "      <td>0.073499</td>\n",
       "      <td>2.317405e+06</td>\n",
       "      <td>2.478738e+06</td>\n",
       "      <td>120508.148438</td>\n",
       "      <td>159052.906250</td>\n",
       "      <td>794</td>\n",
       "      <td>2</td>\n",
       "      <td>794</td>\n",
       "      <td>1</td>\n",
       "      <td>3</td>\n",
       "    </tr>\n",
       "    <tr>\n",
       "      <th>2</th>\n",
       "      <td>6641.522461</td>\n",
       "      <td>1613</td>\n",
       "      <td>1351</td>\n",
       "      <td>693</td>\n",
       "      <td>1389</td>\n",
       "      <td>0</td>\n",
       "      <td>2</td>\n",
       "      <td>975.752265</td>\n",
       "      <td>0.421780</td>\n",
       "      <td>29137.773239</td>\n",
       "      <td>...</td>\n",
       "      <td>-0.001855</td>\n",
       "      <td>2.651141e+07</td>\n",
       "      <td>3.153486e+07</td>\n",
       "      <td>32743.623047</td>\n",
       "      <td>56744.062500</td>\n",
       "      <td>1087</td>\n",
       "      <td>0</td>\n",
       "      <td>1087</td>\n",
       "      <td>0</td>\n",
       "      <td>3</td>\n",
       "    </tr>\n",
       "    <tr>\n",
       "      <th>3</th>\n",
       "      <td>6641.522461</td>\n",
       "      <td>468</td>\n",
       "      <td>359</td>\n",
       "      <td>0</td>\n",
       "      <td>187</td>\n",
       "      <td>0</td>\n",
       "      <td>4</td>\n",
       "      <td>63.028453</td>\n",
       "      <td>0.451371</td>\n",
       "      <td>2396.897449</td>\n",
       "      <td>...</td>\n",
       "      <td>-0.002884</td>\n",
       "      <td>6.855893e+06</td>\n",
       "      <td>8.161418e+06</td>\n",
       "      <td>28992.990234</td>\n",
       "      <td>50182.976562</td>\n",
       "      <td>1</td>\n",
       "      <td>0</td>\n",
       "      <td>0</td>\n",
       "      <td>0</td>\n",
       "      <td>3</td>\n",
       "    </tr>\n",
       "    <tr>\n",
       "      <th>4</th>\n",
       "      <td>6641.522461</td>\n",
       "      <td>1562</td>\n",
       "      <td>1399</td>\n",
       "      <td>1275</td>\n",
       "      <td>2047</td>\n",
       "      <td>0</td>\n",
       "      <td>3</td>\n",
       "      <td>1819.077559</td>\n",
       "      <td>0.452636</td>\n",
       "      <td>80158.781442</td>\n",
       "      <td>...</td>\n",
       "      <td>0.003819</td>\n",
       "      <td>1.736041e+07</td>\n",
       "      <td>2.140818e+07</td>\n",
       "      <td>24888.074219</td>\n",
       "      <td>38575.242188</td>\n",
       "      <td>1431</td>\n",
       "      <td>0</td>\n",
       "      <td>1431</td>\n",
       "      <td>0</td>\n",
       "      <td>3</td>\n",
       "    </tr>\n",
       "    <tr>\n",
       "      <th>...</th>\n",
       "      <td>...</td>\n",
       "      <td>...</td>\n",
       "      <td>...</td>\n",
       "      <td>...</td>\n",
       "      <td>...</td>\n",
       "      <td>...</td>\n",
       "      <td>...</td>\n",
       "      <td>...</td>\n",
       "      <td>...</td>\n",
       "      <td>...</td>\n",
       "      <td>...</td>\n",
       "      <td>...</td>\n",
       "      <td>...</td>\n",
       "      <td>...</td>\n",
       "      <td>...</td>\n",
       "      <td>...</td>\n",
       "      <td>...</td>\n",
       "      <td>...</td>\n",
       "      <td>...</td>\n",
       "      <td>...</td>\n",
       "      <td>...</td>\n",
       "    </tr>\n",
       "    <tr>\n",
       "      <th>282</th>\n",
       "      <td>6641.522461</td>\n",
       "      <td>36</td>\n",
       "      <td>35</td>\n",
       "      <td>1408</td>\n",
       "      <td>1413</td>\n",
       "      <td>4104</td>\n",
       "      <td>4110</td>\n",
       "      <td>1410.696709</td>\n",
       "      <td>4106.787604</td>\n",
       "      <td>1.866789</td>\n",
       "      <td>...</td>\n",
       "      <td>-0.061597</td>\n",
       "      <td>5.972308e+05</td>\n",
       "      <td>6.277271e+05</td>\n",
       "      <td>33402.707031</td>\n",
       "      <td>40053.761719</td>\n",
       "      <td>1411</td>\n",
       "      <td>4107</td>\n",
       "      <td>1411</td>\n",
       "      <td>4107</td>\n",
       "      <td>0</td>\n",
       "    </tr>\n",
       "    <tr>\n",
       "      <th>283</th>\n",
       "      <td>6641.522461</td>\n",
       "      <td>37</td>\n",
       "      <td>32</td>\n",
       "      <td>959</td>\n",
       "      <td>964</td>\n",
       "      <td>4126</td>\n",
       "      <td>4132</td>\n",
       "      <td>961.429722</td>\n",
       "      <td>4128.984477</td>\n",
       "      <td>1.870247</td>\n",
       "      <td>...</td>\n",
       "      <td>-0.037491</td>\n",
       "      <td>5.438982e+05</td>\n",
       "      <td>5.708504e+05</td>\n",
       "      <td>29573.142578</td>\n",
       "      <td>34777.199219</td>\n",
       "      <td>961</td>\n",
       "      <td>4129</td>\n",
       "      <td>961</td>\n",
       "      <td>4129</td>\n",
       "      <td>0</td>\n",
       "    </tr>\n",
       "    <tr>\n",
       "      <th>284</th>\n",
       "      <td>6641.522461</td>\n",
       "      <td>13</td>\n",
       "      <td>13</td>\n",
       "      <td>1941</td>\n",
       "      <td>1944</td>\n",
       "      <td>4164</td>\n",
       "      <td>4167</td>\n",
       "      <td>1942.622248</td>\n",
       "      <td>4165.332839</td>\n",
       "      <td>0.903700</td>\n",
       "      <td>...</td>\n",
       "      <td>0.295505</td>\n",
       "      <td>1.139122e+05</td>\n",
       "      <td>1.274280e+05</td>\n",
       "      <td>11424.018555</td>\n",
       "      <td>13601.125977</td>\n",
       "      <td>1943</td>\n",
       "      <td>4165</td>\n",
       "      <td>1943</td>\n",
       "      <td>4165</td>\n",
       "      <td>0</td>\n",
       "    </tr>\n",
       "    <tr>\n",
       "      <th>285</th>\n",
       "      <td>6641.522461</td>\n",
       "      <td>12</td>\n",
       "      <td>10</td>\n",
       "      <td>1312</td>\n",
       "      <td>1316</td>\n",
       "      <td>4174</td>\n",
       "      <td>4176</td>\n",
       "      <td>1314.139373</td>\n",
       "      <td>4175.360553</td>\n",
       "      <td>1.444894</td>\n",
       "      <td>...</td>\n",
       "      <td>0.178911</td>\n",
       "      <td>1.361231e+05</td>\n",
       "      <td>1.733078e+05</td>\n",
       "      <td>16915.134766</td>\n",
       "      <td>29253.648438</td>\n",
       "      <td>1314</td>\n",
       "      <td>4176</td>\n",
       "      <td>1314</td>\n",
       "      <td>4176</td>\n",
       "      <td>2</td>\n",
       "    </tr>\n",
       "    <tr>\n",
       "      <th>286</th>\n",
       "      <td>6641.522461</td>\n",
       "      <td>28</td>\n",
       "      <td>15</td>\n",
       "      <td>1604</td>\n",
       "      <td>1608</td>\n",
       "      <td>4170</td>\n",
       "      <td>4176</td>\n",
       "      <td>1606.114837</td>\n",
       "      <td>4173.783512</td>\n",
       "      <td>0.787882</td>\n",
       "      <td>...</td>\n",
       "      <td>-0.233798</td>\n",
       "      <td>1.476940e+06</td>\n",
       "      <td>1.592747e+06</td>\n",
       "      <td>127996.992188</td>\n",
       "      <td>181661.828125</td>\n",
       "      <td>1606</td>\n",
       "      <td>4175</td>\n",
       "      <td>1607</td>\n",
       "      <td>4176</td>\n",
       "      <td>2</td>\n",
       "    </tr>\n",
       "  </tbody>\n",
       "</table>\n",
       "<p>287 rows × 30 columns</p>\n",
       "</div>"
      ],
      "text/plain": [
       "          thresh  npix  tnpix  xmin  xmax  ymin  ymax            x  \\\n",
       "0    6641.522461  1871   1800     8  1044     0     2   513.168784   \n",
       "1    6641.522461    65     60   784   804     0     4   794.071595   \n",
       "2    6641.522461  1613   1351   693  1389     0     2   975.752265   \n",
       "3    6641.522461   468    359     0   187     0     4    63.028453   \n",
       "4    6641.522461  1562   1399  1275  2047     0     3  1819.077559   \n",
       "..           ...   ...    ...   ...   ...   ...   ...          ...   \n",
       "282  6641.522461    36     35  1408  1413  4104  4110  1410.696709   \n",
       "283  6641.522461    37     32   959   964  4126  4132   961.429722   \n",
       "284  6641.522461    13     13  1941  1944  4164  4167  1942.622248   \n",
       "285  6641.522461    12     10  1312  1316  4174  4176  1314.139373   \n",
       "286  6641.522461    28     15  1604  1608  4170  4176  1606.114837   \n",
       "\n",
       "               y            x2  ...       cxy         cflux          flux  \\\n",
       "0       0.409608  32609.195080  ...  0.001279  3.232333e+07  3.828258e+07   \n",
       "1       1.303218     10.433083  ...  0.073499  2.317405e+06  2.478738e+06   \n",
       "2       0.421780  29137.773239  ... -0.001855  2.651141e+07  3.153486e+07   \n",
       "3       0.451371   2396.897449  ... -0.002884  6.855893e+06  8.161418e+06   \n",
       "4       0.452636  80158.781442  ...  0.003819  1.736041e+07  2.140818e+07   \n",
       "..           ...           ...  ...       ...           ...           ...   \n",
       "282  4106.787604      1.866789  ... -0.061597  5.972308e+05  6.277271e+05   \n",
       "283  4128.984477      1.870247  ... -0.037491  5.438982e+05  5.708504e+05   \n",
       "284  4165.332839      0.903700  ...  0.295505  1.139122e+05  1.274280e+05   \n",
       "285  4175.360553      1.444894  ...  0.178911  1.361231e+05  1.733078e+05   \n",
       "286  4173.783512      0.787882  ... -0.233798  1.476940e+06  1.592747e+06   \n",
       "\n",
       "             cpeak           peak  xcpeak  ycpeak  xpeak  ypeak  flag  \n",
       "0     25922.291016   40604.335938     486       0    486      0     3  \n",
       "1    120508.148438  159052.906250     794       2    794      1     3  \n",
       "2     32743.623047   56744.062500    1087       0   1087      0     3  \n",
       "3     28992.990234   50182.976562       1       0      0      0     3  \n",
       "4     24888.074219   38575.242188    1431       0   1431      0     3  \n",
       "..             ...            ...     ...     ...    ...    ...   ...  \n",
       "282   33402.707031   40053.761719    1411    4107   1411   4107     0  \n",
       "283   29573.142578   34777.199219     961    4129    961   4129     0  \n",
       "284   11424.018555   13601.125977    1943    4165   1943   4165     0  \n",
       "285   16915.134766   29253.648438    1314    4176   1314   4176     2  \n",
       "286  127996.992188  181661.828125    1606    4175   1607   4176     2  \n",
       "\n",
       "[287 rows x 30 columns]"
      ]
     },
     "execution_count": 20,
     "metadata": {},
     "output_type": "execute_result"
    }
   ],
   "source": [
    "object_df"
   ]
  },
  {
   "cell_type": "code",
   "execution_count": 21,
   "metadata": {},
   "outputs": [],
   "source": [
    "reg_df = object_df[['x','y']].rename(columns={'x':'x_ref', 'y':'y_ref'})\n",
    "#convert to fits (1-relative) indexing\n",
    "reg_df.x_ref += 1\n",
    "reg_df.y_ref += 1\n",
    "df2reg(reg_df, r'C:\\Users\\Kevin\\repos\\ReipurthBallyProject\\data\\M8\\N-A-L656\\region\\SUPA01564800.reg', x='x_ref', y='y_ref')"
   ]
  },
  {
   "cell_type": "code",
   "execution_count": 22,
   "metadata": {},
   "outputs": [],
   "source": [
    "def coo2reg(coo, reg_path, nameroot='Star'):\n",
    "    reghdr =[ '# Region file format: DS9 version 4.1',\n",
    "            'global color=green dashlist=8 3 width=1 font=\"helvetica 10 normal roman\" select=1 highlite=1 dash=0 fixed=0 edit=1 move=1 delete=1 include=1 source=1',\n",
    "        'physical']\n",
    "    \n",
    "    if type(coo) == str:\n",
    "        coo_df = coo2df(coo_path)\n",
    "    elif type(coo) == pd.DataFrame:\n",
    "        coo_df = coo\n",
    "    else:\n",
    "        raise ValueError('Invalid coo type')\n",
    "\n",
    "    with open(reg_path, 'w') as reg:\n",
    "        for hdr in reghdr:\n",
    "            reg.write(hdr+'\\n')\n",
    "        for i,pair in enumerate(coo_df.itertuples()):\n",
    "            title = '{' + f'{nameroot}_{i:03d}' + '}'\n",
    "            circ = f'Circle({pair.x_in}, {pair.y_in}, 8) # text={title}'\n",
    "            reg.write(circ+'\\n')\n",
    "            circ = f'Circle({pair.x_ref}, {pair.y_ref}, 8) # color=blue'\n",
    "            reg.write(circ+'\\n')\n",
    "            line = f'line( {pair.x_in}, {pair.y_in}, {pair.x_ref}, {pair.y_ref}) # line=0 1'\n",
    "            reg.write(line+'\\n')\n",
    "    "
   ]
  },
  {
   "cell_type": "code",
   "execution_count": 23,
   "metadata": {},
   "outputs": [],
   "source": [
    "coo_maps = r'C:\\Users\\Kevin\\repos\\ReipurthBallyProject\\SubaruCoordinateMaps'\n",
    "regpath = r'C:\\Users\\Kevin\\repos\\ReipurthBallyProject\\data\\M8\\N-A-L656\\region\\SUPA01564800_coo.reg'\n",
    "detector = 'nausicaa'\n",
    "coo2reg(os.path.join(coo_maps, detector+'.coo'), regpath)"
   ]
  },
  {
   "cell_type": "code",
   "execution_count": 24,
   "metadata": {},
   "outputs": [
    {
     "data": {
      "text/plain": [
       "(False, True)"
      ]
     },
     "execution_count": 24,
     "metadata": {},
     "output_type": "execute_result"
    }
   ],
   "source": [
    "type(regpath) == int, type(object_df)==pd.DataFrame"
   ]
  },
  {
   "cell_type": "code",
   "execution_count": 25,
   "metadata": {},
   "outputs": [],
   "source": [
    "#get transform from coo file\n",
    "coo_maps = r'C:\\Users\\Kevin\\repos\\ReipurthBallyProject\\SubaruCoordinateMaps'\n",
    "detector = 'nausicaa'\n",
    "coo_path = os.path.join(coo_maps, detector+'.coo')\n",
    "coo_df = coo2df(coo_path)\n",
    "src = np.array([coo_df.x_in, coo_df.y_in]).T\n",
    "dst = np.array([coo_df.x_ref, coo_df.y_ref]).T\n",
    "tran = sk.transform.estimate_transform('polynomial', src,dst, 3)\n",
    "#apply transform to stars extracted from image\n",
    "img_path = r'C:\\Users\\Kevin\\repos\\ReipurthBallyProject\\data\\M8\\N-A-L656\\no_bias\\SUPA01564800.fits'\n",
    "object_df = find_objects(img_path,thresh=50)\n",
    "src = np.array([object_df.x+1, object_df.y+1]).T\n",
    "dst = tran(src)\n",
    "# write out new region file\n",
    "coo_df = pd.DataFrame({'x_in':src[:,0], 'y_in':src[:,1], 'x_ref':dst[:,0], 'y_ref':dst[:,1]})\n",
    "coo2reg(coo_df, r'C:\\Users\\Kevin\\repos\\ReipurthBallyProject\\data\\M8\\N-A-L656\\region\\nausicaa_coo.reg')\n"
   ]
  },
  {
   "cell_type": "code",
   "execution_count": 26,
   "metadata": {},
   "outputs": [],
   "source": [
    "def warp_image(img_path, out_path, detector = 'nausicaa',\n",
    "               coo_maps =r'C:\\Users\\Kevin\\repos\\ReipurthBallyProject\\SubaruCoordinateMaps' ):\n",
    "    coo_path = os.path.join(coo_maps, detector+'.coo')\n",
    "\n",
    "    coo_df = coo2df(coo_path)\n",
    "    src = np.array([coo_df.x_in, coo_df.y_in]).T\n",
    "    dst = np.array([coo_df.x_ref, coo_df.y_ref]).T\n",
    "\n",
    "    # we actually need the inverse transform, to get it, swap dst and src as below\n",
    "    tran = sk.transform.estimate_transform('polynomial', dst, src, 3)\n",
    "\n",
    "    with fits.open(img_path) as f:\n",
    "        img = f[0].data.copy()\n",
    "        hdr = f[0].header.copy()\n",
    "\n",
    "    img_new = sk.transform.warp(img, tran)\n",
    "    phdu = fits.PrimaryHDU(data = img_new, header=hdr)\n",
    "\n",
    "    phdu.writeto(out_path, overwrite=True)"
   ]
  },
  {
   "cell_type": "code",
   "execution_count": 27,
   "metadata": {},
   "outputs": [],
   "source": [
    "img_path = r'C:\\Users\\Kevin\\repos\\ReipurthBallyProject\\data\\M8\\N-A-L656\\no_bias\\SUPA01564800.fits'\n",
    "out_path = r'C:\\Users\\Kevin\\repos\\ReipurthBallyProject\\data\\M8\\N-A-L656\\region\\SUPA01564800.fits'\n",
    "warp_image(img_path, out_path)"
   ]
  },
  {
   "cell_type": "code",
   "execution_count": 28,
   "metadata": {},
   "outputs": [
    {
     "data": {
      "text/plain": [
       "287"
      ]
     },
     "execution_count": 28,
     "metadata": {},
     "output_type": "execute_result"
    }
   ],
   "source": [
    "len(object_df)"
   ]
  },
  {
   "cell_type": "code",
   "execution_count": 29,
   "metadata": {},
   "outputs": [],
   "source": [
    "from astropy.table import Table"
   ]
  },
  {
   "cell_type": "code",
   "execution_count": 30,
   "metadata": {},
   "outputs": [],
   "source": [
    "tbl_path = r\"C:\\Users\\Kevin\\repos\\ReipurthBallyProject\\data\\M8\\N-A-L656\\region\\ds9.xml\"\n",
    "ds9tbl = Table.read(tbl_path)"
   ]
  },
  {
   "cell_type": "code",
   "execution_count": 31,
   "metadata": {},
   "outputs": [
    {
     "data": {
      "text/html": [
       "<div><i>Table length=2491</i>\n",
       "<table id=\"table2177289523312\" class=\"table-striped table-bordered table-condensed\">\n",
       "<thead><tr><th>_RAJ2000</th><th>_DEJ2000</th><th>RA_ICRS</th><th>e_RA_ICRS</th><th>DE_ICRS</th><th>e_DE_ICRS</th><th>Source</th><th>Plx</th><th>e_Plx</th><th>pmRA</th><th>e_pmRA</th><th>pmDE</th><th>e_pmDE</th><th>Dup</th><th>FG</th><th>e_FG</th><th>Gmag</th><th>e_Gmag</th><th>FBP</th><th>e_FBP</th><th>BPmag</th><th>e_BPmag</th><th>FRP</th><th>e_FRP</th><th>RPmag</th><th>e_RPmag</th><th>BP-RP</th><th>RV</th><th>e_RV</th><th>Teff</th><th>AG</th><th>E_BP-RP_</th><th>Rad</th><th>Lum</th></tr></thead>\n",
       "<thead><tr><th>deg</th><th>deg</th><th>deg</th><th>mas</th><th>deg</th><th>mas</th><th></th><th>mas</th><th>mas</th><th>mas / yr</th><th>mas / yr</th><th>mas / yr</th><th>mas / yr</th><th></th><th></th><th></th><th>mag</th><th>mag</th><th></th><th></th><th>mag</th><th>mag</th><th></th><th></th><th>mag</th><th>mag</th><th>mag</th><th>km / s</th><th>km / s</th><th>K</th><th>mag</th><th>mag</th><th>Rsun</th><th>Lsun</th></tr></thead>\n",
       "<thead><tr><th>float64</th><th>float64</th><th>float64</th><th>float64</th><th>float64</th><th>float64</th><th>int64</th><th>float64</th><th>float32</th><th>float64</th><th>float32</th><th>float64</th><th>float32</th><th>uint8</th><th>float32</th><th>float32</th><th>float64</th><th>float64</th><th>float32</th><th>float32</th><th>float64</th><th>float64</th><th>float32</th><th>float32</th><th>float64</th><th>float64</th><th>float64</th><th>float64</th><th>float32</th><th>float64</th><th>float32</th><th>float32</th><th>float32</th><th>float64</th></tr></thead>\n",
       "<tr><td>270.6607305152326</td><td>-24.3466958686422</td><td>270.66070255571</td><td>0.1104</td><td>-24.34672267461</td><td>0.0990</td><td>4066019808008492416</td><td>0.8285</td><td>0.1082</td><td>-5.916</td><td>0.205</td><td>-6.226</td><td>0.161</td><td>0</td><td>2700</td><td>3.311</td><td>17.1099</td><td>0.0013</td><td>1274</td><td>24.5</td><td>17.5886</td><td>0.0209</td><td>2832</td><td>31.88</td><td>16.1316</td><td>0.0122</td><td>1.4570</td><td>--</td><td>--</td><td>--</td><td>--</td><td>--</td><td>--</td><td>--</td></tr>\n",
       "<tr><td>270.6521413634034</td><td>-24.3480323559917</td><td>270.65214136340</td><td>0.7679</td><td>-24.34803235599</td><td>0.7437</td><td>4066019803690596480</td><td>--</td><td>--</td><td>--</td><td>--</td><td>--</td><td>--</td><td>0</td><td>321.8</td><td>2.904</td><td>19.4194</td><td>0.0098</td><td>482</td><td>30.11</td><td>18.6437</td><td>0.0678</td><td>966</td><td>30.33</td><td>17.2994</td><td>0.0341</td><td>1.3443</td><td>--</td><td>--</td><td>--</td><td>--</td><td>--</td><td>--</td><td>--</td></tr>\n",
       "<tr><td>270.6521034038814</td><td>-24.3466744221536</td><td>270.65209726287</td><td>0.2828</td><td>-24.34667888617</td><td>0.2823</td><td>4066019803681079424</td><td>0.7684</td><td>0.2977</td><td>-1.299</td><td>0.480</td><td>-1.037</td><td>0.401</td><td>0</td><td>813.1</td><td>2.809</td><td>18.4130</td><td>0.0038</td><td>634.5</td><td>21.3</td><td>18.3453</td><td>0.0365</td><td>1198</td><td>20.58</td><td>17.0661</td><td>0.0187</td><td>1.2792</td><td>--</td><td>--</td><td>--</td><td>--</td><td>--</td><td>--</td><td>--</td></tr>\n",
       "<tr><td>270.6669860809204</td><td>-24.3463621783497</td><td>270.66698608092</td><td>6.6455</td><td>-24.34636217835</td><td>6.0490</td><td>4066019807999188992</td><td>--</td><td>--</td><td>--</td><td>--</td><td>--</td><td>--</td><td>0</td><td>229.3</td><td>3.867</td><td>19.7874</td><td>0.0183</td><td>412.2</td><td>39.66</td><td>18.8136</td><td>0.1045</td><td>698.7</td><td>34.72</td><td>17.6512</td><td>0.0540</td><td>1.1624</td><td>--</td><td>--</td><td>--</td><td>--</td><td>--</td><td>--</td><td>--</td></tr>\n",
       "<tr><td>270.6638630774177</td><td>-24.3433482074884</td><td>270.66387017871</td><td>0.9269</td><td>-24.34333812808</td><td>0.8399</td><td>4066019803690608128</td><td>1.6992</td><td>0.9087</td><td>1.503</td><td>1.982</td><td>2.341</td><td>1.724</td><td>0</td><td>201.1</td><td>1.8</td><td>19.9300</td><td>0.0097</td><td>--</td><td>--</td><td>--</td><td>--</td><td>--</td><td>--</td><td>--</td><td>--</td><td>--</td><td>--</td><td>--</td><td>--</td><td>--</td><td>--</td><td>--</td><td>--</td></tr>\n",
       "<tr><td>270.6846830664570</td><td>-24.3260169878842</td><td>270.68468306646</td><td>5.7222</td><td>-24.32601698788</td><td>2.5360</td><td>4066020220316058368</td><td>--</td><td>--</td><td>--</td><td>--</td><td>--</td><td>--</td><td>0</td><td>131.6</td><td>2.248</td><td>20.3899</td><td>0.0185</td><td>--</td><td>--</td><td>--</td><td>--</td><td>--</td><td>--</td><td>--</td><td>--</td><td>--</td><td>--</td><td>--</td><td>--</td><td>--</td><td>--</td><td>--</td><td>--</td></tr>\n",
       "<tr><td>270.6926632528732</td><td>-24.3279138863670</td><td>270.69266325287</td><td>2.5770</td><td>-24.32791388637</td><td>1.9835</td><td>4066020151597899648</td><td>--</td><td>--</td><td>--</td><td>--</td><td>--</td><td>--</td><td>0</td><td>218.3</td><td>2.173</td><td>19.8406</td><td>0.0108</td><td>--</td><td>--</td><td>--</td><td>--</td><td>--</td><td>--</td><td>--</td><td>--</td><td>--</td><td>--</td><td>--</td><td>--</td><td>--</td><td>--</td><td>--</td><td>--</td></tr>\n",
       "<tr><td>270.6730185536942</td><td>-24.3365905701811</td><td>270.67301855369</td><td>17.5367</td><td>-24.33659057018</td><td>14.8840</td><td>4066020185958619904</td><td>--</td><td>--</td><td>--</td><td>--</td><td>--</td><td>--</td><td>0</td><td>90.79</td><td>2.416</td><td>20.7933</td><td>0.0289</td><td>--</td><td>--</td><td>--</td><td>--</td><td>--</td><td>--</td><td>--</td><td>--</td><td>--</td><td>--</td><td>--</td><td>--</td><td>--</td><td>--</td><td>--</td><td>--</td></tr>\n",
       "<tr><td>270.6693973532762</td><td>-24.3280954418092</td><td>270.66936881829</td><td>0.7631</td><td>-24.32809804599</td><td>0.7052</td><td>4066020185956340608</td><td>2.2058</td><td>0.7483</td><td>-6.039</td><td>1.624</td><td>-0.605</td><td>1.477</td><td>0</td><td>427.4</td><td>2.974</td><td>19.1114</td><td>0.0076</td><td>587.2</td><td>29.5</td><td>18.4293</td><td>0.0545</td><td>909.2</td><td>32.27</td><td>17.3653</td><td>0.0385</td><td>1.0641</td><td>--</td><td>--</td><td>--</td><td>--</td><td>--</td><td>--</td><td>--</td></tr>\n",
       "<tr><td>...</td><td>...</td><td>...</td><td>...</td><td>...</td><td>...</td><td>...</td><td>...</td><td>...</td><td>...</td><td>...</td><td>...</td><td>...</td><td>...</td><td>...</td><td>...</td><td>...</td><td>...</td><td>...</td><td>...</td><td>...</td><td>...</td><td>...</td><td>...</td><td>...</td><td>...</td><td>...</td><td>...</td><td>...</td><td>...</td><td>...</td><td>...</td><td>...</td><td>...</td></tr>\n",
       "<tr><td>270.6430271092340</td><td>-24.1780110840313</td><td>270.64302607949</td><td>0.2405</td><td>-24.17802703103</td><td>0.2338</td><td>4066042554155387136</td><td>0.1440</td><td>0.2439</td><td>-0.218</td><td>0.444</td><td>-3.704</td><td>0.381</td><td>0</td><td>1148</td><td>3.162</td><td>18.0385</td><td>0.0030</td><td>777.5</td><td>34.86</td><td>18.1246</td><td>0.0487</td><td>2377</td><td>120.4</td><td>16.3220</td><td>0.0550</td><td>1.8027</td><td>--</td><td>--</td><td>--</td><td>--</td><td>--</td><td>--</td><td>--</td></tr>\n",
       "<tr><td>270.6331291900490</td><td>-24.1807725390781</td><td>270.63312835740</td><td>0.3969</td><td>-24.18078207231</td><td>0.4287</td><td>4066042515478983424</td><td>0.5756</td><td>0.4726</td><td>-0.176</td><td>0.687</td><td>-2.214</td><td>0.568</td><td>0</td><td>541.4</td><td>2.733</td><td>18.8546</td><td>0.0055</td><td>558.5</td><td>51.78</td><td>18.4837</td><td>0.1007</td><td>1074</td><td>44.93</td><td>17.1849</td><td>0.0454</td><td>1.2988</td><td>--</td><td>--</td><td>--</td><td>--</td><td>--</td><td>--</td><td>--</td></tr>\n",
       "<tr><td>270.6400204807912</td><td>-24.1883394379939</td><td>270.64002048079</td><td>0.9102</td><td>-24.18833943799</td><td>0.7590</td><td>4066042519795645056</td><td>--</td><td>--</td><td>--</td><td>--</td><td>--</td><td>--</td><td>0</td><td>258</td><td>2.63</td><td>19.6594</td><td>0.0111</td><td>576.4</td><td>34.38</td><td>18.4495</td><td>0.0648</td><td>686</td><td>44.97</td><td>17.6711</td><td>0.0712</td><td>0.7785</td><td>--</td><td>--</td><td>--</td><td>--</td><td>--</td><td>--</td><td>--</td></tr>\n",
       "<tr><td>270.6344592722364</td><td>-24.1901867876801</td><td>270.63446439363</td><td>0.3448</td><td>-24.19019700338</td><td>0.4066</td><td>4066042515478986112</td><td>0.2573</td><td>0.4521</td><td>1.085</td><td>0.593</td><td>-2.373</td><td>0.502</td><td>0</td><td>659</td><td>3.13</td><td>18.6412</td><td>0.0052</td><td>516.8</td><td>32.1</td><td>18.5680</td><td>0.0674</td><td>1197</td><td>31.82</td><td>17.0667</td><td>0.0289</td><td>1.5012</td><td>--</td><td>--</td><td>--</td><td>--</td><td>--</td><td>--</td><td>--</td></tr>\n",
       "<tr><td>270.6352796822412</td><td>-24.1813247088450</td><td>270.63528697636</td><td>0.4479</td><td>-24.18133216070</td><td>0.5081</td><td>4066042515478987136</td><td>0.8224</td><td>0.5934</td><td>1.545</td><td>0.799</td><td>-1.731</td><td>0.651</td><td>0</td><td>536.3</td><td>2.921</td><td>18.8648</td><td>0.0059</td><td>514.4</td><td>53.23</td><td>18.5731</td><td>0.1123</td><td>1104</td><td>21.75</td><td>17.1547</td><td>0.0214</td><td>1.4183</td><td>--</td><td>--</td><td>--</td><td>--</td><td>--</td><td>--</td><td>--</td></tr>\n",
       "<tr><td>270.6363182673733</td><td>-24.1823764510124</td><td>270.63631682082</td><td>0.4717</td><td>-24.18238680743</td><td>0.5143</td><td>4066042515478989056</td><td>-0.3164</td><td>0.5972</td><td>-0.306</td><td>0.854</td><td>-2.405</td><td>0.687</td><td>0</td><td>539.4</td><td>2.996</td><td>18.8585</td><td>0.0060</td><td>447.8</td><td>42.22</td><td>18.7236</td><td>0.1024</td><td>1359</td><td>38.59</td><td>16.9290</td><td>0.0308</td><td>1.7946</td><td>--</td><td>--</td><td>--</td><td>--</td><td>--</td><td>--</td><td>--</td></tr>\n",
       "<tr><td>270.6381451960914</td><td>-24.1908207707155</td><td>270.63814519609</td><td>10.8188</td><td>-24.19082077072</td><td>9.5469</td><td>4066042515478991616</td><td>--</td><td>--</td><td>--</td><td>--</td><td>--</td><td>--</td><td>0</td><td>157.7</td><td>2.623</td><td>20.1937</td><td>0.0181</td><td>--</td><td>--</td><td>--</td><td>--</td><td>--</td><td>--</td><td>--</td><td>--</td><td>--</td><td>--</td><td>--</td><td>--</td><td>--</td><td>--</td><td>--</td><td>--</td></tr>\n",
       "<tr><td>270.6498027872621</td><td>-24.1794453806398</td><td>270.64980278726</td><td>14.5938</td><td>-24.17944538064</td><td>12.6924</td><td>4066042554148655104</td><td>--</td><td>--</td><td>--</td><td>--</td><td>--</td><td>--</td><td>0</td><td>88.91</td><td>2.154</td><td>20.8160</td><td>0.0263</td><td>--</td><td>--</td><td>--</td><td>--</td><td>--</td><td>--</td><td>--</td><td>--</td><td>--</td><td>--</td><td>--</td><td>--</td><td>--</td><td>--</td><td>--</td><td>--</td></tr>\n",
       "<tr><td>270.6410065068250</td><td>-24.1895934454864</td><td>270.64100650683</td><td>1.2372</td><td>-24.18959344549</td><td>1.0608</td><td>4066042515478994816</td><td>--</td><td>--</td><td>--</td><td>--</td><td>--</td><td>--</td><td>1</td><td>241.8</td><td>3.38</td><td>19.7296</td><td>0.0152</td><td>--</td><td>--</td><td>--</td><td>--</td><td>--</td><td>--</td><td>--</td><td>--</td><td>--</td><td>--</td><td>--</td><td>--</td><td>--</td><td>--</td><td>--</td><td>--</td></tr>\n",
       "<tr><td>270.6425636254153</td><td>-24.1878466117443</td><td>270.64256362542</td><td>1.3431</td><td>-24.18784661174</td><td>1.1863</td><td>4066042515478996864</td><td>--</td><td>--</td><td>--</td><td>--</td><td>--</td><td>--</td><td>0</td><td>499.8</td><td>2.931</td><td>18.9413</td><td>0.0064</td><td>476.1</td><td>42.71</td><td>18.6572</td><td>0.0974</td><td>1041</td><td>25.3</td><td>17.2179</td><td>0.0264</td><td>1.4393</td><td>--</td><td>--</td><td>--</td><td>--</td><td>--</td><td>--</td><td>--</td></tr>\n",
       "</table></div>"
      ],
      "text/plain": [
       "<Table length=2491>\n",
       "     _RAJ2000          _DEJ2000         RA_ICRS     ... E_BP-RP_   Rad     Lum  \n",
       "       deg               deg              deg       ...   mag      Rsun    Lsun \n",
       "     float64           float64          float64     ... float32  float32 float64\n",
       "----------------- ----------------- --------------- ... -------- ------- -------\n",
       "270.6607305152326 -24.3466958686422 270.66070255571 ...       --      --      --\n",
       "270.6521413634034 -24.3480323559917 270.65214136340 ...       --      --      --\n",
       "270.6521034038814 -24.3466744221536 270.65209726287 ...       --      --      --\n",
       "270.6669860809204 -24.3463621783497 270.66698608092 ...       --      --      --\n",
       "270.6638630774177 -24.3433482074884 270.66387017871 ...       --      --      --\n",
       "270.6846830664570 -24.3260169878842 270.68468306646 ...       --      --      --\n",
       "270.6926632528732 -24.3279138863670 270.69266325287 ...       --      --      --\n",
       "270.6730185536942 -24.3365905701811 270.67301855369 ...       --      --      --\n",
       "270.6693973532762 -24.3280954418092 270.66936881829 ...       --      --      --\n",
       "              ...               ...             ... ...      ...     ...     ...\n",
       "270.6430271092340 -24.1780110840313 270.64302607949 ...       --      --      --\n",
       "270.6331291900490 -24.1807725390781 270.63312835740 ...       --      --      --\n",
       "270.6400204807912 -24.1883394379939 270.64002048079 ...       --      --      --\n",
       "270.6344592722364 -24.1901867876801 270.63446439363 ...       --      --      --\n",
       "270.6352796822412 -24.1813247088450 270.63528697636 ...       --      --      --\n",
       "270.6363182673733 -24.1823764510124 270.63631682082 ...       --      --      --\n",
       "270.6381451960914 -24.1908207707155 270.63814519609 ...       --      --      --\n",
       "270.6498027872621 -24.1794453806398 270.64980278726 ...       --      --      --\n",
       "270.6410065068250 -24.1895934454864 270.64100650683 ...       --      --      --\n",
       "270.6425636254153 -24.1878466117443 270.64256362542 ...       --      --      --"
      ]
     },
     "execution_count": 31,
     "metadata": {},
     "output_type": "execute_result"
    }
   ],
   "source": [
    "ds9tbl"
   ]
  },
  {
   "cell_type": "code",
   "execution_count": 32,
   "metadata": {},
   "outputs": [
    {
     "ename": "OSError",
     "evalue": "File exists: C:\\Users\\Kevin\\repos\\ReipurthBallyProject\\data\\M8\\N-A-L656\\region\\newtbl.xml",
     "output_type": "error",
     "traceback": [
      "\u001b[1;31m---------------------------------------------------------------------------\u001b[0m",
      "\u001b[1;31mOSError\u001b[0m                                   Traceback (most recent call last)",
      "\u001b[1;32m~\\AppData\\Local\\Temp/ipykernel_21284/223926000.py\u001b[0m in \u001b[0;36m<module>\u001b[1;34m\u001b[0m\n\u001b[0;32m      2\u001b[0m \u001b[0mnewtbl\u001b[0m \u001b[1;33m=\u001b[0m \u001b[0mds9tbl\u001b[0m\u001b[1;33m[\u001b[0m\u001b[0mcolumns\u001b[0m\u001b[1;33m]\u001b[0m\u001b[1;33m\u001b[0m\u001b[1;33m\u001b[0m\u001b[0m\n\u001b[0;32m      3\u001b[0m \u001b[0mnewtbl\u001b[0m\u001b[1;33m[\u001b[0m\u001b[1;34m'ObjType'\u001b[0m\u001b[1;33m]\u001b[0m \u001b[1;33m=\u001b[0m \u001b[1;34m'star'\u001b[0m\u001b[1;33m\u001b[0m\u001b[1;33m\u001b[0m\u001b[0m\n\u001b[1;32m----> 4\u001b[1;33m \u001b[0mnewtbl\u001b[0m\u001b[1;33m.\u001b[0m\u001b[0mwrite\u001b[0m\u001b[1;33m(\u001b[0m\u001b[1;34mr\"C:\\Users\\Kevin\\repos\\ReipurthBallyProject\\data\\M8\\N-A-L656\\region\\newtbl.xml\"\u001b[0m\u001b[1;33m,\u001b[0m\u001b[0mformat\u001b[0m\u001b[1;33m=\u001b[0m\u001b[1;34m'votable'\u001b[0m\u001b[1;33m)\u001b[0m\u001b[1;33m\u001b[0m\u001b[1;33m\u001b[0m\u001b[0m\n\u001b[0m",
      "\u001b[1;32mc:\\Users\\Kevin\\anaconda3\\envs\\astro\\lib\\site-packages\\astropy\\table\\connect.py\u001b[0m in \u001b[0;36m__call__\u001b[1;34m(self, serialize_method, *args, **kwargs)\u001b[0m\n\u001b[0;32m    125\u001b[0m         \u001b[0minstance\u001b[0m \u001b[1;33m=\u001b[0m \u001b[0mself\u001b[0m\u001b[1;33m.\u001b[0m\u001b[0m_instance\u001b[0m\u001b[1;33m\u001b[0m\u001b[1;33m\u001b[0m\u001b[0m\n\u001b[0;32m    126\u001b[0m         \u001b[1;32mwith\u001b[0m \u001b[0mserialize_method_as\u001b[0m\u001b[1;33m(\u001b[0m\u001b[0minstance\u001b[0m\u001b[1;33m,\u001b[0m \u001b[0mserialize_method\u001b[0m\u001b[1;33m)\u001b[0m\u001b[1;33m:\u001b[0m\u001b[1;33m\u001b[0m\u001b[1;33m\u001b[0m\u001b[0m\n\u001b[1;32m--> 127\u001b[1;33m             \u001b[0mregistry\u001b[0m\u001b[1;33m.\u001b[0m\u001b[0mwrite\u001b[0m\u001b[1;33m(\u001b[0m\u001b[0minstance\u001b[0m\u001b[1;33m,\u001b[0m \u001b[1;33m*\u001b[0m\u001b[0margs\u001b[0m\u001b[1;33m,\u001b[0m \u001b[1;33m**\u001b[0m\u001b[0mkwargs\u001b[0m\u001b[1;33m)\u001b[0m\u001b[1;33m\u001b[0m\u001b[1;33m\u001b[0m\u001b[0m\n\u001b[0m",
      "\u001b[1;32mc:\\Users\\Kevin\\anaconda3\\envs\\astro\\lib\\site-packages\\astropy\\io\\registry.py\u001b[0m in \u001b[0;36mwrite\u001b[1;34m(data, format, *args, **kwargs)\u001b[0m\n\u001b[0;32m    568\u001b[0m \u001b[1;33m\u001b[0m\u001b[0m\n\u001b[0;32m    569\u001b[0m     \u001b[0mwriter\u001b[0m \u001b[1;33m=\u001b[0m \u001b[0mget_writer\u001b[0m\u001b[1;33m(\u001b[0m\u001b[0mformat\u001b[0m\u001b[1;33m,\u001b[0m \u001b[0mdata\u001b[0m\u001b[1;33m.\u001b[0m\u001b[0m__class__\u001b[0m\u001b[1;33m)\u001b[0m\u001b[1;33m\u001b[0m\u001b[1;33m\u001b[0m\u001b[0m\n\u001b[1;32m--> 570\u001b[1;33m     \u001b[0mwriter\u001b[0m\u001b[1;33m(\u001b[0m\u001b[0mdata\u001b[0m\u001b[1;33m,\u001b[0m \u001b[1;33m*\u001b[0m\u001b[0margs\u001b[0m\u001b[1;33m,\u001b[0m \u001b[1;33m**\u001b[0m\u001b[0mkwargs\u001b[0m\u001b[1;33m)\u001b[0m\u001b[1;33m\u001b[0m\u001b[1;33m\u001b[0m\u001b[0m\n\u001b[0m\u001b[0;32m    571\u001b[0m \u001b[1;33m\u001b[0m\u001b[0m\n\u001b[0;32m    572\u001b[0m \u001b[1;33m\u001b[0m\u001b[0m\n",
      "\u001b[1;32mc:\\Users\\Kevin\\anaconda3\\envs\\astro\\lib\\site-packages\\astropy\\io\\votable\\connect.py\u001b[0m in \u001b[0;36mwrite_table_votable\u001b[1;34m(input, output, table_id, overwrite, tabledata_format)\u001b[0m\n\u001b[0;32m    165\u001b[0m             \u001b[0mos\u001b[0m\u001b[1;33m.\u001b[0m\u001b[0mremove\u001b[0m\u001b[1;33m(\u001b[0m\u001b[0moutput\u001b[0m\u001b[1;33m)\u001b[0m\u001b[1;33m\u001b[0m\u001b[1;33m\u001b[0m\u001b[0m\n\u001b[0;32m    166\u001b[0m         \u001b[1;32melse\u001b[0m\u001b[1;33m:\u001b[0m\u001b[1;33m\u001b[0m\u001b[1;33m\u001b[0m\u001b[0m\n\u001b[1;32m--> 167\u001b[1;33m             \u001b[1;32mraise\u001b[0m \u001b[0mOSError\u001b[0m\u001b[1;33m(\u001b[0m\u001b[1;34mf\"File exists: {output}\"\u001b[0m\u001b[1;33m)\u001b[0m\u001b[1;33m\u001b[0m\u001b[1;33m\u001b[0m\u001b[0m\n\u001b[0m\u001b[0;32m    168\u001b[0m \u001b[1;33m\u001b[0m\u001b[0m\n\u001b[0;32m    169\u001b[0m     \u001b[1;31m# Create a new VOTable file\u001b[0m\u001b[1;33m\u001b[0m\u001b[1;33m\u001b[0m\u001b[0m\n",
      "\u001b[1;31mOSError\u001b[0m: File exists: C:\\Users\\Kevin\\repos\\ReipurthBallyProject\\data\\M8\\N-A-L656\\region\\newtbl.xml"
     ]
    }
   ],
   "source": [
    "columns = ['_RAJ2000', '_DEJ2000', 'Source']\n",
    "newtbl = ds9tbl[columns]\n",
    "newtbl['ObjType'] = 'star'\n",
    "newtbl.write(r\"C:\\Users\\Kevin\\repos\\ReipurthBallyProject\\data\\M8\\N-A-L656\\region\\newtbl.xml\",format='votable')"
   ]
  },
  {
   "cell_type": "code",
   "execution_count": 33,
   "metadata": {},
   "outputs": [
    {
     "data": {
      "text/plain": [
       "Index(['thresh', 'npix', 'tnpix', 'xmin', 'xmax', 'ymin', 'ymax', 'x', 'y',\n",
       "       'x2', 'y2', 'xy', 'errx2', 'erry2', 'errxy', 'a', 'b', 'theta', 'cxx',\n",
       "       'cyy', 'cxy', 'cflux', 'flux', 'cpeak', 'peak', 'xcpeak', 'ycpeak',\n",
       "       'xpeak', 'ypeak', 'flag'],\n",
       "      dtype='object')"
      ]
     },
     "execution_count": 33,
     "metadata": {},
     "output_type": "execute_result"
    }
   ],
   "source": [
    "object_df.columns"
   ]
  },
  {
   "cell_type": "code",
   "execution_count": 34,
   "metadata": {},
   "outputs": [],
   "source": [
    "object_tbl = Table.from_pandas(object_df[['x','y','flux', 'npix', 'a', 'b', 'theta']])\n",
    "object_tbl['x'] += 1\n",
    "object_tbl['y'] += 1\n",
    "object_tbl['eccentricity'] = object_df.b/object_df.a"
   ]
  },
  {
   "cell_type": "code",
   "execution_count": 35,
   "metadata": {},
   "outputs": [],
   "source": [
    "object_tbl['ObjName'] = [f'Obj_{i:03d}' for i in range(len(object_df))]\n",
    "object_tbl['ObjType'] = 'star'\n",
    "object_tbl.write(r\"C:\\Users\\Kevin\\repos\\ReipurthBallyProject\\data\\M8\\N-A-L656\\region\\object_tbl.xml\",\n",
    "                 overwrite=True, format='votable')"
   ]
  },
  {
   "cell_type": "code",
   "execution_count": 36,
   "metadata": {},
   "outputs": [
    {
     "name": "stdout",
     "output_type": "stream",
     "text": [
      "Minutes: 7.829\n"
     ]
    }
   ],
   "source": [
    "deg = 0.1304870229507045\n",
    "print(f'Minutes: {60.0*deg:.3f}')"
   ]
  },
  {
   "cell_type": "code",
   "execution_count": 38,
   "metadata": {},
   "outputs": [],
   "source": [
    "def find_closest_ref( refs, point):\n",
    "    pt = point.reshape(-1,2)\n",
    "    offs = refs - pt\n",
    "    dist = (offs **2).sum(axis=1)\n",
    "    indx = dist.argmin()\n",
    "    return {'index': indx, 'distance': np.sqrt(dist[indx]), 'x': refs[indx][0], 'y':refs[indx][1]}"
   ]
  },
  {
   "cell_type": "code",
   "execution_count": 39,
   "metadata": {},
   "outputs": [
    {
     "data": {
      "text/plain": [
       "{'index': 55,\n",
       " 'distance': 28.69267941647783,\n",
       " 'x': 443.63312191238106,\n",
       " 'y': 1156.3857510315772}"
      ]
     },
     "execution_count": 39,
     "metadata": {},
     "output_type": "execute_result"
    }
   ],
   "source": [
    "find_closest_ref(dst, src[55])"
   ]
  },
  {
   "cell_type": "code",
   "execution_count": 40,
   "metadata": {},
   "outputs": [
    {
     "data": {
      "text/plain": [
       "array([141.04706814,  10.41951623])"
      ]
     },
     "execution_count": 40,
     "metadata": {},
     "output_type": "execute_result"
    }
   ],
   "source": [
    "dst[5]"
   ]
  },
  {
   "cell_type": "code",
   "execution_count": 41,
   "metadata": {},
   "outputs": [
    {
     "data": {
      "text/plain": [
       "57898.595399"
      ]
     },
     "execution_count": 41,
     "metadata": {},
     "output_type": "execute_result"
    }
   ],
   "source": [
    "fits.getval(img_path, 'MJD')"
   ]
  },
  {
   "cell_type": "code",
   "execution_count": 43,
   "metadata": {},
   "outputs": [
    {
     "data": {
      "text/plain": [
       "array([ 1,  5,  9, 13, 17, 21, 25, 29, 33, 37])"
      ]
     },
     "execution_count": 43,
     "metadata": {},
     "output_type": "execute_result"
    }
   ],
   "source": [
    "xx = np.arange(20).reshape(-1,2)\n",
    "xx.sum(axis=1)"
   ]
  },
  {
   "cell_type": "code",
   "execution_count": 44,
   "metadata": {},
   "outputs": [],
   "source": [
    "def printit(x,y):\n",
    "    print(f'X: {x}, Y:{y}')"
   ]
  },
  {
   "cell_type": "code",
   "execution_count": 47,
   "metadata": {},
   "outputs": [
    {
     "data": {
      "text/plain": [
       "array([[ 0,  1],\n",
       "       [ 2,  3],\n",
       "       [ 4,  5],\n",
       "       [44, 55],\n",
       "       [ 8,  9],\n",
       "       [10, 11],\n",
       "       [12, 13],\n",
       "       [14, 15],\n",
       "       [16, 17],\n",
       "       [18, 19]])"
      ]
     },
     "execution_count": 47,
     "metadata": {},
     "output_type": "execute_result"
    }
   ],
   "source": [
    "xx[3]=[44,55]\n",
    "xx"
   ]
  },
  {
   "cell_type": "code",
   "execution_count": 45,
   "metadata": {},
   "outputs": [
    {
     "name": "stdout",
     "output_type": "stream",
     "text": [
      "X: 0, Y:1\n",
      "X: 2, Y:3\n",
      "X: 4, Y:5\n",
      "X: 6, Y:7\n",
      "X: 8, Y:9\n",
      "X: 10, Y:11\n",
      "X: 12, Y:13\n",
      "X: 14, Y:15\n",
      "X: 16, Y:17\n",
      "X: 18, Y:19\n"
     ]
    }
   ],
   "source": [
    "for x in xx:\n",
    "    printit(*x)"
   ]
  },
  {
   "cell_type": "code",
   "execution_count": null,
   "metadata": {},
   "outputs": [],
   "source": [
    "def RMSE(xy_hat, xy_act):\n",
    "    err = (xy_act - xy_hat)**2\n",
    "    resid2 = err.sum(axis=1)\n",
    "    rmse = np.sqrt(resid2.mean())\n",
    "    return rmse\n",
    "\n",
    "def initial_transorm(dirs, detector):\n",
    "\n",
    "    coo_path = os.path.join(dirs['coord_maps'], detector+'.coo')\n",
    "\n",
    "    coo_df = coo2df(coo_path)\n",
    "    src = np.array([coo_df.x_in, coo_df.y_in]).T\n",
    "    dst = np.array([coo_df.x_ref, coo_df.y_ref]).T\n",
    "\n",
    "    tran = sk.transform.estimate_transform('polynomial', src, dst, 3)\n",
    "\n",
    "    return tran\n",
    "\n",
    "def align_image(dirs, inpath, outpath):\n",
    "\n",
    "    maxiter = 10\n",
    "\n",
    "    # get the image\n",
    "    with fits.open(inpath) as f:\n",
    "        img_hdr = f[0].header.copy()\n",
    "        img_data = f[0].data.copy()\n",
    "    img_data = img_data.astype(float)\n",
    "\n",
    "    #get the intial transform and the objects in the image\n",
    "    tran = initial_transorm(dirs, img_hdr['DETECTOR'])\n",
    "    obj_df = find_objects(img_data, thresh=50.0)\n",
    "    obj_xy = np.array([object_df.x, object_df.y]).T\n",
    "    gaia_all = get_gaia(dirs, inpath)\n",
    "    gaia_xy = np.zeros_like(obj_xy, dtype = np.float)\n",
    "\n",
    "    print(f'Objects found: {len(obj_df)}')\n",
    "\n",
    "    for iter in range(maxiter):\n",
    "        obj_hat = tran(obj_xy)\n",
    "        gaia_xy = np.array([find_closest_ref(gaia_all, obj) for obj in obj_xy])\n",
    "        rmse[i] = RMSE(obj_hat, gaia_xy)\n",
    "\n",
    "\n",
    "    img_new = sk.transform.warp(img_data, tran, cval = np.nan)\n",
    "    img_new = img_new.astype(np.float32)\n",
    "\n",
    "    #write out the result\n",
    "    phdu = fits.PrimaryHDU(data = img_new, header=img_hdr)\n",
    "\n",
    "    phdu.writeto(outpath, overwrite=True)\n"
   ]
  }
 ],
 "metadata": {
  "kernelspec": {
   "display_name": "astro",
   "language": "python",
   "name": "python3"
  },
  "language_info": {
   "codemirror_mode": {
    "name": "ipython",
    "version": 3
   },
   "file_extension": ".py",
   "mimetype": "text/x-python",
   "name": "python",
   "nbconvert_exporter": "python",
   "pygments_lexer": "ipython3",
   "version": "3.9.7"
  }
 },
 "nbformat": 4,
 "nbformat_minor": 2
}
