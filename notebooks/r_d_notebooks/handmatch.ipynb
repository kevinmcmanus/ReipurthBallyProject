{
 "cells": [
  {
   "cell_type": "code",
   "execution_count": 27,
   "metadata": {},
   "outputs": [],
   "source": [
    "import matplotlib.pyplot as plt\n",
    "import os, sys\n",
    "\n",
    "from astropy.io import fits\n",
    "from astropy.table import Table\n",
    "\n",
    "import numpy as np\n",
    "\n",
    "import matplotlib.colors as colors\n",
    "from astropy.visualization import imshow_norm, MinMaxInterval, LogStretch,PercentileInterval, ImageNormalize\n",
    "\n",
    "import sep\n",
    "\n",
    "sys.path.append('/home/kevin/repos/ReipurthBallyProject/src')\n",
    "sys.path.append('/home/kevin/repos/miscstat')\n",
    "\n",
    "import chan_info as ci\n",
    "import mls\n",
    "\n",
    "rootdir = '/home/kevin/Documents/ZCMa-2014-12-18/W-S-I+'\n",
    "frameid = 'SUPA01499557'\n",
    "# rootdir = '/home/kevin/Documents/ZCMa-2014-12-18/W-S-I+'\n",
    "# frameid2 = 'SUPA01499583'\n",
    "\n",
    "# rootdir = '/home/kevin/Documents/ZCMa-2014-12-18/W-S-I+'\n",
    "# frameid = 'SUPA01499573'\n",
    "\n",
    "# rootdir = '/home/kevin/Documents/register/W-S-I+'\n",
    "# frameid = 'SUPA01446865'"
   ]
  },
  {
   "cell_type": "code",
   "execution_count": 28,
   "metadata": {},
   "outputs": [],
   "source": [
    "def match_to_region(match_tbl, reg_path, fitted=False):\n",
    "    reghdr =[ '# Region file format: DS9 version 4.1',\n",
    "            'global color=green dashlist=8 3 width=1 font=\"helvetica 10 normal roman\" select=1 highlite=1 dash=0 fixed=0 edit=1 move=1 delete=1 include=1 source=1',\n",
    "        'physical']\n",
    "\n",
    "    with open(reg_path, 'w') as reg:\n",
    "        for hdr in reghdr:\n",
    "            reg.write(hdr+'\\n')\n",
    "        for row in match_tbl:\n",
    "            # source point\n",
    "\n",
    "            title = '{' + row['objid'] + '}'\n",
    "            x_s = row['x']; y_s=row['y']\n",
    "            point = f'point({x_s}, {y_s}) # point=circle text={title} color=green'\n",
    "            reg.write(point+'\\n')\n",
    "\n",
    "            # destination point\n",
    "            if fitted:\n",
    "                title = '{' + row['objid'] + '_hat}'\n",
    "                x_d = row['x_hat']; y_d=row['y_hat']\n",
    "            else:\n",
    "                title = '{' + row['gaiaid'] + '}'\n",
    "                x_d = row['x_obsdate']; y_d=row['y_obsdate']\n",
    "            point = f'point({x_d}, {y_d}) # point=circle text={title} color=red'\n",
    "            reg.write(point+'\\n')\n",
    "\n",
    "            #arrow\n",
    "            line = f'line( {x_s}, {y_s}, {x_d}, {y_d}) # line=0 1 color=green'\n",
    "            reg.write(line+'\\n')"
   ]
  },
  {
   "cell_type": "code",
   "execution_count": 29,
   "metadata": {},
   "outputs": [],
   "source": [
    "from astropy.io.votable import parse_single_table\n",
    "def load_catalog(cat_path):\n",
    "    # cat_path = os.path.join(self.dirs['xmatch_tables'], img_name+'.xml')\n",
    "    try:\n",
    "        catalog = parse_single_table(cat_path).to_table()\n",
    "\n",
    "    except:\n",
    "        catalog = None\n",
    "    return  catalog"
   ]
  },
  {
   "cell_type": "code",
   "execution_count": 30,
   "metadata": {},
   "outputs": [],
   "source": [
    "def calc_distance(cat, obj_xy, cat_xy):\n",
    "    xdisp = cat[cat_xy[0]] - obj_xy[0]\n",
    "    ydisp = cat[cat_xy[1]] - obj_xy[1]\n",
    "    dist = np.sqrt(xdisp**2 + ydisp**2)\n",
    "    return dist\n",
    "\n",
    "def calc_error(cat, flux):\n",
    "    resid = np.sqrt((cat['flux_hat'] - flux)**2)\n",
    "    return resid\n",
    "\n",
    "def find_best(obj_xy, cat, cat_xy, cat_label):\n",
    "    \"\"\"\n",
    "    returns value from catalog for catalog entry closest\n",
    "    to obj_xy.\n",
    "    Argurments:\n",
    "        obj_xy, tuple (obj_x, obj_y)\n",
    "        cat: table of catalog entries\n",
    "        cat_xy: tuple ('cat_x', 'cat_y') columns in cat for xy coords\n",
    "            of catalog entry\n",
    "        cat_label: which field of catalog entry to be returned\n",
    "    \"\"\"\n",
    "    dist = calc_distance(cat, obj_xy, cat_xy)\n",
    "\n",
    "    minresid = np.argmin(dist)\n",
    "\n",
    "    best_cat = cat[minresid][cat_label]\n",
    "\n",
    "    return best_cat"
   ]
  },
  {
   "cell_type": "markdown",
   "metadata": {},
   "source": [
    "## Fetch object and gaia catalogs"
   ]
  },
  {
   "cell_type": "code",
   "execution_count": 31,
   "metadata": {},
   "outputs": [],
   "source": [
    "gaia_cat = load_catalog(os.path.join(rootdir, 'gaiacat',frameid+'.xml'))\n",
    "gaia_cat.add_index('gaiaid')\n",
    "obj_cat = load_catalog(os.path.join(rootdir, 'objcat',frameid+'.xml'))\n",
    "obj_cat.add_index('objid')"
   ]
  },
  {
   "cell_type": "markdown",
   "metadata": {},
   "source": [
    "## region to match table"
   ]
  },
  {
   "cell_type": "code",
   "execution_count": null,
   "metadata": {},
   "outputs": [],
   "source": []
  },
  {
   "cell_type": "code",
   "execution_count": 32,
   "metadata": {},
   "outputs": [],
   "source": [
    "'# vector(1628.552,99.596869,17.899903,52.293345) vector=1\\n'\n",
    "\n",
    "regfile = os.path.join(rootdir,'handmatch', frameid+'.reg')\n",
    "regions = []\n",
    "with open(regfile) as reg:\n",
    "    for line in reg.readlines():\n",
    "        if not line.startswith('# vector('): continue\n",
    "\n",
    "        reg_params_str = line.split('(')[-1 ].split(')')[0]\n",
    "        param_vals = [float(v) for v in reg_params_str.split(',')]\n",
    "        regions.append(param_vals)\n",
    "\n",
    "reg_table = Table(names=['x','y','len','theta_deg'], rows=regions)\n",
    "\n",
    "#find the endpoints of the vectors\n",
    "reg_table['theta_rad']= np.radians(reg_table['theta_deg'])\n",
    "reg_table['x_prime'] = reg_table['x']+reg_table['len']*np.cos(reg_table['theta_rad'])\n",
    "reg_table['y_prime'] = reg_table['y']+reg_table['len']*np.sin(reg_table['theta_rad'])\n",
    "\n",
    "#snap the vector start and endpoints to objects and gaia\n",
    "\n",
    "reg_table['objid'] = [find_best((r['x'], r['y']), obj_cat, ('x','y'),'objid') for r in reg_table]\n",
    "reg_table['gaiaid'] = [find_best((r['x_prime'], r['y_prime']), gaia_cat, ('x_gaia','y_gaia'),'gaiaid') for r in reg_table]"
   ]
  },
  {
   "cell_type": "code",
   "execution_count": 33,
   "metadata": {},
   "outputs": [
    {
     "data": {
      "text/html": [
       "<div><i>Table length=136</i>\n",
       "<table id=\"table139723938571424\" class=\"table-striped table-bordered table-condensed\">\n",
       "<thead><tr><th>x</th><th>y</th><th>len</th><th>theta_deg</th><th>theta_rad</th><th>x_prime</th><th>y_prime</th><th>objid</th><th>gaiaid</th></tr></thead>\n",
       "<thead><tr><th>float64</th><th>float64</th><th>float64</th><th>float64</th><th>float64</th><th>float64</th><th>float64</th><th>str8</th><th>str9</th></tr></thead>\n",
       "<tr><td>178.27646</td><td>4010.339</td><td>90.705154</td><td>344.85902</td><td>6.0189253542009755</td><td>265.8328808861312</td><td>3986.6472688734157</td><td>obj-0871</td><td>gaia-2710</td></tr>\n",
       "<tr><td>192.18248</td><td>3952.6548</td><td>90.689068</td><td>346.20051</td><td>6.042338771583554</td><td>280.2539352980305</td><td>3931.0232069843287</td><td>obj-0858</td><td>gaia-2653</td></tr>\n",
       "<tr><td>95.355381</td><td>3917.6322</td><td>92.572217</td><td>346.81424</td><td>6.053050380801818</td><td>185.4869894454059</td><td>3896.5156538965502</td><td>obj-0853</td><td>gaia-2695</td></tr>\n",
       "<tr><td>64.968153</td><td>3754.3653</td><td>89.190801</td><td>349.0145</td><td>6.091452162201749</td><td>152.5245718663024</td><td>3737.3690504628166</td><td>obj-0808</td><td>gaia-2647</td></tr>\n",
       "<tr><td>535.37885</td><td>3841.5306</td><td>80.145566</td><td>347.97965</td><td>6.073390622437486</td><td>613.7671198039818</td><td>3824.839557294449</td><td>obj-0838</td><td>gaia-2640</td></tr>\n",
       "<tr><td>523.45668</td><td>3810.8311</td><td>81.251362</td><td>348.36031</td><td>6.080034392768128</td><td>603.0371665376023</td><td>3794.4381140214314</td><td>obj-0827</td><td>gaia-2641</td></tr>\n",
       "<tr><td>677.74361</td><td>4060.5902</td><td>84.564601</td><td>344.27069</td><td>6.008657058612717</td><td>759.1415367230989</td><td>4037.665338659738</td><td>obj-0878</td><td>gaia-2882</td></tr>\n",
       "<tr><td>625.82065</td><td>3940.7819</td><td>82.861921</td><td>345.60386</td><td>6.03192526460153</td><td>706.0806994795623</td><td>3920.180385265679</td><td>obj-0857</td><td>gaia-2879</td></tr>\n",
       "<tr><td>682.04561</td><td>3995.29</td><td>83.008517</td><td>344.0953</td><td>6.005595925637644</td><td>761.8764641239222</td><td>3972.542502898465</td><td>obj-0865</td><td>gaia-2867</td></tr>\n",
       "<tr><td>...</td><td>...</td><td>...</td><td>...</td><td>...</td><td>...</td><td>...</td><td>...</td><td>...</td></tr>\n",
       "<tr><td>1420.1249</td><td>183.21485</td><td>49.993856</td><td>17.916449</td><td>0.31270102531564553</td><td>1467.6943602412207</td><td>198.59444980323502</td><td>obj-0051</td><td>gaia-0311</td></tr>\n",
       "<tr><td>1352.8839</td><td>96.302225</td><td>50.410484</td><td>21.650433</td><td>0.37787134033243347</td><td>1399.7380299357997</td><td>114.90081110414944</td><td>obj-0027</td><td>gaia-0277</td></tr>\n",
       "<tr><td>1601.361</td><td>50.935585</td><td>50.389024</td><td>23.532349</td><td>0.4107169707783951</td><td>1647.5594105335967</td><td>71.05424807292401</td><td>obj-0015</td><td>gaia-0061</td></tr>\n",
       "<tr><td>1607.5705</td><td>29.078272</td><td>52.161861</td><td>19.470302</td><td>0.339820876257637</td><td>1656.7494529440146</td><td>46.46477050641927</td><td>obj-0011</td><td>gaia-0056</td></tr>\n",
       "<tr><td>1767.2461</td><td>99.635664</td><td>48.592356</td><td>19.075098</td><td>0.3329232652405853</td><td>1813.1703002178572</td><td>115.5159944745493</td><td>obj-0028</td><td>gaia-0058</td></tr>\n",
       "<tr><td>1756.0869</td><td>81.180144</td><td>49.095839</td><td>22.080445</td><td>0.38537646555551935</td><td>1801.5819019926496</td><td>99.63566352134461</td><td>obj-0021</td><td>gaia-0059</td></tr>\n",
       "<tr><td>1808.0199</td><td>91.480899</td><td>49.335387</td><td>21.431167</td><td>0.37404442669475557</td><td>1853.9441000694258</td><td>109.5072202670561</td><td>obj-0025</td><td>gaia-0057</td></tr>\n",
       "<tr><td>1966.5687</td><td>146.39377</td><td>48.870649</td><td>19.90847</td><td>0.3474683505345155</td><td>2012.518731433664</td><td>163.03513247206038</td><td>obj-0038</td><td>gaia-0069</td></tr>\n",
       "<tr><td>1971.0395</td><td>91.253733</td><td>46.982298</td><td>19.776077</td><td>0.34515765677792265</td><td>2015.2508817562982</td><td>107.14996049458749</td><td>obj-0030</td><td>gaia-0085</td></tr>\n",
       "<tr><td>1965.5752</td><td>74.363991</td><td>48.001364</td><td>19.653824</td><td>0.34302393940748205</td><td>2010.7800963088778</td><td>90.50859677295443</td><td>obj-0029</td><td>gaia-0086</td></tr>\n",
       "</table></div>"
      ],
      "text/plain": [
       "<Table length=136>\n",
       "    x         y        len    ...      y_prime        objid     gaiaid \n",
       " float64   float64   float64  ...      float64         str8      str9  \n",
       "--------- --------- --------- ... ------------------ -------- ---------\n",
       "178.27646  4010.339 90.705154 ... 3986.6472688734157 obj-0871 gaia-2710\n",
       "192.18248 3952.6548 90.689068 ... 3931.0232069843287 obj-0858 gaia-2653\n",
       "95.355381 3917.6322 92.572217 ... 3896.5156538965502 obj-0853 gaia-2695\n",
       "64.968153 3754.3653 89.190801 ... 3737.3690504628166 obj-0808 gaia-2647\n",
       "535.37885 3841.5306 80.145566 ...  3824.839557294449 obj-0838 gaia-2640\n",
       "523.45668 3810.8311 81.251362 ... 3794.4381140214314 obj-0827 gaia-2641\n",
       "677.74361 4060.5902 84.564601 ...  4037.665338659738 obj-0878 gaia-2882\n",
       "625.82065 3940.7819 82.861921 ...  3920.180385265679 obj-0857 gaia-2879\n",
       "682.04561   3995.29 83.008517 ...  3972.542502898465 obj-0865 gaia-2867\n",
       "      ...       ...       ... ...                ...      ...       ...\n",
       "1420.1249 183.21485 49.993856 ... 198.59444980323502 obj-0051 gaia-0311\n",
       "1352.8839 96.302225 50.410484 ... 114.90081110414944 obj-0027 gaia-0277\n",
       " 1601.361 50.935585 50.389024 ...  71.05424807292401 obj-0015 gaia-0061\n",
       "1607.5705 29.078272 52.161861 ...  46.46477050641927 obj-0011 gaia-0056\n",
       "1767.2461 99.635664 48.592356 ...  115.5159944745493 obj-0028 gaia-0058\n",
       "1756.0869 81.180144 49.095839 ...  99.63566352134461 obj-0021 gaia-0059\n",
       "1808.0199 91.480899 49.335387 ...  109.5072202670561 obj-0025 gaia-0057\n",
       "1966.5687 146.39377 48.870649 ... 163.03513247206038 obj-0038 gaia-0069\n",
       "1971.0395 91.253733 46.982298 ... 107.14996049458749 obj-0030 gaia-0085\n",
       "1965.5752 74.363991 48.001364 ...  90.50859677295443 obj-0029 gaia-0086"
      ]
     },
     "execution_count": 33,
     "metadata": {},
     "output_type": "execute_result"
    }
   ],
   "source": [
    "reg_table\n"
   ]
  },
  {
   "cell_type": "code",
   "execution_count": 34,
   "metadata": {},
   "outputs": [],
   "source": [
    "# just need the two id colums\n",
    "catmatch = reg_table[['objid', 'gaiaid']]"
   ]
  },
  {
   "cell_type": "code",
   "execution_count": 35,
   "metadata": {},
   "outputs": [],
   "source": [
    "#write the .mtch file:\n",
    "with open(os.path.join(rootdir,'handmatch', frameid+'.mtch'),'w') as mtch:\n",
    "    mtch.write(f'# {frameid}\\n')\n",
    "    for cm in catmatch:\n",
    "        objid=cm['objid']; gaiaid=cm['gaiaid']\n",
    "        mtch.write(f'{objid[4:]} {gaiaid[5:]}\\n')"
   ]
  },
  {
   "cell_type": "code",
   "execution_count": 36,
   "metadata": {},
   "outputs": [],
   "source": [
    "# import pandas as pd\n",
    "# catmatch_pd = pd.read_csv(os.path.join(rootdir,'handmatch', frameid+'.mtch'), sep='\\s+', comment='#', names=['obj_num', 'gaia_num'])\n",
    "# catmatch_pd['objid'] = [f'obj-{i:04d}' for i in catmatch_pd.obj_num]\n",
    "# catmatch_pd['gaiaid'] = [f'gaia-{i:04d}' for i in catmatch_pd.gaia_num]\n",
    "# catmatch = Table.from_pandas(catmatch_pd)"
   ]
  },
  {
   "cell_type": "code",
   "execution_count": 37,
   "metadata": {},
   "outputs": [],
   "source": [
    "# catmatch_pd"
   ]
  },
  {
   "cell_type": "code",
   "execution_count": 38,
   "metadata": {},
   "outputs": [
    {
     "name": "stderr",
     "output_type": "stream",
     "text": [
      "WARNING: MergeConflictWarning: Cannot merge meta key 'ID' types <class 'str'> and <class 'str'>, choosing ID='xmatch' [astropy.utils.metadata.merge]\n"
     ]
    }
   ],
   "source": [
    "from astropy.table import join\n",
    "matched_cat = join(join(obj_cat, catmatch, keys='objid'), gaia_cat, keys='gaiaid')\n",
    "matched_cat['matchid'] = [f'match-{i:04d}' for i in range(len(matched_cat))]\n",
    "matched_cat.add_index('matchid')"
   ]
  },
  {
   "cell_type": "code",
   "execution_count": 39,
   "metadata": {},
   "outputs": [
    {
     "data": {
      "text/plain": [
       "<matplotlib.legend.Legend at 0x7f13f97b7d60>"
      ]
     },
     "execution_count": 39,
     "metadata": {},
     "output_type": "execute_result"
    },
    {
     "data": {
      "image/png": "[encoded data removed]",
      "text/plain": [
       "<Figure size 800x800 with 1 Axes>"
      ]
     },
     "metadata": {},
     "output_type": "display_data"
    }
   ],
   "source": [
    "fig, ax = plt.subplots(figsize=(8,8))\n",
    "ax.scatter(matched_cat['flux'],matched_cat['phot_g_mean_flux'], color='green', label='G flux')\n",
    "ax.scatter(matched_cat['flux'],matched_cat['phot_bp_mean_flux'], color='blue', label='BP flux')\n",
    "ax.scatter(matched_cat['flux'],matched_cat['phot_rp_mean_flux'], color='red', label='RP flux')\n",
    "ax.set_title(f'Frameid: {frameid}\\nGaia Catalog Flux v. Measured Flux')\n",
    "ax.set_ylabel('Gaia Catlog Flux (e-/s)')\n",
    "ax.set_xlabel('SuPrime Measured Flux (e-/s)')\n",
    "ax.legend(title='Gaia Photometer')"
   ]
  },
  {
   "cell_type": "code",
   "execution_count": 40,
   "metadata": {},
   "outputs": [
    {
     "data": {
      "text/plain": [
       "<matplotlib.colorbar.Colorbar at 0x7f13f8cd6980>"
      ]
     },
     "execution_count": 40,
     "metadata": {},
     "output_type": "execute_result"
    },
    {
     "data": {
      "image/png": "[encoded data removed]",
      "text/plain": [
       "<Figure size 800x800 with 2 Axes>"
      ]
     },
     "metadata": {},
     "output_type": "display_data"
    }
   ],
   "source": [
    "dx = np.array(matched_cat['x_obsdate']- matched_cat['x'])\n",
    "dy = np.array(matched_cat['y_obsdate']- matched_cat['y'])\n",
    "dist = np.sqrt(dx**2+dy**2)\n",
    "fig, ax = plt.subplots(figsize=(8,8))\n",
    "ax.set_xlim(0, 2048)\n",
    "ax.set_ylim(0, 4177)\n",
    "pcm =  ax.quiver(np.array(matched_cat['x']), np.array(matched_cat['y']), dx, dy, dist)\n",
    "# for x,y,t in zip(matched_cat['x'], matched_cat['y'], matched_cat['objid']):\n",
    "#     ax.text(x, y, t)\n",
    "\n",
    "ax.set_title(f'Frameid: {frameid}')\n",
    "\n",
    "fig.colorbar(pcm, label='number of pixels')"
   ]
  },
  {
   "cell_type": "code",
   "execution_count": 41,
   "metadata": {},
   "outputs": [
    {
     "data": {
      "text/plain": [
       "array([89.59844774, 90.54976409, 91.75733602, 91.78208563])"
      ]
     },
     "execution_count": 41,
     "metadata": {},
     "output_type": "execute_result"
    }
   ],
   "source": [
    "resids = np.sqrt((dx**2+dy**2))\n",
    "top4=resids.argsort()[-4:] \n",
    "resids[top4]           "
   ]
  },
  {
   "cell_type": "code",
   "execution_count": 42,
   "metadata": {},
   "outputs": [
    {
     "data": {
      "text/html": [
       "<div><i>Table length=4</i>\n",
       "<table id=\"table139723753942768\" class=\"table-striped table-bordered table-condensed\">\n",
       "<thead><tr><th>objid</th><th>gaiaid</th><th>residual</th><th>nsigma</th></tr></thead>\n",
       "<thead><tr><th>str8</th><th>str9</th><th>float64</th><th>float64</th></tr></thead>\n",
       "<tr><td>obj-0808</td><td>gaia-2647</td><td>89.59844773930001</td><td>2.627411694938699</td></tr>\n",
       "<tr><td>obj-0858</td><td>gaia-2653</td><td>90.54976408967605</td><td>2.717496350162725</td></tr>\n",
       "<tr><td>obj-0853</td><td>gaia-2695</td><td>91.75733601557663</td><td>2.831847060691318</td></tr>\n",
       "<tr><td>obj-0871</td><td>gaia-2710</td><td>91.78208563156686</td><td>2.834190719162578</td></tr>\n",
       "</table></div>"
      ],
      "text/plain": [
       "<Table length=4>\n",
       " objid     gaiaid       residual           nsigma     \n",
       "  str8      str9        float64           float64     \n",
       "-------- --------- ----------------- -----------------\n",
       "obj-0808 gaia-2647 89.59844773930001 2.627411694938699\n",
       "obj-0858 gaia-2653 90.54976408967605 2.717496350162725\n",
       "obj-0853 gaia-2695 91.75733601557663 2.831847060691318\n",
       "obj-0871 gaia-2710 91.78208563156686 2.834190719162578"
      ]
     },
     "execution_count": 42,
     "metadata": {},
     "output_type": "execute_result"
    }
   ],
   "source": [
    "tbl = matched_cat.iloc[top4][['objid','gaiaid']]\n",
    "m = resids.mean(); s=resids.std()\n",
    "tbl['residual'] = resids[top4]\n",
    "tbl['nsigma'] = (tbl['residual']-m)/s\n",
    "tbl"
   ]
  },
  {
   "cell_type": "code",
   "execution_count": 43,
   "metadata": {},
   "outputs": [],
   "source": [
    "regpath = os.path.join(rootdir, 'matchregion',frameid+'.reg')\n",
    "match_to_region(matched_cat, regpath)"
   ]
  },
  {
   "cell_type": "code",
   "execution_count": 44,
   "metadata": {},
   "outputs": [
    {
     "data": {
      "text/plain": [
       "'SUPA01499557'"
      ]
     },
     "execution_count": 44,
     "metadata": {},
     "output_type": "execute_result"
    }
   ],
   "source": [
    "frameid"
   ]
  },
  {
   "cell_type": "code",
   "execution_count": 20,
   "metadata": {},
   "outputs": [
    {
     "data": {
      "text/plain": [
       "'kevi'"
      ]
     },
     "execution_count": 20,
     "metadata": {},
     "output_type": "execute_result"
    }
   ],
   "source": [
    "zz = 'kevin'\n",
    "zz[0:len(zz)-1]"
   ]
  },
  {
   "cell_type": "code",
   "execution_count": null,
   "metadata": {},
   "outputs": [],
   "source": [
    "flux_df = pd.DataFrame({'matchid':matched_cat['matchid'], 'flux_obs':matched_cat['flux'], 'rp_flux': matched_cat['phot_rp_mean_flux'],\n",
    "                        'npix':matched_cat['npix']})\n",
    "flux_df.dropna(inplace=True)\n",
    "\n",
    "flux_mod = mls.mls(flux_df, y='flux_obs',x=['rp_flux'])\n",
    "print(flux_mod)"
   ]
  },
  {
   "cell_type": "code",
   "execution_count": null,
   "metadata": {},
   "outputs": [],
   "source": [
    "flux_mod.plotfit()"
   ]
  },
  {
   "cell_type": "code",
   "execution_count": null,
   "metadata": {},
   "outputs": [],
   "source": [
    "flux_mod.plotresid()"
   ]
  },
  {
   "cell_type": "code",
   "execution_count": 17,
   "metadata": {},
   "outputs": [],
   "source": [
    "        # fig, ax = plt.subplots(figsize=(8,8))\n",
    "        # ax.scatter(matched_cat['phot_rp_mean_flux'], matched_cat['npix'], color='red', label='npix')\n",
    "        # ax.set_title('Pixels v. Gaia RP Flux')\n",
    "        # ax.set_xlabel('Gaia Catlog RP Flux (e-/s)')\n",
    "        # ax.set_ylabel('SuPrime Measured Flux (e-/s)')\n",
    "        # ax.legend(title='Source Extractor')"
   ]
  },
  {
   "cell_type": "code",
   "execution_count": 25,
   "metadata": {},
   "outputs": [],
   "source": [
    "import skimage as sk\n",
    "def coord_map(matchtbl, fitted=False):\n",
    "\n",
    "    # -1 below because x,y coords are DS9/Fits syle (i.e. 1-relative)\n",
    "    if fitted:\n",
    "        src  = np.array([matchtbl['x_hat'], matchtbl['y_hat']]).T -1\n",
    "    else:\n",
    "        src  = np.array([matchtbl['x'], matchtbl['y']]).T -1\n",
    "    dest = np.array([matchtbl['x_gaia'], matchtbl['y_gaia']]).T -1\n",
    "\n",
    "    return src, dest\n",
    "\n",
    "def init_residuals(src, dest):\n",
    "    n = src.shape[0]\n",
    "    resid_sq = (dest-src)**2\n",
    "    sum_sq = resid_sq.sum(axis=1)\n",
    "\n",
    "    assert sum_sq.shape == (n,)\n",
    "\n",
    "    return np.sqrt(sum_sq)\n",
    "\n",
    "def rmse(resid):\n",
    "    RMSE = np.sqrt((resid**2).mean())\n",
    "    return RMSE\n",
    "\n",
    "def hypotenuse(X):\n",
    "    hyp = np.sqrt((X**2).sum(axis=1))\n",
    "    return hyp"
   ]
  },
  {
   "cell_type": "code",
   "execution_count": 19,
   "metadata": {},
   "outputs": [],
   "source": [
    "src, dest = coord_map(matched_cat)"
   ]
  },
  {
   "cell_type": "code",
   "execution_count": null,
   "metadata": {},
   "outputs": [],
   "source": [
    "init_rmse = rmse(init_residuals(dest, src))\n",
    "xform = sk.transform.estimate_transform('polynomial', src, dest, order=3)\n",
    "resids = xform.residuals(  src, dest) \n",
    "final_rmse = rmse(resids)\n",
    "resids2 = init_residuals(dest, xform(src))\n",
    "rmse2 = rmse(resids2)\n",
    "print(f'Inital RMSE: {init_rmse}, final RMSE: {final_rmse}, RMSE2: {rmse2}')"
   ]
  },
  {
   "cell_type": "code",
   "execution_count": null,
   "metadata": {},
   "outputs": [],
   "source": [
    "np.allclose(resids, resids2)"
   ]
  },
  {
   "cell_type": "markdown",
   "metadata": {},
   "source": [
    "## Initial Matching Based on Transform"
   ]
  },
  {
   "cell_type": "code",
   "execution_count": null,
   "metadata": {},
   "outputs": [],
   "source": [
    "# estimate the transform on the hand-matched catalogs\n",
    "src, dest = coord_map(matched_cat)\n",
    "xform = sk.transform.estimate_transform('polynomial', src, dest, order=3)\n",
    "\n",
    "# transform every member of the object catalog\n",
    "obj_xy = np.array([obj_cat['x'], obj_cat['y']]).T\n",
    "pos_hat = xform(obj_xy)\n",
    "\n",
    "#make a table for find_best\n",
    "pos_hat_tbl = Table({'x':pos_hat[:,0], 'y':pos_hat[:,1]})\n",
    "\n",
    "obj_fit = obj_cat.copy()\n",
    "obj_fit['gaiaid']=[find_best(o,gaia_cat, dist_only=True) for o in pos_hat_tbl]\n",
    "obj_fit['x_hat'] = pos_hat[:,0]; obj_fit['y_hat'] = pos_hat[:,1]\n",
    "obj_fit = join(obj_fit, gaia_cat, keys='gaiaid')\n",
    "\n",
    "regpath = os.path.join(rootdir,'matchregion',frameid+'_xhat.reg')\n",
    "match_to_region(obj_fit,regpath, fitted=True)\n",
    "\n",
    "regpath = os.path.join(rootdir,'matchregion',frameid+'_xform.reg')\n",
    "match_to_region(obj_fit,regpath)"
   ]
  },
  {
   "cell_type": "markdown",
   "metadata": {},
   "source": [
    "## Same Transform, Different Frame\n"
   ]
  },
  {
   "cell_type": "code",
   "execution_count": null,
   "metadata": {},
   "outputs": [],
   "source": [
    "# xform from previous frame\n",
    "\n",
    "\n",
    "#catalogs\n",
    "gaia_cat2 = load_catalog(os.path.join(rootdir, 'gaiacat',frameid2+'.xml'))\n",
    "gaia_cat2.add_index('gaiaid')\n",
    "obj_cat2 = load_catalog(os.path.join(rootdir, 'objcat',frameid2+'.xml'))\n",
    "#obj_cat2.add_index('objid')\n",
    "\n",
    "horizmargin = np.logical_and(obj_cat2['x'] >= 40, obj_cat2['x'] <= (2048-40))\n",
    "vertmargin = np.logical_and(obj_cat2['y'] >= 40, obj_cat2['y'] <= (4177-40))\n",
    "marginok = np.logical_and(horizmargin, vertmargin)\n",
    "\n",
    "sizeok = np.logical_and(obj_cat2['npix']>=50, obj_cat2['npix'] <= 2500)\n",
    "validobs = np.logical_and(marginok, sizeok)\n",
    "obj_cat2 = obj_cat2[validobs]\n",
    "\n",
    "# we know these objects to be bogus for frameid frameid2 = 'SUPA01499583'\n",
    "# badrows = obj_cat2.loc_indices[['obj-0196','obj-0691', 'obj-0203']]\n",
    "# obj_cat2.remove_rows(badrows)\n",
    "\n",
    "# transform every member of the object catalog\n",
    "obj_xy = np.array([obj_cat2['x'], obj_cat2['y']]).T\n",
    "pos_hat = xform(obj_xy)\n",
    "\n",
    "#make a table for find_best\n",
    "pos_hat_tbl = Table({'x':pos_hat[:,0], 'y':pos_hat[:,1]})\n",
    "\n",
    "obj_fit = obj_cat2.copy()\n",
    "obj_fit['gaiaid']=[find_best(o,gaia_cat2, dist_only=True) for o in pos_hat_tbl]\n",
    "obj_fit['x_hat'] = pos_hat[:,0]; obj_fit['y_hat'] = pos_hat[:,1]\n",
    "obj_fit = join(obj_fit, gaia_cat2, keys='gaiaid')\n",
    "\n",
    "regpath = os.path.join(rootdir,'matchregion',frameid2+'_xhat.reg')\n",
    "match_to_region(obj_fit,regpath, fitted=True)\n",
    "\n",
    "regpath = os.path.join(rootdir,'matchregion',frameid2+'_xform.reg')\n",
    "match_to_region(obj_fit,regpath)"
   ]
  },
  {
   "cell_type": "markdown",
   "metadata": {},
   "source": [
    "### Recalculate RMSE given new pairing"
   ]
  },
  {
   "cell_type": "code",
   "execution_count": null,
   "metadata": {},
   "outputs": [],
   "source": [
    "from sklearn.neighbors import LocalOutlierFactor\n"
   ]
  },
  {
   "cell_type": "code",
   "execution_count": null,
   "metadata": {},
   "outputs": [],
   "source": [
    "src, dest = coord_map(obj_fit)\n",
    "init_rmse = rmse(init_residuals(dest, src))\n",
    "xform = sk.transform.estimate_transform('polynomial', src, dest, order=3)\n",
    "resids = xform.residuals(  src, dest)\n",
    "out_rmse = rmse(resids)\n",
    "\n",
    "# ditch the outliers\n",
    "lof = LocalOutlierFactor(n_neighbors=50)\n",
    "X = [[x] for x in resids]\n",
    "outliers = lof.fit_predict(X)\n",
    "inliers = outliers == 1\n",
    "\n",
    "#recalc transform using just the inliers\n",
    "xform = sk.transform.estimate_transform('polynomial', src[inliers], dest[inliers])\n",
    "in_rmse = rmse(xform.residuals(src[inliers], dest[inliers]))\n",
    "\n",
    "print(f'Inital RMSE: {init_rmse}, RMSE with outliers: {out_rmse}, RMSE outliers removed: {in_rmse}')"
   ]
  },
  {
   "cell_type": "code",
   "execution_count": null,
   "metadata": {},
   "outputs": [],
   "source": [
    "fig, ax = plt.subplots(figsize=(8,8))\n",
    "ax.set_xlim(0, 2048)\n",
    "ax.set_ylim(0, 4177)\n",
    "pcm = ax.scatter(src[:,0], src[:,1],c=xform.residuals(src, dest))\n",
    "fig.colorbar(pcm)"
   ]
  },
  {
   "cell_type": "code",
   "execution_count": null,
   "metadata": {},
   "outputs": [],
   "source": []
  },
  {
   "cell_type": "code",
   "execution_count": null,
   "metadata": {},
   "outputs": [],
   "source": [
    "resids.mean(), resids.std()"
   ]
  },
  {
   "cell_type": "code",
   "execution_count": null,
   "metadata": {},
   "outputs": [],
   "source": [
    "obj_fit[obj_fit['objid']=='obj-0691']"
   ]
  },
  {
   "cell_type": "code",
   "execution_count": null,
   "metadata": {},
   "outputs": [],
   "source": [
    "resids2.max(), resids2.argmax()"
   ]
  },
  {
   "cell_type": "code",
   "execution_count": null,
   "metadata": {},
   "outputs": [],
   "source": [
    "obj_fit[212]"
   ]
  },
  {
   "cell_type": "code",
   "execution_count": 29,
   "metadata": {},
   "outputs": [],
   "source": [
    "from sklearn.neighbors import LocalOutlierFactor\n",
    "lof = LocalOutlierFactor()\n",
    "X = [[x] for x in resids2]\n",
    "outliers = lof.fit_predict(X)"
   ]
  },
  {
   "cell_type": "code",
   "execution_count": null,
   "metadata": {},
   "outputs": [],
   "source": [
    "resids[outliers==-1]"
   ]
  },
  {
   "cell_type": "markdown",
   "metadata": {},
   "source": [
    "The above looks to work really well. It suggests the following algorithm:\n",
    "1. open up coordinate pairs for the detector (perhaps previously saved)\n",
    "2. calculate the transform\n",
    "3. apply the transform to the objects in the current frame\n",
    "4. find the closest gaia to the transform\n",
    "5. calculate new coordinate pairs\n",
    "6. calculate inverse transform\n",
    "7. warp image\n"
   ]
  },
  {
   "cell_type": "markdown",
   "metadata": {},
   "source": [
    "## Initial Least Squares Matching"
   ]
  },
  {
   "cell_type": "markdown",
   "metadata": {},
   "source": [
    "### Flux model from the hand-matched pairs"
   ]
  },
  {
   "cell_type": "code",
   "execution_count": null,
   "metadata": {},
   "outputs": [],
   "source": [
    "flux_df = pd.DataFrame({'matchid':matched_cat['matchid'], 'flux_obs':matched_cat['flux'], 'rp_flux': matched_cat['phot_rp_mean_flux'],\n",
    "                        'npix':matched_cat['npix']})\n",
    "flux_df.dropna(inplace=True)\n",
    "\n",
    "flux_mod = mls.mls(flux_df, y='flux_obs',x=['rp_flux'])\n",
    "print(flux_mod)\n"
   ]
  },
  {
   "cell_type": "code",
   "execution_count": 22,
   "metadata": {},
   "outputs": [],
   "source": [
    "sobj_cat= obj_cat[obj_cat['flux'] <= 250000].copy()\n",
    "\n",
    "sgaia_cat = gaia_cat[~gaia_cat['phot_rp_mean_flux'].mask].copy()\n",
    "\n",
    "#use coefs from fitted model to predict flux\n",
    "sgaia_cat['flux_hat'] = flux_mod.beta_hat[0][0]+ flux_mod.beta_hat[1][0]*sgaia_cat['phot_rp_mean_flux']\n",
    "sgaia_cat['unmatched']=True"
   ]
  },
  {
   "cell_type": "code",
   "execution_count": 23,
   "metadata": {},
   "outputs": [],
   "source": [
    "def calc_distance(cat, x, y):\n",
    "    xdisp = cat['x_gaia'] - x\n",
    "    ydisp = cat['y_gaia'] - y\n",
    "    dist = np.sqrt(xdisp**2 + ydisp**2)\n",
    "    return dist\n",
    "\n",
    "def calc_error(cat, flux):\n",
    "    resid = np.sqrt((cat['flux_hat'] - flux)**2)\n",
    "    return resid\n",
    "\n",
    "def find_best(obj, cat, dist_only=False):\n",
    "    dist = calc_distance(cat, obj['x'], obj['y'])\n",
    "    if dist_only:\n",
    "        minresid = np.argmin(dist)\n",
    "    else:\n",
    "        valid = np.logical_and(dist >= 10, dist <= 100)\n",
    "        #valid = np.logical_and(valid, cat['unmatched'])\n",
    "        resid = calc_error(cat, obj['flux'])\n",
    "        resid = np.where(valid, resid, np.nan)\n",
    "        minresid = np.nanargmin(resid)\n",
    "    #cat[minresid]['unmatched']= False\n",
    "    best_cat = cat[minresid]['gaiaid']\n",
    "    return best_cat"
   ]
  },
  {
   "cell_type": "code",
   "execution_count": null,
   "metadata": {},
   "outputs": [],
   "source": [
    "sobj_cat['gaiaid'] = [find_best(o,sgaia_cat) for o in sobj_cat]\n",
    "sobj_cat = join(sobj_cat, gaia_cat, keys='gaiaid')\n",
    "regpath = os.path.join(rootdir,'matchregion',frameid+'_init.reg')\n",
    "match_to_region(sobj_cat, regpath)"
   ]
  },
  {
   "cell_type": "markdown",
   "metadata": {},
   "source": [
    "### Flux model after AutoMatch"
   ]
  },
  {
   "cell_type": "code",
   "execution_count": null,
   "metadata": {},
   "outputs": [],
   "source": [
    "flux_df = pd.DataFrame({ 'flux_obs':sobj_cat['flux'], 'rp_flux': sobj_cat['phot_rp_mean_flux'],\n",
    "                        'npix':sobj_cat['npix']})\n",
    "flux_df.dropna(inplace=True)\n",
    "\n",
    "flux_mod = mls.mls(flux_df, y='flux_obs',x=['rp_flux'])\n",
    "print(flux_mod)"
   ]
  },
  {
   "cell_type": "markdown",
   "metadata": {},
   "source": [
    "### Iterating on the AutoMatch\n",
    "\n",
    "**N.B.: this didn't work!** so don't do it!!"
   ]
  },
  {
   "cell_type": "code",
   "execution_count": 26,
   "metadata": {},
   "outputs": [],
   "source": [
    "# sobj_cat= obj_cat[obj_cat['flux'] <= 250000].copy()\n",
    "# sgaia_cat = gaia_cat[~gaia_cat['phot_rp_mean_flux'].mask].copy()\n",
    "# sgaia_cat['flux_hat'] = flux_mod.beta_hat[0][0]+ flux_mod.beta_hat[1][0]*sgaia_cat['phot_rp_mean_flux']\n",
    "# sgaia_cat['unmatched'] = True\n",
    "# sobj_cat['gaiaid'] = [find_best(o,sgaia_cat) for o in sobj_cat]\n",
    "# sobj_cat = join(sobj_cat, gaia_cat, keys='gaiaid')\n",
    "# regpath = os.path.join(rootdir,'matchregion',frameid+'_iter0.reg')\n",
    "# match_to_region(sobj_cat, regpath)"
   ]
  },
  {
   "cell_type": "code",
   "execution_count": null,
   "metadata": {},
   "outputs": [],
   "source": [
    "frameid"
   ]
  },
  {
   "cell_type": "markdown",
   "metadata": {},
   "source": [
    "## Nearest Neighbor Regression"
   ]
  },
  {
   "cell_type": "code",
   "execution_count": 28,
   "metadata": {},
   "outputs": [],
   "source": [
    "from sklearn import neighbors"
   ]
  },
  {
   "cell_type": "code",
   "execution_count": null,
   "metadata": {},
   "outputs": [],
   "source": [
    "src = np.array([sobj_cat['x'], sobj_cat['y']]).T\n",
    "dest = np.array([sobj_cat['x_gaia'], sobj_cat['y_gaia']]).T\n",
    "obj_xy = np.array([obj_cat['x'], obj_cat['y']]).T\n",
    "\n",
    "# n_neighbors = 20\n",
    "# knn = neighbors.KNeighborsRegressor(n_neighbors, weights='distance')\n",
    "radius = 200\n",
    "knn = neighbors.RadiusNeighborsRegressor(radius, weights='distance')\n",
    "\n",
    "pos_hat = knn.fit(src, dest).predict(obj_xy)\n",
    "\n",
    "#make a table for find_best\n",
    "pos_hat_tbl = Table({'x':pos_hat[:,0], 'y':pos_hat[:,1]})\n",
    "\n",
    "obj_fit = obj_cat.copy()\n",
    "obj_fit['gaiaid']=[find_best(o,gaia_cat, dist_only=True) for o in pos_hat_tbl]\n",
    "obj_fit['x_hat'] = pos_hat[:,0]; obj_fit['y_hat'] = pos_hat[:,1]\n",
    "obj_fit = join(obj_fit, gaia_cat, keys='gaiaid')\n",
    "\n",
    "regpath = os.path.join(rootdir,'matchregion',frameid+'_hat.reg')\n",
    "match_to_region(obj_fit,regpath, fitted=True)\n",
    "\n",
    "regpath = os.path.join(rootdir,'matchregion',frameid+'_knn.reg')\n",
    "match_to_region(obj_fit,regpath)"
   ]
  },
  {
   "cell_type": "code",
   "execution_count": null,
   "metadata": {},
   "outputs": [],
   "source": [
    "frameid"
   ]
  },
  {
   "cell_type": "code",
   "execution_count": null,
   "metadata": {},
   "outputs": [],
   "source": [
    "len(obj_cat)"
   ]
  },
  {
   "cell_type": "code",
   "execution_count": null,
   "metadata": {},
   "outputs": [],
   "source": [
    "obj_xy[:10]"
   ]
  },
  {
   "cell_type": "code",
   "execution_count": null,
   "metadata": {},
   "outputs": [],
   "source": [
    "len(sobj_cat)"
   ]
  },
  {
   "cell_type": "code",
   "execution_count": null,
   "metadata": {},
   "outputs": [],
   "source": [
    "src.data.shape"
   ]
  },
  {
   "cell_type": "code",
   "execution_count": null,
   "metadata": {},
   "outputs": [],
   "source": [
    "sobj_cat[['x','y', 'x_gaia','y_gaia']]"
   ]
  }
 ],
 "metadata": {
  "kernelspec": {
   "display_name": "Subaru",
   "language": "python",
   "name": "python3"
  },
  "language_info": {
   "codemirror_mode": {
    "name": "ipython",
    "version": 3
   },
   "file_extension": ".py",
   "mimetype": "text/x-python",
   "name": "python",
   "nbconvert_exporter": "python",
   "pygments_lexer": "ipython3",
   "version": "3.10.16"
  }
 },
 "nbformat": 4,
 "nbformat_minor": 2
}
