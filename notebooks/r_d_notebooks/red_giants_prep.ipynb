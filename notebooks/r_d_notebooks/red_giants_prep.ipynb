{
 "cells": [
  {
   "cell_type": "code",
   "execution_count": 9,
   "id": "5cdc706a",
   "metadata": {},
   "outputs": [],
   "source": [
    "import matplotlib.pyplot as plt\n",
    "import os, sys\n",
    "\n",
    "from astropy.io import fits\n",
    "from astropy.table import Table\n",
    "\n",
    "import numpy as np\n",
    "\n",
    "import matplotlib.colors as colors\n",
    "from astropy.visualization import imshow_norm, MinMaxInterval, LogStretch,PercentileInterval, ImageNormalize\n",
    "\n",
    "import sep\n",
    "sys.path.append(os.path.expanduser('~/repos/ReipurthBallyProject/src'))\n",
    "from catalog import *\n",
    "import sep"
   ]
  },
  {
   "cell_type": "markdown",
   "id": "d72fbb23",
   "metadata": {},
   "source": [
    "(https://stackoverflow.com/questions/37031356/check-if-points-are-inside-ellipse-faster-than-contains-point-method)"
   ]
  },
  {
   "cell_type": "code",
   "execution_count": 10,
   "id": "f0b2011d",
   "metadata": {},
   "outputs": [],
   "source": [
    "# import matplotlib.pyplot as plt\n",
    "# import matplotlib.patches as patches\n",
    "# import numpy as np\n",
    "\n",
    "# fig,ax = plt.subplots(1)\n",
    "# ax.set_aspect('equal')\n",
    "\n",
    "# # Some test points\n",
    "# x = np.random.rand(500)*0.5+0.7\n",
    "# y = np.random.rand(500)*0.5+0.7\n",
    "\n",
    "# # The ellipse\n",
    "# g_ell_center = (0.8882, 0.8882)\n",
    "# g_ell_width = 0.36401857095483\n",
    "# g_ell_height = 0.16928136341606\n",
    "# angle = 30.\n",
    "\n",
    "# g_ellipse = patches.Ellipse(g_ell_center, g_ell_width, g_ell_height, angle=angle, fill=False, edgecolor='green', linewidth=2)\n",
    "# ax.add_patch(g_ellipse)\n",
    "\n",
    "# cos_angle = np.cos(np.radians(180.-angle))\n",
    "# sin_angle = np.sin(np.radians(180.-angle))\n",
    "\n",
    "# xc = x - g_ell_center[0]\n",
    "# yc = y - g_ell_center[1]\n",
    "\n",
    "# xct = xc * cos_angle - yc * sin_angle\n",
    "# yct = xc * sin_angle + yc * cos_angle \n",
    "\n",
    "# rad_cc = (xct**2/(g_ell_width/2.)**2) + (yct**2/(g_ell_height/2.)**2)\n",
    "\n",
    "# # Set the colors. Black if outside the ellipse, green if inside\n",
    "# colors_array = np.array(['black'] * len(rad_cc))\n",
    "# colors_array[np.where(rad_cc <= 1.)[0]] = 'green'\n",
    "\n",
    "# ax.scatter(x,y,c=colors_array,linewidths=0.3)\n",
    "\n",
    "# plt.show()"
   ]
  },
  {
   "cell_type": "code",
   "execution_count": 11,
   "id": "c397898c",
   "metadata": {},
   "outputs": [],
   "source": [
    "import pandas as pd\n",
    "readme = pd.read_fwf('/home/kevin/Documents/HH24/schonhut-stasik/columns.txt', sep='\\s+',\n",
    "            header=None, skiprows=3, names=['columns','format','unit','name','description'])"
   ]
  },
  {
   "cell_type": "code",
   "execution_count": 12,
   "id": "8fb624f5",
   "metadata": {},
   "outputs": [
    {
     "data": {
      "text/html": [
       "<div>\n",
       "<style scoped>\n",
       "    .dataframe tbody tr th:only-of-type {\n",
       "        vertical-align: middle;\n",
       "    }\n",
       "\n",
       "    .dataframe tbody tr th {\n",
       "        vertical-align: top;\n",
       "    }\n",
       "\n",
       "    .dataframe thead th {\n",
       "        text-align: right;\n",
       "    }\n",
       "</style>\n",
       "<table border=\"1\" class=\"dataframe\">\n",
       "  <thead>\n",
       "    <tr style=\"text-align: right;\">\n",
       "      <th></th>\n",
       "      <th>columns</th>\n",
       "      <th>format</th>\n",
       "      <th>unit</th>\n",
       "      <th>name</th>\n",
       "      <th>description</th>\n",
       "    </tr>\n",
       "  </thead>\n",
       "  <tbody>\n",
       "    <tr>\n",
       "      <th>0</th>\n",
       "      <td>1-  9</td>\n",
       "      <td>I9</td>\n",
       "      <td>---</td>\n",
       "      <td>EPIC</td>\n",
       "      <td>EPIC identifier</td>\n",
       "    </tr>\n",
       "    <tr>\n",
       "      <th>1</th>\n",
       "      <td>11- 28</td>\n",
       "      <td>A18</td>\n",
       "      <td>---</td>\n",
       "      <td>APOGEE</td>\n",
       "      <td>APOGEE identifier</td>\n",
       "    </tr>\n",
       "    <tr>\n",
       "      <th>2</th>\n",
       "      <td>30- 48</td>\n",
       "      <td>I19</td>\n",
       "      <td>---</td>\n",
       "      <td>Gaia</td>\n",
       "      <td>Gaia DR3 identifier</td>\n",
       "    </tr>\n",
       "    <tr>\n",
       "      <th>3</th>\n",
       "      <td>50- 58</td>\n",
       "      <td>A9</td>\n",
       "      <td>---</td>\n",
       "      <td>Camp</td>\n",
       "      <td>K2 campaign number(s)</td>\n",
       "    </tr>\n",
       "    <tr>\n",
       "      <th>4</th>\n",
       "      <td>60- 67</td>\n",
       "      <td>F8.4</td>\n",
       "      <td>deg</td>\n",
       "      <td>RAdeg</td>\n",
       "      <td>[8/360] Right Ascension (J2000)</td>\n",
       "    </tr>\n",
       "    <tr>\n",
       "      <th>...</th>\n",
       "      <td>...</td>\n",
       "      <td>...</td>\n",
       "      <td>...</td>\n",
       "      <td>...</td>\n",
       "      <td>...</td>\n",
       "    </tr>\n",
       "    <tr>\n",
       "      <th>70</th>\n",
       "      <td>419-425</td>\n",
       "      <td>F7.2</td>\n",
       "      <td>km/s</td>\n",
       "      <td>V</td>\n",
       "      <td>The V velocity</td>\n",
       "    </tr>\n",
       "    <tr>\n",
       "      <th>71</th>\n",
       "      <td>427-433</td>\n",
       "      <td>F7.2</td>\n",
       "      <td>km/s</td>\n",
       "      <td>e_V</td>\n",
       "      <td>?=-999 Uncertainty in V</td>\n",
       "    </tr>\n",
       "    <tr>\n",
       "      <th>72</th>\n",
       "      <td>435-441</td>\n",
       "      <td>F7.2</td>\n",
       "      <td>km/s</td>\n",
       "      <td>W</td>\n",
       "      <td>The W velocity</td>\n",
       "    </tr>\n",
       "    <tr>\n",
       "      <th>73</th>\n",
       "      <td>443-449</td>\n",
       "      <td>F7.2</td>\n",
       "      <td>km/s</td>\n",
       "      <td>e_W</td>\n",
       "      <td>?=-999 Uncertainty in W</td>\n",
       "    </tr>\n",
       "    <tr>\n",
       "      <th>74</th>\n",
       "      <td>451-451</td>\n",
       "      <td>I1</td>\n",
       "      <td>---</td>\n",
       "      <td>DR3</td>\n",
       "      <td>[0/1] Gaia DR3 binary flag (6)</td>\n",
       "    </tr>\n",
       "  </tbody>\n",
       "</table>\n",
       "<p>75 rows × 5 columns</p>\n",
       "</div>"
      ],
      "text/plain": [
       "    columns format  unit    name                      description\n",
       "0     1-  9     I9   ---    EPIC                  EPIC identifier\n",
       "1    11- 28    A18   ---  APOGEE                APOGEE identifier\n",
       "2    30- 48    I19   ---    Gaia              Gaia DR3 identifier\n",
       "3    50- 58     A9   ---    Camp            K2 campaign number(s)\n",
       "4    60- 67   F8.4   deg   RAdeg  [8/360] Right Ascension (J2000)\n",
       "..      ...    ...   ...     ...                              ...\n",
       "70  419-425   F7.2  km/s       V                   The V velocity\n",
       "71  427-433   F7.2  km/s     e_V          ?=-999 Uncertainty in V\n",
       "72  435-441   F7.2  km/s       W                   The W velocity\n",
       "73  443-449   F7.2  km/s     e_W          ?=-999 Uncertainty in W\n",
       "74  451-451     I1   ---     DR3   [0/1] Gaia DR3 binary flag (6)\n",
       "\n",
       "[75 rows x 5 columns]"
      ]
     },
     "execution_count": 12,
     "metadata": {},
     "output_type": "execute_result"
    }
   ],
   "source": [
    "readme"
   ]
  },
  {
   "cell_type": "code",
   "execution_count": 13,
   "id": "2835b72b",
   "metadata": {},
   "outputs": [],
   "source": [
    "import numpy as np\n",
    "t=np.array([type(c) for c in readme['columns']])\n",
    "indx = np.arange(len(readme))\n",
    "\n",
    "rm = readme.iloc[t!=float]"
   ]
  },
  {
   "cell_type": "code",
   "execution_count": 14,
   "id": "086750c3",
   "metadata": {},
   "outputs": [],
   "source": [
    "col_i = [r.split('-') for r in rm['columns']]\n",
    "col_t = [(int(c[0])-1, int(c[1])) for c in col_i]"
   ]
  },
  {
   "cell_type": "code",
   "execution_count": 15,
   "id": "bf4bbca7",
   "metadata": {},
   "outputs": [
    {
     "data": {
      "text/plain": [
       "7672"
      ]
     },
     "execution_count": 15,
     "metadata": {},
     "output_type": "execute_result"
    }
   ],
   "source": [
    "red_giants = pd.read_fwf('/home/kevin/Documents/HH24/schonhut-stasik/catalog.dat', names=rm['name'], colspecs=col_t)\n",
    "len(red_giants)"
   ]
  },
  {
   "cell_type": "markdown",
   "id": "d350ed89",
   "metadata": {},
   "source": [
    "## Revised Catalog"
   ]
  },
  {
   "cell_type": "code",
   "execution_count": 24,
   "id": "39cfb7a7",
   "metadata": {},
   "outputs": [],
   "source": [
    "red_giants_rev=pd.read_csv('/home/kevin/Documents/HH24/schonhut-stasik/apok2_compiled_dec20.csv', low_memory=False)"
   ]
  },
  {
   "cell_type": "code",
   "execution_count": 25,
   "id": "9122ecb5",
   "metadata": {},
   "outputs": [
    {
     "data": {
      "text/html": [
       "<div>\n",
       "<style scoped>\n",
       "    .dataframe tbody tr th:only-of-type {\n",
       "        vertical-align: middle;\n",
       "    }\n",
       "\n",
       "    .dataframe tbody tr th {\n",
       "        vertical-align: top;\n",
       "    }\n",
       "\n",
       "    .dataframe thead th {\n",
       "        text-align: right;\n",
       "    }\n",
       "</style>\n",
       "<table border=\"1\" class=\"dataframe\">\n",
       "  <thead>\n",
       "    <tr style=\"text-align: right;\">\n",
       "      <th></th>\n",
       "      <th>angDist</th>\n",
       "      <th>epic</th>\n",
       "      <th>apogee</th>\n",
       "      <th>gaia_source</th>\n",
       "      <th>camp</th>\n",
       "      <th>ra</th>\n",
       "      <th>dec</th>\n",
       "      <th>glat</th>\n",
       "      <th>glon</th>\n",
       "      <th>ev</th>\n",
       "      <th>...</th>\n",
       "      <th>radial_velocity_error</th>\n",
       "      <th>ages_mean</th>\n",
       "      <th>ages_mean_e_upper</th>\n",
       "      <th>ages_mean_e_lower</th>\n",
       "      <th>ages_mean_sys_e</th>\n",
       "      <th>full_ages</th>\n",
       "      <th>rc_ages</th>\n",
       "      <th>rc_ages_merr</th>\n",
       "      <th>rc_ages_perr</th>\n",
       "      <th>rc_ages_mode</th>\n",
       "    </tr>\n",
       "  </thead>\n",
       "  <tbody>\n",
       "    <tr>\n",
       "      <th>0</th>\n",
       "      <td>1.759477</td>\n",
       "      <td>214839814</td>\n",
       "      <td>2M18440396-2531219</td>\n",
       "      <td>4073390727810344576</td>\n",
       "      <td>7</td>\n",
       "      <td>281.017</td>\n",
       "      <td>-25.523</td>\n",
       "      <td>-9.82</td>\n",
       "      <td>9.19</td>\n",
       "      <td>RGB</td>\n",
       "      <td>...</td>\n",
       "      <td>NaN</td>\n",
       "      <td>8.862162</td>\n",
       "      <td>4.496892</td>\n",
       "      <td>2.983159</td>\n",
       "      <td>0.0</td>\n",
       "      <td>8.862162</td>\n",
       "      <td>-999.0</td>\n",
       "      <td>-999.0</td>\n",
       "      <td>-999.0</td>\n",
       "      <td>-999.0</td>\n",
       "    </tr>\n",
       "    <tr>\n",
       "      <th>1</th>\n",
       "      <td>1.286690</td>\n",
       "      <td>214829731</td>\n",
       "      <td>2M18511742-2532459</td>\n",
       "      <td>4074647637065331328</td>\n",
       "      <td>7</td>\n",
       "      <td>282.823</td>\n",
       "      <td>-25.546</td>\n",
       "      <td>-11.31</td>\n",
       "      <td>9.87</td>\n",
       "      <td>RC</td>\n",
       "      <td>...</td>\n",
       "      <td>NaN</td>\n",
       "      <td>-999.000000</td>\n",
       "      <td>-999.000000</td>\n",
       "      <td>-999.000000</td>\n",
       "      <td>-999.0</td>\n",
       "      <td>-999.000000</td>\n",
       "      <td>-999.0</td>\n",
       "      <td>-999.0</td>\n",
       "      <td>-999.0</td>\n",
       "      <td>-999.0</td>\n",
       "    </tr>\n",
       "    <tr>\n",
       "      <th>2</th>\n",
       "      <td>2.238501</td>\n",
       "      <td>214813041</td>\n",
       "      <td>2M18454357-2535041</td>\n",
       "      <td>4073380626047358208</td>\n",
       "      <td>7</td>\n",
       "      <td>281.432</td>\n",
       "      <td>-25.584</td>\n",
       "      <td>-10.19</td>\n",
       "      <td>9.30</td>\n",
       "      <td>RC</td>\n",
       "      <td>...</td>\n",
       "      <td>NaN</td>\n",
       "      <td>-999.000000</td>\n",
       "      <td>-999.000000</td>\n",
       "      <td>-999.000000</td>\n",
       "      <td>-999.0</td>\n",
       "      <td>-999.000000</td>\n",
       "      <td>-999.0</td>\n",
       "      <td>-999.0</td>\n",
       "      <td>-999.0</td>\n",
       "      <td>-999.0</td>\n",
       "    </tr>\n",
       "    <tr>\n",
       "      <th>3</th>\n",
       "      <td>1.624161</td>\n",
       "      <td>214825736</td>\n",
       "      <td>2M18494457-2533193</td>\n",
       "      <td>4074657055953883904</td>\n",
       "      <td>7</td>\n",
       "      <td>282.436</td>\n",
       "      <td>-25.555</td>\n",
       "      <td>-11.00</td>\n",
       "      <td>9.72</td>\n",
       "      <td>RC</td>\n",
       "      <td>...</td>\n",
       "      <td>NaN</td>\n",
       "      <td>-999.000000</td>\n",
       "      <td>-999.000000</td>\n",
       "      <td>-999.000000</td>\n",
       "      <td>-999.0</td>\n",
       "      <td>-999.000000</td>\n",
       "      <td>-999.0</td>\n",
       "      <td>-999.0</td>\n",
       "      <td>-999.0</td>\n",
       "      <td>-999.0</td>\n",
       "    </tr>\n",
       "    <tr>\n",
       "      <th>4</th>\n",
       "      <td>1.901095</td>\n",
       "      <td>215163750</td>\n",
       "      <td>2M18443057-2448014</td>\n",
       "      <td>4073502671843176704</td>\n",
       "      <td>7</td>\n",
       "      <td>281.127</td>\n",
       "      <td>-24.800</td>\n",
       "      <td>-9.60</td>\n",
       "      <td>9.90</td>\n",
       "      <td>RGB</td>\n",
       "      <td>...</td>\n",
       "      <td>NaN</td>\n",
       "      <td>15.048374</td>\n",
       "      <td>7.954663</td>\n",
       "      <td>5.203867</td>\n",
       "      <td>0.0</td>\n",
       "      <td>15.000000</td>\n",
       "      <td>15.0</td>\n",
       "      <td>4.7</td>\n",
       "      <td>6.9</td>\n",
       "      <td>13.8</td>\n",
       "    </tr>\n",
       "  </tbody>\n",
       "</table>\n",
       "<p>5 rows × 170 columns</p>\n",
       "</div>"
      ],
      "text/plain": [
       "    angDist       epic              apogee          gaia_source camp       ra  \\\n",
       "0  1.759477  214839814  2M18440396-2531219  4073390727810344576    7  281.017   \n",
       "1  1.286690  214829731  2M18511742-2532459  4074647637065331328    7  282.823   \n",
       "2  2.238501  214813041  2M18454357-2535041  4073380626047358208    7  281.432   \n",
       "3  1.624161  214825736  2M18494457-2533193  4074657055953883904    7  282.436   \n",
       "4  1.901095  215163750  2M18443057-2448014  4073502671843176704    7  281.127   \n",
       "\n",
       "      dec   glat  glon   ev  ...  radial_velocity_error   ages_mean  \\\n",
       "0 -25.523  -9.82  9.19  RGB  ...                    NaN    8.862162   \n",
       "1 -25.546 -11.31  9.87   RC  ...                    NaN -999.000000   \n",
       "2 -25.584 -10.19  9.30   RC  ...                    NaN -999.000000   \n",
       "3 -25.555 -11.00  9.72   RC  ...                    NaN -999.000000   \n",
       "4 -24.800  -9.60  9.90  RGB  ...                    NaN   15.048374   \n",
       "\n",
       "   ages_mean_e_upper  ages_mean_e_lower  ages_mean_sys_e   full_ages  rc_ages  \\\n",
       "0           4.496892           2.983159              0.0    8.862162   -999.0   \n",
       "1        -999.000000        -999.000000           -999.0 -999.000000   -999.0   \n",
       "2        -999.000000        -999.000000           -999.0 -999.000000   -999.0   \n",
       "3        -999.000000        -999.000000           -999.0 -999.000000   -999.0   \n",
       "4           7.954663           5.203867              0.0   15.000000     15.0   \n",
       "\n",
       "   rc_ages_merr  rc_ages_perr  rc_ages_mode  \n",
       "0        -999.0        -999.0        -999.0  \n",
       "1        -999.0        -999.0        -999.0  \n",
       "2        -999.0        -999.0        -999.0  \n",
       "3        -999.0        -999.0        -999.0  \n",
       "4           4.7           6.9          13.8  \n",
       "\n",
       "[5 rows x 170 columns]"
      ]
     },
     "execution_count": 25,
     "metadata": {},
     "output_type": "execute_result"
    }
   ],
   "source": [
    "red_giants_rev.head()"
   ]
  },
  {
   "cell_type": "code",
   "execution_count": 38,
   "id": "846a981b",
   "metadata": {},
   "outputs": [
    {
     "data": {
      "text/html": [
       "<div>\n",
       "<style scoped>\n",
       "    .dataframe tbody tr th:only-of-type {\n",
       "        vertical-align: middle;\n",
       "    }\n",
       "\n",
       "    .dataframe tbody tr th {\n",
       "        vertical-align: top;\n",
       "    }\n",
       "\n",
       "    .dataframe thead th {\n",
       "        text-align: right;\n",
       "    }\n",
       "</style>\n",
       "<table border=\"1\" class=\"dataframe\">\n",
       "  <thead>\n",
       "    <tr style=\"text-align: right;\">\n",
       "      <th></th>\n",
       "      <th>gaia_source</th>\n",
       "      <th>ev</th>\n",
       "    </tr>\n",
       "  </thead>\n",
       "  <tbody>\n",
       "    <tr>\n",
       "      <th>0</th>\n",
       "      <td>4073390727810344576</td>\n",
       "      <td>RGB</td>\n",
       "    </tr>\n",
       "    <tr>\n",
       "      <th>1</th>\n",
       "      <td>4074647637065331328</td>\n",
       "      <td>RC</td>\n",
       "    </tr>\n",
       "    <tr>\n",
       "      <th>2</th>\n",
       "      <td>4073380626047358208</td>\n",
       "      <td>RC</td>\n",
       "    </tr>\n",
       "    <tr>\n",
       "      <th>3</th>\n",
       "      <td>4074657055953883904</td>\n",
       "      <td>RC</td>\n",
       "    </tr>\n",
       "    <tr>\n",
       "      <th>4</th>\n",
       "      <td>4073502671843176704</td>\n",
       "      <td>RGB</td>\n",
       "    </tr>\n",
       "    <tr>\n",
       "      <th>...</th>\n",
       "      <td>...</td>\n",
       "      <td>...</td>\n",
       "    </tr>\n",
       "    <tr>\n",
       "      <th>7667</th>\n",
       "      <td>666153241540748160</td>\n",
       "      <td>RC</td>\n",
       "    </tr>\n",
       "    <tr>\n",
       "      <th>7668</th>\n",
       "      <td>3807789950184380288</td>\n",
       "      <td>RGB</td>\n",
       "    </tr>\n",
       "    <tr>\n",
       "      <th>7669</th>\n",
       "      <td>2631983382355649152</td>\n",
       "      <td>RGB</td>\n",
       "    </tr>\n",
       "    <tr>\n",
       "      <th>7670</th>\n",
       "      <td>3871939994034218112</td>\n",
       "      <td>RGB</td>\n",
       "    </tr>\n",
       "    <tr>\n",
       "      <th>7671</th>\n",
       "      <td>64601672547471616</td>\n",
       "      <td>RGB</td>\n",
       "    </tr>\n",
       "  </tbody>\n",
       "</table>\n",
       "<p>7672 rows × 2 columns</p>\n",
       "</div>"
      ],
      "text/plain": [
       "              gaia_source   ev\n",
       "0     4073390727810344576  RGB\n",
       "1     4074647637065331328   RC\n",
       "2     4073380626047358208   RC\n",
       "3     4074657055953883904   RC\n",
       "4     4073502671843176704  RGB\n",
       "...                   ...  ...\n",
       "7667   666153241540748160   RC\n",
       "7668  3807789950184380288  RGB\n",
       "7669  2631983382355649152  RGB\n",
       "7670  3871939994034218112  RGB\n",
       "7671    64601672547471616  RGB\n",
       "\n",
       "[7672 rows x 2 columns]"
      ]
     },
     "execution_count": 38,
     "metadata": {},
     "output_type": "execute_result"
    }
   ],
   "source": [
    "red_giants_rev[['gaia_source','ev']]"
   ]
  },
  {
   "cell_type": "code",
   "execution_count": 16,
   "id": "b5a4ec3e",
   "metadata": {},
   "outputs": [],
   "source": [
    "sys.path.append(os.path.expanduser('~/repos/runawaysearch/src'))\n",
    "\n",
    "from gaiastars import gaiastars as gs"
   ]
  },
  {
   "cell_type": "code",
   "execution_count": 20,
   "id": "a201d28b",
   "metadata": {},
   "outputs": [
    {
     "data": {
      "text/html": [
       "<div>\n",
       "<style scoped>\n",
       "    .dataframe tbody tr th:only-of-type {\n",
       "        vertical-align: middle;\n",
       "    }\n",
       "\n",
       "    .dataframe tbody tr th {\n",
       "        vertical-align: top;\n",
       "    }\n",
       "\n",
       "    .dataframe thead th {\n",
       "        text-align: right;\n",
       "    }\n",
       "</style>\n",
       "<table border=\"1\" class=\"dataframe\">\n",
       "  <thead>\n",
       "    <tr style=\"text-align: right;\">\n",
       "      <th></th>\n",
       "      <th>Gaia</th>\n",
       "      <th>DR3</th>\n",
       "    </tr>\n",
       "  </thead>\n",
       "  <tbody>\n",
       "    <tr>\n",
       "      <th>0</th>\n",
       "      <td>657961231375051264</td>\n",
       "      <td>1</td>\n",
       "    </tr>\n",
       "    <tr>\n",
       "      <th>1</th>\n",
       "      <td>3637132654493312512</td>\n",
       "      <td>0</td>\n",
       "    </tr>\n",
       "    <tr>\n",
       "      <th>2</th>\n",
       "      <td>4126325130252374528</td>\n",
       "      <td>0</td>\n",
       "    </tr>\n",
       "    <tr>\n",
       "      <th>3</th>\n",
       "      <td>3606298775037819392</td>\n",
       "      <td>0</td>\n",
       "    </tr>\n",
       "    <tr>\n",
       "      <th>4</th>\n",
       "      <td>3675439948842715648</td>\n",
       "      <td>0</td>\n",
       "    </tr>\n",
       "    <tr>\n",
       "      <th>5</th>\n",
       "      <td>3605235169336614400</td>\n",
       "      <td>0</td>\n",
       "    </tr>\n",
       "    <tr>\n",
       "      <th>6</th>\n",
       "      <td>4130505439095442944</td>\n",
       "      <td>0</td>\n",
       "    </tr>\n",
       "    <tr>\n",
       "      <th>7</th>\n",
       "      <td>3693228260274665472</td>\n",
       "      <td>0</td>\n",
       "    </tr>\n",
       "    <tr>\n",
       "      <th>8</th>\n",
       "      <td>3812520972624745472</td>\n",
       "      <td>0</td>\n",
       "    </tr>\n",
       "    <tr>\n",
       "      <th>9</th>\n",
       "      <td>3804835077108840448</td>\n",
       "      <td>0</td>\n",
       "    </tr>\n",
       "  </tbody>\n",
       "</table>\n",
       "</div>"
      ],
      "text/plain": [
       "                  Gaia  DR3\n",
       "0   657961231375051264    1\n",
       "1  3637132654493312512    0\n",
       "2  4126325130252374528    0\n",
       "3  3606298775037819392    0\n",
       "4  3675439948842715648    0\n",
       "5  3605235169336614400    0\n",
       "6  4130505439095442944    0\n",
       "7  3693228260274665472    0\n",
       "8  3812520972624745472    0\n",
       "9  3804835077108840448    0"
      ]
     },
     "execution_count": 20,
     "metadata": {},
     "output_type": "execute_result"
    }
   ],
   "source": [
    "red_giants[['Gaia','DR3']].head(10)"
   ]
  },
  {
   "cell_type": "code",
   "execution_count": null,
   "id": "fb66a7a5",
   "metadata": {},
   "outputs": [
    {
     "name": "stdout",
     "output_type": "stream",
     "text": [
      "INFO: Query finished. [astroquery.utils.tap.core]\n",
      "Number of objects: 7672, Missing Source IDs: 3981\n"
     ]
    }
   ],
   "source": [
    "rg2 = gs()\n",
    "rg2.from_source_idlist(red_giants_rev['gaia_source'])\n",
    "print(f'Number of objects: {len(rg2.objs)}, Missing Source IDs: {rg2.objs.SOURCE_ID.isna().sum()}')"
   ]
  },
  {
   "cell_type": "code",
   "execution_count": 27,
   "id": "dc5179b6",
   "metadata": {},
   "outputs": [
    {
     "data": {
      "text/html": [
       "<div>\n",
       "<style scoped>\n",
       "    .dataframe tbody tr th:only-of-type {\n",
       "        vertical-align: middle;\n",
       "    }\n",
       "\n",
       "    .dataframe tbody tr th {\n",
       "        vertical-align: top;\n",
       "    }\n",
       "\n",
       "    .dataframe thead th {\n",
       "        text-align: right;\n",
       "    }\n",
       "</style>\n",
       "<table border=\"1\" class=\"dataframe\">\n",
       "  <thead>\n",
       "    <tr style=\"text-align: right;\">\n",
       "      <th></th>\n",
       "      <th>SOURCE_ID</th>\n",
       "      <th>ra</th>\n",
       "      <th>dec</th>\n",
       "      <th>parallax</th>\n",
       "      <th>pmra</th>\n",
       "      <th>pmdec</th>\n",
       "      <th>radial_velocity</th>\n",
       "      <th>phot_g_mean_mag</th>\n",
       "      <th>phot_bp_mean_mag</th>\n",
       "      <th>phot_rp_mean_mag</th>\n",
       "      <th>ruwe</th>\n",
       "      <th>r_est</th>\n",
       "    </tr>\n",
       "    <tr>\n",
       "      <th>typed_id</th>\n",
       "      <th></th>\n",
       "      <th></th>\n",
       "      <th></th>\n",
       "      <th></th>\n",
       "      <th></th>\n",
       "      <th></th>\n",
       "      <th></th>\n",
       "      <th></th>\n",
       "      <th></th>\n",
       "      <th></th>\n",
       "      <th></th>\n",
       "      <th></th>\n",
       "    </tr>\n",
       "  </thead>\n",
       "  <tbody>\n",
       "    <tr>\n",
       "      <th>657961231375051264</th>\n",
       "      <td>657961231375051264</td>\n",
       "      <td>129.439265</td>\n",
       "      <td>15.981679</td>\n",
       "      <td>3.426026</td>\n",
       "      <td>-0.172898</td>\n",
       "      <td>-36.662754</td>\n",
       "      <td>-26.852535</td>\n",
       "      <td>9.154672</td>\n",
       "      <td>9.692638</td>\n",
       "      <td>8.464336</td>\n",
       "      <td>1.114129</td>\n",
       "      <td>291.883374</td>\n",
       "    </tr>\n",
       "    <tr>\n",
       "      <th>3637132654493312512</th>\n",
       "      <td>&lt;NA&gt;</td>\n",
       "      <td>NaN</td>\n",
       "      <td>NaN</td>\n",
       "      <td>NaN</td>\n",
       "      <td>NaN</td>\n",
       "      <td>NaN</td>\n",
       "      <td>NaN</td>\n",
       "      <td>NaN</td>\n",
       "      <td>NaN</td>\n",
       "      <td>NaN</td>\n",
       "      <td>NaN</td>\n",
       "      <td>NaN</td>\n",
       "    </tr>\n",
       "    <tr>\n",
       "      <th>4126325130252374528</th>\n",
       "      <td>&lt;NA&gt;</td>\n",
       "      <td>NaN</td>\n",
       "      <td>NaN</td>\n",
       "      <td>NaN</td>\n",
       "      <td>NaN</td>\n",
       "      <td>NaN</td>\n",
       "      <td>NaN</td>\n",
       "      <td>NaN</td>\n",
       "      <td>NaN</td>\n",
       "      <td>NaN</td>\n",
       "      <td>NaN</td>\n",
       "      <td>NaN</td>\n",
       "    </tr>\n",
       "    <tr>\n",
       "      <th>3606298775037819392</th>\n",
       "      <td>&lt;NA&gt;</td>\n",
       "      <td>NaN</td>\n",
       "      <td>NaN</td>\n",
       "      <td>NaN</td>\n",
       "      <td>NaN</td>\n",
       "      <td>NaN</td>\n",
       "      <td>NaN</td>\n",
       "      <td>NaN</td>\n",
       "      <td>NaN</td>\n",
       "      <td>NaN</td>\n",
       "      <td>NaN</td>\n",
       "      <td>NaN</td>\n",
       "    </tr>\n",
       "    <tr>\n",
       "      <th>3675439948842715648</th>\n",
       "      <td>&lt;NA&gt;</td>\n",
       "      <td>NaN</td>\n",
       "      <td>NaN</td>\n",
       "      <td>NaN</td>\n",
       "      <td>NaN</td>\n",
       "      <td>NaN</td>\n",
       "      <td>NaN</td>\n",
       "      <td>NaN</td>\n",
       "      <td>NaN</td>\n",
       "      <td>NaN</td>\n",
       "      <td>NaN</td>\n",
       "      <td>NaN</td>\n",
       "    </tr>\n",
       "    <tr>\n",
       "      <th>3605235169336614400</th>\n",
       "      <td>3605235169336614400</td>\n",
       "      <td>204.949622</td>\n",
       "      <td>-16.134272</td>\n",
       "      <td>1.783218</td>\n",
       "      <td>-22.793919</td>\n",
       "      <td>8.432537</td>\n",
       "      <td>-50.258320</td>\n",
       "      <td>9.343799</td>\n",
       "      <td>9.882696</td>\n",
       "      <td>8.650748</td>\n",
       "      <td>1.176460</td>\n",
       "      <td>560.783996</td>\n",
       "    </tr>\n",
       "    <tr>\n",
       "      <th>4130505439095442944</th>\n",
       "      <td>4130505439095442944</td>\n",
       "      <td>252.424880</td>\n",
       "      <td>-20.026657</td>\n",
       "      <td>0.364122</td>\n",
       "      <td>-0.786380</td>\n",
       "      <td>-7.247835</td>\n",
       "      <td>-114.318077</td>\n",
       "      <td>13.259329</td>\n",
       "      <td>13.916661</td>\n",
       "      <td>12.470803</td>\n",
       "      <td>1.004659</td>\n",
       "      <td>2746.332214</td>\n",
       "    </tr>\n",
       "    <tr>\n",
       "      <th>3693228260274665472</th>\n",
       "      <td>&lt;NA&gt;</td>\n",
       "      <td>NaN</td>\n",
       "      <td>NaN</td>\n",
       "      <td>NaN</td>\n",
       "      <td>NaN</td>\n",
       "      <td>NaN</td>\n",
       "      <td>NaN</td>\n",
       "      <td>NaN</td>\n",
       "      <td>NaN</td>\n",
       "      <td>NaN</td>\n",
       "      <td>NaN</td>\n",
       "      <td>NaN</td>\n",
       "    </tr>\n",
       "    <tr>\n",
       "      <th>3812520972624745472</th>\n",
       "      <td>&lt;NA&gt;</td>\n",
       "      <td>NaN</td>\n",
       "      <td>NaN</td>\n",
       "      <td>NaN</td>\n",
       "      <td>NaN</td>\n",
       "      <td>NaN</td>\n",
       "      <td>NaN</td>\n",
       "      <td>NaN</td>\n",
       "      <td>NaN</td>\n",
       "      <td>NaN</td>\n",
       "      <td>NaN</td>\n",
       "      <td>NaN</td>\n",
       "    </tr>\n",
       "    <tr>\n",
       "      <th>3804835077108840448</th>\n",
       "      <td>&lt;NA&gt;</td>\n",
       "      <td>NaN</td>\n",
       "      <td>NaN</td>\n",
       "      <td>NaN</td>\n",
       "      <td>NaN</td>\n",
       "      <td>NaN</td>\n",
       "      <td>NaN</td>\n",
       "      <td>NaN</td>\n",
       "      <td>NaN</td>\n",
       "      <td>NaN</td>\n",
       "      <td>NaN</td>\n",
       "      <td>NaN</td>\n",
       "    </tr>\n",
       "  </tbody>\n",
       "</table>\n",
       "</div>"
      ],
      "text/plain": [
       "                               SOURCE_ID          ra        dec  parallax  \\\n",
       "typed_id                                                                    \n",
       "657961231375051264    657961231375051264  129.439265  15.981679  3.426026   \n",
       "3637132654493312512                 <NA>         NaN        NaN       NaN   \n",
       "4126325130252374528                 <NA>         NaN        NaN       NaN   \n",
       "3606298775037819392                 <NA>         NaN        NaN       NaN   \n",
       "3675439948842715648                 <NA>         NaN        NaN       NaN   \n",
       "3605235169336614400  3605235169336614400  204.949622 -16.134272  1.783218   \n",
       "4130505439095442944  4130505439095442944  252.424880 -20.026657  0.364122   \n",
       "3693228260274665472                 <NA>         NaN        NaN       NaN   \n",
       "3812520972624745472                 <NA>         NaN        NaN       NaN   \n",
       "3804835077108840448                 <NA>         NaN        NaN       NaN   \n",
       "\n",
       "                          pmra      pmdec  radial_velocity  phot_g_mean_mag  \\\n",
       "typed_id                                                                      \n",
       "657961231375051264   -0.172898 -36.662754       -26.852535         9.154672   \n",
       "3637132654493312512        NaN        NaN              NaN              NaN   \n",
       "4126325130252374528        NaN        NaN              NaN              NaN   \n",
       "3606298775037819392        NaN        NaN              NaN              NaN   \n",
       "3675439948842715648        NaN        NaN              NaN              NaN   \n",
       "3605235169336614400 -22.793919   8.432537       -50.258320         9.343799   \n",
       "4130505439095442944  -0.786380  -7.247835      -114.318077        13.259329   \n",
       "3693228260274665472        NaN        NaN              NaN              NaN   \n",
       "3812520972624745472        NaN        NaN              NaN              NaN   \n",
       "3804835077108840448        NaN        NaN              NaN              NaN   \n",
       "\n",
       "                     phot_bp_mean_mag  phot_rp_mean_mag      ruwe        r_est  \n",
       "typed_id                                                                        \n",
       "657961231375051264           9.692638          8.464336  1.114129   291.883374  \n",
       "3637132654493312512               NaN               NaN       NaN          NaN  \n",
       "4126325130252374528               NaN               NaN       NaN          NaN  \n",
       "3606298775037819392               NaN               NaN       NaN          NaN  \n",
       "3675439948842715648               NaN               NaN       NaN          NaN  \n",
       "3605235169336614400          9.882696          8.650748  1.176460   560.783996  \n",
       "4130505439095442944         13.916661         12.470803  1.004659  2746.332214  \n",
       "3693228260274665472               NaN               NaN       NaN          NaN  \n",
       "3812520972624745472               NaN               NaN       NaN          NaN  \n",
       "3804835077108840448               NaN               NaN       NaN          NaN  "
      ]
     },
     "execution_count": 27,
     "metadata": {},
     "output_type": "execute_result"
    }
   ],
   "source": [
    "rg.objs.head(10)"
   ]
  },
  {
   "cell_type": "code",
   "execution_count": 30,
   "id": "60f45693",
   "metadata": {},
   "outputs": [
    {
     "name": "stdout",
     "output_type": "stream",
     "text": [
      "INFO: Query finished. [astroquery.utils.tap.core]\n",
      "Number of objects: 7672, Missing Source IDs: 0\n"
     ]
    }
   ],
   "source": [
    "rg2 = gs()\n",
    "rg2.from_source_idlist(red_giants_rev['gaia_source'])\n",
    "print(f'Number of objects: {len(rg2.objs)}, Missing Source IDs: {rg2.objs.SOURCE_ID.isna().sum()}')"
   ]
  },
  {
   "cell_type": "code",
   "execution_count": null,
   "id": "74d57663",
   "metadata": {},
   "outputs": [
    {
     "name": "stderr",
     "output_type": "stream",
     "text": [
      "/home/kevin/anaconda3/envs/Subaru/lib/python3.10/site-packages/pandas/core/arraylike.py:399: RuntimeWarning: invalid value encountered in log10\n",
      "  result = getattr(ufunc, method)(*inputs, **kwargs)\n"
     ]
    },
    {
     "data": {
      "text/plain": [
       "<matplotlib.collections.PathCollection at 0x7415bc3827a0>"
      ]
     },
     "execution_count": 32,
     "metadata": {},
     "output_type": "execute_result"
    },
    {
     "data": {
      "image/png": "[encoded data removed]",
      "text/plain": [
       "<Figure size 600x600 with 1 Axes>"
      ]
     },
     "metadata": {},
     "output_type": "display_data"
    }
   ],
   "source": [
    "fig, ax = plt.subplots( figsize=(6, 6))\n",
    "\n",
    "rg2.plot_hrdiagram(ax=ax, color='red', label='Schonhut-Stasik Catalog')"
   ]
  },
  {
   "cell_type": "code",
   "execution_count": 246,
   "id": "02a30728",
   "metadata": {},
   "outputs": [
    {
     "data": {
      "text/plain": [
       "4092"
      ]
     },
     "execution_count": 246,
     "metadata": {},
     "output_type": "execute_result"
    }
   ],
   "source": [
    "rg.objs.radial_velocity.isna().sum()"
   ]
  },
  {
   "cell_type": "code",
   "execution_count": 247,
   "id": "c5772540",
   "metadata": {},
   "outputs": [],
   "source": [
    "rg_tbl = Table.from_pandas(rg.objs.dropna(subset=['SOURCE_ID', 'ra', 'dec','parallax','pmra','pmdec']))"
   ]
  },
  {
   "cell_type": "code",
   "execution_count": 248,
   "id": "16687c34",
   "metadata": {},
   "outputs": [
    {
     "data": {
      "text/html": [
       "<div><i>Table length=3687</i>\n",
       "<table id=\"table138209637839872\" class=\"table-striped table-bordered table-condensed\">\n",
       "<thead><tr><th>SOURCE_ID</th><th>ra</th><th>dec</th><th>parallax</th><th>pmra</th><th>pmdec</th><th>radial_velocity</th><th>phot_g_mean_mag</th><th>phot_bp_mean_mag</th><th>phot_rp_mean_mag</th><th>ruwe</th><th>r_est</th></tr></thead>\n",
       "<thead><tr><th>int64</th><th>float64</th><th>float64</th><th>float64</th><th>float64</th><th>float64</th><th>float32</th><th>float32</th><th>float32</th><th>float32</th><th>float32</th><th>float64</th></tr></thead>\n",
       "<tr><td>657961231375051264</td><td>129.43926537069075</td><td>15.98167941225866</td><td>3.4260259025916113</td><td>-0.17289757571311437</td><td>-36.662753883521134</td><td>-26.852535</td><td>9.154672</td><td>9.692638</td><td>8.464336</td><td>1.1141291</td><td>291.88337404091186</td></tr>\n",
       "<tr><td>3605235169336614400</td><td>204.9496216667044</td><td>-16.134271603912854</td><td>1.7832177934519862</td><td>-22.79391922112145</td><td>8.43253745317606</td><td>-50.25832</td><td>9.343799</td><td>9.882696</td><td>8.650748</td><td>1.1764596</td><td>560.7839960278668</td></tr>\n",
       "<tr><td>4130505439095442944</td><td>252.42488038890264</td><td>-20.026657423210086</td><td>0.3641220078817782</td><td>-0.7863802309906165</td><td>-7.247835348040929</td><td>-114.31808</td><td>13.259329</td><td>13.916661</td><td>12.470803</td><td>1.0046589</td><td>2746.332213802019</td></tr>\n",
       "<tr><td>609605736481635200</td><td>130.4039874003426</td><td>14.865198844174481</td><td>1.4432699124618276</td><td>-1.4503742719980444</td><td>-4.366020049858381</td><td>11.107081</td><td>9.915003</td><td>10.388747</td><td>9.2774</td><td>1.0803409</td><td>692.871091793406</td></tr>\n",
       "<tr><td>598595708076959872</td><td>133.35437931285333</td><td>10.680742198939207</td><td>1.019008121081406</td><td>8.61225282066815</td><td>-3.6304843472016053</td><td>23.576633</td><td>9.629086</td><td>10.211485</td><td>8.903855</td><td>0.95777404</td><td>981.346447895593</td></tr>\n",
       "<tr><td>604967244817098240</td><td>132.57608510110327</td><td>11.922538671175415</td><td>1.294647982490923</td><td>-12.291588994772884</td><td>-4.0943091551081645</td><td>--</td><td>9.665227</td><td>10.208208</td><td>8.970953</td><td>1.0901133</td><td>772.4107352146676</td></tr>\n",
       "<tr><td>3412369491113446912</td><td>74.45340423577034</td><td>22.094716503945897</td><td>1.465327515401346</td><td>9.349658671414522</td><td>-3.394045320197341</td><td>69.07198</td><td>10.315062</td><td>11.015869</td><td>9.499829</td><td>1.1611651</td><td>682.4412900798528</td></tr>\n",
       "<tr><td>604696730596495744</td><td>133.06893593561463</td><td>11.32727383578348</td><td>1.1786922233481287</td><td>-11.138656421252609</td><td>-2.7023164339274683</td><td>--</td><td>9.695972</td><td>10.345045</td><td>8.924694</td><td>0.9383859</td><td>848.3978940316198</td></tr>\n",
       "<tr><td>3605438063591567872</td><td>204.4365907067862</td><td>-15.948771609426213</td><td>1.959241693159898</td><td>13.326530292187357</td><td>-5.930504506655248</td><td>12.747066</td><td>10.390711</td><td>10.953168</td><td>9.685106</td><td>1.0457091</td><td>510.40155152434676</td></tr>\n",
       "<tr><td>...</td><td>...</td><td>...</td><td>...</td><td>...</td><td>...</td><td>...</td><td>...</td><td>...</td><td>...</td><td>...</td><td>...</td></tr>\n",
       "<tr><td>3698723756828363776</td><td>182.14503821802657</td><td>-0.48666277448590073</td><td>2.2375327584741487</td><td>-55.81853118177147</td><td>17.591945445043404</td><td>-20.473146</td><td>10.150732</td><td>10.7323475</td><td>9.429399</td><td>0.8677941</td><td>446.9208310862607</td></tr>\n",
       "<tr><td>3698633871753073152</td><td>181.95223862883657</td><td>-0.4669184943868509</td><td>0.46021807328614395</td><td>-9.616852800385201</td><td>-3.652138398028428</td><td>8.747959</td><td>12.352109</td><td>12.853332</td><td>11.693471</td><td>1.0929024</td><td>2172.882939732449</td></tr>\n",
       "<tr><td>3698081985635943424</td><td>184.57378983114015</td><td>-0.45350511899491214</td><td>0.28500066931906914</td><td>-3.429170886511675</td><td>-11.674426851489333</td><td>80.728775</td><td>13.524708</td><td>14.062259</td><td>12.8354645</td><td>0.99258965</td><td>3508.7636895352753</td></tr>\n",
       "<tr><td>3698001240250084864</td><td>182.69170881778973</td><td>-0.39545952527755285</td><td>0.37959650586569516</td><td>-11.044434999222025</td><td>-0.8331292185508642</td><td>56.41485</td><td>12.136424</td><td>12.771001</td><td>11.371192</td><td>0.965907</td><td>2634.3761982725136</td></tr>\n",
       "<tr><td>3698179051897200128</td><td>184.81292483416013</td><td>-0.35195100423576914</td><td>0.34882829359856937</td><td>-5.292952259224601</td><td>0.06197224829532663</td><td>3.741147</td><td>13.635714</td><td>14.138524</td><td>12.977344</td><td>0.99879</td><td>2866.7399358115063</td></tr>\n",
       "<tr><td>3698814569616808960</td><td>181.46840191867193</td><td>-0.0409420287022487</td><td>1.0480978861144794</td><td>-9.631229462467768</td><td>-4.926269774583952</td><td>-25.047085</td><td>11.789291</td><td>12.301294</td><td>11.120941</td><td>1.1724393</td><td>954.1093568151459</td></tr>\n",
       "<tr><td>3698215473219923456</td><td>185.1412317091017</td><td>0.016802202739905316</td><td>0.9054928186135655</td><td>-4.689887495648806</td><td>2.640794055218957</td><td>23.043934</td><td>11.193301</td><td>11.752422</td><td>10.489442</td><td>1.7328175</td><td>1104.3709894145136</td></tr>\n",
       "<tr><td>3699006743634373632</td><td>181.4583313089646</td><td>0.13395685612713645</td><td>2.4374002573602747</td><td>3.9122165912618794</td><td>-14.774531645219536</td><td>-23.321066</td><td>10.060646</td><td>10.56699</td><td>9.398096</td><td>1.2772504</td><td>410.2731986592176</td></tr>\n",
       "<tr><td>3698279382333256704</td><td>185.00920477120488</td><td>0.3014875195821743</td><td>0.13853395374368138</td><td>-2.5193850442953942</td><td>-5.693309621020304</td><td>--</td><td>14.949941</td><td>15.442115</td><td>14.293463</td><td>0.99115443</td><td>7218.44697979401</td></tr>\n",
       "<tr><td>3699823612053005824</td><td>185.7990312582655</td><td>0.890467549349966</td><td>0.544783022011069</td><td>-10.242858053819326</td><td>-6.293371912451205</td><td>1.579639</td><td>11.584293</td><td>12.048268</td><td>10.951522</td><td>1.3014747</td><td>1835.5931803977583</td></tr>\n",
       "</table></div>"
      ],
      "text/plain": [
       "<Table length=3687>\n",
       "     SOURCE_ID              ra         ...    ruwe          r_est       \n",
       "       int64             float64       ...  float32        float64      \n",
       "------------------- ------------------ ... ---------- ------------------\n",
       " 657961231375051264 129.43926537069075 ...  1.1141291 291.88337404091186\n",
       "3605235169336614400  204.9496216667044 ...  1.1764596  560.7839960278668\n",
       "4130505439095442944 252.42488038890264 ...  1.0046589  2746.332213802019\n",
       " 609605736481635200  130.4039874003426 ...  1.0803409   692.871091793406\n",
       " 598595708076959872 133.35437931285333 ... 0.95777404   981.346447895593\n",
       " 604967244817098240 132.57608510110327 ...  1.0901133  772.4107352146676\n",
       "3412369491113446912  74.45340423577034 ...  1.1611651  682.4412900798528\n",
       " 604696730596495744 133.06893593561463 ...  0.9383859  848.3978940316198\n",
       "3605438063591567872  204.4365907067862 ...  1.0457091 510.40155152434676\n",
       "                ...                ... ...        ...                ...\n",
       "3698723756828363776 182.14503821802657 ...  0.8677941  446.9208310862607\n",
       "3698633871753073152 181.95223862883657 ...  1.0929024  2172.882939732449\n",
       "3698081985635943424 184.57378983114015 ... 0.99258965 3508.7636895352753\n",
       "3698001240250084864 182.69170881778973 ...   0.965907 2634.3761982725136\n",
       "3698179051897200128 184.81292483416013 ...    0.99879 2866.7399358115063\n",
       "3698814569616808960 181.46840191867193 ...  1.1724393  954.1093568151459\n",
       "3698215473219923456  185.1412317091017 ...  1.7328175 1104.3709894145136\n",
       "3699006743634373632  181.4583313089646 ...  1.2772504  410.2731986592176\n",
       "3698279382333256704 185.00920477120488 ... 0.99115443   7218.44697979401\n",
       "3699823612053005824  185.7990312582655 ...  1.3014747 1835.5931803977583"
      ]
     },
     "execution_count": 248,
     "metadata": {},
     "output_type": "execute_result"
    }
   ],
   "source": [
    "rg_tbl"
   ]
  },
  {
   "cell_type": "code",
   "execution_count": 251,
   "id": "22beea16",
   "metadata": {},
   "outputs": [],
   "source": [
    "rg_tbl.write('/home/kevin/Documents/HH24/schonhut-stasik/red_giant_catalog.xml', table_id= 'SchontukStasik2024',format = 'votable', overwrite=True)"
   ]
  },
  {
   "cell_type": "code",
   "execution_count": 34,
   "id": "f4396c68",
   "metadata": {},
   "outputs": [],
   "source": [
    "from astropy.coordinates import SkyCoord\n",
    "import astropy.units as u\n",
    "pleiades_coords = SkyCoord(ra='03:46:24.2',dec='24:06:50', unit=(u.hourangle, u.deg))\n",
    "hh24Eb = SkyCoord(ra='5:46:08.3973',dec='-0:10:00.573', unit=(u.hourangle, u.deg))"
   ]
  },
  {
   "cell_type": "code",
   "execution_count": 14,
   "id": "e12745c0",
   "metadata": {},
   "outputs": [
    {
     "name": "stdout",
     "output_type": "stream",
     "text": [
      "INFO: Query finished. [astroquery.utils.tap.core]\n"
     ]
    }
   ],
   "source": [
    "Halpha_info = pd.DataFrame(columns=['Name', 'Gaia', 'Parallax', 'Paralax_error'],\n",
    "                          data = [\n",
    "['Halpha1',   3219118708937374208,1.1047305185746186, 0.9784005],\n",
    "['Halpha2',  3219118498484191616, 2.0616781739749666, 0.29806274],\n",
    "['Halpha3',   3219118498484144512, 3.161310577886153, 0.50830215],\n",
    "['Halpha4',   3219118429764664832, 2.5633221914251982, 0.4574949],\n",
    "['Halpha5',   3219117536412592000, 3.8567315506214412, 0.57923716],\n",
    "])\n",
    "Halpha_gaia = gs()\n",
    "Halpha_gaia.from_source_idlist(Halpha_info.Gaia)"
   ]
  },
  {
   "cell_type": "code",
   "execution_count": 15,
   "id": "b5df4a86",
   "metadata": {},
   "outputs": [
    {
     "data": {
      "text/html": [
       "<div>\n",
       "<style scoped>\n",
       "    .dataframe tbody tr th:only-of-type {\n",
       "        vertical-align: middle;\n",
       "    }\n",
       "\n",
       "    .dataframe tbody tr th {\n",
       "        vertical-align: top;\n",
       "    }\n",
       "\n",
       "    .dataframe thead th {\n",
       "        text-align: right;\n",
       "    }\n",
       "</style>\n",
       "<table border=\"1\" class=\"dataframe\">\n",
       "  <thead>\n",
       "    <tr style=\"text-align: right;\">\n",
       "      <th></th>\n",
       "      <th>SOURCE_ID</th>\n",
       "      <th>ra</th>\n",
       "      <th>dec</th>\n",
       "      <th>parallax</th>\n",
       "      <th>pmra</th>\n",
       "      <th>pmdec</th>\n",
       "      <th>radial_velocity</th>\n",
       "      <th>phot_g_mean_mag</th>\n",
       "      <th>phot_bp_mean_mag</th>\n",
       "      <th>phot_rp_mean_mag</th>\n",
       "      <th>ruwe</th>\n",
       "      <th>r_est</th>\n",
       "    </tr>\n",
       "    <tr>\n",
       "      <th>typed_id</th>\n",
       "      <th></th>\n",
       "      <th></th>\n",
       "      <th></th>\n",
       "      <th></th>\n",
       "      <th></th>\n",
       "      <th></th>\n",
       "      <th></th>\n",
       "      <th></th>\n",
       "      <th></th>\n",
       "      <th></th>\n",
       "      <th></th>\n",
       "      <th></th>\n",
       "    </tr>\n",
       "  </thead>\n",
       "  <tbody>\n",
       "    <tr>\n",
       "      <th>3219118708937374208</th>\n",
       "      <td>3219118708937374208</td>\n",
       "      <td>86.547347</td>\n",
       "      <td>-0.132024</td>\n",
       "      <td>1.104731</td>\n",
       "      <td>-0.710564</td>\n",
       "      <td>-0.556336</td>\n",
       "      <td>NaN</td>\n",
       "      <td>20.657671</td>\n",
       "      <td>21.158802</td>\n",
       "      <td>19.463142</td>\n",
       "      <td>0.984596</td>\n",
       "      <td>905.198130</td>\n",
       "    </tr>\n",
       "    <tr>\n",
       "      <th>3219118498484191616</th>\n",
       "      <td>3219118498484191616</td>\n",
       "      <td>86.551093</td>\n",
       "      <td>-0.135506</td>\n",
       "      <td>2.061678</td>\n",
       "      <td>1.175458</td>\n",
       "      <td>-0.047679</td>\n",
       "      <td>NaN</td>\n",
       "      <td>19.055824</td>\n",
       "      <td>21.543180</td>\n",
       "      <td>17.502377</td>\n",
       "      <td>1.069138</td>\n",
       "      <td>485.041755</td>\n",
       "    </tr>\n",
       "    <tr>\n",
       "      <th>3219118498484144512</th>\n",
       "      <td>3219118498484144512</td>\n",
       "      <td>86.554203</td>\n",
       "      <td>-0.137463</td>\n",
       "      <td>3.161311</td>\n",
       "      <td>0.544461</td>\n",
       "      <td>-0.391617</td>\n",
       "      <td>NaN</td>\n",
       "      <td>19.944523</td>\n",
       "      <td>21.008551</td>\n",
       "      <td>18.607162</td>\n",
       "      <td>1.014907</td>\n",
       "      <td>316.324504</td>\n",
       "    </tr>\n",
       "    <tr>\n",
       "      <th>3219118429764664832</th>\n",
       "      <td>3219118429764664832</td>\n",
       "      <td>86.554869</td>\n",
       "      <td>-0.152812</td>\n",
       "      <td>2.563322</td>\n",
       "      <td>-3.437911</td>\n",
       "      <td>-3.093887</td>\n",
       "      <td>NaN</td>\n",
       "      <td>19.773161</td>\n",
       "      <td>21.317469</td>\n",
       "      <td>18.441061</td>\n",
       "      <td>1.049762</td>\n",
       "      <td>390.118731</td>\n",
       "    </tr>\n",
       "    <tr>\n",
       "      <th>3219117536412592000</th>\n",
       "      <td>3219117536412592000</td>\n",
       "      <td>86.556566</td>\n",
       "      <td>-0.176256</td>\n",
       "      <td>3.856732</td>\n",
       "      <td>11.175783</td>\n",
       "      <td>-7.949137</td>\n",
       "      <td>NaN</td>\n",
       "      <td>20.060827</td>\n",
       "      <td>21.506037</td>\n",
       "      <td>18.730602</td>\n",
       "      <td>1.072343</td>\n",
       "      <td>259.286908</td>\n",
       "    </tr>\n",
       "  </tbody>\n",
       "</table>\n",
       "</div>"
      ],
      "text/plain": [
       "                               SOURCE_ID         ra       dec  parallax  \\\n",
       "typed_id                                                                  \n",
       "3219118708937374208  3219118708937374208  86.547347 -0.132024  1.104731   \n",
       "3219118498484191616  3219118498484191616  86.551093 -0.135506  2.061678   \n",
       "3219118498484144512  3219118498484144512  86.554203 -0.137463  3.161311   \n",
       "3219118429764664832  3219118429764664832  86.554869 -0.152812  2.563322   \n",
       "3219117536412592000  3219117536412592000  86.556566 -0.176256  3.856732   \n",
       "\n",
       "                          pmra     pmdec  radial_velocity  phot_g_mean_mag  \\\n",
       "typed_id                                                                     \n",
       "3219118708937374208  -0.710564 -0.556336              NaN        20.657671   \n",
       "3219118498484191616   1.175458 -0.047679              NaN        19.055824   \n",
       "3219118498484144512   0.544461 -0.391617              NaN        19.944523   \n",
       "3219118429764664832  -3.437911 -3.093887              NaN        19.773161   \n",
       "3219117536412592000  11.175783 -7.949137              NaN        20.060827   \n",
       "\n",
       "                     phot_bp_mean_mag  phot_rp_mean_mag      ruwe       r_est  \n",
       "typed_id                                                                       \n",
       "3219118708937374208         21.158802         19.463142  0.984596  905.198130  \n",
       "3219118498484191616         21.543180         17.502377  1.069138  485.041755  \n",
       "3219118498484144512         21.008551         18.607162  1.014907  316.324504  \n",
       "3219118429764664832         21.317469         18.441061  1.049762  390.118731  \n",
       "3219117536412592000         21.506037         18.730602  1.072343  259.286908  "
      ]
     },
     "execution_count": 15,
     "metadata": {},
     "output_type": "execute_result"
    }
   ],
   "source": [
    "Halpha_gaia.objs"
   ]
  },
  {
   "cell_type": "code",
   "execution_count": 16,
   "id": "3990e91d",
   "metadata": {},
   "outputs": [],
   "source": [
    "Halpha_info.set_index('Gaia', inplace=True)"
   ]
  },
  {
   "cell_type": "code",
   "execution_count": 17,
   "id": "aa5b6f59",
   "metadata": {},
   "outputs": [],
   "source": [
    "Halpha_gaia.objs = Halpha_gaia.objs.join(Halpha_info)"
   ]
  },
  {
   "cell_type": "code",
   "execution_count": 18,
   "id": "438d5b67",
   "metadata": {},
   "outputs": [
    {
     "data": {
      "text/html": [
       "<div>\n",
       "<style scoped>\n",
       "    .dataframe tbody tr th:only-of-type {\n",
       "        vertical-align: middle;\n",
       "    }\n",
       "\n",
       "    .dataframe tbody tr th {\n",
       "        vertical-align: top;\n",
       "    }\n",
       "\n",
       "    .dataframe thead th {\n",
       "        text-align: right;\n",
       "    }\n",
       "</style>\n",
       "<table border=\"1\" class=\"dataframe\">\n",
       "  <thead>\n",
       "    <tr style=\"text-align: right;\">\n",
       "      <th></th>\n",
       "      <th>SOURCE_ID</th>\n",
       "      <th>Name</th>\n",
       "    </tr>\n",
       "    <tr>\n",
       "      <th>typed_id</th>\n",
       "      <th></th>\n",
       "      <th></th>\n",
       "    </tr>\n",
       "  </thead>\n",
       "  <tbody>\n",
       "    <tr>\n",
       "      <th>3219118708937374208</th>\n",
       "      <td>3219118708937374208</td>\n",
       "      <td>Halpha1</td>\n",
       "    </tr>\n",
       "    <tr>\n",
       "      <th>3219118498484191616</th>\n",
       "      <td>3219118498484191616</td>\n",
       "      <td>Halpha2</td>\n",
       "    </tr>\n",
       "    <tr>\n",
       "      <th>3219118498484144512</th>\n",
       "      <td>3219118498484144512</td>\n",
       "      <td>Halpha3</td>\n",
       "    </tr>\n",
       "    <tr>\n",
       "      <th>3219118429764664832</th>\n",
       "      <td>3219118429764664832</td>\n",
       "      <td>Halpha4</td>\n",
       "    </tr>\n",
       "    <tr>\n",
       "      <th>3219117536412592000</th>\n",
       "      <td>3219117536412592000</td>\n",
       "      <td>Halpha5</td>\n",
       "    </tr>\n",
       "  </tbody>\n",
       "</table>\n",
       "</div>"
      ],
      "text/plain": [
       "                               SOURCE_ID     Name\n",
       "typed_id                                         \n",
       "3219118708937374208  3219118708937374208  Halpha1\n",
       "3219118498484191616  3219118498484191616  Halpha2\n",
       "3219118498484144512  3219118498484144512  Halpha3\n",
       "3219118429764664832  3219118429764664832  Halpha4\n",
       "3219117536412592000  3219117536412592000  Halpha5"
      ]
     },
     "execution_count": 18,
     "metadata": {},
     "output_type": "execute_result"
    }
   ],
   "source": [
    "Halpha_gaia.objs[['SOURCE_ID','Name']]"
   ]
  },
  {
   "cell_type": "code",
   "execution_count": 19,
   "id": "f204d5b0",
   "metadata": {},
   "outputs": [],
   "source": [
    "# pleiades_cone = gs()\n",
    "# pleiades_cone.conesearch(pleiades_coords.ra,pleiades_coords.dec,3*u.deg)\n",
    "# print(f'Cone Search returned {len(pleiades_cone.objs)} objects')"
   ]
  },
  {
   "cell_type": "code",
   "execution_count": 35,
   "id": "e6e4a455",
   "metadata": {},
   "outputs": [
    {
     "name": "stdout",
     "output_type": "stream",
     "text": [
      "INFO: Query finished. [astroquery.utils.tap.core]\n",
      "Cone Search returned 44555 objects\n"
     ]
    }
   ],
   "source": [
    "hh24Eb_cone = gs()\n",
    "# hh24Eb_cone.gaia_source_constraints= [\n",
    "#     '{schema}.gaia_source.source_id is not Null']\n",
    "hh24Eb_cone.conesearch(hh24Eb.ra,hh24Eb.dec,3*u.deg)\n",
    "print(f'Cone Search returned {len(hh24Eb_cone.objs)} objects')"
   ]
  },
  {
   "cell_type": "code",
   "execution_count": 36,
   "id": "a92ea073",
   "metadata": {},
   "outputs": [
    {
     "name": "stderr",
     "output_type": "stream",
     "text": [
      "/home/kevin/anaconda3/envs/Subaru/lib/python3.10/site-packages/pandas/core/arraylike.py:399: RuntimeWarning: invalid value encountered in log10\n",
      "  result = getattr(ufunc, method)(*inputs, **kwargs)\n"
     ]
    },
    {
     "data": {
      "image/png": "[encoded data removed]",
      "text/plain": [
       "<Figure size 1800x600 with 2 Axes>"
      ]
     },
     "metadata": {},
     "output_type": "display_data"
    }
   ],
   "source": [
    "fig, axs = plt.subplots(nrows=1, ncols=2, figsize=(18, 6))\n",
    "hh24Eb_cone.plot_hrdiagram(ax=axs[0], color='blue', label='HH24-Eb Conesearch')\n",
    "rg2.plot_hrdiagram(ax=axs[0], color='red', label='Schonhut-Stasik Catalog')\n",
    "\n",
    "rg2.plot_hrdiagram(ax=axs[1], color='red', label='Schonhut-Stasik Catalog')\n",
    "hh24Eb_cone.plot_hrdiagram(ax=axs[1], color='blue', label='HH24-Eb Conesearch')\n",
    "\n",
    "for ax in axs:\n",
    "    ax.legend()"
   ]
  },
  {
   "cell_type": "code",
   "execution_count": 121,
   "id": "a205d18e",
   "metadata": {},
   "outputs": [],
   "source": [
    "def add_halpha_to_ax(ax, halpha):\n",
    "    halpha.plot_hrdiagram(ax=ax, s=40, color='black', marker='*')\n",
    "    BP_RP, M_G = halpha.get_colors()\n",
    "    for i, ha in enumerate(halpha.objs.iterrows()):\n",
    "        ax.annotate(ha[1].Name, xy=(BP_RP.iloc[i], M_G.iloc[i]),\n",
    "                    xytext=(BP_RP.iloc[i]*1.05, M_G.iloc[i]))\n"
   ]
  },
  {
   "cell_type": "code",
   "execution_count": 122,
   "id": "e69b58fd",
   "metadata": {},
   "outputs": [
    {
     "data": {
      "text/plain": [
       "<matplotlib.patches.Ellipse at 0x7db36b9253f0>"
      ]
     },
     "execution_count": 122,
     "metadata": {},
     "output_type": "execute_result"
    },
    {
     "data": {
      "image/png": "[encoded data removed]",
      "text/plain": [
       "<Figure size 900x600 with 1 Axes>"
      ]
     },
     "metadata": {},
     "output_type": "display_data"
    }
   ],
   "source": [
    "import matplotlib.patches as patches\n",
    "# ellipse parameters in the color-mag space\n",
    "xy = (3.0, 0);\n",
    "a = 4.0\n",
    "b = 7.5\n",
    "theta =  10.0 # degrees\n",
    "\n",
    "rgb = patches.Ellipse(xy, a, b, angle=theta, facecolor='None', ec='black', lw=4)\n",
    "\n",
    "fig, ax = plt.subplots(figsize=(9,6))\n",
    "\n",
    "hh24Eb_cone.plot_hrdiagram(ax=ax, color='blue', label='HH24-Eb Conesearch', alpha=0.1)\n",
    "rg.plot_hrdiagram(ax=ax, color='red', label='Schonhut-Stasik Catalog')\n",
    "\n",
    "add_halpha_to_ax(ax, Halpha_gaia)\n",
    "\n",
    "ax.add_patch(rgb)\n"
   ]
  },
  {
   "cell_type": "code",
   "execution_count": 123,
   "id": "604731a1",
   "metadata": {},
   "outputs": [],
   "source": [
    "def pts_in_ellipse(ellipse, x, y):\n",
    "    angle=ellipse['angle']\n",
    "    a = ellipse['a']/2.0\n",
    "    b = ellipse['b']/2.0\n",
    "    center = ellipse['center']\n",
    "\n",
    "    cos_angle = np.cos(np.radians(180.-angle))\n",
    "    sin_angle = np.sin(np.radians(180.-angle))\n",
    "\n",
    "    xc = x - center[0]\n",
    "    yc = y - center[1]\n",
    "\n",
    "    xct = xc * cos_angle - yc * sin_angle\n",
    "    yct = xc * sin_angle + yc * cos_angle \n",
    "\n",
    "    rad_cc = (xct**2)/(a**2) + (yct**2)/(b**2)\n",
    "\n",
    "    return rad_cc <= 1.0"
   ]
  },
  {
   "cell_type": "code",
   "execution_count": 124,
   "id": "dc757fb3",
   "metadata": {},
   "outputs": [
    {
     "name": "stderr",
     "output_type": "stream",
     "text": [
      "/home/kevin/anaconda3/envs/Subaru/lib/python3.10/site-packages/pandas/core/arraylike.py:399: RuntimeWarning: invalid value encountered in log10\n",
      "  result = getattr(ufunc, method)(*inputs, **kwargs)\n"
     ]
    },
    {
     "data": {
      "text/plain": [
       "<matplotlib.patches.Ellipse at 0x7db3834347f0>"
      ]
     },
     "execution_count": 124,
     "metadata": {},
     "output_type": "execute_result"
    },
    {
     "data": {
      "image/png": "[encoded data removed]",
      "text/plain": [
       "<Figure size 900x600 with 1 Axes>"
      ]
     },
     "metadata": {},
     "output_type": "display_data"
    }
   ],
   "source": [
    "ellipse = {'center': (3.0,0), 'a':4.0,'b':7.5, 'angle':10.0}\n",
    "\n",
    "BP_RP, M_G = hh24Eb_cone.get_colors()\n",
    "in_ellipse = pts_in_ellipse(ellipse, BP_RP, M_G)\n",
    "\n",
    "hh24Eb_cone.objs['red_giant'] = in_ellipse\n",
    "rgs = hh24Eb_cone.query('red_giant')\n",
    "nrgs = hh24Eb_cone.query('~red_giant')\n",
    "\n",
    "xy = ellipse['center']\n",
    "a = ellipse['a']\n",
    "b = ellipse['b']\n",
    "theta =  ellipse['angle'] # degrees\n",
    "\n",
    "\n",
    "\n",
    "fig, ax = plt.subplots(figsize=(9,6))\n",
    "rgb = patches.Ellipse(xy, a, b, angle=theta, facecolor='None', ec='black', lw=4)\n",
    "nrgs.plot_hrdiagram(ax=ax, color='blue', label='Non-Red Giants', alpha=0.1)\n",
    "rgs.plot_hrdiagram(ax=ax, color='red', label='Reg Giants')\n",
    "add_halpha_to_ax(ax, Halpha_gaia)\n",
    "\n",
    "ax.legend()\n",
    "\n",
    "ax.add_patch(rgb)"
   ]
  },
  {
   "cell_type": "code",
   "execution_count": 125,
   "id": "81defa86",
   "metadata": {},
   "outputs": [
    {
     "data": {
      "text/plain": [
       "(17305, 409350)"
      ]
     },
     "execution_count": 125,
     "metadata": {},
     "output_type": "execute_result"
    }
   ],
   "source": [
    "len(rgs.objs), len(nrgs.objs)"
   ]
  },
  {
   "cell_type": "code",
   "execution_count": 126,
   "id": "dd93c001",
   "metadata": {},
   "outputs": [
    {
     "data": {
      "text/plain": [
       "Text(0.5, 1.0, 'Distance Histogram\\nRed Giant Branch')"
      ]
     },
     "execution_count": 126,
     "metadata": {},
     "output_type": "execute_result"
    },
    {
     "data": {
      "image/png": "[encoded data removed]",
      "text/plain": [
       "<Figure size 600x400 with 1 Axes>"
      ]
     },
     "metadata": {},
     "output_type": "display_data"
    }
   ],
   "source": [
    "fig, ax = plt.subplots(figsize=(6,4))\n",
    "zz=ax.hist(rgs.objs.r_est, bins=50, alpha=0.5)\n",
    "ax.set_xlabel('Parsec')\n",
    "ax.set_ylabel('Number')\n",
    "ax.set_title('Distance Histogram\\nRed Giant Branch')"
   ]
  },
  {
   "cell_type": "code",
   "execution_count": 127,
   "id": "e9d2f76f",
   "metadata": {},
   "outputs": [
    {
     "data": {
      "text/html": [
       "<div>\n",
       "<style scoped>\n",
       "    .dataframe tbody tr th:only-of-type {\n",
       "        vertical-align: middle;\n",
       "    }\n",
       "\n",
       "    .dataframe tbody tr th {\n",
       "        vertical-align: top;\n",
       "    }\n",
       "\n",
       "    .dataframe thead th {\n",
       "        text-align: right;\n",
       "    }\n",
       "</style>\n",
       "<table border=\"1\" class=\"dataframe\">\n",
       "  <thead>\n",
       "    <tr style=\"text-align: right;\">\n",
       "      <th></th>\n",
       "      <th>ra</th>\n",
       "      <th>dec</th>\n",
       "      <th>parallax</th>\n",
       "      <th>pmra</th>\n",
       "      <th>pmdec</th>\n",
       "      <th>radial_velocity</th>\n",
       "      <th>phot_g_mean_mag</th>\n",
       "      <th>phot_bp_mean_mag</th>\n",
       "      <th>phot_rp_mean_mag</th>\n",
       "      <th>ruwe</th>\n",
       "      <th>r_est</th>\n",
       "      <th>red_giant</th>\n",
       "    </tr>\n",
       "    <tr>\n",
       "      <th>source_id</th>\n",
       "      <th></th>\n",
       "      <th></th>\n",
       "      <th></th>\n",
       "      <th></th>\n",
       "      <th></th>\n",
       "      <th></th>\n",
       "      <th></th>\n",
       "      <th></th>\n",
       "      <th></th>\n",
       "      <th></th>\n",
       "      <th></th>\n",
       "      <th></th>\n",
       "    </tr>\n",
       "  </thead>\n",
       "  <tbody>\n",
       "    <tr>\n",
       "      <th>3026171357615925120</th>\n",
       "      <td>89.308330</td>\n",
       "      <td>-1.276325</td>\n",
       "      <td>0.021501</td>\n",
       "      <td>0.424034</td>\n",
       "      <td>0.238497</td>\n",
       "      <td>NaN</td>\n",
       "      <td>18.768116</td>\n",
       "      <td>19.254591</td>\n",
       "      <td>18.095892</td>\n",
       "      <td>1.086842</td>\n",
       "      <td>46509.963243</td>\n",
       "      <td>True</td>\n",
       "    </tr>\n",
       "    <tr>\n",
       "      <th>3026171495053198464</th>\n",
       "      <td>89.325604</td>\n",
       "      <td>-1.244699</td>\n",
       "      <td>0.023499</td>\n",
       "      <td>-0.675983</td>\n",
       "      <td>-0.189115</td>\n",
       "      <td>NaN</td>\n",
       "      <td>19.657974</td>\n",
       "      <td>20.357008</td>\n",
       "      <td>19.041445</td>\n",
       "      <td>1.071839</td>\n",
       "      <td>42555.368794</td>\n",
       "      <td>True</td>\n",
       "    </tr>\n",
       "    <tr>\n",
       "      <th>3026171598134105472</th>\n",
       "      <td>89.270625</td>\n",
       "      <td>-1.286489</td>\n",
       "      <td>0.103630</td>\n",
       "      <td>0.886862</td>\n",
       "      <td>-0.566095</td>\n",
       "      <td>NaN</td>\n",
       "      <td>15.276062</td>\n",
       "      <td>16.091602</td>\n",
       "      <td>14.389632</td>\n",
       "      <td>0.937855</td>\n",
       "      <td>9649.709997</td>\n",
       "      <td>True</td>\n",
       "    </tr>\n",
       "    <tr>\n",
       "      <th>3026171666853581824</th>\n",
       "      <td>89.251999</td>\n",
       "      <td>-1.269372</td>\n",
       "      <td>0.376878</td>\n",
       "      <td>4.311163</td>\n",
       "      <td>-6.874306</td>\n",
       "      <td>NaN</td>\n",
       "      <td>15.314147</td>\n",
       "      <td>16.069105</td>\n",
       "      <td>14.460864</td>\n",
       "      <td>0.937143</td>\n",
       "      <td>2653.379945</td>\n",
       "      <td>True</td>\n",
       "    </tr>\n",
       "    <tr>\n",
       "      <th>3026171769932792192</th>\n",
       "      <td>89.264364</td>\n",
       "      <td>-1.267056</td>\n",
       "      <td>0.078991</td>\n",
       "      <td>-0.304741</td>\n",
       "      <td>0.344678</td>\n",
       "      <td>NaN</td>\n",
       "      <td>16.852217</td>\n",
       "      <td>17.413475</td>\n",
       "      <td>16.146448</td>\n",
       "      <td>0.956866</td>\n",
       "      <td>12659.594242</td>\n",
       "      <td>True</td>\n",
       "    </tr>\n",
       "  </tbody>\n",
       "</table>\n",
       "</div>"
      ],
      "text/plain": [
       "                            ra       dec  parallax      pmra     pmdec  \\\n",
       "source_id                                                                \n",
       "3026171357615925120  89.308330 -1.276325  0.021501  0.424034  0.238497   \n",
       "3026171495053198464  89.325604 -1.244699  0.023499 -0.675983 -0.189115   \n",
       "3026171598134105472  89.270625 -1.286489  0.103630  0.886862 -0.566095   \n",
       "3026171666853581824  89.251999 -1.269372  0.376878  4.311163 -6.874306   \n",
       "3026171769932792192  89.264364 -1.267056  0.078991 -0.304741  0.344678   \n",
       "\n",
       "                     radial_velocity  phot_g_mean_mag  phot_bp_mean_mag  \\\n",
       "source_id                                                                 \n",
       "3026171357615925120              NaN        18.768116         19.254591   \n",
       "3026171495053198464              NaN        19.657974         20.357008   \n",
       "3026171598134105472              NaN        15.276062         16.091602   \n",
       "3026171666853581824              NaN        15.314147         16.069105   \n",
       "3026171769932792192              NaN        16.852217         17.413475   \n",
       "\n",
       "                     phot_rp_mean_mag      ruwe         r_est  red_giant  \n",
       "source_id                                                                 \n",
       "3026171357615925120         18.095892  1.086842  46509.963243       True  \n",
       "3026171495053198464         19.041445  1.071839  42555.368794       True  \n",
       "3026171598134105472         14.389632  0.937855   9649.709997       True  \n",
       "3026171666853581824         14.460864  0.937143   2653.379945       True  \n",
       "3026171769932792192         16.146448  0.956866  12659.594242       True  "
      ]
     },
     "execution_count": 127,
     "metadata": {},
     "output_type": "execute_result"
    }
   ],
   "source": [
    "rgs.objs.head()"
   ]
  },
  {
   "cell_type": "code",
   "execution_count": 128,
   "id": "eda7ca32",
   "metadata": {},
   "outputs": [],
   "source": [
    "import astropy.units as u\n",
    "\n",
    "def sky_velocity(gstar):\n",
    "    mu = np.sqrt(gstar.objs.pmra**2 + gstar.objs.pmdec**2)\n",
    "    mu_rad = (np.array(mu)*u.mas).to(u.radian).value\n",
    "    sec = (1*u.year).to(u.second).value\n",
    "    dist = (np.array(gstar.objs.r_est)*u.pc).to(u.km).value \n",
    "    vel = mu_rad*dist/sec\n",
    "\n",
    "    return vel\n",
    "\n",
    "                        \n"
   ]
  },
  {
   "cell_type": "code",
   "execution_count": 129,
   "id": "91e01753",
   "metadata": {},
   "outputs": [
    {
     "data": {
      "text/plain": [
       "array([107.26390362, 141.60367107,  48.12902234, ...,  53.99000016,\n",
       "       332.7705173 ,  44.04018941])"
      ]
     },
     "execution_count": 129,
     "metadata": {},
     "output_type": "execute_result"
    }
   ],
   "source": [
    "sky_velocity(rgs)"
   ]
  },
  {
   "cell_type": "code",
   "execution_count": 130,
   "id": "819dc129",
   "metadata": {},
   "outputs": [
    {
     "data": {
      "text/plain": [
       "Text(0.5, 1.0, 'Sky Velocity Histogram\\nRed Giant Branch')"
      ]
     },
     "execution_count": 130,
     "metadata": {},
     "output_type": "execute_result"
    },
    {
     "data": {
      "image/png": "[encoded data removed]",
      "text/plain": [
       "<Figure size 600x400 with 1 Axes>"
      ]
     },
     "metadata": {},
     "output_type": "display_data"
    }
   ],
   "source": [
    "fig, ax = plt.subplots(figsize=(6,4))\n",
    "zz=ax.hist(sky_velocity(rgs), bins=50, alpha=0.5)\n",
    "ax.set_xlabel('km/s')\n",
    "ax.set_ylabel('Number')\n",
    "ax.set_title('Sky Velocity Histogram\\nRed Giant Branch')"
   ]
  },
  {
   "cell_type": "code",
   "execution_count": 131,
   "id": "c78e220d",
   "metadata": {},
   "outputs": [],
   "source": [
    "distance_bins = {'r < 250':250, '250 <= r < 500':500, '500 <= r < 750':750, '750 <= r < 1000':1000, '1000 <= r < 2000':2000, '2000 <= r < 5000':5000}\n",
    "bins = np.array([distance_bins[b] for b in distance_bins])\n",
    "np.digitize(rgs.objs.r_est, bins)\n",
    "bin_strs = np.array([b for b in distance_bins]+['over 5000'])"
   ]
  },
  {
   "cell_type": "code",
   "execution_count": 132,
   "id": "311b7f80",
   "metadata": {},
   "outputs": [
    {
     "data": {
      "text/plain": [
       "array(['r < 250', '250 <= r < 500', '500 <= r < 750', '750 <= r < 1000',\n",
       "       '1000 <= r < 2000', '2000 <= r < 5000', 'over 5000'], dtype='<U16')"
      ]
     },
     "execution_count": 132,
     "metadata": {},
     "output_type": "execute_result"
    }
   ],
   "source": [
    "bin_strs"
   ]
  },
  {
   "cell_type": "code",
   "execution_count": 133,
   "id": "225a3e31",
   "metadata": {},
   "outputs": [
    {
     "data": {
      "text/html": [
       "<div>\n",
       "<style scoped>\n",
       "    .dataframe tbody tr th:only-of-type {\n",
       "        vertical-align: middle;\n",
       "    }\n",
       "\n",
       "    .dataframe tbody tr th {\n",
       "        vertical-align: top;\n",
       "    }\n",
       "\n",
       "    .dataframe thead th {\n",
       "        text-align: right;\n",
       "    }\n",
       "</style>\n",
       "<table border=\"1\" class=\"dataframe\">\n",
       "  <thead>\n",
       "    <tr style=\"text-align: right;\">\n",
       "      <th></th>\n",
       "      <th>r_est</th>\n",
       "      <th>bin</th>\n",
       "      <th>range</th>\n",
       "    </tr>\n",
       "    <tr>\n",
       "      <th>source_id</th>\n",
       "      <th></th>\n",
       "      <th></th>\n",
       "      <th></th>\n",
       "    </tr>\n",
       "  </thead>\n",
       "  <tbody>\n",
       "    <tr>\n",
       "      <th>3026171357615925120</th>\n",
       "      <td>46509.963243</td>\n",
       "      <td>6</td>\n",
       "      <td>over 5000</td>\n",
       "    </tr>\n",
       "    <tr>\n",
       "      <th>3026171495053198464</th>\n",
       "      <td>42555.368794</td>\n",
       "      <td>6</td>\n",
       "      <td>over 5000</td>\n",
       "    </tr>\n",
       "    <tr>\n",
       "      <th>3026171598134105472</th>\n",
       "      <td>9649.709997</td>\n",
       "      <td>6</td>\n",
       "      <td>over 5000</td>\n",
       "    </tr>\n",
       "    <tr>\n",
       "      <th>3026171666853581824</th>\n",
       "      <td>2653.379945</td>\n",
       "      <td>5</td>\n",
       "      <td>2000 &lt;= r &lt; 5000</td>\n",
       "    </tr>\n",
       "    <tr>\n",
       "      <th>3026171769932792192</th>\n",
       "      <td>12659.594242</td>\n",
       "      <td>6</td>\n",
       "      <td>over 5000</td>\n",
       "    </tr>\n",
       "    <tr>\n",
       "      <th>...</th>\n",
       "      <td>...</td>\n",
       "      <td>...</td>\n",
       "      <td>...</td>\n",
       "    </tr>\n",
       "    <tr>\n",
       "      <th>3319225149542968320</th>\n",
       "      <td>10871.726685</td>\n",
       "      <td>6</td>\n",
       "      <td>over 5000</td>\n",
       "    </tr>\n",
       "    <tr>\n",
       "      <th>3319225600515073152</th>\n",
       "      <td>10937.499917</td>\n",
       "      <td>6</td>\n",
       "      <td>over 5000</td>\n",
       "    </tr>\n",
       "    <tr>\n",
       "      <th>3319228860394726144</th>\n",
       "      <td>11416.845335</td>\n",
       "      <td>6</td>\n",
       "      <td>over 5000</td>\n",
       "    </tr>\n",
       "    <tr>\n",
       "      <th>3319228860395925504</th>\n",
       "      <td>58511.215138</td>\n",
       "      <td>6</td>\n",
       "      <td>over 5000</td>\n",
       "    </tr>\n",
       "    <tr>\n",
       "      <th>3319229066553569792</th>\n",
       "      <td>1674.401359</td>\n",
       "      <td>4</td>\n",
       "      <td>1000 &lt;= r &lt; 2000</td>\n",
       "    </tr>\n",
       "  </tbody>\n",
       "</table>\n",
       "<p>17305 rows × 3 columns</p>\n",
       "</div>"
      ],
      "text/plain": [
       "                            r_est  bin             range\n",
       "source_id                                               \n",
       "3026171357615925120  46509.963243    6         over 5000\n",
       "3026171495053198464  42555.368794    6         over 5000\n",
       "3026171598134105472   9649.709997    6         over 5000\n",
       "3026171666853581824   2653.379945    5  2000 <= r < 5000\n",
       "3026171769932792192  12659.594242    6         over 5000\n",
       "...                           ...  ...               ...\n",
       "3319225149542968320  10871.726685    6         over 5000\n",
       "3319225600515073152  10937.499917    6         over 5000\n",
       "3319228860394726144  11416.845335    6         over 5000\n",
       "3319228860395925504  58511.215138    6         over 5000\n",
       "3319229066553569792   1674.401359    4  1000 <= r < 2000\n",
       "\n",
       "[17305 rows x 3 columns]"
      ]
     },
     "execution_count": 133,
     "metadata": {},
     "output_type": "execute_result"
    }
   ],
   "source": [
    "b = np.digitize(rgs.objs.r_est, bins, right=False)\n",
    "pd.DataFrame({'r_est':rgs.objs.r_est, 'bin':b, 'range':bin_strs[b]} )"
   ]
  },
  {
   "cell_type": "code",
   "execution_count": 134,
   "id": "f8e5ca80",
   "metadata": {},
   "outputs": [],
   "source": [
    "rgs.objs['distance_bin'] = b\n",
    "rgs.objs['Range'] = bin_strs[b]\n",
    "rgs.objs['SkyVelocity'] = sky_velocity(rgs)"
   ]
  },
  {
   "cell_type": "code",
   "execution_count": 135,
   "id": "b41cacee",
   "metadata": {},
   "outputs": [],
   "source": [
    "bds = {'BD1':31.61, 'BD2':62.17, 'BD3':\t22.76 }\n",
    "col = {'BD1':'red', 'BD2':'green', 'BD3':'blue' }"
   ]
  },
  {
   "cell_type": "code",
   "execution_count": 136,
   "id": "0c787c9a",
   "metadata": {},
   "outputs": [
    {
     "name": "stderr",
     "output_type": "stream",
     "text": [
      "/tmp/ipykernel_4568/4178535604.py:6: UserWarning: set_ticklabels() should only be used with a fixed number of ticks, i.e. after set_ticks() or using a FixedLocator.\n",
      "  zz=g.set_xticklabels(g.get_xticklabels(),rotation=90)\n"
     ]
    },
    {
     "data": {
      "text/plain": [
       "<matplotlib.legend.Legend at 0x7db369451a80>"
      ]
     },
     "execution_count": 136,
     "metadata": {},
     "output_type": "execute_result"
    },
    {
     "data": {
      "image/png": "[encoded data removed]",
      "text/plain": [
       "<Figure size 900x600 with 1 Axes>"
      ]
     },
     "metadata": {},
     "output_type": "display_data"
    }
   ],
   "source": [
    "import seaborn as sns\n",
    "fig, ax = plt.subplots(figsize=(9,6))\n",
    "g = sns.boxplot(ax=ax, data=rgs.objs, x='Range', y='SkyVelocity', order=bin_strs, log_scale=True)\n",
    "for bd in bds:\n",
    "    ax.axhline(bds[bd], label=bd, color=col[bd])\n",
    "zz=g.set_xticklabels(g.get_xticklabels(),rotation=90)\n",
    "ax.legend()"
   ]
  },
  {
   "cell_type": "markdown",
   "id": "5c4eed92",
   "metadata": {},
   "source": [
    "## Position Angles\n",
    "for each object, calc position angle\n",
    "take the angular mean within distance class"
   ]
  },
  {
   "cell_type": "code",
   "execution_count": 137,
   "id": "5d239f67",
   "metadata": {},
   "outputs": [],
   "source": [
    "# su: magnitude of the motion (might be mu from spherical geometry)\n",
    "su = np.sqrt(rgs.objs.pmra**2+ rgs.objs.pmdec**2)\n",
    "rgs.objs['su'] = su\n",
    "\n",
    "# position angles\n",
    "rad = np.pi/2 - np.arctan2(rgs.objs.pmdec, rgs.objs.pmra) \n",
    "posangle = np.degrees(np.remainder(2*np.pi+rad, 2*np.pi))\n",
    "rgs.objs['posangle'] = posangle\n"
   ]
  },
  {
   "cell_type": "code",
   "execution_count": 138,
   "id": "7a76fcff",
   "metadata": {},
   "outputs": [
    {
     "data": {
      "text/plain": [
       "(113.94354781954777, 65.90581464921128)"
      ]
     },
     "execution_count": 138,
     "metadata": {},
     "output_type": "execute_result"
    }
   ],
   "source": [
    "from astropy.stats import circmean, circstd\n",
    "np.degrees(circmean(np.radians(rgs.objs.posangle))), np.degrees(circstd(np.radians(rgs.objs.posangle)))"
   ]
  },
  {
   "cell_type": "code",
   "execution_count": 139,
   "id": "60eeb3c3",
   "metadata": {},
   "outputs": [
    {
     "data": {
      "text/latex": [
       "$113.94355\\mathrm{{}^{\\circ}}$"
      ],
      "text/plain": [
       "<Quantity 113.94354782 deg>"
      ]
     },
     "execution_count": 139,
     "metadata": {},
     "output_type": "execute_result"
    }
   ],
   "source": [
    "circmean(np.array(posangle)*u.deg)"
   ]
  },
  {
   "cell_type": "code",
   "execution_count": 140,
   "id": "f6c220bb",
   "metadata": {},
   "outputs": [
    {
     "name": "stdout",
     "output_type": "stream",
     "text": [
      "Range: 0, mean: 172.96513561483005, std: 50.3840180486294 \n",
      "Range: 1, mean: 172.45899038551752, std: 66.21588032424543 \n",
      "Range: 2, mean: 178.110641074373, std: 60.59261641956476 \n",
      "Range: 3, mean: 165.3575550140163, std: 64.75265578333212 \n",
      "Range: 4, mean: 146.44252922122726, std: 67.17645662845914 \n",
      "Range: 5, mean: 107.78817596631013, std: 68.3984606178651 \n",
      "Range: 6, mean: 111.50388070583166, std: 64.85082887346374 \n"
     ]
    }
   ],
   "source": [
    "for rng, df in rgs.objs.groupby('distance_bin'):\n",
    "    print(f'Range: {rng}, mean: {np.degrees(circmean(np.radians(df.posangle)))}, std: {np.degrees(circstd(np.radians(df.posangle)))} ')"
   ]
  },
  {
   "cell_type": "code",
   "execution_count": 141,
   "id": "f030c06a",
   "metadata": {},
   "outputs": [],
   "source": [
    "def agg_func(indx, df):\n",
    "    N = len(df)\n",
    "    cm = np.degrees(circmean(np.radians(df.posangle)))\n",
    "    cmstd = np.degrees(circstd(np.radians(df.posangle)))\n",
    "    cm_e = cmstd/np.sqrt(N)\n",
    "    v = df.SkyVelocity.mean()\n",
    "    vstd = df.SkyVelocity.std()\n",
    "    v_e = vstd/np.sqrt(N)\n",
    "    rng_str = df.Range.iloc[0]\n",
    "\n",
    "    return {'DistRng':rng_str, 'N':N, 'SkyVelocity':v, 'SkyVelocityError':v_e,\n",
    "            'PosAngle': cm, 'PosAngleError': cm_e}"
   ]
  },
  {
   "cell_type": "code",
   "execution_count": 142,
   "id": "3ae23124",
   "metadata": {},
   "outputs": [
    {
     "data": {
      "text/html": [
       "<div><i>Table length=7</i>\n",
       "<table id=\"table138209519449568\" class=\"table-striped table-bordered table-condensed\">\n",
       "<thead><tr><th>DistRng</th><th>N</th><th>SkyVelocity</th><th>SkyVelocityError</th><th>PosAngle</th><th>PosAngleError</th></tr></thead>\n",
       "<thead><tr><th>pc</th><th></th><th>km / s</th><th>km / s</th><th>deg</th><th>deg</th></tr></thead>\n",
       "<thead><tr><th>str16</th><th>int64</th><th>float64</th><th>float64</th><th>float64</th><th>float64</th></tr></thead>\n",
       "<tr><td>r &lt; 250</td><td>10</td><td>27.91</td><td>3.50</td><td>172.97</td><td>15.93</td></tr>\n",
       "<tr><td>250 &lt;= r &lt; 500</td><td>58</td><td>20.99</td><td>2.50</td><td>172.46</td><td>8.69</td></tr>\n",
       "<tr><td>500 &lt;= r &lt; 750</td><td>104</td><td>27.28</td><td>1.93</td><td>178.11</td><td>5.94</td></tr>\n",
       "<tr><td>750 &lt;= r &lt; 1000</td><td>190</td><td>31.28</td><td>1.74</td><td>165.36</td><td>4.70</td></tr>\n",
       "<tr><td>1000 &lt;= r &lt; 2000</td><td>1017</td><td>32.35</td><td>0.67</td><td>146.44</td><td>2.11</td></tr>\n",
       "<tr><td>2000 &lt;= r &lt; 5000</td><td>2822</td><td>35.56</td><td>0.57</td><td>107.79</td><td>1.29</td></tr>\n",
       "<tr><td>over 5000</td><td>13104</td><td>305.50</td><td>7.85</td><td>111.50</td><td>0.57</td></tr>\n",
       "</table></div>"
      ],
      "text/plain": [
       "<Table length=7>\n",
       "    DistRng        N   SkyVelocity SkyVelocityError PosAngle PosAngleError\n",
       "       pc                 km / s        km / s        deg         deg     \n",
       "     str16       int64   float64       float64      float64     float64   \n",
       "---------------- ----- ----------- ---------------- -------- -------------\n",
       "         r < 250    10       27.91             3.50   172.97         15.93\n",
       "  250 <= r < 500    58       20.99             2.50   172.46          8.69\n",
       "  500 <= r < 750   104       27.28             1.93   178.11          5.94\n",
       " 750 <= r < 1000   190       31.28             1.74   165.36          4.70\n",
       "1000 <= r < 2000  1017       32.35             0.67   146.44          2.11\n",
       "2000 <= r < 5000  2822       35.56             0.57   107.79          1.29\n",
       "       over 5000 13104      305.50             7.85   111.50          0.57"
      ]
     },
     "execution_count": 142,
     "metadata": {},
     "output_type": "execute_result"
    }
   ],
   "source": [
    "summary_tbl = Table(rows=[agg_func(rng, df) for rng, df in rgs.objs.groupby('distance_bin')],\n",
    "                    units = [u.pc, None, u.km/u.second, u.km/u.second, u.deg, u.deg])\n",
    "for c in ['SkyVelocity', 'SkyVelocityError', 'PosAngle', 'PosAngleError']:\n",
    "    summary_tbl[c].info.format='.2f'\n",
    "\n",
    "\n",
    "\n",
    "summary_tbl"
   ]
  },
  {
   "cell_type": "code",
   "execution_count": 143,
   "id": "8eaa31af",
   "metadata": {},
   "outputs": [
    {
     "data": {
      "text/plain": [
       "ra                   86.339081\n",
       "dec                  -0.012723\n",
       "parallax              2.421525\n",
       "pmra                   0.43264\n",
       "pmdec                -0.825382\n",
       "radial_velocity            NaN\n",
       "phot_g_mean_mag      16.184771\n",
       "phot_bp_mean_mag      18.01576\n",
       "phot_rp_mean_mag     14.903191\n",
       "ruwe                   1.16815\n",
       "r_est               412.962839\n",
       "red_giant                False\n",
       "Name: 3219171107539228032, dtype: object"
      ]
     },
     "execution_count": 143,
     "metadata": {},
     "output_type": "execute_result"
    }
   ],
   "source": [
    "hh24Eb_cone.objs.loc[3219171107539228032]"
   ]
  },
  {
   "cell_type": "code",
   "execution_count": 144,
   "id": "5fa0b490",
   "metadata": {},
   "outputs": [],
   "source": [
    "FangTable = pd.read_fwf('/home/kevin/Documents/HH24/Fang2009/table6.dat', names=['id', 'ra','dec'],\n",
    "                        colspecs=[(0,4), (4, 16), (16,28)])"
   ]
  },
  {
   "cell_type": "code",
   "execution_count": 145,
   "id": "c9f71d00",
   "metadata": {},
   "outputs": [
    {
     "data": {
      "text/html": [
       "<div>\n",
       "<style scoped>\n",
       "    .dataframe tbody tr th:only-of-type {\n",
       "        vertical-align: middle;\n",
       "    }\n",
       "\n",
       "    .dataframe tbody tr th {\n",
       "        vertical-align: top;\n",
       "    }\n",
       "\n",
       "    .dataframe thead th {\n",
       "        text-align: right;\n",
       "    }\n",
       "</style>\n",
       "<table border=\"1\" class=\"dataframe\">\n",
       "  <thead>\n",
       "    <tr style=\"text-align: right;\">\n",
       "      <th></th>\n",
       "      <th>id</th>\n",
       "      <th>ra</th>\n",
       "      <th>dec</th>\n",
       "    </tr>\n",
       "  </thead>\n",
       "  <tbody>\n",
       "    <tr>\n",
       "      <th>0</th>\n",
       "      <td>1</td>\n",
       "      <td>05 45 21.38</td>\n",
       "      <td>-00 00 45.9</td>\n",
       "    </tr>\n",
       "    <tr>\n",
       "      <th>1</th>\n",
       "      <td>2</td>\n",
       "      <td>05 45 22.68</td>\n",
       "      <td>-00 14 27.5</td>\n",
       "    </tr>\n",
       "    <tr>\n",
       "      <th>2</th>\n",
       "      <td>3</td>\n",
       "      <td>05 45 26.16</td>\n",
       "      <td>+00 06 37.9</td>\n",
       "    </tr>\n",
       "    <tr>\n",
       "      <th>3</th>\n",
       "      <td>4</td>\n",
       "      <td>05 45 38.26</td>\n",
       "      <td>-00 08 11.0</td>\n",
       "    </tr>\n",
       "    <tr>\n",
       "      <th>4</th>\n",
       "      <td>5</td>\n",
       "      <td>05 45 41.68</td>\n",
       "      <td>-00 04 02.4</td>\n",
       "    </tr>\n",
       "    <tr>\n",
       "      <th>...</th>\n",
       "      <td>...</td>\n",
       "      <td>...</td>\n",
       "      <td>...</td>\n",
       "    </tr>\n",
       "    <tr>\n",
       "      <th>127</th>\n",
       "      <td>128</td>\n",
       "      <td>05 47 19.72</td>\n",
       "      <td>+00 01 21.8</td>\n",
       "    </tr>\n",
       "    <tr>\n",
       "      <th>128</th>\n",
       "      <td>129</td>\n",
       "      <td>05 47 19.90</td>\n",
       "      <td>+00 16 13.1</td>\n",
       "    </tr>\n",
       "    <tr>\n",
       "      <th>129</th>\n",
       "      <td>130</td>\n",
       "      <td>05 47 22.99</td>\n",
       "      <td>+00 17 56.7</td>\n",
       "    </tr>\n",
       "    <tr>\n",
       "      <th>130</th>\n",
       "      <td>131</td>\n",
       "      <td>05 47 25.05</td>\n",
       "      <td>+00 31 05.0</td>\n",
       "    </tr>\n",
       "    <tr>\n",
       "      <th>131</th>\n",
       "      <td>132</td>\n",
       "      <td>05 47 57.53</td>\n",
       "      <td>+00 11 31.2</td>\n",
       "    </tr>\n",
       "  </tbody>\n",
       "</table>\n",
       "<p>132 rows × 3 columns</p>\n",
       "</div>"
      ],
      "text/plain": [
       "      id           ra          dec\n",
       "0      1  05 45 21.38  -00 00 45.9\n",
       "1      2  05 45 22.68  -00 14 27.5\n",
       "2      3  05 45 26.16  +00 06 37.9\n",
       "3      4  05 45 38.26  -00 08 11.0\n",
       "4      5  05 45 41.68  -00 04 02.4\n",
       "..   ...          ...          ...\n",
       "127  128  05 47 19.72  +00 01 21.8\n",
       "128  129  05 47 19.90  +00 16 13.1\n",
       "129  130  05 47 22.99  +00 17 56.7\n",
       "130  131  05 47 25.05  +00 31 05.0\n",
       "131  132  05 47 57.53  +00 11 31.2\n",
       "\n",
       "[132 rows x 3 columns]"
      ]
     },
     "execution_count": 145,
     "metadata": {},
     "output_type": "execute_result"
    }
   ],
   "source": [
    "FangTable"
   ]
  },
  {
   "cell_type": "code",
   "execution_count": 146,
   "id": "038febf0",
   "metadata": {},
   "outputs": [],
   "source": [
    "from astropy.coordinates import SkyCoord\n",
    "FangCoords = SkyCoord(FangTable.ra, FangTable.dec, unit=(u.hourangle, u.deg), frame='fk5')\n",
    "Fang_tbl = Table({'id':FangTable.id, 'icrs':FangCoords.icrs})"
   ]
  },
  {
   "cell_type": "code",
   "execution_count": 147,
   "id": "8ab45062",
   "metadata": {},
   "outputs": [
    {
     "data": {
      "text/plain": [
       "Index([3026171318960693376, 3026171323256180864, 3026171490758392576,\n",
       "       3026171357614268928, 3026171357615925120, 3026171387679164032,\n",
       "       3026171387679164160, 3026171387680169984, 3026171387681094528,\n",
       "       3026171391974743296,\n",
       "       ...\n",
       "       3319228864690759552, 3319228894755261056, 3319228929115452800,\n",
       "       3319228933409141888, 3319228933409712896, 3319229066553569792,\n",
       "       3319229066553953664, 3319229066554357248, 3319229070847352320,\n",
       "       3319229070849420544],\n",
       "      dtype='int64', name='source_id', length=426655)"
      ]
     },
     "execution_count": 147,
     "metadata": {},
     "output_type": "execute_result"
    }
   ],
   "source": [
    "hh24Eb_cone.objs.index"
   ]
  },
  {
   "cell_type": "code",
   "execution_count": 148,
   "id": "0c11e0c2",
   "metadata": {},
   "outputs": [],
   "source": [
    "gaia_coords = SkyCoord(hh24Eb_cone.objs.ra, hh24Eb_cone.objs.dec, unit=(u.deg, u.deg), frame='icrs')\n",
    "gaia_tbl = Table({'GaiaDR3':list(hh24Eb_cone.objs.index), 'icrs':gaia_coords})"
   ]
  },
  {
   "cell_type": "code",
   "execution_count": 149,
   "id": "f5b25a2e",
   "metadata": {},
   "outputs": [],
   "source": [
    "from astropy.table import Table, join_skycoord\n",
    "from astropy import table"
   ]
  },
  {
   "cell_type": "code",
   "execution_count": 163,
   "id": "5946d3b7",
   "metadata": {},
   "outputs": [],
   "source": [
    "jt =table.join(gaia_tbl,Fang_tbl,  join_funcs = {'icrs':join_skycoord(1*u.arcsecond)})"
   ]
  },
  {
   "cell_type": "code",
   "execution_count": 164,
   "id": "85ad2dbd",
   "metadata": {},
   "outputs": [
    {
     "data": {
      "text/html": [
       "<div><i>Table length=133</i>\n",
       "<table id=\"table138209484494192\" class=\"table-striped table-bordered table-condensed\">\n",
       "<thead><tr><th>icrs_id</th><th>GaiaDR3</th><th>icrs_1</th><th>id</th><th>icrs_2</th></tr></thead>\n",
       "<thead><tr><th></th><th></th><th>deg,deg</th><th></th><th>deg,deg</th></tr></thead>\n",
       "<thead><tr><th>int64</th><th>int64</th><th>SkyCoord</th><th>int64</th><th>SkyCoord</th></tr></thead>\n",
       "<tr><td>1</td><td>3219582354952174848</td><td>86.79573420876801,0.3589606487404995</td><td>122</td><td>86.79574362114155,0.35894982228863553</td></tr>\n",
       "<tr><td>2</td><td>3219582458030819712</td><td>86.80381707100946,0.3684813097310467</td><td>123</td><td>86.80382695400868,0.3684776004660141</td></tr>\n",
       "<tr><td>3</td><td>3219586173178684544</td><td>86.77488968645612,0.43138994929422353</td><td>111</td><td>86.77491028421016,0.43142204348046564</td></tr>\n",
       "<tr><td>4</td><td>3219587165314966912</td><td>86.70454202695448,0.47732422580081196</td><td>92</td><td>86.70453528188463,0.47731092888343385</td></tr>\n",
       "<tr><td>5</td><td>3219587341409787136</td><td>86.77222022225749,0.47946062500095227</td><td>109</td><td>86.77224361516367,0.47947759890407965</td></tr>\n",
       "<tr><td>6</td><td>3219588578360363136</td><td>86.85434139563776,0.517960693994489</td><td>131</td><td>86.85436861332411,0.5180609362954541</td></tr>\n",
       "<tr><td>7</td><td>3219589226899368064</td><td>86.77499849484617,0.5356338636816913</td><td>110</td><td>86.77499361238398,0.5356998212623663</td></tr>\n",
       "<tr><td>8</td><td>3219589231195394944</td><td>86.77910273556442,0.5322061142731537</td><td>114</td><td>86.77911861256074,0.5321998214664401</td></tr>\n",
       "<tr><td>9</td><td>3219589265555132416</td><td>86.79537385080985,0.5349824656589566</td><td>120</td><td>86.79536861243618,0.5350053778256502</td></tr>\n",
       "<tr><td>...</td><td>...</td><td>...</td><td>...</td><td>...</td></tr>\n",
       "<tr><td>122</td><td>3219220723001387520</td><td>86.48911966975614,0.3394864457367627</td><td>22</td><td>86.48907695526597,0.339505362605093</td></tr>\n",
       "<tr><td>123</td><td>3219221788153183616</td><td>86.47333336160081,0.37836556365867446</td><td>16</td><td>86.4733269533153,0.37836647292939257</td></tr>\n",
       "<tr><td>124</td><td>3219222028671353344</td><td>86.43489525063653,0.38284489261150934</td><td>8</td><td>86.43486861973444,0.3828386932286767</td></tr>\n",
       "<tr><td>125</td><td>3219223467484959616</td><td>86.62930757990823,0.4533322453477831</td><td>62</td><td>86.62928528301632,0.45336648070262503</td></tr>\n",
       "<tr><td>126</td><td>3219228106049667456</td><td>86.54946910562839,0.5405090514713597</td><td>34</td><td>86.54941027861196,0.5405331433931503</td></tr>\n",
       "<tr><td>127</td><td>3219228866259284736</td><td>86.48418617572887,0.5528379333104684</td><td>19</td><td>86.48416027793822,0.5528664734706291</td></tr>\n",
       "<tr><td>128</td><td>3219229072418097024</td><td>86.4731470250297,0.5524347204920338</td><td>15</td><td>86.4730769446157,0.5524498062502337</td></tr>\n",
       "<tr><td>129</td><td>3219528758055874048</td><td>86.9897037305762,0.19197984335376364</td><td>132</td><td>86.98970196279016,0.19200538740300024</td></tr>\n",
       "<tr><td>130</td><td>3219534221253563904</td><td>86.84579365624104,0.29907502498343114</td><td>130</td><td>86.84578529079248,0.2990887136496211</td></tr>\n",
       "</table></div>"
      ],
      "text/plain": [
       "<Table length=133>\n",
       "icrs_id       GaiaDR3       ...   id                  icrs_2               \n",
       "                            ...                      deg,deg               \n",
       " int64         int64        ... int64                SkyCoord              \n",
       "------- ------------------- ... ----- -------------------------------------\n",
       "      1 3219582354952174848 ...   122 86.79574362114155,0.35894982228863553\n",
       "      2 3219582458030819712 ...   123  86.80382695400868,0.3684776004660141\n",
       "      3 3219586173178684544 ...   111 86.77491028421016,0.43142204348046564\n",
       "      4 3219587165314966912 ...    92 86.70453528188463,0.47731092888343385\n",
       "      5 3219587341409787136 ...   109 86.77224361516367,0.47947759890407965\n",
       "      6 3219588578360363136 ...   131  86.85436861332411,0.5180609362954541\n",
       "      7 3219589226899368064 ...   110  86.77499361238398,0.5356998212623663\n",
       "      8 3219589231195394944 ...   114  86.77911861256074,0.5321998214664401\n",
       "      9 3219589265555132416 ...   120  86.79536861243618,0.5350053778256502\n",
       "    ...                 ... ...   ...                                   ...\n",
       "    122 3219220723001387520 ...    22   86.48907695526597,0.339505362605093\n",
       "    123 3219221788153183616 ...    16  86.4733269533153,0.37836647292939257\n",
       "    124 3219222028671353344 ...     8  86.43486861973444,0.3828386932286767\n",
       "    125 3219223467484959616 ...    62 86.62928528301632,0.45336648070262503\n",
       "    126 3219228106049667456 ...    34  86.54941027861196,0.5405331433931503\n",
       "    127 3219228866259284736 ...    19  86.48416027793822,0.5528664734706291\n",
       "    128 3219229072418097024 ...    15   86.4730769446157,0.5524498062502337\n",
       "    129 3219528758055874048 ...   132 86.98970196279016,0.19200538740300024\n",
       "    130 3219534221253563904 ...   130  86.84578529079248,0.2990887136496211"
      ]
     },
     "execution_count": 164,
     "metadata": {},
     "output_type": "execute_result"
    }
   ],
   "source": [
    "jt"
   ]
  },
  {
   "cell_type": "code",
   "execution_count": 174,
   "id": "edf45675",
   "metadata": {},
   "outputs": [
    {
     "data": {
      "text/latex": [
       "$0^\\circ00{}^\\prime00.9036025{}^{\\prime\\prime}$"
      ],
      "text/plain": [
       "<Angle 0.000251 deg>"
      ]
     },
     "execution_count": 174,
     "metadata": {},
     "output_type": "execute_result"
    }
   ],
   "source": [
    "jt['icrs_1'].separation(jt['icrs_2']).max()"
   ]
  },
  {
   "cell_type": "code",
   "execution_count": 175,
   "id": "533afed5",
   "metadata": {},
   "outputs": [],
   "source": [
    "yso_df = hh24Eb_cone.objs.loc[jt['GaiaDR3']].copy()"
   ]
  },
  {
   "cell_type": "code",
   "execution_count": 176,
   "id": "2bdcd3c2",
   "metadata": {},
   "outputs": [],
   "source": [
    "yso = gs()\n",
    "yso.objs=yso_df"
   ]
  },
  {
   "cell_type": "code",
   "execution_count": 179,
   "id": "4854804d",
   "metadata": {},
   "outputs": [
    {
     "data": {
      "text/plain": [
       "<matplotlib.legend.Legend at 0x7db36983f1f0>"
      ]
     },
     "execution_count": 179,
     "metadata": {},
     "output_type": "execute_result"
    },
    {
     "data": {
      "image/png": "[encoded data removed]",
      "text/plain": [
       "<Figure size 900x600 with 1 Axes>"
      ]
     },
     "metadata": {},
     "output_type": "display_data"
    }
   ],
   "source": [
    "fig, ax = plt.subplots(figsize=(9,6))\n",
    "\n",
    "#hh24Eb_cone.plot_hrdiagram(ax=ax, color='blue', label='HH24-Eb Conesearch')\n",
    "yso.plot_hrdiagram(ax=ax, color='blue', s=2, label='YSO')\n",
    "rg.plot_hrdiagram(ax=ax, color='red', label='Schonhut-Stasik Catalog')\n",
    "add_halpha_to_ax(ax,Halpha_gaia)\n",
    "ax.legend()"
   ]
  },
  {
   "cell_type": "code",
   "execution_count": 182,
   "id": "1879f183",
   "metadata": {},
   "outputs": [
    {
     "data": {
      "text/plain": [
       "(9, 9, 9)"
      ]
     },
     "execution_count": 182,
     "metadata": {},
     "output_type": "execute_result"
    }
   ],
   "source": [
    "yso.objs.r_est.isna().sum(), yso.objs.pmra.isna().sum(), yso.objs.pmdec.isna().sum()"
   ]
  },
  {
   "cell_type": "code",
   "execution_count": 183,
   "id": "79c6cb88",
   "metadata": {},
   "outputs": [
    {
     "data": {
      "text/html": [
       "<div>\n",
       "<style scoped>\n",
       "    .dataframe tbody tr th:only-of-type {\n",
       "        vertical-align: middle;\n",
       "    }\n",
       "\n",
       "    .dataframe tbody tr th {\n",
       "        vertical-align: top;\n",
       "    }\n",
       "\n",
       "    .dataframe thead th {\n",
       "        text-align: right;\n",
       "    }\n",
       "</style>\n",
       "<table border=\"1\" class=\"dataframe\">\n",
       "  <thead>\n",
       "    <tr style=\"text-align: right;\">\n",
       "      <th></th>\n",
       "      <th>ra</th>\n",
       "      <th>dec</th>\n",
       "      <th>parallax</th>\n",
       "      <th>pmra</th>\n",
       "      <th>pmdec</th>\n",
       "      <th>radial_velocity</th>\n",
       "      <th>phot_g_mean_mag</th>\n",
       "      <th>phot_bp_mean_mag</th>\n",
       "      <th>phot_rp_mean_mag</th>\n",
       "      <th>ruwe</th>\n",
       "      <th>r_est</th>\n",
       "      <th>red_giant</th>\n",
       "      <th>YSO</th>\n",
       "    </tr>\n",
       "    <tr>\n",
       "      <th>source_id</th>\n",
       "      <th></th>\n",
       "      <th></th>\n",
       "      <th></th>\n",
       "      <th></th>\n",
       "      <th></th>\n",
       "      <th></th>\n",
       "      <th></th>\n",
       "      <th></th>\n",
       "      <th></th>\n",
       "      <th></th>\n",
       "      <th></th>\n",
       "      <th></th>\n",
       "      <th></th>\n",
       "    </tr>\n",
       "  </thead>\n",
       "  <tbody>\n",
       "    <tr>\n",
       "      <th>3219582354952174848</th>\n",
       "      <td>86.795734</td>\n",
       "      <td>0.358961</td>\n",
       "      <td>2.157050</td>\n",
       "      <td>-1.069508</td>\n",
       "      <td>-1.252564</td>\n",
       "      <td>NaN</td>\n",
       "      <td>18.546284</td>\n",
       "      <td>20.607382</td>\n",
       "      <td>17.099230</td>\n",
       "      <td>1.052882</td>\n",
       "      <td>463.596179</td>\n",
       "      <td>False</td>\n",
       "      <td>False</td>\n",
       "    </tr>\n",
       "    <tr>\n",
       "      <th>3219582458030819712</th>\n",
       "      <td>86.803817</td>\n",
       "      <td>0.368481</td>\n",
       "      <td>1.687486</td>\n",
       "      <td>-0.688316</td>\n",
       "      <td>-0.300136</td>\n",
       "      <td>NaN</td>\n",
       "      <td>20.206291</td>\n",
       "      <td>21.429123</td>\n",
       "      <td>18.606737</td>\n",
       "      <td>1.046515</td>\n",
       "      <td>592.597372</td>\n",
       "      <td>False</td>\n",
       "      <td>False</td>\n",
       "    </tr>\n",
       "    <tr>\n",
       "      <th>3219586173178684544</th>\n",
       "      <td>86.774890</td>\n",
       "      <td>0.431390</td>\n",
       "      <td>1.490540</td>\n",
       "      <td>-2.397946</td>\n",
       "      <td>-2.108450</td>\n",
       "      <td>NaN</td>\n",
       "      <td>19.797300</td>\n",
       "      <td>21.507265</td>\n",
       "      <td>18.229395</td>\n",
       "      <td>1.111996</td>\n",
       "      <td>670.897867</td>\n",
       "      <td>False</td>\n",
       "      <td>False</td>\n",
       "    </tr>\n",
       "    <tr>\n",
       "      <th>3219587165314966912</th>\n",
       "      <td>86.704542</td>\n",
       "      <td>0.477324</td>\n",
       "      <td>3.027419</td>\n",
       "      <td>-1.844338</td>\n",
       "      <td>-1.537849</td>\n",
       "      <td>NaN</td>\n",
       "      <td>19.868690</td>\n",
       "      <td>21.713480</td>\n",
       "      <td>18.284470</td>\n",
       "      <td>1.056932</td>\n",
       "      <td>330.314410</td>\n",
       "      <td>False</td>\n",
       "      <td>False</td>\n",
       "    </tr>\n",
       "    <tr>\n",
       "      <th>3219587341409787136</th>\n",
       "      <td>86.772220</td>\n",
       "      <td>0.479461</td>\n",
       "      <td>2.263752</td>\n",
       "      <td>0.082117</td>\n",
       "      <td>-0.473200</td>\n",
       "      <td>NaN</td>\n",
       "      <td>17.365803</td>\n",
       "      <td>19.425131</td>\n",
       "      <td>16.001566</td>\n",
       "      <td>0.898923</td>\n",
       "      <td>441.744595</td>\n",
       "      <td>False</td>\n",
       "      <td>False</td>\n",
       "    </tr>\n",
       "  </tbody>\n",
       "</table>\n",
       "</div>"
      ],
      "text/plain": [
       "                            ra       dec  parallax      pmra     pmdec  \\\n",
       "source_id                                                                \n",
       "3219582354952174848  86.795734  0.358961  2.157050 -1.069508 -1.252564   \n",
       "3219582458030819712  86.803817  0.368481  1.687486 -0.688316 -0.300136   \n",
       "3219586173178684544  86.774890  0.431390  1.490540 -2.397946 -2.108450   \n",
       "3219587165314966912  86.704542  0.477324  3.027419 -1.844338 -1.537849   \n",
       "3219587341409787136  86.772220  0.479461  2.263752  0.082117 -0.473200   \n",
       "\n",
       "                     radial_velocity  phot_g_mean_mag  phot_bp_mean_mag  \\\n",
       "source_id                                                                 \n",
       "3219582354952174848              NaN        18.546284         20.607382   \n",
       "3219582458030819712              NaN        20.206291         21.429123   \n",
       "3219586173178684544              NaN        19.797300         21.507265   \n",
       "3219587165314966912              NaN        19.868690         21.713480   \n",
       "3219587341409787136              NaN        17.365803         19.425131   \n",
       "\n",
       "                     phot_rp_mean_mag      ruwe       r_est  red_giant    YSO  \n",
       "source_id                                                                      \n",
       "3219582354952174848         17.099230  1.052882  463.596179      False  False  \n",
       "3219582458030819712         18.606737  1.046515  592.597372      False  False  \n",
       "3219586173178684544         18.229395  1.111996  670.897867      False  False  \n",
       "3219587165314966912         18.284470  1.056932  330.314410      False  False  \n",
       "3219587341409787136         16.001566  0.898923  441.744595      False  False  "
      ]
     },
     "execution_count": 183,
     "metadata": {},
     "output_type": "execute_result"
    }
   ],
   "source": [
    "yso.objs.head()"
   ]
  },
  {
   "cell_type": "code",
   "execution_count": 184,
   "id": "a012be2e",
   "metadata": {},
   "outputs": [],
   "source": [
    "Fang_tbl.add_index('id')"
   ]
  },
  {
   "cell_type": "code",
   "execution_count": 188,
   "id": "4e7c395c",
   "metadata": {},
   "outputs": [
    {
     "data": {
      "text/html": [
       "<div><i>Table length=133</i>\n",
       "<table id=\"table138209517487728\" class=\"table-striped table-bordered table-condensed\">\n",
       "<thead><tr><th>icrs_id</th><th>GaiaDR3</th><th>icrs_1</th><th>id</th><th>icrs_2</th><th>icrs</th></tr></thead>\n",
       "<thead><tr><th></th><th></th><th>deg,deg</th><th></th><th>deg,deg</th><th>deg,deg</th></tr></thead>\n",
       "<thead><tr><th>int64</th><th>int64</th><th>SkyCoord</th><th>int64</th><th>SkyCoord</th><th>SkyCoord</th></tr></thead>\n",
       "<tr><td>66</td><td>3219171107539228032</td><td>86.33908143899814,-0.01272256394883461</td><td>1</td><td>86.33907697286186,-0.012744644904789335</td><td>86.33907697286186,-0.012744644904789335</td></tr>\n",
       "<tr><td>15</td><td>3219113378882611968</td><td>86.34452506341641,-0.2409640749051967</td><td>2</td><td>86.34449365098057,-0.24096686685518207</td><td>86.34449365098057,-0.24096686685518207</td></tr>\n",
       "<tr><td>79</td><td>3219198870207817856</td><td>86.35900513562702,0.11052543439914347</td><td>3</td><td>86.35899363334501,0.11053313387224813</td><td>86.35899363334501,0.11053313387224813</td></tr>\n",
       "<tr><td>28</td><td>3219121045400432256</td><td>86.40944765383612,-0.13640506691363913</td><td>4</td><td>86.40941031238476,-0.13638353026780428</td><td>86.40941031238476,-0.13638353026780428</td></tr>\n",
       "<tr><td>30</td><td>3219123038265248128</td><td>86.42365752979127,-0.06734150086127584</td><td>5</td><td>86.42366030892535,-0.06732797399886692</td><td>86.42366030892535,-0.06732797399886692</td></tr>\n",
       "<tr><td>18</td><td>3219116544274710912</td><td>86.4247986253885,-0.2015090212929808</td><td>6</td><td>86.42474364897205,-0.20146686283353554</td><td>86.42474364897205,-0.20146686283353554</td></tr>\n",
       "<tr><td>65</td><td>3219170553487486080</td><td>86.42832024585366,-0.01718710281172888</td><td>7</td><td>86.42832697308101,-0.017161307098650224</td><td>86.42832697308101,-0.017161307098650224</td></tr>\n",
       "<tr><td>124</td><td>3219222028671353344</td><td>86.43489525063653,0.38284489261150934</td><td>8</td><td>86.43486861973444,0.3828386932286767</td><td>86.43486861973444,0.3828386932286767</td></tr>\n",
       "<tr><td>26</td><td>3219119907233300608</td><td>86.43568740090748,-0.1765565127022787</td><td>9</td><td>86.43566031438853,-0.1765501956206035</td><td>86.43566031438853,-0.1765501956206035</td></tr>\n",
       "<tr><td>...</td><td>...</td><td>...</td><td>...</td><td>...</td><td>...</td></tr>\n",
       "<tr><td>35</td><td>3219144306943362944</td><td>86.80771441143519,0.0047851128640339505</td><td>124</td><td>86.8077019719872,0.004755378435315432</td><td>86.8077019719872,0.004755378435315432</td></tr>\n",
       "<tr><td>34</td><td>3219132482897381504</td><td>86.81913771675296,-0.015676505337050527</td><td>125</td><td>86.81907697299596,-0.01566128766928004</td><td>86.81907697299596,-0.01566128766928004</td></tr>\n",
       "<tr><td>99</td><td>3219205913954138880</td><td>86.82151247872496,0.306812790484932</td><td>126</td><td>86.82149362373106,0.3068387124501067</td><td>86.82149362373106,0.3068387124501067</td></tr>\n",
       "<tr><td>14</td><td>3219607854173579904</td><td>86.82198452743543,0.6392554295590405</td><td>127</td><td>86.8219936073078,0.6392831569192505</td><td>86.8219936073078,0.6392831569192505</td></tr>\n",
       "<tr><td>60</td><td>3219150251177995392</td><td>86.83220718107087,0.022718198764923137</td><td>128</td><td>86.83216030443323,0.02272760186583143</td><td>86.83216030443323,0.02272760186583143</td></tr>\n",
       "<tr><td>64</td><td>3219158802457765632</td><td>86.83293102025337,0.2702872751469893</td><td>129</td><td>86.83291029220727,0.2703109352362007</td><td>86.83291029220727,0.2703109352362007</td></tr>\n",
       "<tr><td>130</td><td>3219534221253563904</td><td>86.84579365624104,0.29907502498343114</td><td>130</td><td>86.84578529079248,0.2990887136496211</td><td>86.84578529079248,0.2990887136496211</td></tr>\n",
       "<tr><td>6</td><td>3219588578360363136</td><td>86.85434139563776,0.517960693994489</td><td>131</td><td>86.85436861332411,0.5180609362954541</td><td>86.85436861332411,0.5180609362954541</td></tr>\n",
       "<tr><td>129</td><td>3219528758055874048</td><td>86.9897037305762,0.19197984335376364</td><td>132</td><td>86.98970196279016,0.19200538740300024</td><td>86.98970196279016,0.19200538740300024</td></tr>\n",
       "</table></div>"
      ],
      "text/plain": [
       "<Table length=133>\n",
       "icrs_id       GaiaDR3       ...                   icrs                 \n",
       "                            ...                 deg,deg                \n",
       " int64         int64        ...                 SkyCoord               \n",
       "------- ------------------- ... ---------------------------------------\n",
       "     66 3219171107539228032 ... 86.33907697286186,-0.012744644904789335\n",
       "     15 3219113378882611968 ...  86.34449365098057,-0.24096686685518207\n",
       "     79 3219198870207817856 ...   86.35899363334501,0.11053313387224813\n",
       "     28 3219121045400432256 ...  86.40941031238476,-0.13638353026780428\n",
       "     30 3219123038265248128 ...  86.42366030892535,-0.06732797399886692\n",
       "     18 3219116544274710912 ...  86.42474364897205,-0.20146686283353554\n",
       "     65 3219170553487486080 ... 86.42832697308101,-0.017161307098650224\n",
       "    124 3219222028671353344 ...    86.43486861973444,0.3828386932286767\n",
       "     26 3219119907233300608 ...   86.43566031438853,-0.1765501956206035\n",
       "    ...                 ... ...                                     ...\n",
       "     35 3219144306943362944 ...   86.8077019719872,0.004755378435315432\n",
       "     34 3219132482897381504 ...  86.81907697299596,-0.01566128766928004\n",
       "     99 3219205913954138880 ...    86.82149362373106,0.3068387124501067\n",
       "     14 3219607854173579904 ...     86.8219936073078,0.6392831569192505\n",
       "     60 3219150251177995392 ...   86.83216030443323,0.02272760186583143\n",
       "     64 3219158802457765632 ...    86.83291029220727,0.2703109352362007\n",
       "    130 3219534221253563904 ...    86.84578529079248,0.2990887136496211\n",
       "      6 3219588578360363136 ...    86.85436861332411,0.5180609362954541\n",
       "    129 3219528758055874048 ...   86.98970196279016,0.19200538740300024"
      ]
     },
     "execution_count": 188,
     "metadata": {},
     "output_type": "execute_result"
    }
   ],
   "source": [
    "table.join(jt, Fang_tbl,keys='id')"
   ]
  },
  {
   "cell_type": "code",
   "execution_count": 192,
   "id": "f8184dac",
   "metadata": {},
   "outputs": [],
   "source": [
    "FangTable.rename(columns={'ra': 'RA2000', 'dec':'DEC2000'}, inplace=True)\n"
   ]
  },
  {
   "cell_type": "code",
   "execution_count": 193,
   "id": "daa8bf11",
   "metadata": {},
   "outputs": [
    {
     "data": {
      "text/html": [
       "<div>\n",
       "<style scoped>\n",
       "    .dataframe tbody tr th:only-of-type {\n",
       "        vertical-align: middle;\n",
       "    }\n",
       "\n",
       "    .dataframe tbody tr th {\n",
       "        vertical-align: top;\n",
       "    }\n",
       "\n",
       "    .dataframe thead th {\n",
       "        text-align: right;\n",
       "    }\n",
       "</style>\n",
       "<table border=\"1\" class=\"dataframe\">\n",
       "  <thead>\n",
       "    <tr style=\"text-align: right;\">\n",
       "      <th></th>\n",
       "      <th>id</th>\n",
       "      <th>RA2000</th>\n",
       "      <th>DEC2000</th>\n",
       "    </tr>\n",
       "  </thead>\n",
       "  <tbody>\n",
       "    <tr>\n",
       "      <th>0</th>\n",
       "      <td>1</td>\n",
       "      <td>05 45 21.38</td>\n",
       "      <td>-00 00 45.9</td>\n",
       "    </tr>\n",
       "    <tr>\n",
       "      <th>1</th>\n",
       "      <td>2</td>\n",
       "      <td>05 45 22.68</td>\n",
       "      <td>-00 14 27.5</td>\n",
       "    </tr>\n",
       "    <tr>\n",
       "      <th>2</th>\n",
       "      <td>3</td>\n",
       "      <td>05 45 26.16</td>\n",
       "      <td>+00 06 37.9</td>\n",
       "    </tr>\n",
       "    <tr>\n",
       "      <th>3</th>\n",
       "      <td>4</td>\n",
       "      <td>05 45 38.26</td>\n",
       "      <td>-00 08 11.0</td>\n",
       "    </tr>\n",
       "    <tr>\n",
       "      <th>4</th>\n",
       "      <td>5</td>\n",
       "      <td>05 45 41.68</td>\n",
       "      <td>-00 04 02.4</td>\n",
       "    </tr>\n",
       "    <tr>\n",
       "      <th>5</th>\n",
       "      <td>6</td>\n",
       "      <td>05 45 41.94</td>\n",
       "      <td>-00 12 05.3</td>\n",
       "    </tr>\n",
       "    <tr>\n",
       "      <th>6</th>\n",
       "      <td>7</td>\n",
       "      <td>05 45 42.80</td>\n",
       "      <td>-00 01 01.8</td>\n",
       "    </tr>\n",
       "    <tr>\n",
       "      <th>7</th>\n",
       "      <td>8</td>\n",
       "      <td>05 45 44.37</td>\n",
       "      <td>+00 22 58.2</td>\n",
       "    </tr>\n",
       "    <tr>\n",
       "      <th>8</th>\n",
       "      <td>9</td>\n",
       "      <td>05 45 44.56</td>\n",
       "      <td>-00 10 35.6</td>\n",
       "    </tr>\n",
       "    <tr>\n",
       "      <th>9</th>\n",
       "      <td>10</td>\n",
       "      <td>05 45 44.64</td>\n",
       "      <td>+00 13 00.6</td>\n",
       "    </tr>\n",
       "  </tbody>\n",
       "</table>\n",
       "</div>"
      ],
      "text/plain": [
       "   id       RA2000      DEC2000\n",
       "0   1  05 45 21.38  -00 00 45.9\n",
       "1   2  05 45 22.68  -00 14 27.5\n",
       "2   3  05 45 26.16  +00 06 37.9\n",
       "3   4  05 45 38.26  -00 08 11.0\n",
       "4   5  05 45 41.68  -00 04 02.4\n",
       "5   6  05 45 41.94  -00 12 05.3\n",
       "6   7  05 45 42.80  -00 01 01.8\n",
       "7   8  05 45 44.37  +00 22 58.2\n",
       "8   9  05 45 44.56  -00 10 35.6\n",
       "9  10  05 45 44.64  +00 13 00.6"
      ]
     },
     "execution_count": 193,
     "metadata": {},
     "output_type": "execute_result"
    }
   ],
   "source": [
    "FangTable[:10]"
   ]
  },
  {
   "cell_type": "code",
   "execution_count": 198,
   "id": "a31174b8",
   "metadata": {},
   "outputs": [
    {
     "data": {
      "text/plain": [
       "<SkyCoord (ICRS): (ra, dec) in deg\n",
       "    (86.70453528, 0.47731093)>"
      ]
     },
     "execution_count": 198,
     "metadata": {},
     "output_type": "execute_result"
    }
   ],
   "source": [
    "FangCoords[91].icrs"
   ]
  },
  {
   "cell_type": "code",
   "execution_count": 221,
   "id": "1d1f050f",
   "metadata": {},
   "outputs": [],
   "source": [
    "jt['Separation'] = jt['icrs_1'].separation(jt['icrs_2']).to(u.arcsec)\n",
    "jt['RowID'] = np.arange(len(jt))"
   ]
  },
  {
   "cell_type": "code",
   "execution_count": 222,
   "id": "730c5dba",
   "metadata": {},
   "outputs": [
    {
     "data": {
      "text/html": [
       "<div><i>Table length=133</i>\n",
       "<table id=\"table138209484494192\" class=\"table-striped table-bordered table-condensed\">\n",
       "<thead><tr><th>icrs_id</th><th>GaiaDR3</th><th>icrs_1</th><th>id</th><th>icrs_2</th><th>Separation</th><th>RowID</th></tr></thead>\n",
       "<thead><tr><th></th><th></th><th>deg,deg</th><th></th><th>deg,deg</th><th>arcsec</th><th></th></tr></thead>\n",
       "<thead><tr><th>int64</th><th>int64</th><th>SkyCoord</th><th>int64</th><th>SkyCoord</th><th>float64</th><th>int64</th></tr></thead>\n",
       "<tr><td>1</td><td>3219582354952174848</td><td>86.79573420876801,0.3589606487404995</td><td>122</td><td>86.79574362114155,0.35894982228863553</td><td>0.05164480234248591</td><td>0</td></tr>\n",
       "<tr><td>2</td><td>3219582458030819712</td><td>86.80381707100946,0.3684813097310467</td><td>123</td><td>86.80382695400868,0.3684776004660141</td><td>0.038001454215225224</td><td>1</td></tr>\n",
       "<tr><td>3</td><td>3219586173178684544</td><td>86.77488968645612,0.43138994929422353</td><td>111</td><td>86.77491028421016,0.43142204348046564</td><td>0.13728609369038428</td><td>2</td></tr>\n",
       "<tr><td>4</td><td>3219587165314966912</td><td>86.70454202695448,0.47732422580081196</td><td>92</td><td>86.70453528188463,0.47731092888343385</td><td>0.05367512132386851</td><td>3</td></tr>\n",
       "<tr><td>5</td><td>3219587341409787136</td><td>86.77222022225749,0.47946062500095227</td><td>109</td><td>86.77224361516367,0.47947759890407965</td><td>0.10404580010034885</td><td>4</td></tr>\n",
       "<tr><td>6</td><td>3219588578360363136</td><td>86.85434139563776,0.517960693994489</td><td>131</td><td>86.85436861332411,0.5180609362954541</td><td>0.373936919805113</td><td>5</td></tr>\n",
       "<tr><td>7</td><td>3219589226899368064</td><td>86.77499849484617,0.5356338636816913</td><td>110</td><td>86.77499361238398,0.5356998212623663</td><td>0.23809690227553695</td><td>6</td></tr>\n",
       "<tr><td>8</td><td>3219589231195394944</td><td>86.77910273556442,0.5322061142731537</td><td>114</td><td>86.77911861256074,0.5321998214664401</td><td>0.06148065200231952</td><td>7</td></tr>\n",
       "<tr><td>9</td><td>3219589265555132416</td><td>86.79537385080985,0.5349824656589566</td><td>120</td><td>86.79536861243618,0.5350053778256502</td><td>0.08461191354987042</td><td>8</td></tr>\n",
       "<tr><td>...</td><td>...</td><td>...</td><td>...</td><td>...</td><td>...</td><td>...</td></tr>\n",
       "<tr><td>122</td><td>3219220723001387520</td><td>86.48911966975614,0.3394864457367627</td><td>22</td><td>86.48907695526597,0.339505362605093</td><td>0.16817478198348423</td><td>124</td></tr>\n",
       "<tr><td>123</td><td>3219221788153183616</td><td>86.47333336160081,0.37836556365867446</td><td>16</td><td>86.4733269533153,0.37836647292939257</td><td>0.023300401900979883</td><td>125</td></tr>\n",
       "<tr><td>124</td><td>3219222028671353344</td><td>86.43489525063653,0.38284489261150934</td><td>8</td><td>86.43486861973444,0.3828386932286767</td><td>0.09843256050782734</td><td>126</td></tr>\n",
       "<tr><td>125</td><td>3219223467484959616</td><td>86.62930757990823,0.4533322453477831</td><td>62</td><td>86.62928528301632,0.45336648070262503</td><td>0.14708014830347826</td><td>127</td></tr>\n",
       "<tr><td>126</td><td>3219228106049667456</td><td>86.54946910562839,0.5405090514713597</td><td>34</td><td>86.54941027861196,0.5405331433931503</td><td>0.22884026809080812</td><td>128</td></tr>\n",
       "<tr><td>127</td><td>3219228866259284736</td><td>86.48418617572887,0.5528379333104684</td><td>19</td><td>86.48416027793822,0.5528664734706291</td><td>0.1387366325735604</td><td>129</td></tr>\n",
       "<tr><td>128</td><td>3219229072418097024</td><td>86.4731470250297,0.5524347204920338</td><td>15</td><td>86.4730769446157,0.5524498062502337</td><td>0.25805717957227453</td><td>130</td></tr>\n",
       "<tr><td>129</td><td>3219528758055874048</td><td>86.9897037305762,0.19197984335376364</td><td>132</td><td>86.98970196279016,0.19200538740300024</td><td>0.09217852434048572</td><td>131</td></tr>\n",
       "<tr><td>130</td><td>3219534221253563904</td><td>86.84579365624104,0.29907502498343114</td><td>130</td><td>86.84578529079248,0.2990887136496211</td><td>0.05775261836175336</td><td>132</td></tr>\n",
       "</table></div>"
      ],
      "text/plain": [
       "<Table length=133>\n",
       "icrs_id       GaiaDR3       ...      Separation      RowID\n",
       "                            ...        arcsec             \n",
       " int64         int64        ...       float64        int64\n",
       "------- ------------------- ... -------------------- -----\n",
       "      1 3219582354952174848 ...  0.05164480234248591     0\n",
       "      2 3219582458030819712 ... 0.038001454215225224     1\n",
       "      3 3219586173178684544 ...  0.13728609369038428     2\n",
       "      4 3219587165314966912 ...  0.05367512132386851     3\n",
       "      5 3219587341409787136 ...  0.10404580010034885     4\n",
       "      6 3219588578360363136 ...    0.373936919805113     5\n",
       "      7 3219589226899368064 ...  0.23809690227553695     6\n",
       "      8 3219589231195394944 ...  0.06148065200231952     7\n",
       "      9 3219589265555132416 ...  0.08461191354987042     8\n",
       "    ...                 ... ...                  ...   ...\n",
       "    122 3219220723001387520 ...  0.16817478198348423   124\n",
       "    123 3219221788153183616 ... 0.023300401900979883   125\n",
       "    124 3219222028671353344 ...  0.09843256050782734   126\n",
       "    125 3219223467484959616 ...  0.14708014830347826   127\n",
       "    126 3219228106049667456 ...  0.22884026809080812   128\n",
       "    127 3219228866259284736 ...   0.1387366325735604   129\n",
       "    128 3219229072418097024 ...  0.25805717957227453   130\n",
       "    129 3219528758055874048 ...  0.09217852434048572   131\n",
       "    130 3219534221253563904 ...  0.05775261836175336   132"
      ]
     },
     "execution_count": 222,
     "metadata": {},
     "output_type": "execute_result"
    }
   ],
   "source": [
    "jt"
   ]
  },
  {
   "cell_type": "code",
   "execution_count": 223,
   "id": "7ace661e",
   "metadata": {},
   "outputs": [],
   "source": [
    "ids, counts = np.unique(jt['id'], return_counts=True)"
   ]
  },
  {
   "cell_type": "code",
   "execution_count": 224,
   "id": "a1d1dc84",
   "metadata": {},
   "outputs": [
    {
     "data": {
      "text/html": [
       "&lt;Column name=&apos;id&apos; dtype=&apos;int64&apos; length=3&gt;\n",
       "<table>\n",
       "<tr><td>30</td></tr>\n",
       "<tr><td>66</td></tr>\n",
       "<tr><td>79</td></tr>\n",
       "</table>"
      ],
      "text/plain": [
       "<Column name='id' dtype='int64' length=3>\n",
       "30\n",
       "66\n",
       "79"
      ]
     },
     "execution_count": 224,
     "metadata": {},
     "output_type": "execute_result"
    }
   ],
   "source": [
    "ids[counts != 1]"
   ]
  },
  {
   "cell_type": "code",
   "execution_count": 226,
   "id": "5ebaec05",
   "metadata": {},
   "outputs": [
    {
     "data": {
      "text/html": [
       "<div><i>Table length=2</i>\n",
       "<table id=\"table138209510783440\" class=\"table-striped table-bordered table-condensed\">\n",
       "<thead><tr><th>icrs_id</th><th>GaiaDR3</th><th>icrs_1</th><th>id</th><th>icrs_2</th><th>Separation</th><th>RowID</th></tr></thead>\n",
       "<thead><tr><th></th><th></th><th>deg,deg</th><th></th><th>deg,deg</th><th>arcsec</th><th></th></tr></thead>\n",
       "<thead><tr><th>int64</th><th>int64</th><th>SkyCoord</th><th>int64</th><th>SkyCoord</th><th>float64</th><th>int64</th></tr></thead>\n",
       "<tr><td>81</td><td>3219201477252759680</td><td>86.5387466548671,0.22564581798989772</td><td>30</td><td>86.5386186276335,0.22572758729959097</td><td>0.5468794378604913</td><td>82</td></tr>\n",
       "<tr><td>81</td><td>3219201481548029696</td><td>86.53856583526905,0.2257463168794018</td><td>30</td><td>86.5386186276335,0.22572758729959097</td><td>0.20165745176886998</td><td>83</td></tr>\n",
       "</table></div>"
      ],
      "text/plain": [
       "<Table length=2>\n",
       "icrs_id       GaiaDR3       ...      Separation     RowID\n",
       "                            ...        arcsec            \n",
       " int64         int64        ...       float64       int64\n",
       "------- ------------------- ... ------------------- -----\n",
       "     81 3219201477252759680 ...  0.5468794378604913    82\n",
       "     81 3219201481548029696 ... 0.20165745176886998    83"
      ]
     },
     "execution_count": 226,
     "metadata": {},
     "output_type": "execute_result"
    }
   ],
   "source": [
    "jt[jt['id']==30]"
   ]
  },
  {
   "cell_type": "code",
   "execution_count": 227,
   "id": "1003a3e0",
   "metadata": {},
   "outputs": [
    {
     "data": {
      "text/html": [
       "<div><i>Table length=2</i>\n",
       "<table id=\"table138209510782624\" class=\"table-striped table-bordered table-condensed\">\n",
       "<thead><tr><th>icrs_id</th><th>GaiaDR3</th><th>icrs_1</th><th>id</th><th>icrs_2</th><th>Separation</th><th>RowID</th></tr></thead>\n",
       "<thead><tr><th></th><th></th><th>deg,deg</th><th></th><th>deg,deg</th><th>arcsec</th><th></th></tr></thead>\n",
       "<thead><tr><th>int64</th><th>int64</th><th>SkyCoord</th><th>int64</th><th>SkyCoord</th><th>float64</th><th>int64</th></tr></thead>\n",
       "<tr><td>59</td><td>3219149907579678848</td><td>86.64411907821736,0.11222803478950338</td><td>66</td><td>86.64391029998583,0.1120887036517435</td><td>0.903602501965019</td><td>59</td></tr>\n",
       "<tr><td>59</td><td>3219149907580618368</td><td>86.64391916663364,0.11207085642185743</td><td>66</td><td>86.64391029998583,0.1120887036517435</td><td>0.07174220663864388</td><td>60</td></tr>\n",
       "</table></div>"
      ],
      "text/plain": [
       "<Table length=2>\n",
       "icrs_id       GaiaDR3       ...      Separation     RowID\n",
       "                            ...        arcsec            \n",
       " int64         int64        ...       float64       int64\n",
       "------- ------------------- ... ------------------- -----\n",
       "     59 3219149907579678848 ...   0.903602501965019    59\n",
       "     59 3219149907580618368 ... 0.07174220663864388    60"
      ]
     },
     "execution_count": 227,
     "metadata": {},
     "output_type": "execute_result"
    }
   ],
   "source": [
    "jt[jt['id']==66]"
   ]
  },
  {
   "cell_type": "code",
   "execution_count": 228,
   "id": "8ce309b4",
   "metadata": {},
   "outputs": [
    {
     "data": {
      "text/html": [
       "<div><i>Table length=2</i>\n",
       "<table id=\"table138209510783392\" class=\"table-striped table-bordered table-condensed\">\n",
       "<thead><tr><th>icrs_id</th><th>GaiaDR3</th><th>icrs_1</th><th>id</th><th>icrs_2</th><th>Separation</th><th>RowID</th></tr></thead>\n",
       "<thead><tr><th></th><th></th><th>deg,deg</th><th></th><th>deg,deg</th><th>arcsec</th><th></th></tr></thead>\n",
       "<thead><tr><th>int64</th><th>int64</th><th>SkyCoord</th><th>int64</th><th>SkyCoord</th><th>float64</th><th>int64</th></tr></thead>\n",
       "<tr><td>10</td><td>3219598748842930560</td><td>86.66989677033497,0.45636243375761765</td><td>79</td><td>86.66986861623631,0.4562553716077365</td><td>0.39852677935890346</td><td>9</td></tr>\n",
       "<tr><td>10</td><td>3219598744546880384</td><td>86.66990111104006,0.45621480354357213</td><td>79</td><td>86.66986861623631,0.4562553716077365</td><td>0.18711736005728533</td><td>10</td></tr>\n",
       "</table></div>"
      ],
      "text/plain": [
       "<Table length=2>\n",
       "icrs_id       GaiaDR3       ...      Separation     RowID\n",
       "                            ...        arcsec            \n",
       " int64         int64        ...       float64       int64\n",
       "------- ------------------- ... ------------------- -----\n",
       "     10 3219598748842930560 ... 0.39852677935890346     9\n",
       "     10 3219598744546880384 ... 0.18711736005728533    10"
      ]
     },
     "execution_count": 228,
     "metadata": {},
     "output_type": "execute_result"
    }
   ],
   "source": [
    "jt[jt['id']==79]"
   ]
  },
  {
   "cell_type": "code",
   "execution_count": 229,
   "id": "bbabac4b",
   "metadata": {},
   "outputs": [],
   "source": [
    "jt.remove_rows([82, 59,9])"
   ]
  },
  {
   "cell_type": "code",
   "execution_count": 230,
   "id": "c75dcc39",
   "metadata": {},
   "outputs": [],
   "source": [
    "FangCat = Table.from_pandas(FangTable)\n",
    "FangCat.add_index('id')"
   ]
  },
  {
   "cell_type": "code",
   "execution_count": 238,
   "id": "650449bb",
   "metadata": {},
   "outputs": [
    {
     "data": {
      "text/html": [
       "<div><i>Table length=130</i>\n",
       "<table id=\"table138209481414384\" class=\"table-striped table-bordered table-condensed\">\n",
       "<thead><tr><th>id</th><th>RA2000</th><th>DEC2000</th><th>GaiaDR3</th><th>Separation</th></tr></thead>\n",
       "<thead><tr><th></th><th></th><th></th><th></th><th>arcsec</th></tr></thead>\n",
       "<thead><tr><th>int64</th><th>str11</th><th>str11</th><th>int64</th><th>float64</th></tr></thead>\n",
       "<tr><td>1</td><td>05 45 21.38</td><td>-00 00 45.9</td><td>3219171107539228032</td><td>0.08110113590731761</td></tr>\n",
       "<tr><td>2</td><td>05 45 22.68</td><td>-00 14 27.5</td><td>3219113378882611968</td><td>0.11352956354980283</td></tr>\n",
       "<tr><td>3</td><td>05 45 26.16</td><td>+00 06 37.9</td><td>3219198870207817856</td><td>0.0498289790200425</td></tr>\n",
       "<tr><td>4</td><td>05 45 38.26</td><td>-00 08 11.0</td><td>3219121045400432256</td><td>0.1551847720887993</td></tr>\n",
       "<tr><td>5</td><td>05 45 41.68</td><td>-00 04 02.4</td><td>3219123038265248128</td><td>0.04971384702392088</td></tr>\n",
       "<tr><td>6</td><td>05 45 41.94</td><td>-00 12 05.3</td><td>3219116544274710912</td><td>0.2494076438481437</td></tr>\n",
       "<tr><td>7</td><td>05 45 42.80</td><td>-00 01 01.8</td><td>3219170553487486080</td><td>0.09597051727004112</td></tr>\n",
       "<tr><td>8</td><td>05 45 44.37</td><td>+00 22 58.2</td><td>3219222028671353344</td><td>0.09843256050782734</td></tr>\n",
       "<tr><td>9</td><td>05 45 44.56</td><td>-00 10 35.6</td><td>3219119907233300608</td><td>0.10012777688134832</td></tr>\n",
       "<tr><td>...</td><td>...</td><td>...</td><td>...</td><td>...</td></tr>\n",
       "<tr><td>124</td><td>05 47 13.85</td><td>+00 00 17.1</td><td>3219144306943362944</td><td>0.11603376432859532</td></tr>\n",
       "<tr><td>125</td><td>05 47 16.58</td><td>-00 00 56.4</td><td>3219132482897381504</td><td>0.22543535598720793</td></tr>\n",
       "<tr><td>126</td><td>05 47 17.16</td><td>+00 18 24.6</td><td>3219205913954138880</td><td>0.11539383635150306</td></tr>\n",
       "<tr><td>127</td><td>05 47 17.28</td><td>+00 38 21.4</td><td>3219607854173579904</td><td>0.10503368315439954</td></tr>\n",
       "<tr><td>128</td><td>05 47 19.72</td><td>+00 01 21.8</td><td>3219150251177995392</td><td>0.17211754426177536</td></tr>\n",
       "<tr><td>129</td><td>05 47 19.90</td><td>+00 16 13.1</td><td>3219158802457765632</td><td>0.11323943799649958</td></tr>\n",
       "<tr><td>130</td><td>05 47 22.99</td><td>+00 17 56.7</td><td>3219534221253563904</td><td>0.05775261836175336</td></tr>\n",
       "<tr><td>131</td><td>05 47 25.05</td><td>+00 31 05.0</td><td>3219588578360363136</td><td>0.373936919805113</td></tr>\n",
       "<tr><td>132</td><td>05 47 57.53</td><td>+00 11 31.2</td><td>3219528758055874048</td><td>0.09217852434048572</td></tr>\n",
       "</table></div>"
      ],
      "text/plain": [
       "<Table length=130>\n",
       "  id     RA2000     DEC2000         GaiaDR3            Separation    \n",
       "                                                         arcsec      \n",
       "int64    str11       str11           int64              float64      \n",
       "----- ----------- ----------- ------------------- -------------------\n",
       "    1 05 45 21.38 -00 00 45.9 3219171107539228032 0.08110113590731761\n",
       "    2 05 45 22.68 -00 14 27.5 3219113378882611968 0.11352956354980283\n",
       "    3 05 45 26.16 +00 06 37.9 3219198870207817856  0.0498289790200425\n",
       "    4 05 45 38.26 -00 08 11.0 3219121045400432256  0.1551847720887993\n",
       "    5 05 45 41.68 -00 04 02.4 3219123038265248128 0.04971384702392088\n",
       "    6 05 45 41.94 -00 12 05.3 3219116544274710912  0.2494076438481437\n",
       "    7 05 45 42.80 -00 01 01.8 3219170553487486080 0.09597051727004112\n",
       "    8 05 45 44.37 +00 22 58.2 3219222028671353344 0.09843256050782734\n",
       "    9 05 45 44.56 -00 10 35.6 3219119907233300608 0.10012777688134832\n",
       "  ...         ...         ...                 ...                 ...\n",
       "  124 05 47 13.85 +00 00 17.1 3219144306943362944 0.11603376432859532\n",
       "  125 05 47 16.58 -00 00 56.4 3219132482897381504 0.22543535598720793\n",
       "  126 05 47 17.16 +00 18 24.6 3219205913954138880 0.11539383635150306\n",
       "  127 05 47 17.28 +00 38 21.4 3219607854173579904 0.10503368315439954\n",
       "  128 05 47 19.72 +00 01 21.8 3219150251177995392 0.17211754426177536\n",
       "  129 05 47 19.90 +00 16 13.1 3219158802457765632 0.11323943799649958\n",
       "  130 05 47 22.99 +00 17 56.7 3219534221253563904 0.05775261836175336\n",
       "  131 05 47 25.05 +00 31 05.0 3219588578360363136   0.373936919805113\n",
       "  132 05 47 57.53 +00 11 31.2 3219528758055874048 0.09217852434048572"
      ]
     },
     "execution_count": 238,
     "metadata": {},
     "output_type": "execute_result"
    }
   ],
   "source": [
    "FangCatalog = table.join(FangCat, jt[['id','GaiaDR3','Separation']], keys='id')\n",
    "FangCatalog"
   ]
  },
  {
   "cell_type": "code",
   "execution_count": 234,
   "id": "9d36c872",
   "metadata": {},
   "outputs": [
    {
     "data": {
      "text/plain": [
       "<SkyCoord (ICRS): (ra, dec) in deg\n",
       "    (86.84578529, 0.29908871)>"
      ]
     },
     "execution_count": 234,
     "metadata": {},
     "output_type": "execute_result"
    }
   ],
   "source": [
    "# test:\n",
    "c = SkyCoord(ra = '05 47 22.99', dec='+00 17 56.7', unit=(u.hourangle, u.deg),frame='fk5')\n",
    "c.icrs"
   ]
  },
  {
   "cell_type": "code",
   "execution_count": 236,
   "id": "2fd847b8",
   "metadata": {},
   "outputs": [
    {
     "data": {
      "text/plain": [
       "<SkyCoord (ICRS): (ra, dec) in deg\n",
       "    (86.84579366, 0.29907502)>"
      ]
     },
     "execution_count": 236,
     "metadata": {},
     "output_type": "execute_result"
    }
   ],
   "source": [
    "g = SkyCoord(ra=hh24Eb_cone.objs.loc[3219534221253563904].ra, dec=hh24Eb_cone.objs.loc[3219534221253563904].dec, unit=u.deg)\n",
    "g"
   ]
  },
  {
   "cell_type": "code",
   "execution_count": 237,
   "id": "cb6bc9de",
   "metadata": {},
   "outputs": [
    {
     "data": {
      "text/latex": [
       "$0^\\circ00{}^\\prime00.05775262{}^{\\prime\\prime}$"
      ],
      "text/plain": [
       "<Angle 1.6042394e-05 deg>"
      ]
     },
     "execution_count": 237,
     "metadata": {},
     "output_type": "execute_result"
    }
   ],
   "source": [
    "g.separation(c.icrs)"
   ]
  },
  {
   "cell_type": "code",
   "execution_count": 240,
   "id": "e02f1713",
   "metadata": {},
   "outputs": [],
   "source": [
    "FangCatalog.write('/home/kevin/Documents/HH24/Fang2009/fangcatalog.xml', table_id= 'fang_table_6',format = 'votable', overwrite=True)"
   ]
  }
 ],
 "metadata": {
  "kernelspec": {
   "display_name": "Subaru",
   "language": "python",
   "name": "python3"
  },
  "language_info": {
   "codemirror_mode": {
    "name": "ipython",
    "version": 3
   },
   "file_extension": ".py",
   "mimetype": "text/x-python",
   "name": "python",
   "nbconvert_exporter": "python",
   "pygments_lexer": "ipython3",
   "version": "3.10.16"
  }
 },
 "nbformat": 4,
 "nbformat_minor": 5
}
