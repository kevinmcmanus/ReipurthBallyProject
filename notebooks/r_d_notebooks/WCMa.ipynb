{
 "cells": [
  {
   "cell_type": "code",
   "execution_count": 2,
   "metadata": {},
   "outputs": [],
   "source": [
    "from astropy.io import fits"
   ]
  },
  {
   "cell_type": "code",
   "execution_count": 3,
   "metadata": {},
   "outputs": [],
   "source": [
    "hdul = fits.open(r'..\\data\\LWP09747LL.FITS')"
   ]
  },
  {
   "cell_type": "code",
   "execution_count": 7,
   "metadata": {},
   "outputs": [],
   "source": [
    "hdu=hdul[0]"
   ]
  },
  {
   "cell_type": "code",
   "execution_count": 12,
   "metadata": {},
   "outputs": [
    {
     "data": {
      "text/plain": [
       "SIMPLE  =                    T / Standard FITS Format                           \n",
       "BITPIX  =                    8 /8 bits ASCII                                    \n",
       "NAXIS   =                    0 /No image data                                   \n",
       "EXTEND  =                    T /Extensions are present                          \n",
       "TELESCOP= 'IUE     '           / International Ultraviolet Explorer             \n",
       "DATE    = '22/03/96'           /Date file is written (*new FITS standard*)      \n",
       "ORIGIN  = 'VILSPA  '           / Institution generating the file                \n",
       "CAMERA  = 'LWP     '           / Camera                                         \n",
       "IMAGE   =                 9747 / Sequential image number                        \n",
       "DISPERSN= 'LOW     '           / Dispersion processing type                     \n",
       "APERTURE= 'LARGE   '           / Aperture                                       \n",
       "ABNNOSTD= 'NO      '           / Non-standard image acquisition                 \n",
       "ABNBADSC= 'NO      '           / LWP bad scans                                  \n",
       "ABNHTRWU= 'NO      '           / LWR heater warmup                              \n",
       "ABNREAD = 'NO      '           / Read at other than 20 KB                       \n",
       "ABNUVC  = 'NO      '           / Non-standard UVC voltage                       \n",
       "ABNHISTR= 'NO      '           / History replay                                 \n",
       "ABNOTHER= 'NO      '           / Other abnormality                              \n",
       "POSANGLE=               229.41 / Pos angle of the large aperture (deg)          \n",
       "ABNMINFR= 'NO      '           / Bad/missing minor frames                       \n",
       "CC-PERCN=                 98.0 / Cross-correlation % successful                 \n",
       "ITF     = 'LWP92R94A'          / ITF identification                             \n",
       "COMMENT BY RA:                                                                  \n",
       "COMMENT BY GO:                                                                  \n",
       "DATEOBS = '22/12/86'           / Observing date                                 \n",
       "TIMEOBS = '10:09:26'           / Observing time                                 \n",
       "EXPTRMD = 'NO-TRAIL'           / Trail mode                                     \n",
       "EXPMULT = 'NO      '           / Multiple exposure mode                         \n",
       "EXPSEGM = 'NO      '           / Segmented exposure code                        \n",
       "EXPTIME =            03599.851 / Integration time in seconds                    \n",
       "RA      =             105.3440 / Homogeneous R.A. in degrees                    \n",
       "DEC     =             -11.4766 / Homogeneous Dec. in degrees                    \n",
       "TARGET  = 'ZCMA    '           / Object as given by Guest Observer              \n",
       "TARGRA  =             105.3442 / R.A. in degrees (given by GO)                  \n",
       "TARGDEC =             -11.4767 / Dec. in degrees (given by GO)                  \n",
       "OBJECT  = 'HD  53179'                   / Homogeneous Object ID                 \n",
       "HJD-MID =        2446786.94853 / JD middle of obs. with Heliocentric corr.      \n",
       "COMMENT IUE-VICAR HEADER START                                                  \n",
       "        Z CMA,LWP9747,LRES,LAP,60M0S,10:09:26                                   \n",
       "        861222,SPREP,MAXG,LOREAD,IA173,NASTARI-GIOVANNELLI                      \n",
       "        26,872,FO,12.2                                                          \n",
       "                                                                                \n",
       "                                                                                \n",
       "                                                                                \n",
       "                                                                                \n",
       "COMMENT IUE-VICAR HEADER END                                                    \n",
       "HISTORY START RAW_SCREEN                            22-MAR-1996 03:38:42        \n",
       "HISTORY   16 BRIGHT SPOTS DETECTED                                              \n",
       "HISTORY    0 MISSING MINOR FRAMES DETECTED                                      \n",
       "HISTORY LARGE APERTURE SPECTRUM WILL BE EXTRACTED AS                            \n",
       "HISTORY           EXTENDED SOURCE                                               \n",
       "HISTORY LARGE APERTURE CONTINUUM DN LEVEL = 255                                 \n",
       "HISTORY SMALL APERTURE CONTINUUM DN LEVEL =   0                                 \n",
       "HISTORY BACKGROUND DN LEVEL =  39                                               \n",
       "HISTORY END   RAW_SCREEN                            22-MAR-1996 03:39:01        \n",
       "HISTORY START EXTRACTION                            16-JAN-1998 08:18:33        \n",
       "HISTORY INES NOISE MODEL USED                                                   \n",
       "HISTORY CROSS-DISPERSION PROFILES BINNED IN  45 BLOCKS                          \n",
       "HISTORY EMPIRICAL EXTRACTION                                                    \n",
       "HISTORY CENTROID FOUND AT LINE  52.1                                            \n",
       "HISTORY REJECT PIXELS DEVIATING BY  6.0 SIGMA                                   \n",
       "HISTORY OUT OF    14720 PIXELS        3 REJECTED AS COSMIC RAY HITS             \n",
       "HISTORY END EXTRACTION                              16-JAN-1998 08:18:43        "
      ]
     },
     "execution_count": 12,
     "metadata": {},
     "output_type": "execute_result"
    }
   ],
   "source": [
    "hdu.header"
   ]
  },
  {
   "cell_type": "code",
   "execution_count": 15,
   "metadata": {},
   "outputs": [
    {
     "data": {
      "text/plain": [
       "True"
      ]
     },
     "execution_count": 15,
     "metadata": {},
     "output_type": "execute_result"
    }
   ],
   "source": [
    "hdu.is_image\n"
   ]
  },
  {
   "cell_type": "code",
   "execution_count": 17,
   "metadata": {},
   "outputs": [
    {
     "data": {
      "text/plain": [
       "XTENSION= 'BINTABLE'           /Written by IDL:  16-Jan-1998 08:18:43.00        \n",
       "BITPIX  =                    8 /                                                \n",
       "NAXIS   =                    2 /Binary table                                    \n",
       "NAXIS1  =                   14 /Number of bytes per row                         \n",
       "NAXIS2  =                  562 /Number of rows                                  \n",
       "PCOUNT  =                    0 /Random parameter count                          \n",
       "GCOUNT  =                    1 /Group count                                     \n",
       "TFIELDS =                    4 /Number of columns                               \n",
       "TFORM1  = '1E      '           /Real*4 (floating point)                         \n",
       "TTYPE1  = 'WAVELENGTH'         /Label for column 1                              \n",
       "TUNIT1  = 'ANGSTROM'           /Units of column 1                               \n",
       "TDISP1  = 'F10.3   '           /Display format for column 1                     \n",
       "TFORM2  = '1E      '           /Real*4 (floating point)                         \n",
       "TTYPE2  = 'FLUX    '           /Label for column 2                              \n",
       "TUNIT2  = 'ERG/CM2/S/A'        /Units of column 2                               \n",
       "TDISP2  = 'E15.7   '           /Display format for column 2                     \n",
       "TFORM3  = '1E      '           /Real*4 (floating point)                         \n",
       "TTYPE3  = 'SIGMA   '           /Label for column 3                              \n",
       "TUNIT3  = 'ERG/CM2/S/A'        /Units of column 3                               \n",
       "TDISP3  = 'E15.7   '           /Display format for column 3                     \n",
       "TFORM4  = '1I      '           /Integer*2 (short integer)                       \n",
       "TTYPE4  = 'QUALITY '           /Label for column 4                              \n",
       "TUNIT4  = '        '           /Units of column 4                               \n",
       "TDISP4  = 'I7      '           /Display format for column 4                     \n",
       "FILENAME= 'LWP09747LL.FITS'    /Filename(camera)(number)(disp)(aper).FITS       "
      ]
     },
     "execution_count": 17,
     "metadata": {},
     "output_type": "execute_result"
    }
   ],
   "source": [
    "hdul[1].header\n"
   ]
  },
  {
   "cell_type": "code",
   "execution_count": 18,
   "metadata": {},
   "outputs": [],
   "source": [
    "import matplotlib.pyplot as plt"
   ]
  },
  {
   "cell_type": "code",
   "execution_count": 19,
   "metadata": {},
   "outputs": [
    {
     "data": {
      "text/plain": [
       "ColDefs(\n",
       "    name = 'WAVELENGTH'; format = '1E'; unit = 'ANGSTROM'; disp = 'F10.3'\n",
       "    name = 'FLUX'; format = '1E'; unit = 'ERG/CM2/S/A'; disp = 'E15.7'\n",
       "    name = 'SIGMA'; format = '1E'; unit = 'ERG/CM2/S/A'; disp = 'E15.7'\n",
       "    name = 'QUALITY'; format = '1I'; disp = 'I7'\n",
       ")"
      ]
     },
     "execution_count": 19,
     "metadata": {},
     "output_type": "execute_result"
    }
   ],
   "source": [
    "cols = hdul[1].columns\n",
    "cols"
   ]
  },
  {
   "cell_type": "code",
   "execution_count": 21,
   "metadata": {},
   "outputs": [],
   "source": [
    "from astropy.table import Table\n",
    "tbl = Table.read(hdul, hdu=1)"
   ]
  },
  {
   "cell_type": "code",
   "execution_count": 24,
   "metadata": {},
   "outputs": [
    {
     "data": {
      "text/html": [
       "<div><i>Table length=562</i>\n",
       "<table id=\"table2871751314832\" class=\"table-striped table-bordered table-condensed\">\n",
       "<thead><tr><th>WAVELENGTH</th><th>FLUX</th><th>SIGMA</th><th>QUALITY</th></tr></thead>\n",
       "<thead><tr><th>ANGSTROM</th><th>ERG/CM2/S/A</th><th>ERG/CM2/S/A</th><th></th></tr></thead>\n",
       "<thead><tr><th>float32</th><th>float32</th><th>float32</th><th>int16</th></tr></thead>\n",
       "<tr><td>1851.433</td><td>1.1382718e-14</td><td>1.1425011e-13</td><td>0</td></tr>\n",
       "<tr><td>1854.102</td><td>-2.3603600e-14</td><td>1.0481940e-13</td><td>0</td></tr>\n",
       "<tr><td>1856.772</td><td>3.5701626e-14</td><td>9.8138376e-14</td><td>0</td></tr>\n",
       "<tr><td>1859.441</td><td>1.1856321e-14</td><td>8.8378774e-14</td><td>-128</td></tr>\n",
       "<tr><td>1862.110</td><td>7.2743955e-14</td><td>1.1618064e-13</td><td>-128</td></tr>\n",
       "<tr><td>1864.780</td><td>5.6104854e-14</td><td>9.3408808e-14</td><td>-128</td></tr>\n",
       "<tr><td>1867.449</td><td>1.3435572e-14</td><td>6.3426071e-14</td><td>-128</td></tr>\n",
       "<tr><td>1870.118</td><td>1.4298744e-13</td><td>7.1315722e-14</td><td>0</td></tr>\n",
       "<tr><td>1872.787</td><td>-2.8231576e-15</td><td>6.7084745e-14</td><td>0</td></tr>\n",
       "<tr><td>...</td><td>...</td><td>...</td><td>...</td></tr>\n",
       "<tr><td>3324.887</td><td>3.6686076e-13</td><td>1.5356033e-14</td><td>0</td></tr>\n",
       "<tr><td>3327.556</td><td>3.6144682e-13</td><td>1.5461707e-14</td><td>0</td></tr>\n",
       "<tr><td>3330.225</td><td>3.6001128e-13</td><td>1.5817173e-14</td><td>0</td></tr>\n",
       "<tr><td>3332.895</td><td>3.6681435e-13</td><td>1.6041357e-14</td><td>0</td></tr>\n",
       "<tr><td>3335.564</td><td>3.5647093e-13</td><td>1.5722678e-14</td><td>0</td></tr>\n",
       "<tr><td>3338.233</td><td>3.4632963e-13</td><td>1.5871021e-14</td><td>0</td></tr>\n",
       "<tr><td>3340.902</td><td>3.5183401e-13</td><td>1.6486797e-14</td><td>0</td></tr>\n",
       "<tr><td>3343.572</td><td>3.6422384e-13</td><td>1.7443963e-14</td><td>0</td></tr>\n",
       "<tr><td>3346.241</td><td>3.9276495e-13</td><td>1.9031331e-14</td><td>0</td></tr>\n",
       "<tr><td>3348.910</td><td>2.1131001e-13</td><td>1.4249540e-14</td><td>0</td></tr>\n",
       "</table></div>"
      ],
      "text/plain": [
       "<Table length=562>\n",
       "WAVELENGTH       FLUX           SIGMA      QUALITY\n",
       " ANGSTROM    ERG/CM2/S/A     ERG/CM2/S/A          \n",
       " float32       float32         float32      int16 \n",
       "---------- --------------- --------------- -------\n",
       "  1851.433   1.1382718e-14   1.1425011e-13       0\n",
       "  1854.102  -2.3603600e-14   1.0481940e-13       0\n",
       "  1856.772   3.5701626e-14   9.8138376e-14       0\n",
       "  1859.441   1.1856321e-14   8.8378774e-14    -128\n",
       "  1862.110   7.2743955e-14   1.1618064e-13    -128\n",
       "  1864.780   5.6104854e-14   9.3408808e-14    -128\n",
       "  1867.449   1.3435572e-14   6.3426071e-14    -128\n",
       "  1870.118   1.4298744e-13   7.1315722e-14       0\n",
       "  1872.787  -2.8231576e-15   6.7084745e-14       0\n",
       "       ...             ...             ...     ...\n",
       "  3324.887   3.6686076e-13   1.5356033e-14       0\n",
       "  3327.556   3.6144682e-13   1.5461707e-14       0\n",
       "  3330.225   3.6001128e-13   1.5817173e-14       0\n",
       "  3332.895   3.6681435e-13   1.6041357e-14       0\n",
       "  3335.564   3.5647093e-13   1.5722678e-14       0\n",
       "  3338.233   3.4632963e-13   1.5871021e-14       0\n",
       "  3340.902   3.5183401e-13   1.6486797e-14       0\n",
       "  3343.572   3.6422384e-13   1.7443963e-14       0\n",
       "  3346.241   3.9276495e-13   1.9031331e-14       0\n",
       "  3348.910   2.1131001e-13   1.4249540e-14       0"
      ]
     },
     "execution_count": 24,
     "metadata": {},
     "output_type": "execute_result"
    }
   ],
   "source": [
    "tbl"
   ]
  },
  {
   "cell_type": "code",
   "execution_count": 23,
   "metadata": {},
   "outputs": [
    {
     "data": {
      "text/plain": [
       "[<matplotlib.lines.Line2D at 0x29ca3984c70>]"
      ]
     },
     "execution_count": 23,
     "metadata": {},
     "output_type": "execute_result"
    },
    {
     "data": {
      "image/png": "[encoded data removed]",
      "text/plain": [
       "<Figure size 432x288 with 1 Axes>"
      ]
     },
     "metadata": {
      "needs_background": "light"
     },
     "output_type": "display_data"
    }
   ],
   "source": [
    "plt.plot(tbl['WAVELENGTH'], tbl['FLUX'])"
   ]
  }
 ],
 "metadata": {
  "kernelspec": {
   "display_name": "astro",
   "language": "python",
   "name": "python3"
  },
  "language_info": {
   "codemirror_mode": {
    "name": "ipython",
    "version": 3
   },
   "file_extension": ".py",
   "mimetype": "text/x-python",
   "name": "python",
   "nbconvert_exporter": "python",
   "pygments_lexer": "ipython3",
   "version": "3.9.7"
  },
  "orig_nbformat": 4
 },
 "nbformat": 4,
 "nbformat_minor": 2
}
