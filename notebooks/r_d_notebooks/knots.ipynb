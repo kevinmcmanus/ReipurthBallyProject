{
 "cells": [
  {
   "cell_type": "code",
   "execution_count": 17,
   "id": "5cdc706a",
   "metadata": {},
   "outputs": [],
   "source": [
    "import matplotlib.pyplot as plt\n",
    "import os, sys\n",
    "\n",
    "from astropy.io import fits\n",
    "from astropy.table import Table\n",
    "\n",
    "import numpy as np\n",
    "\n",
    "import matplotlib.colors as colors\n",
    "from astropy.visualization import imshow_norm, MinMaxInterval, LogStretch,PercentileInterval, ImageNormalize\n",
    "\n",
    "import sep\n",
    "sys.path.append(os.path.expanduser('~/repos/ReipurthBallyProject/src'))\n",
    "from catalog import *\n",
    "import sep"
   ]
  },
  {
   "cell_type": "markdown",
   "id": "d72fbb23",
   "metadata": {},
   "source": [
    "(https://stackoverflow.com/questions/37031356/check-if-points-are-inside-ellipse-faster-than-contains-point-method)"
   ]
  },
  {
   "cell_type": "code",
   "execution_count": null,
   "id": "f0b2011d",
   "metadata": {},
   "outputs": [],
   "source": [
    "# import matplotlib.pyplot as plt\n",
    "# import matplotlib.patches as patches\n",
    "# import numpy as np\n",
    "\n",
    "# fig,ax = plt.subplots(1)\n",
    "# ax.set_aspect('equal')\n",
    "\n",
    "# # Some test points\n",
    "# x = np.random.rand(500)*0.5+0.7\n",
    "# y = np.random.rand(500)*0.5+0.7\n",
    "\n",
    "# # The ellipse\n",
    "# g_ell_center = (0.8882, 0.8882)\n",
    "# g_ell_width = 0.36401857095483\n",
    "# g_ell_height = 0.16928136341606\n",
    "# angle = 30.\n",
    "\n",
    "# g_ellipse = patches.Ellipse(g_ell_center, g_ell_width, g_ell_height, angle=angle, fill=False, edgecolor='green', linewidth=2)\n",
    "# ax.add_patch(g_ellipse)\n",
    "\n",
    "# cos_angle = np.cos(np.radians(180.-angle))\n",
    "# sin_angle = np.sin(np.radians(180.-angle))\n",
    "\n",
    "# xc = x - g_ell_center[0]\n",
    "# yc = y - g_ell_center[1]\n",
    "\n",
    "# xct = xc * cos_angle - yc * sin_angle\n",
    "# yct = xc * sin_angle + yc * cos_angle \n",
    "\n",
    "# rad_cc = (xct**2/(g_ell_width/2.)**2) + (yct**2/(g_ell_height/2.)**2)\n",
    "\n",
    "# # Set the colors. Black if outside the ellipse, green if inside\n",
    "# colors_array = np.array(['black'] * len(rad_cc))\n",
    "# colors_array[np.where(rad_cc <= 1.)[0]] = 'green'\n",
    "\n",
    "# ax.scatter(x,y,c=colors_array,linewidths=0.3)\n",
    "\n",
    "# plt.show()"
   ]
  },
  {
   "cell_type": "code",
   "execution_count": 18,
   "id": "3c762803",
   "metadata": {},
   "outputs": [],
   "source": [
    "with open('/home/kevin/Documents/HH24/regions/jets.reg') as reg:\n",
    "    jets = {}\n",
    "    for line in reg.readlines():\n",
    "        if not line.startswith('ellipse'): continue\n",
    "        line = line[8:]\n",
    "        jetstr = line.split('{')[-1].split('}')[0]\n",
    "        paramstr = line.split('()')[-1].split(')')[0]\n",
    "        params = paramstr.split(',')\n",
    "\n",
    "        jets[jetstr]= {'center':(float(params[0]), float(params[1])), 'a': float(params[2]), 'b':float(params[3]), 'angle':float(params[4])}"
   ]
  },
  {
   "cell_type": "code",
   "execution_count": 19,
   "id": "d7350c86",
   "metadata": {},
   "outputs": [
    {
     "data": {
      "text/plain": [
       "{'center': (3520.1664, 2890.2656),\n",
       " 'a': 1494.4085,\n",
       " 'b': 200.0,\n",
       " 'angle': 45.477483}"
      ]
     },
     "execution_count": 19,
     "metadata": {},
     "output_type": "execute_result"
    }
   ],
   "source": [
    "jets['Jet C']"
   ]
  },
  {
   "cell_type": "code",
   "execution_count": 51,
   "id": "b89d669c",
   "metadata": {},
   "outputs": [],
   "source": [
    "def pts_in_ellipse(ellipse, x, y, scale=6.0):\n",
    "    angle=ellipse['angle']\n",
    "    a = scale*ellipse['a']/2.0\n",
    "    b = scale*ellipse['b']/2.0\n",
    "    center = ellipse['center']\n",
    "\n",
    "    cos_angle = np.cos(np.radians(180.-angle))\n",
    "    sin_angle = np.sin(np.radians(180.-angle))\n",
    "\n",
    "    xc = x - center[0]\n",
    "    yc = y - center[1]\n",
    "\n",
    "    xct = xc * cos_angle - yc * sin_angle\n",
    "    yct = xc * sin_angle + yc * cos_angle \n",
    "\n",
    "    rad_cc = (xct**2)/(a**2) + (yct**2)/(b**2)\n",
    "\n",
    "    return rad_cc <= 1.0"
   ]
  },
  {
   "cell_type": "code",
   "execution_count": 21,
   "id": "ef06931d",
   "metadata": {},
   "outputs": [
    {
     "name": "stdout",
     "output_type": "stream",
     "text": [
      "Length: 1\n",
      "Index: 0, Extension: Unknown, Rootname: Unknown, Extname: Unknown, RADESYS: ICRS\n"
     ]
    }
   ],
   "source": [
    "obsdir = '/home/kevin/Documents/HH24'\n",
    "frameid = '2024_03_15_F164N_reg'\n",
    "with fits.open(os.path.join(obsdir,'registered', frameid+'.fits')) as f:\n",
    "#with fits.open(os.path.join(obsdir,'lucy-richardson', frameid+'_lr15.fits')) as f:\n",
    "    print(f'Length: {len(f)}')\n",
    "    for i,hdr in enumerate(f):\n",
    "        xt = hdr.header.pop('XTENSION','Unknown')\n",
    "        xn = hdr.header.pop('EXTNAME', 'Unknown')\n",
    "        rn = hdr.header.pop('ROOTNAME', 'Unknown')\n",
    "        radesys = hdr.header.pop('RADESYS', 'Unknown')\n",
    "        print(f'Index: {i}, Extension: {xt}, Rootname: {rn}, Extname: {xn}, RADESYS: {radesys}')\n",
    "    hdr = f[0].header.copy()\n",
    "    img = f[0].data.copy()"
   ]
  },
  {
   "cell_type": "code",
   "execution_count": 23,
   "id": "c11c46b0",
   "metadata": {},
   "outputs": [],
   "source": [
    "from r_d_src.img_find_objects import find_stars"
   ]
  },
  {
   "cell_type": "code",
   "execution_count": 24,
   "id": "b3476f75",
   "metadata": {},
   "outputs": [
    {
     "name": "stdout",
     "output_type": "stream",
     "text": [
      "2024_03_15_F164N_reg: Number of objects identified: 2540\n"
     ]
    }
   ],
   "source": [
    "regout = os.path.join(obsdir,'knotcat', frameid+'.xml')\n",
    "#if not os.path.exists(regout):\n",
    "zz=find_stars(frameid, hdr, img, regout,byteswap=True, thresh=5,\n",
    "            deblend_cont=0.000001,\n",
    "            deblend_nthresh=16)"
   ]
  },
  {
   "cell_type": "code",
   "execution_count": 59,
   "id": "c37cfb1b",
   "metadata": {},
   "outputs": [],
   "source": [
    "knotcat = load_catalog(regout)"
   ]
  },
  {
   "cell_type": "code",
   "execution_count": 60,
   "id": "d0126b5c",
   "metadata": {},
   "outputs": [],
   "source": [
    "knotcat.remove_column('Jet')\n",
    "knotcat['Jet'] = 0\n",
    "for i, j in enumerate(jets):\n",
    "    inJet = pts_in_ellipse(jets[j], knotcat['fits_x'], knotcat['fits_y'], scale=2)\n",
    "    knotcat['Jet'][inJet] = i+1"
   ]
  },
  {
   "cell_type": "code",
   "execution_count": 62,
   "id": "86cc8c0a",
   "metadata": {},
   "outputs": [],
   "source": [
    "injets = knotcat['Jet'] != 0\n",
    "knotcat = knotcat[injets]"
   ]
  },
  {
   "cell_type": "code",
   "execution_count": 63,
   "id": "ef87ffa8",
   "metadata": {},
   "outputs": [],
   "source": [
    "knotcat.write(regout, format='votable',overwrite=True)"
   ]
  },
  {
   "cell_type": "code",
   "execution_count": 66,
   "id": "7d5c21f3",
   "metadata": {},
   "outputs": [
    {
     "name": "stdout",
     "output_type": "stream",
     "text": [
      "Jet number: 1, Jet Name: Jet E\n",
      "Jet number: 2, Jet Name: Jet G\n",
      "Jet number: 3, Jet Name: Jet C\n",
      "Jet number: 4, Jet Name: Jet J\n",
      "Jet number: 5, Jet Name: Jet L\n"
     ]
    }
   ],
   "source": [
    "for i, j in enumerate(jets):\n",
    "    print(f'Jet number: {i+1}, Jet Name: {j}')"
   ]
  }
 ],
 "metadata": {
  "kernelspec": {
   "display_name": "Subaru",
   "language": "python",
   "name": "python3"
  },
  "language_info": {
   "codemirror_mode": {
    "name": "ipython",
    "version": 3
   },
   "file_extension": ".py",
   "mimetype": "text/x-python",
   "name": "python",
   "nbconvert_exporter": "python",
   "pygments_lexer": "ipython3",
   "version": "3.10.16"
  }
 },
 "nbformat": 4,
 "nbformat_minor": 5
}
