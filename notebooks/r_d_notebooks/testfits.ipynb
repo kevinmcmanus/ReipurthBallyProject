{
 "cells": [
  {
   "cell_type": "code",
   "execution_count": 1,
   "metadata": {},
   "outputs": [],
   "source": [
    "\n",
    "import sys, os\n",
    "import numpy as np\n",
    "\n",
    "import astropy.units as u\n",
    "from astropy.time import Time\n",
    "from astropy.coordinates import SkyCoord\n",
    "from astropy.io import fits\n",
    "from astropy.wcs import WCS\n",
    "import numpy as np\n",
    "\n",
    "import warnings\n",
    "from matplotlib import pyplot as plt\n",
    "from astropy.io import fits\n",
    "from astropy.wcs import WCS, FITSFixedWarning\n",
    "\n",
    "sys.path.append(os.path.expanduser('~/repos/ReipurthBallyProject/src'))\n",
    "sys.path.append(os.path.expanduser('~/repos/runawaysearch/src'))"
   ]
  },
  {
   "cell_type": "code",
   "execution_count": 2,
   "metadata": {},
   "outputs": [],
   "source": [
    "def rms(v1, v2):\n",
    "    diff2 = (v2 -v1)**2\n",
    "    return np.sqrt(diff2.mean())"
   ]
  },
  {
   "cell_type": "code",
   "execution_count": 3,
   "metadata": {},
   "outputs": [
    {
     "name": "stderr",
     "output_type": "stream",
     "text": [
      "WARNING: VerifyWarning: Invalid 'BLANK' keyword in header.  The 'BLANK' keyword is only applicable to integer data, and will be ignored in this HDU. [astropy.io.fits.hdu.image]\n",
      "WARNING: VerifyWarning: Verification reported errors: [astropy.io.fits.verify]\n",
      "WARNING: VerifyWarning: Card 'RDNOISE' is not FITS standard (invalid value string: 'INDEF').  Fixed 'RDNOISE' card to meet the FITS standard. [astropy.io.fits.verify]\n",
      "WARNING: VerifyWarning: Note: astropy.io.fits uses zero-based indexing.\n",
      " [astropy.io.fits.verify]\n",
      "WARNING: FITSFixedWarning: PC001001= 1.00000000 / Pixel Coordinate translation matrix \n",
      "this form of the PCi_ja keyword is deprecated, use PCi_ja. [astropy.wcs.wcs]\n",
      "WARNING: FITSFixedWarning: PC001002= -0.00000000 / Pixel Coordinate translation matrix \n",
      "this form of the PCi_ja keyword is deprecated, use PCi_ja. [astropy.wcs.wcs]\n",
      "WARNING: FITSFixedWarning: PC002001= 0.00000000 / Pixel Coordinate translation matrix \n",
      "this form of the PCi_ja keyword is deprecated, use PCi_ja. [astropy.wcs.wcs]\n",
      "WARNING: FITSFixedWarning: PC002002= 1.00000000 / Pixel Coordinate translation matrix \n",
      "this form of the PCi_ja keyword is deprecated, use PCi_ja. [astropy.wcs.wcs]\n",
      "WARNING: FITSFixedWarning: 'datfix' made the change 'Set MJD-OBS to 53740.000000 from DATE-OBS.\n",
      "Set DATE-END to '2006-01-05T07:37:37.315' from MJD-END'. [astropy.wcs.wcs]\n",
      "WARNING: FITSFixedWarning: 'unitfix' made the change 'Changed units:\n",
      "  'degree' -> 'deg',\n",
      "  'degree' -> 'deg'. [astropy.wcs.wcs]\n"
     ]
    }
   ],
   "source": [
    "filename =os.path.join(os.path.dirname(os.getcwd()),'data/HH34_sii.fits')\n",
    "with fits.open(filename) as hdul_orig:\n",
    "    hdu_orig = hdul_orig[0]\n",
    "wcs_orig = WCS(hdu_orig.header)\n"
   ]
  },
  {
   "cell_type": "code",
   "execution_count": 5,
   "metadata": {},
   "outputs": [
    {
     "data": {
      "text/plain": [
       "<astropy.io.fits.hdu.image.PrimaryHDU at 0x23c5b889d00>"
      ]
     },
     "execution_count": 5,
     "metadata": {},
     "output_type": "execute_result"
    },
    {
     "ename": "",
     "evalue": "",
     "output_type": "error",
     "traceback": [
      "\u001b[1;31mThe Kernel crashed while executing code in the the current cell or a previous cell. Please review the code in the cell(s) to identify a possible cause of the failure. Click <a href='https://aka.ms/vscodeJupyterKernelCrash'>here</a> for more info. View Jupyter <a href='command:jupyter.viewOutput'>log</a> for further details."
     ]
    }
   ],
   "source": [
    "hdul_orig[0]"
   ]
  },
  {
   "cell_type": "code",
   "execution_count": 20,
   "metadata": {},
   "outputs": [
    {
     "name": "stderr",
     "output_type": "stream",
     "text": [
      "WARNING: FITSFixedWarning: PC001001= 1.0 / Pixel Coordinate translation matrix \n",
      "this form of the PCi_ja keyword is deprecated, use PCi_ja. [astropy.wcs.wcs]\n",
      "WARNING: FITSFixedWarning: PC001002= -0.0 / Pixel Coordinate translation matrix \n",
      "this form of the PCi_ja keyword is deprecated, use PCi_ja. [astropy.wcs.wcs]\n",
      "WARNING: FITSFixedWarning: PC002001= 0.0 / Pixel Coordinate translation matrix \n",
      "this form of the PCi_ja keyword is deprecated, use PCi_ja. [astropy.wcs.wcs]\n",
      "WARNING: FITSFixedWarning: PC002002= 1.0 / Pixel Coordinate translation matrix \n",
      "this form of the PCi_ja keyword is deprecated, use PCi_ja. [astropy.wcs.wcs]\n"
     ]
    }
   ],
   "source": [
    "\n",
    "filename =os.path.join(os.path.dirname(os.getcwd()),'data/testfits.fits')\n",
    "with fits.open(filename) as hdul_test:\n",
    "    hdu_test = hdul_test[0]\n",
    "wcs_test = WCS(hdu_test.header)"
   ]
  },
  {
   "cell_type": "code",
   "execution_count": 21,
   "metadata": {},
   "outputs": [
    {
     "name": "stdout",
     "output_type": "stream",
     "text": [
      "Filename: c:\\Users\\Kevin\\repos\\ReipurthBallyProject\\data/HH34_sii.fits\n",
      "No.    Name      Ver    Type      Cards   Dimensions   Format\n",
      "  0  PRIMARY       1 PrimaryHDU     215   (11322, 9025)   float32   \n"
     ]
    }
   ],
   "source": [
    "hdul_orig.info()"
   ]
  },
  {
   "cell_type": "code",
   "execution_count": 22,
   "metadata": {},
   "outputs": [
    {
     "name": "stdout",
     "output_type": "stream",
     "text": [
      "Filename: c:\\Users\\Kevin\\repos\\ReipurthBallyProject\\data/testfits.fits\n",
      "No.    Name      Ver    Type      Cards   Dimensions   Format\n",
      "  0  PRIMARY       1 PrimaryHDU      37   (11322, 9025)   float32   \n"
     ]
    }
   ],
   "source": [
    "hdul_test.info()"
   ]
  },
  {
   "cell_type": "code",
   "execution_count": 5,
   "metadata": {},
   "outputs": [
    {
     "data": {
      "text/plain": [
       "array([[-3.60887498e-09, -9.31322575e-09],\n",
       "       [-3.72529030e-09, -1.04773790e-08],\n",
       "       [-3.60887498e-09, -1.02445483e-08],\n",
       "       [-3.60887498e-09, -9.31322575e-09]])"
      ]
     },
     "execution_count": 5,
     "metadata": {},
     "output_type": "execute_result"
    }
   ],
   "source": [
    "1e6-1e6*(wcs_orig.calc_footprint()/wcs_test.calc_footprint())"
   ]
  },
  {
   "cell_type": "code",
   "execution_count": 6,
   "metadata": {},
   "outputs": [],
   "source": [
    "N = 500\n",
    "npix_x = hdu_test.header['NAXIS1']\n",
    "npix_y = hdu_test.header['NAXIS2']\n",
    "pix_x = np.random.choice(npix_x, N)\n",
    "pix_y = np.random.choice(npix_y, N)"
   ]
  },
  {
   "cell_type": "code",
   "execution_count": 7,
   "metadata": {},
   "outputs": [],
   "source": [
    "ra_orig, dec_orig = wcs_orig.pixel_to_world_values(pix_x, pix_y)\n",
    "ra_test, dec_test = wcs_test.pixel_to_world_values(pix_x, pix_y)"
   ]
  },
  {
   "cell_type": "code",
   "execution_count": 8,
   "metadata": {},
   "outputs": [
    {
     "data": {
      "text/latex": [
       "$1.0742895 \\times 10^{-9} \\; \\mathrm{{}^{\\prime\\prime}}$"
      ],
      "text/plain": [
       "<Quantity 1.07428946e-09 arcsec>"
      ]
     },
     "execution_count": 8,
     "metadata": {},
     "output_type": "execute_result"
    }
   ],
   "source": [
    "((rms(ra_orig, ra_test))*u.degree).to(u.arcsecond)"
   ]
  },
  {
   "cell_type": "code",
   "execution_count": 9,
   "metadata": {},
   "outputs": [
    {
     "data": {
      "text/latex": [
       "$2.3008249 \\times 10^{-10} \\; \\mathrm{{}^{\\prime\\prime}}$"
      ],
      "text/plain": [
       "<Quantity 2.30082492e-10 arcsec>"
      ]
     },
     "execution_count": 9,
     "metadata": {},
     "output_type": "execute_result"
    }
   ],
   "source": [
    "((rms(dec_orig, dec_test))*u.degree).to(u.arcsecond)"
   ]
  },
  {
   "cell_type": "code",
   "execution_count": 10,
   "metadata": {},
   "outputs": [],
   "source": [
    "from astropy.coordinates import Angle\n",
    "coords_orig = SkyCoord(ra_orig*u.degree, dec_orig*u.degree)\n",
    "coords_test = SkyCoord(ra_test*u.degree, dec_test*u.degree)\n",
    "\n",
    "seps = Angle([ct.separation(co) for co, ct in zip(coords_orig, coords_test)])"
   ]
  },
  {
   "cell_type": "code",
   "execution_count": 11,
   "metadata": {},
   "outputs": [
    {
     "data": {
      "text/latex": [
       "$1.09187e-09\\mathrm{{}^{\\prime\\prime}}$"
      ],
      "text/plain": [
       "<Angle 1.09187193e-09 arcsec>"
      ]
     },
     "execution_count": 11,
     "metadata": {},
     "output_type": "execute_result"
    }
   ],
   "source": [
    "seps.mean().to(u.arcsecond)"
   ]
  },
  {
   "cell_type": "code",
   "execution_count": 12,
   "metadata": {},
   "outputs": [
    {
     "data": {
      "text/latex": [
       "$0^\\circ00{}^\\prime00{}^{\\prime\\prime}$"
      ],
      "text/plain": [
       "<Angle 3.03459811e-13 deg>"
      ]
     },
     "execution_count": 12,
     "metadata": {},
     "output_type": "execute_result"
    }
   ],
   "source": [
    "coords_orig[3].separation( coords_test[3] )"
   ]
  },
  {
   "cell_type": "code",
   "execution_count": 13,
   "metadata": {},
   "outputs": [
    {
     "name": "stdout",
     "output_type": "stream",
     "text": [
      "orig: (array(84.12804687), array(-6.45301411))\n",
      "test: (array(84.12804687), array(-6.45301411))\n"
     ]
    }
   ],
   "source": [
    "pix_x = 1790; pix_y = 5076.2\n",
    "print(f'orig: {wcs_orig.pixel_to_world_values(pix_x, pix_y)}')\n",
    "print(f'test: {wcs_test.pixel_to_world_values(pix_x, pix_y)}')\n"
   ]
  },
  {
   "cell_type": "code",
   "execution_count": 14,
   "metadata": {},
   "outputs": [
    {
     "name": "stderr",
     "output_type": "stream",
     "text": [
      "c:\\Users\\Kevin\\anaconda3\\envs\\astro\\lib\\site-packages\\astropy\\wcs\\wcs.py:2873: RuntimeWarning: cdelt will be ignored since cd is present\n",
      "  description.append(s.format(*self.wcs.cdelt))\n"
     ]
    },
    {
     "data": {
      "text/plain": [
       "WCS Keywords\n",
       "\n",
       "Number of WCS axes: 2\n",
       "CTYPE : 'RA---TAN'  'DEC--TAN'  \n",
       "CRVAL : 83.9079311590073  -6.48457244114713  \n",
       "CRPIX : 5728.0  4510.0  \n",
       "PC1_1 PC1_2  : 1.0  -0.0  \n",
       "PC2_1 PC2_2  : 0.0  1.0  \n",
       "CDELT : -5.5555555555556e-05  5.55555555555557e-05  \n",
       "NAXIS : 11322  9025"
      ]
     },
     "execution_count": 14,
     "metadata": {},
     "output_type": "execute_result"
    }
   ],
   "source": [
    "wcs_orig"
   ]
  },
  {
   "cell_type": "code",
   "execution_count": 15,
   "metadata": {},
   "outputs": [
    {
     "data": {
      "text/plain": [
       "WCS Keywords\n",
       "\n",
       "Number of WCS axes: 2\n",
       "CTYPE : 'RA---TAN'  'DEC--TAN'  \n",
       "CRVAL : 83.907931159007  -6.4845724411471  \n",
       "CRPIX : 5728.0  4510.0  \n",
       "PC1_1 PC1_2  : 1.0  -0.0  \n",
       "PC2_1 PC2_2  : 0.0  1.0  \n",
       "CDELT : -5.5555555555556e-05  5.5555555555556e-05  \n",
       "NAXIS : 11322  9025"
      ]
     },
     "execution_count": 15,
     "metadata": {},
     "output_type": "execute_result"
    }
   ],
   "source": [
    "wcs_test"
   ]
  },
  {
   "cell_type": "code",
   "execution_count": 16,
   "metadata": {},
   "outputs": [
    {
     "data": {
      "text/plain": [
       "WCSAXES =                    2 / Number of coordinate axes                      \n",
       "CRPIX1  =               5728.0 / Pixel coordinate of reference point            \n",
       "CRPIX2  =               4510.0 / Pixel coordinate of reference point            \n",
       "CDELT1  = -5.5555555555556E-05 / [deg] Coordinate increment at reference point  \n",
       "CDELT2  =  5.5555555555556E-05 / [deg] Coordinate increment at reference point  \n",
       "CUNIT1  = 'deg'                / Units of coordinate increment and value        \n",
       "CUNIT2  = 'deg'                / Units of coordinate increment and value        \n",
       "CTYPE1  = 'RA---TAN'           / Right ascension, gnomonic projection           \n",
       "CTYPE2  = 'DEC--TAN'           / Declination, gnomonic projection               \n",
       "CRVAL1  =      83.907931159007 / [deg] Coordinate value at reference point      \n",
       "CRVAL2  =     -6.4845724411471 / [deg] Coordinate value at reference point      \n",
       "LONPOLE =                180.0 / [deg] Native longitude of celestial pole       \n",
       "LATPOLE =     -6.4845724411471 / [deg] Native latitude of celestial pole        \n",
       "TIMESYS = 'UTC'                / Time scale                                     \n",
       "MJDREF  =                  0.0 / [d] MJD of fiducial time                       \n",
       "DATE-OBS= '2006-01-05'         / ISO-8601 time of observation                   \n",
       "MJD-OBS =              53740.0 / [d] MJD of observation                         \n",
       "DATE-END= '2006-01-05T07:37:37.315' / ISO-8601 time at end of observation       \n",
       "MJD-END =         53740.317793 / [d] MJD at end of observation                  \n",
       "RADESYS = 'ICRS'               / Equatorial coordinate system                   "
      ]
     },
     "execution_count": 16,
     "metadata": {},
     "output_type": "execute_result"
    }
   ],
   "source": [
    "wcs_test.to_header()"
   ]
  },
  {
   "cell_type": "code",
   "execution_count": 17,
   "metadata": {},
   "outputs": [
    {
     "data": {
      "text/plain": [
       "SIMPLE  =                    T / conforms to FITS standard                      \n",
       "BITPIX  =                    8 / array data type                                \n",
       "NAXIS   =                    0 / number of array dimensions                     \n",
       "WCSAXES =                    2 / Number of coordinate axes                      \n",
       "CRPIX1  =               5728.0 / Pixel coordinate of reference point            \n",
       "CRPIX2  =               4510.0 / Pixel coordinate of reference point            \n",
       "CDELT1  = -5.5555555555556E-05 / [deg] Coordinate increment at reference point  \n",
       "CDELT2  =  5.5555555555556E-05 / [deg] Coordinate increment at reference point  \n",
       "CUNIT1  = 'deg'                / Units of coordinate increment and value        \n",
       "CUNIT2  = 'deg'                / Units of coordinate increment and value        \n",
       "CTYPE1  = 'RA---TAN'           / Right ascension, gnomonic projection           \n",
       "CTYPE2  = 'DEC--TAN'           / Declination, gnomonic projection               \n",
       "CRVAL1  =      83.907931159007 / [deg] Coordinate value at reference point      \n",
       "CRVAL2  =     -6.4845724411471 / [deg] Coordinate value at reference point      \n",
       "LONPOLE =                180.0 / [deg] Native longitude of celestial pole       \n",
       "LATPOLE =     -6.4845724411471 / [deg] Native latitude of celestial pole        \n",
       "TIMESYS = 'UTC'                / Time scale                                     \n",
       "MJDREF  =                  0.0 / [d] MJD of fiducial time                       \n",
       "DATE-OBS= '2006-01-05'         / ISO-8601 time of observation                   \n",
       "MJD-OBS =              53740.0 / [d] MJD of observation                         \n",
       "DATE-END= '2006-01-05T07:37:37.315' / ISO-8601 time at end of observation       \n",
       "MJD-END =         53740.317793 / [d] MJD at end of observation                  \n",
       "RADESYS = 'ICRS'               / Equatorial coordinate system                   "
      ]
     },
     "execution_count": 17,
     "metadata": {},
     "output_type": "execute_result"
    }
   ],
   "source": [
    "wcs_test.to_fits()[0].header"
   ]
  },
  {
   "cell_type": "code",
   "execution_count": 18,
   "metadata": {},
   "outputs": [
    {
     "data": {
      "text/plain": [
       "WCS Keywords\n",
       "\n",
       "Number of WCS axes: 2\n",
       "CTYPE : 'RA---TAN'  'DEC--TAN'  \n",
       "CRVAL : 83.9079311590073  -6.48457244114713  \n",
       "CRPIX : 5728.0  4510.0  \n",
       "PC1_1 PC1_2  : 1.0  -0.0  \n",
       "PC2_1 PC2_2  : 0.0  1.0  \n",
       "CDELT : -5.5555555555556e-05  5.55555555555557e-05  \n",
       "NAXIS : 11322  9025"
      ]
     },
     "execution_count": 18,
     "metadata": {},
     "output_type": "execute_result"
    }
   ],
   "source": [
    "wcs_orig"
   ]
  },
  {
   "cell_type": "code",
   "execution_count": 23,
   "metadata": {},
   "outputs": [
    {
     "data": {
      "text/plain": [
       "'INDEF'"
      ]
     },
     "execution_count": 23,
     "metadata": {},
     "output_type": "execute_result"
    }
   ],
   "source": [
    "hdu_orig.header[\"RDNOISE\"]"
   ]
  },
  {
   "cell_type": "code",
   "execution_count": 27,
   "metadata": {},
   "outputs": [
    {
     "name": "stderr",
     "output_type": "stream",
     "text": [
      "WARNING: VerifyWarning: Invalid 'BLANK' keyword in header.  The 'BLANK' keyword is only applicable to integer data, and will be ignored in this HDU. [astropy.io.fits.hdu.image]\n"
     ]
    }
   ],
   "source": [
    "hdu_orig.verify()"
   ]
  },
  {
   "cell_type": "code",
   "execution_count": 28,
   "metadata": {},
   "outputs": [],
   "source": [
    "hdu_test.verify()"
   ]
  },
  {
   "cell_type": "code",
   "execution_count": 29,
   "metadata": {},
   "outputs": [],
   "source": [
    "#CR1 Value as reported by DS9 WCS info\n",
    "ds9_wcs_test = 83.907938443728099"
   ]
  },
  {
   "cell_type": "code",
   "execution_count": 42,
   "metadata": {},
   "outputs": [
    {
     "data": {
      "text/plain": [
       "83.907931159007"
      ]
     },
     "execution_count": 42,
     "metadata": {},
     "output_type": "execute_result"
    }
   ],
   "source": [
    "hdu_test.header['CRVAL1']"
   ]
  },
  {
   "cell_type": "code",
   "execution_count": 43,
   "metadata": {},
   "outputs": [
    {
     "data": {
      "text/plain": [
       "7.284721093014923e-06"
      ]
     },
     "execution_count": 43,
     "metadata": {},
     "output_type": "execute_result"
    }
   ],
   "source": [
    "ds9_wcs_test-hdu_test.header['CRVAL1']"
   ]
  },
  {
   "cell_type": "code",
   "execution_count": 38,
   "metadata": {},
   "outputs": [
    {
     "data": {
      "text/plain": [
       "array([[ True,  True],\n",
       "       [ True,  True]])"
      ]
     },
     "execution_count": 38,
     "metadata": {},
     "output_type": "execute_result"
    }
   ],
   "source": [
    "wcs_test.axis_correlation_matrix"
   ]
  },
  {
   "cell_type": "code",
   "execution_count": 41,
   "metadata": {},
   "outputs": [
    {
     "name": "stderr",
     "output_type": "stream",
     "text": [
      "c:\\Users\\Kevin\\anaconda3\\envs\\astro\\lib\\site-packages\\astropy\\wcs\\wcs.py:2873: RuntimeWarning: cdelt will be ignored since cd is present\n",
      "  description.append(s.format(*self.wcs.cdelt))\n"
     ]
    },
    {
     "data": {
      "text/plain": [
       "WCS Keywords\n",
       "\n",
       "Number of WCS axes: 2\n",
       "CTYPE : 'RA---TAN'  'DEC--TAN'  \n",
       "CRVAL : 83.9079311590073  -6.48457244114713  \n",
       "CRPIX : 5728.0  4510.0  \n",
       "PC1_1 PC1_2  : 1.0  -0.0  \n",
       "PC2_1 PC2_2  : 0.0  1.0  \n",
       "CDELT : -5.5555555555556e-05  5.55555555555557e-05  \n",
       "NAXIS : 11322  9025"
      ]
     },
     "execution_count": 41,
     "metadata": {},
     "output_type": "execute_result"
    }
   ],
   "source": [
    "wcs_orig.celestial"
   ]
  },
  {
   "cell_type": "code",
   "execution_count": 44,
   "metadata": {},
   "outputs": [
    {
     "name": "stderr",
     "output_type": "stream",
     "text": [
      "c:\\Users\\Kevin\\anaconda3\\envs\\astro\\lib\\site-packages\\astropy\\wcs\\wcs.py:2873: RuntimeWarning: cdelt will be ignored since cd is present\n",
      "  description.append(s.format(*self.wcs.cdelt))\n"
     ]
    },
    {
     "data": {
      "text/plain": [
       "WCS Keywords\n",
       "\n",
       "Number of WCS axes: 2\n",
       "CTYPE : 'RA---TAN'  'DEC--TAN'  \n",
       "CRVAL : 83.9079311590073  -6.48457244114713  \n",
       "CRPIX : 5728.0  4510.0  \n",
       "PC1_1 PC1_2  : 1.0  -0.0  \n",
       "PC2_1 PC2_2  : 0.0  1.0  \n",
       "CDELT : -5.5555555555556e-05  5.55555555555557e-05  \n",
       "NAXIS : 11322  9025"
      ]
     },
     "execution_count": 44,
     "metadata": {},
     "output_type": "execute_result"
    }
   ],
   "source": [
    "wcs_orig"
   ]
  },
  {
   "cell_type": "code",
   "execution_count": 51,
   "metadata": {},
   "outputs": [
    {
     "data": {
      "text/plain": [
       "(array(83.90793116), array(-6.48457244))"
      ]
     },
     "execution_count": 51,
     "metadata": {},
     "output_type": "execute_result"
    }
   ],
   "source": [
    "ref_val = wcs_orig.pixel_to_world_values(hdu_orig.header['CRPIX1']-1, hdu_orig.header['CRPIX2']-1)\n",
    "ref_val"
   ]
  },
  {
   "cell_type": "code",
   "execution_count": 48,
   "metadata": {},
   "outputs": [
    {
     "data": {
      "text/plain": [
       "(83.9079311590073, -6.48457244114713)"
      ]
     },
     "execution_count": 48,
     "metadata": {},
     "output_type": "execute_result"
    }
   ],
   "source": [
    "hdu_orig.header['CRVAL1'], hdu_orig.header['CRVAL2']"
   ]
  },
  {
   "cell_type": "code",
   "execution_count": 53,
   "metadata": {},
   "outputs": [
    {
     "data": {
      "text/plain": [
       "(True, False)"
      ]
     },
     "execution_count": 53,
     "metadata": {},
     "output_type": "execute_result"
    }
   ],
   "source": [
    "ref_val[0] == hdu_orig.header['CRVAL1'], ref_val[1] == hdu_orig.header['CRVAL2']"
   ]
  },
  {
   "cell_type": "code",
   "execution_count": 54,
   "metadata": {},
   "outputs": [
    {
     "data": {
      "text/plain": [
       "(array(-6.48457244), -6.48457244114713)"
      ]
     },
     "execution_count": 54,
     "metadata": {},
     "output_type": "execute_result"
    }
   ],
   "source": [
    "ref_val[1], hdu_orig.header['CRVAL2']"
   ]
  }
 ],
 "metadata": {
  "kernelspec": {
   "display_name": "astro",
   "language": "python",
   "name": "python3"
  },
  "language_info": {
   "codemirror_mode": {
    "name": "ipython",
    "version": 3
   },
   "file_extension": ".py",
   "mimetype": "text/x-python",
   "name": "python",
   "nbconvert_exporter": "python",
   "pygments_lexer": "ipython3",
   "version": "3.9.7"
  },
  "orig_nbformat": 4
 },
 "nbformat": 4,
 "nbformat_minor": 2
}
