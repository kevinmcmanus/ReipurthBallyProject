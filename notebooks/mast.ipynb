{
 "cells": [
  {
   "cell_type": "code",
   "execution_count": 1,
   "metadata": {},
   "outputs": [
    {
     "name": "stderr",
     "output_type": "stream",
     "text": [
      "WARNING: InputWarning: Coordinate string is being interpreted as an ICRS coordinate provided in degrees. [astroquery.utils.commons]\n"
     ]
    },
    {
     "name": "stdout",
     "output_type": "stream",
     "text": [
      "intentType obs_collection provenance_name ... srcDen  obsid        distance     \n",
      "---------- -------------- --------------- ... ------ -------- ------------------\n",
      "   science           TESS            SPOC ...    nan 95133321                0.0\n",
      "   science           TESS            SPOC ...    nan 93770500                0.0\n",
      "   science           TESS            SPOC ...    nan 93770499 397.01844231118105\n",
      "   science          SWIFT              -- ... 5885.0  1455548                0.0\n",
      "   science          SWIFT              -- ... 5885.0  1455549                0.0\n",
      "   science          SWIFT              -- ... 5885.0  1514187                0.0\n",
      "   science          SWIFT              -- ... 5885.0  1455550                0.0\n",
      "   science          SWIFT              -- ... 5885.0  1515379                0.0\n",
      "   science          SWIFT              -- ... 5885.0  1515380                0.0\n",
      "   science          SWIFT              -- ... 5885.0  1453534                0.0\n"
     ]
    }
   ],
   "source": [
    "from astroquery.mast import Observations\n",
    "\n",
    "obs_table = Observations.query_region(\"322.49324 12.16683\")\n",
    "print(obs_table[:10]) "
   ]
  },
  {
   "cell_type": "code",
   "execution_count": 2,
   "metadata": {},
   "outputs": [
    {
     "name": "stdout",
     "output_type": "stream",
     "text": [
      "intentType obs_collection provenance_name ... srcDen  obsid  distance\n",
      "---------- -------------- --------------- ... ------ ------- --------\n",
      "   science    SPITZER_SHA    SSC Pipeline ...    nan 1647157      0.0\n",
      "   science    SPITZER_SHA    SSC Pipeline ...    nan 1647157      0.0\n",
      "   science    SPITZER_SHA    SSC Pipeline ...    nan 1647157      0.0\n",
      "   science    SPITZER_SHA    SSC Pipeline ...    nan 1647157      0.0\n",
      "   science    SPITZER_SHA    SSC Pipeline ...    nan 1647157      0.0\n",
      "   science    SPITZER_SHA    SSC Pipeline ...    nan 1647157      0.0\n",
      "   science    SPITZER_SHA    SSC Pipeline ...    nan 1647157      0.0\n",
      "   science    SPITZER_SHA    SSC Pipeline ...    nan 1647157      0.0\n",
      "   science    SPITZER_SHA    SSC Pipeline ...    nan 1647157      0.0\n",
      "   science    SPITZER_SHA    SSC Pipeline ...    nan 1647157      0.0\n"
     ]
    }
   ],
   "source": [
    "from astroquery.mast import Observations\n",
    "\n",
    "obs_table = Observations.query_object(\"M8\",radius=\".02 deg\")\n",
    "print(obs_table[:10]) "
   ]
  },
  {
   "cell_type": "code",
   "execution_count": 4,
   "metadata": {},
   "outputs": [
    {
     "data": {
      "text/html": [
       "&lt;MaskedColumn name=&apos;obs_collection&apos; dtype=&apos;str11&apos; length=8&gt;\n",
       "<table>\n",
       "<tr><td>FUSE</td></tr>\n",
       "<tr><td>HLA</td></tr>\n",
       "<tr><td>HST</td></tr>\n",
       "<tr><td>IUE</td></tr>\n",
       "<tr><td>K2</td></tr>\n",
       "<tr><td>OPO</td></tr>\n",
       "<tr><td>PS1</td></tr>\n",
       "<tr><td>SPITZER_SHA</td></tr>\n",
       "</table>"
      ],
      "text/plain": [
       "<MaskedColumn name='obs_collection' dtype='str11' length=8>\n",
       "       FUSE\n",
       "        HLA\n",
       "        HST\n",
       "        IUE\n",
       "         K2\n",
       "        OPO\n",
       "        PS1\n",
       "SPITZER_SHA"
      ]
     },
     "execution_count": 4,
     "metadata": {},
     "output_type": "execute_result"
    }
   ],
   "source": [
    "\n",
    "import numpy as np\n",
    "np.unique(obs_table['obs_collection'])"
   ]
  },
  {
   "cell_type": "code",
   "execution_count": 5,
   "metadata": {},
   "outputs": [
    {
     "data": {
      "text/html": [
       "<div><i>Table masked=True length=10</i>\n",
       "<table id=\"table2158100823104\" class=\"table-striped table-bordered table-condensed\">\n",
       "<thead><tr><th>intentType</th><th>obs_collection</th><th>provenance_name</th><th>instrument_name</th><th>project</th><th>filters</th><th>wavelength_region</th><th>target_name</th><th>target_classification</th><th>obs_id</th><th>s_ra</th><th>s_dec</th><th>dataproduct_type</th><th>proposal_pi</th><th>calib_level</th><th>t_min</th><th>t_max</th><th>t_exptime</th><th>em_min</th><th>em_max</th><th>obs_title</th><th>t_obs_release</th><th>proposal_id</th><th>proposal_type</th><th>sequence_number</th><th>s_region</th><th>jpegURL</th><th>dataURL</th><th>dataRights</th><th>mtFlag</th><th>srcDen</th><th>obsid</th><th>distance</th></tr></thead>\n",
       "<thead><tr><th>str11</th><th>str11</th><th>str31</th><th>str9</th><th>str3</th><th>str17</th><th>str16</th><th>str52</th><th>str104</th><th>str48</th><th>float64</th><th>float64</th><th>str10</th><th>str24</th><th>int64</th><th>float64</th><th>float64</th><th>float64</th><th>float64</th><th>float64</th><th>str131</th><th>float64</th><th>str24</th><th>str8</th><th>int64</th><th>str18464</th><th>str175</th><th>str176</th><th>str6</th><th>bool</th><th>float64</th><th>str8</th><th>float64</th></tr></thead>\n",
       "<tr><td>science</td><td>PS1</td><td>3PI</td><td>GPC1</td><td>PS1</td><td>g</td><td>OPTICAL</td><td>0776.087</td><td>--</td><td>rings.v3.skycell.0776.087.stk.g</td><td>271.09301468659226</td><td>-24.59018089897815</td><td>image</td><td>--</td><td>3</td><td>54999.5018683</td><td>56841.43173268516</td><td>1496.0</td><td>394299987792.96875</td><td>559299987792.9688</td><td>PS1 3PI Survey</td><td>57741.5416666</td><td>--</td><td>3PI</td><td>--</td><td>POLYGON ICRS   271.330131   -24.809108  271.333290   -24.374353  270.856771   -24.370913  270.851866   -24.805597</td><td>http://ps1images.stsci.edu/cgi-bin/fitscut.cgi?red=rings.v3.skycell/0776/087/rings.v3.skycell.0776.087.stk.g.unconv.fits</td><td>http://ps1images.stsci.edu/rings.v3.skycell/0776/087/rings.v3.skycell.0776.087.stk.g.unconv.fits</td><td>PUBLIC</td><td>--</td><td>5885.0</td><td>1829281</td><td>0.0</td></tr>\n",
       "<tr><td>science</td><td>PS1</td><td>3PI</td><td>GPC1</td><td>PS1</td><td>i</td><td>OPTICAL</td><td>0776.087</td><td>--</td><td>rings.v3.skycell.0776.087.stk.i</td><td>271.09301468659226</td><td>-24.59018089897815</td><td>image</td><td>--</td><td>3</td><td>55352.49927</td><td>56544.252665533364</td><td>1125.0</td><td>677799987792.9688</td><td>830400024414.0625</td><td>PS1 3PI Survey</td><td>57741.5416666</td><td>--</td><td>3PI</td><td>--</td><td>POLYGON ICRS   271.330131   -24.809108  271.333290   -24.374353  270.856771   -24.370913  270.851866   -24.805597</td><td>http://ps1images.stsci.edu/cgi-bin/fitscut.cgi?red=rings.v3.skycell/0776/087/rings.v3.skycell.0776.087.stk.i.unconv.fits</td><td>http://ps1images.stsci.edu/rings.v3.skycell/0776/087/rings.v3.skycell.0776.087.stk.i.unconv.fits</td><td>PUBLIC</td><td>--</td><td>5885.0</td><td>1829282</td><td>0.0</td></tr>\n",
       "<tr><td>science</td><td>PS1</td><td>3PI</td><td>GPC1</td><td>PS1</td><td>r</td><td>OPTICAL</td><td>0776.087</td><td>--</td><td>rings.v3.skycell.0776.087.stk.r</td><td>271.09301468659226</td><td>-24.59018089897815</td><td>image</td><td>--</td><td>3</td><td>54995.4813115</td><td>56532.29283006296</td><td>796.0</td><td>538599975585.9375</td><td>703599975585.9375</td><td>PS1 3PI Survey</td><td>57741.5416666</td><td>--</td><td>3PI</td><td>--</td><td>POLYGON ICRS   271.330131   -24.809108  271.333290   -24.374353  270.856771   -24.370913  270.851866   -24.805597</td><td>http://ps1images.stsci.edu/cgi-bin/fitscut.cgi?red=rings.v3.skycell/0776/087/rings.v3.skycell.0776.087.stk.r.unconv.fits</td><td>http://ps1images.stsci.edu/rings.v3.skycell/0776/087/rings.v3.skycell.0776.087.stk.r.unconv.fits</td><td>PUBLIC</td><td>--</td><td>5885.0</td><td>1829283</td><td>0.0</td></tr>\n",
       "<tr><td>science</td><td>PS1</td><td>3PI</td><td>GPC1</td><td>PS1</td><td>y</td><td>OPTICAL;INFRARED</td><td>0776.087</td><td>--</td><td>rings.v3.skycell.0776.087.stk.y</td><td>271.09301468659226</td><td>-24.59018089897815</td><td>image</td><td>--</td><td>3</td><td>55283.5976296</td><td>56528.23132432591</td><td>940.0</td><td>910000000000.0</td><td>1083800048828.125</td><td>PS1 3PI Survey</td><td>57741.5416666</td><td>--</td><td>3PI</td><td>--</td><td>POLYGON ICRS   271.330131   -24.809108  271.333290   -24.374353  270.856771   -24.370913  270.851866   -24.805597</td><td>http://ps1images.stsci.edu/cgi-bin/fitscut.cgi?red=rings.v3.skycell/0776/087/rings.v3.skycell.0776.087.stk.y.unconv.fits</td><td>http://ps1images.stsci.edu/rings.v3.skycell/0776/087/rings.v3.skycell.0776.087.stk.y.unconv.fits</td><td>PUBLIC</td><td>--</td><td>5885.0</td><td>1829284</td><td>0.0</td></tr>\n",
       "<tr><td>science</td><td>PS1</td><td>3PI</td><td>GPC1</td><td>PS1</td><td>z</td><td>OPTICAL</td><td>0776.087</td><td>--</td><td>rings.v3.skycell.0776.087.stk.z</td><td>271.09301468659226</td><td>-24.59018089897815</td><td>image</td><td>--</td><td>3</td><td>55284.6322125</td><td>56528.25358894446</td><td>810.0</td><td>802799987792.9688</td><td>934599975585.9375</td><td>PS1 3PI Survey</td><td>57741.5416666</td><td>--</td><td>3PI</td><td>--</td><td>POLYGON ICRS   271.330131   -24.809108  271.333290   -24.374353  270.856771   -24.370913  270.851866   -24.805597</td><td>http://ps1images.stsci.edu/cgi-bin/fitscut.cgi?red=rings.v3.skycell/0776/087/rings.v3.skycell.0776.087.stk.z.unconv.fits</td><td>http://ps1images.stsci.edu/rings.v3.skycell/0776/087/rings.v3.skycell.0776.087.stk.z.unconv.fits</td><td>PUBLIC</td><td>--</td><td>5885.0</td><td>1829285</td><td>0.0</td></tr>\n",
       "<tr><td>science</td><td>PS1</td><td>3PI</td><td>GPC1</td><td>PS1</td><td>g</td><td>OPTICAL</td><td>0776.097</td><td>--</td><td>rings.v3.skycell.0776.097.stk.g</td><td>271.0967257312909</td><td>-24.188843854606507</td><td>image</td><td>--</td><td>3</td><td>54999.5018683</td><td>56841.43173268516</td><td>1711.0</td><td>394299987792.96875</td><td>559299987792.9688</td><td>PS1 3PI Survey</td><td>57741.5416666</td><td>--</td><td>3PI</td><td>--</td><td>POLYGON ICRS   271.333049   -24.407656  271.336187   -23.973072  270.861269   -23.969698  270.856397   -24.404211</td><td>http://ps1images.stsci.edu/cgi-bin/fitscut.cgi?red=rings.v3.skycell/0776/097/rings.v3.skycell.0776.097.stk.g.unconv.fits</td><td>http://ps1images.stsci.edu/rings.v3.skycell/0776/097/rings.v3.skycell.0776.097.stk.g.unconv.fits</td><td>PUBLIC</td><td>--</td><td>5885.0</td><td>1829331</td><td>0.0</td></tr>\n",
       "<tr><td>science</td><td>PS1</td><td>3PI</td><td>GPC1</td><td>PS1</td><td>i</td><td>OPTICAL</td><td>0776.097</td><td>--</td><td>rings.v3.skycell.0776.097.stk.i</td><td>271.0967257312909</td><td>-24.188843854606507</td><td>image</td><td>--</td><td>3</td><td>55352.4886382</td><td>56544.252665533364</td><td>1170.0</td><td>677799987792.9688</td><td>830400024414.0625</td><td>PS1 3PI Survey</td><td>57741.5416666</td><td>--</td><td>3PI</td><td>--</td><td>POLYGON ICRS   271.333049   -24.407656  271.336187   -23.973072  270.861269   -23.969698  270.856397   -24.404211</td><td>http://ps1images.stsci.edu/cgi-bin/fitscut.cgi?red=rings.v3.skycell/0776/097/rings.v3.skycell.0776.097.stk.i.unconv.fits</td><td>http://ps1images.stsci.edu/rings.v3.skycell/0776/097/rings.v3.skycell.0776.097.stk.i.unconv.fits</td><td>PUBLIC</td><td>--</td><td>5885.0</td><td>1829332</td><td>0.0</td></tr>\n",
       "<tr><td>science</td><td>PS1</td><td>3PI</td><td>GPC1</td><td>PS1</td><td>r</td><td>OPTICAL</td><td>0776.097</td><td>--</td><td>rings.v3.skycell.0776.097.stk.r</td><td>271.0967257312909</td><td>-24.188843854606507</td><td>image</td><td>--</td><td>3</td><td>54995.4813115</td><td>56532.29283006296</td><td>916.0</td><td>538599975585.9375</td><td>703599975585.9375</td><td>PS1 3PI Survey</td><td>57741.5416666</td><td>--</td><td>3PI</td><td>--</td><td>POLYGON ICRS   271.333049   -24.407656  271.336187   -23.973072  270.861269   -23.969698  270.856397   -24.404211</td><td>http://ps1images.stsci.edu/cgi-bin/fitscut.cgi?red=rings.v3.skycell/0776/097/rings.v3.skycell.0776.097.stk.r.unconv.fits</td><td>http://ps1images.stsci.edu/rings.v3.skycell/0776/097/rings.v3.skycell.0776.097.stk.r.unconv.fits</td><td>PUBLIC</td><td>--</td><td>5885.0</td><td>1829333</td><td>0.0</td></tr>\n",
       "<tr><td>science</td><td>PS1</td><td>3PI</td><td>GPC1</td><td>PS1</td><td>y</td><td>OPTICAL;INFRARED</td><td>0776.097</td><td>--</td><td>rings.v3.skycell.0776.097.stk.y</td><td>271.0967257312909</td><td>-24.188843854606507</td><td>image</td><td>--</td><td>3</td><td>55283.5976296</td><td>56528.23132432591</td><td>940.0</td><td>910000000000.0</td><td>1083800048828.125</td><td>PS1 3PI Survey</td><td>57741.5416666</td><td>--</td><td>3PI</td><td>--</td><td>POLYGON ICRS   271.333049   -24.407656  271.336187   -23.973072  270.861269   -23.969698  270.856397   -24.404211</td><td>http://ps1images.stsci.edu/cgi-bin/fitscut.cgi?red=rings.v3.skycell/0776/097/rings.v3.skycell.0776.097.stk.y.unconv.fits</td><td>http://ps1images.stsci.edu/rings.v3.skycell/0776/097/rings.v3.skycell.0776.097.stk.y.unconv.fits</td><td>PUBLIC</td><td>--</td><td>5885.0</td><td>1829334</td><td>0.0</td></tr>\n",
       "<tr><td>science</td><td>PS1</td><td>3PI</td><td>GPC1</td><td>PS1</td><td>z</td><td>OPTICAL</td><td>0776.097</td><td>--</td><td>rings.v3.skycell.0776.097.stk.z</td><td>271.0967257312909</td><td>-24.188843854606507</td><td>image</td><td>--</td><td>3</td><td>55284.6102533</td><td>56528.25358894446</td><td>990.0</td><td>802799987792.9688</td><td>934599975585.9375</td><td>PS1 3PI Survey</td><td>57741.5416666</td><td>--</td><td>3PI</td><td>--</td><td>POLYGON ICRS   271.333049   -24.407656  271.336187   -23.973072  270.861269   -23.969698  270.856397   -24.404211</td><td>http://ps1images.stsci.edu/cgi-bin/fitscut.cgi?red=rings.v3.skycell/0776/097/rings.v3.skycell.0776.097.stk.z.unconv.fits</td><td>http://ps1images.stsci.edu/rings.v3.skycell/0776/097/rings.v3.skycell.0776.097.stk.z.unconv.fits</td><td>PUBLIC</td><td>--</td><td>5885.0</td><td>1829335</td><td>0.0</td></tr>\n",
       "</table></div>"
      ],
      "text/plain": [
       "<Table masked=True length=10>\n",
       "intentType obs_collection provenance_name ...  srcDen  obsid  distance\n",
       "  str11        str11           str31      ... float64   str8  float64 \n",
       "---------- -------------- --------------- ... ------- ------- --------\n",
       "   science            PS1             3PI ...  5885.0 1829281      0.0\n",
       "   science            PS1             3PI ...  5885.0 1829282      0.0\n",
       "   science            PS1             3PI ...  5885.0 1829283      0.0\n",
       "   science            PS1             3PI ...  5885.0 1829284      0.0\n",
       "   science            PS1             3PI ...  5885.0 1829285      0.0\n",
       "   science            PS1             3PI ...  5885.0 1829331      0.0\n",
       "   science            PS1             3PI ...  5885.0 1829332      0.0\n",
       "   science            PS1             3PI ...  5885.0 1829333      0.0\n",
       "   science            PS1             3PI ...  5885.0 1829334      0.0\n",
       "   science            PS1             3PI ...  5885.0 1829335      0.0"
      ]
     },
     "execution_count": 5,
     "metadata": {},
     "output_type": "execute_result"
    }
   ],
   "source": [
    "obs_table[obs_table['obs_collection']=='PS1']"
   ]
  },
  {
   "cell_type": "code",
   "execution_count": 10,
   "metadata": {},
   "outputs": [
    {
     "ename": "HTTPError",
     "evalue": "400 Client Error: Bad Request for url: https://catalogs.mast.stsci.edu/api/v0.1/panstarrs/dr1/thin.json",
     "output_type": "error",
     "traceback": [
      "\u001b[1;31m---------------------------------------------------------------------------\u001b[0m",
      "\u001b[1;31mHTTPError\u001b[0m                                 Traceback (most recent call last)",
      "\u001b[1;32m~\\AppData\\Local\\Temp/ipykernel_24336/4224269202.py\u001b[0m in \u001b[0;36m<module>\u001b[1;34m\u001b[0m\n\u001b[0;32m      1\u001b[0m \u001b[1;32mfrom\u001b[0m \u001b[0mastroquery\u001b[0m\u001b[1;33m.\u001b[0m\u001b[0mmast\u001b[0m \u001b[1;32mimport\u001b[0m \u001b[0mCatalogs\u001b[0m\u001b[1;33m\u001b[0m\u001b[1;33m\u001b[0m\u001b[0m\n\u001b[1;32m----> 2\u001b[1;33m catalog_data = Catalogs.query_region(\"158.47924 -7.30962\", radius=0.1,\n\u001b[0m\u001b[0;32m      3\u001b[0m                                       catalog=\"Panstarrs\", data_release=\"dr1\", table=\"thin\")\n\u001b[0;32m      4\u001b[0m \u001b[0mprint\u001b[0m\u001b[1;33m(\u001b[0m\u001b[1;34m\"Number of results:\"\u001b[0m\u001b[1;33m,\u001b[0m\u001b[0mlen\u001b[0m\u001b[1;33m(\u001b[0m\u001b[0mcatalog_data\u001b[0m\u001b[1;33m)\u001b[0m\u001b[1;33m)\u001b[0m\u001b[1;33m\u001b[0m\u001b[1;33m\u001b[0m\u001b[0m\n",
      "\u001b[1;32mc:\\Users\\Kevin\\anaconda3\\envs\\astro\\lib\\site-packages\\astroquery\\utils\\class_or_instance.py\u001b[0m in \u001b[0;36mf\u001b[1;34m(*args, **kwds)\u001b[0m\n\u001b[0;32m     23\u001b[0m         \u001b[1;32mdef\u001b[0m \u001b[0mf\u001b[0m\u001b[1;33m(\u001b[0m\u001b[1;33m*\u001b[0m\u001b[0margs\u001b[0m\u001b[1;33m,\u001b[0m \u001b[1;33m**\u001b[0m\u001b[0mkwds\u001b[0m\u001b[1;33m)\u001b[0m\u001b[1;33m:\u001b[0m\u001b[1;33m\u001b[0m\u001b[1;33m\u001b[0m\u001b[0m\n\u001b[0;32m     24\u001b[0m             \u001b[1;32mif\u001b[0m \u001b[0mobj\u001b[0m \u001b[1;32mis\u001b[0m \u001b[1;32mnot\u001b[0m \u001b[1;32mNone\u001b[0m\u001b[1;33m:\u001b[0m\u001b[1;33m\u001b[0m\u001b[1;33m\u001b[0m\u001b[0m\n\u001b[1;32m---> 25\u001b[1;33m                 \u001b[1;32mreturn\u001b[0m \u001b[0mself\u001b[0m\u001b[1;33m.\u001b[0m\u001b[0mfn\u001b[0m\u001b[1;33m(\u001b[0m\u001b[0mobj\u001b[0m\u001b[1;33m,\u001b[0m \u001b[1;33m*\u001b[0m\u001b[0margs\u001b[0m\u001b[1;33m,\u001b[0m \u001b[1;33m**\u001b[0m\u001b[0mkwds\u001b[0m\u001b[1;33m)\u001b[0m\u001b[1;33m\u001b[0m\u001b[1;33m\u001b[0m\u001b[0m\n\u001b[0m\u001b[0;32m     26\u001b[0m             \u001b[1;32melse\u001b[0m\u001b[1;33m:\u001b[0m\u001b[1;33m\u001b[0m\u001b[1;33m\u001b[0m\u001b[0m\n\u001b[0;32m     27\u001b[0m                 \u001b[1;32mreturn\u001b[0m \u001b[0mself\u001b[0m\u001b[1;33m.\u001b[0m\u001b[0mfn\u001b[0m\u001b[1;33m(\u001b[0m\u001b[0mcls\u001b[0m\u001b[1;33m,\u001b[0m \u001b[1;33m*\u001b[0m\u001b[0margs\u001b[0m\u001b[1;33m,\u001b[0m \u001b[1;33m**\u001b[0m\u001b[0mkwds\u001b[0m\u001b[1;33m)\u001b[0m\u001b[1;33m\u001b[0m\u001b[1;33m\u001b[0m\u001b[0m\n",
      "\u001b[1;32mc:\\Users\\Kevin\\anaconda3\\envs\\astro\\lib\\site-packages\\astroquery\\utils\\process_asyncs.py\u001b[0m in \u001b[0;36mnewmethod\u001b[1;34m(self, *args, **kwargs)\u001b[0m\n\u001b[0;32m     24\u001b[0m             \u001b[0mverbose\u001b[0m \u001b[1;33m=\u001b[0m \u001b[0mkwargs\u001b[0m\u001b[1;33m.\u001b[0m\u001b[0mpop\u001b[0m\u001b[1;33m(\u001b[0m\u001b[1;34m'verbose'\u001b[0m\u001b[1;33m,\u001b[0m \u001b[1;32mFalse\u001b[0m\u001b[1;33m)\u001b[0m\u001b[1;33m\u001b[0m\u001b[1;33m\u001b[0m\u001b[0m\n\u001b[0;32m     25\u001b[0m \u001b[1;33m\u001b[0m\u001b[0m\n\u001b[1;32m---> 26\u001b[1;33m             \u001b[0mresponse\u001b[0m \u001b[1;33m=\u001b[0m \u001b[0mgetattr\u001b[0m\u001b[1;33m(\u001b[0m\u001b[0mself\u001b[0m\u001b[1;33m,\u001b[0m \u001b[0masync_method_name\u001b[0m\u001b[1;33m)\u001b[0m\u001b[1;33m(\u001b[0m\u001b[1;33m*\u001b[0m\u001b[0margs\u001b[0m\u001b[1;33m,\u001b[0m \u001b[1;33m**\u001b[0m\u001b[0mkwargs\u001b[0m\u001b[1;33m)\u001b[0m\u001b[1;33m\u001b[0m\u001b[1;33m\u001b[0m\u001b[0m\n\u001b[0m\u001b[0;32m     27\u001b[0m             \u001b[1;32mif\u001b[0m \u001b[0mkwargs\u001b[0m\u001b[1;33m.\u001b[0m\u001b[0mget\u001b[0m\u001b[1;33m(\u001b[0m\u001b[1;34m'get_query_payload'\u001b[0m\u001b[1;33m)\u001b[0m \u001b[1;32mor\u001b[0m \u001b[0mkwargs\u001b[0m\u001b[1;33m.\u001b[0m\u001b[0mget\u001b[0m\u001b[1;33m(\u001b[0m\u001b[1;34m'field_help'\u001b[0m\u001b[1;33m)\u001b[0m\u001b[1;33m:\u001b[0m\u001b[1;33m\u001b[0m\u001b[1;33m\u001b[0m\u001b[0m\n\u001b[0;32m     28\u001b[0m                 \u001b[1;32mreturn\u001b[0m \u001b[0mresponse\u001b[0m\u001b[1;33m\u001b[0m\u001b[1;33m\u001b[0m\u001b[0m\n",
      "\u001b[1;32mc:\\Users\\Kevin\\anaconda3\\envs\\astro\\lib\\site-packages\\astroquery\\utils\\class_or_instance.py\u001b[0m in \u001b[0;36mf\u001b[1;34m(*args, **kwds)\u001b[0m\n\u001b[0;32m     23\u001b[0m         \u001b[1;32mdef\u001b[0m \u001b[0mf\u001b[0m\u001b[1;33m(\u001b[0m\u001b[1;33m*\u001b[0m\u001b[0margs\u001b[0m\u001b[1;33m,\u001b[0m \u001b[1;33m**\u001b[0m\u001b[0mkwds\u001b[0m\u001b[1;33m)\u001b[0m\u001b[1;33m:\u001b[0m\u001b[1;33m\u001b[0m\u001b[1;33m\u001b[0m\u001b[0m\n\u001b[0;32m     24\u001b[0m             \u001b[1;32mif\u001b[0m \u001b[0mobj\u001b[0m \u001b[1;32mis\u001b[0m \u001b[1;32mnot\u001b[0m \u001b[1;32mNone\u001b[0m\u001b[1;33m:\u001b[0m\u001b[1;33m\u001b[0m\u001b[1;33m\u001b[0m\u001b[0m\n\u001b[1;32m---> 25\u001b[1;33m                 \u001b[1;32mreturn\u001b[0m \u001b[0mself\u001b[0m\u001b[1;33m.\u001b[0m\u001b[0mfn\u001b[0m\u001b[1;33m(\u001b[0m\u001b[0mobj\u001b[0m\u001b[1;33m,\u001b[0m \u001b[1;33m*\u001b[0m\u001b[0margs\u001b[0m\u001b[1;33m,\u001b[0m \u001b[1;33m**\u001b[0m\u001b[0mkwds\u001b[0m\u001b[1;33m)\u001b[0m\u001b[1;33m\u001b[0m\u001b[1;33m\u001b[0m\u001b[0m\n\u001b[0m\u001b[0;32m     26\u001b[0m             \u001b[1;32melse\u001b[0m\u001b[1;33m:\u001b[0m\u001b[1;33m\u001b[0m\u001b[1;33m\u001b[0m\u001b[0m\n\u001b[0;32m     27\u001b[0m                 \u001b[1;32mreturn\u001b[0m \u001b[0mself\u001b[0m\u001b[1;33m.\u001b[0m\u001b[0mfn\u001b[0m\u001b[1;33m(\u001b[0m\u001b[0mcls\u001b[0m\u001b[1;33m,\u001b[0m \u001b[1;33m*\u001b[0m\u001b[0margs\u001b[0m\u001b[1;33m,\u001b[0m \u001b[1;33m**\u001b[0m\u001b[0mkwds\u001b[0m\u001b[1;33m)\u001b[0m\u001b[1;33m\u001b[0m\u001b[1;33m\u001b[0m\u001b[0m\n",
      "\u001b[1;32mc:\\Users\\Kevin\\anaconda3\\envs\\astro\\lib\\site-packages\\astroquery\\mast\\collections.py\u001b[0m in \u001b[0;36mquery_region_async\u001b[1;34m(self, coordinates, radius, catalog, version, pagesize, page, **kwargs)\u001b[0m\n\u001b[0;32m    155\u001b[0m             \u001b[0mparams\u001b[0m\u001b[1;33m[\u001b[0m\u001b[0mprop\u001b[0m\u001b[1;33m]\u001b[0m \u001b[1;33m=\u001b[0m \u001b[0mvalue\u001b[0m\u001b[1;33m\u001b[0m\u001b[1;33m\u001b[0m\u001b[0m\n\u001b[0;32m    156\u001b[0m \u001b[1;33m\u001b[0m\u001b[0m\n\u001b[1;32m--> 157\u001b[1;33m         \u001b[1;32mreturn\u001b[0m \u001b[0mself\u001b[0m\u001b[1;33m.\u001b[0m\u001b[0m_current_connection\u001b[0m\u001b[1;33m.\u001b[0m\u001b[0mservice_request_async\u001b[0m\u001b[1;33m(\u001b[0m\u001b[0mservice\u001b[0m\u001b[1;33m,\u001b[0m \u001b[0mparams\u001b[0m\u001b[1;33m,\u001b[0m \u001b[0mpagesize\u001b[0m\u001b[1;33m,\u001b[0m \u001b[0mpage\u001b[0m\u001b[1;33m)\u001b[0m\u001b[1;33m\u001b[0m\u001b[1;33m\u001b[0m\u001b[0m\n\u001b[0m\u001b[0;32m    158\u001b[0m \u001b[1;33m\u001b[0m\u001b[0m\n\u001b[0;32m    159\u001b[0m     \u001b[1;33m@\u001b[0m\u001b[0mclass_or_instance\u001b[0m\u001b[1;33m\u001b[0m\u001b[1;33m\u001b[0m\u001b[0m\n",
      "\u001b[1;32mc:\\Users\\Kevin\\anaconda3\\envs\\astro\\lib\\site-packages\\astroquery\\utils\\class_or_instance.py\u001b[0m in \u001b[0;36mf\u001b[1;34m(*args, **kwds)\u001b[0m\n\u001b[0;32m     23\u001b[0m         \u001b[1;32mdef\u001b[0m \u001b[0mf\u001b[0m\u001b[1;33m(\u001b[0m\u001b[1;33m*\u001b[0m\u001b[0margs\u001b[0m\u001b[1;33m,\u001b[0m \u001b[1;33m**\u001b[0m\u001b[0mkwds\u001b[0m\u001b[1;33m)\u001b[0m\u001b[1;33m:\u001b[0m\u001b[1;33m\u001b[0m\u001b[1;33m\u001b[0m\u001b[0m\n\u001b[0;32m     24\u001b[0m             \u001b[1;32mif\u001b[0m \u001b[0mobj\u001b[0m \u001b[1;32mis\u001b[0m \u001b[1;32mnot\u001b[0m \u001b[1;32mNone\u001b[0m\u001b[1;33m:\u001b[0m\u001b[1;33m\u001b[0m\u001b[1;33m\u001b[0m\u001b[0m\n\u001b[1;32m---> 25\u001b[1;33m                 \u001b[1;32mreturn\u001b[0m \u001b[0mself\u001b[0m\u001b[1;33m.\u001b[0m\u001b[0mfn\u001b[0m\u001b[1;33m(\u001b[0m\u001b[0mobj\u001b[0m\u001b[1;33m,\u001b[0m \u001b[1;33m*\u001b[0m\u001b[0margs\u001b[0m\u001b[1;33m,\u001b[0m \u001b[1;33m**\u001b[0m\u001b[0mkwds\u001b[0m\u001b[1;33m)\u001b[0m\u001b[1;33m\u001b[0m\u001b[1;33m\u001b[0m\u001b[0m\n\u001b[0m\u001b[0;32m     26\u001b[0m             \u001b[1;32melse\u001b[0m\u001b[1;33m:\u001b[0m\u001b[1;33m\u001b[0m\u001b[1;33m\u001b[0m\u001b[0m\n\u001b[0;32m     27\u001b[0m                 \u001b[1;32mreturn\u001b[0m \u001b[0mself\u001b[0m\u001b[1;33m.\u001b[0m\u001b[0mfn\u001b[0m\u001b[1;33m(\u001b[0m\u001b[0mcls\u001b[0m\u001b[1;33m,\u001b[0m \u001b[1;33m*\u001b[0m\u001b[0margs\u001b[0m\u001b[1;33m,\u001b[0m \u001b[1;33m**\u001b[0m\u001b[0mkwds\u001b[0m\u001b[1;33m)\u001b[0m\u001b[1;33m\u001b[0m\u001b[1;33m\u001b[0m\u001b[0m\n",
      "\u001b[1;32mc:\\Users\\Kevin\\anaconda3\\envs\\astro\\lib\\site-packages\\astroquery\\mast\\services.py\u001b[0m in \u001b[0;36mservice_request_async\u001b[1;34m(self, service, params, page_size, page, **kwargs)\u001b[0m\n\u001b[0;32m    270\u001b[0m             \u001b[0mparams\u001b[0m\u001b[1;33m[\u001b[0m\u001b[0mprop\u001b[0m\u001b[1;33m]\u001b[0m \u001b[1;33m=\u001b[0m \u001b[0mvalue\u001b[0m\u001b[1;33m\u001b[0m\u001b[1;33m\u001b[0m\u001b[0m\n\u001b[0;32m    271\u001b[0m         \u001b[0mcatalogs_request\u001b[0m\u001b[1;33m.\u001b[0m\u001b[0mextend\u001b[0m\u001b[1;33m(\u001b[0m\u001b[0mself\u001b[0m\u001b[1;33m.\u001b[0m\u001b[0m_build_catalogs_params\u001b[0m\u001b[1;33m(\u001b[0m\u001b[0mparams\u001b[0m\u001b[1;33m)\u001b[0m\u001b[1;33m)\u001b[0m\u001b[1;33m\u001b[0m\u001b[1;33m\u001b[0m\u001b[0m\n\u001b[1;32m--> 272\u001b[1;33m         \u001b[0mresponse\u001b[0m \u001b[1;33m=\u001b[0m \u001b[0mself\u001b[0m\u001b[1;33m.\u001b[0m\u001b[0m_request\u001b[0m\u001b[1;33m(\u001b[0m\u001b[1;34m'POST'\u001b[0m\u001b[1;33m,\u001b[0m \u001b[0mrequest_url\u001b[0m\u001b[1;33m,\u001b[0m \u001b[0mdata\u001b[0m\u001b[1;33m=\u001b[0m\u001b[0mcatalogs_request\u001b[0m\u001b[1;33m,\u001b[0m \u001b[0mheaders\u001b[0m\u001b[1;33m=\u001b[0m\u001b[0mheaders\u001b[0m\u001b[1;33m)\u001b[0m\u001b[1;33m\u001b[0m\u001b[1;33m\u001b[0m\u001b[0m\n\u001b[0m\u001b[0;32m    273\u001b[0m         \u001b[1;32mreturn\u001b[0m \u001b[0mresponse\u001b[0m\u001b[1;33m\u001b[0m\u001b[1;33m\u001b[0m\u001b[0m\n\u001b[0;32m    274\u001b[0m \u001b[1;33m\u001b[0m\u001b[0m\n",
      "\u001b[1;32mc:\\Users\\Kevin\\anaconda3\\envs\\astro\\lib\\site-packages\\astroquery\\mast\\services.py\u001b[0m in \u001b[0;36m_request\u001b[1;34m(self, method, url, params, data, headers, files, stream, auth, cache)\u001b[0m\n\u001b[0;32m    180\u001b[0m             \u001b[1;32mraise\u001b[0m \u001b[0mTimeoutError\u001b[0m\u001b[1;33m(\u001b[0m\u001b[1;34m\"Timeout limit of {} exceeded.\"\u001b[0m\u001b[1;33m.\u001b[0m\u001b[0mformat\u001b[0m\u001b[1;33m(\u001b[0m\u001b[0mself\u001b[0m\u001b[1;33m.\u001b[0m\u001b[0mTIMEOUT\u001b[0m\u001b[1;33m)\u001b[0m\u001b[1;33m)\u001b[0m\u001b[1;33m\u001b[0m\u001b[1;33m\u001b[0m\u001b[0m\n\u001b[0;32m    181\u001b[0m \u001b[1;33m\u001b[0m\u001b[0m\n\u001b[1;32m--> 182\u001b[1;33m         \u001b[0mresponse\u001b[0m\u001b[1;33m.\u001b[0m\u001b[0mraise_for_status\u001b[0m\u001b[1;33m(\u001b[0m\u001b[1;33m)\u001b[0m\u001b[1;33m\u001b[0m\u001b[1;33m\u001b[0m\u001b[0m\n\u001b[0m\u001b[0;32m    183\u001b[0m         \u001b[1;32mreturn\u001b[0m \u001b[0mresponse\u001b[0m\u001b[1;33m\u001b[0m\u001b[1;33m\u001b[0m\u001b[0m\n\u001b[0;32m    184\u001b[0m \u001b[1;33m\u001b[0m\u001b[0m\n",
      "\u001b[1;32mc:\\Users\\Kevin\\anaconda3\\envs\\astro\\lib\\site-packages\\requests\\models.py\u001b[0m in \u001b[0;36mraise_for_status\u001b[1;34m(self)\u001b[0m\n\u001b[0;32m    951\u001b[0m \u001b[1;33m\u001b[0m\u001b[0m\n\u001b[0;32m    952\u001b[0m         \u001b[1;32mif\u001b[0m \u001b[0mhttp_error_msg\u001b[0m\u001b[1;33m:\u001b[0m\u001b[1;33m\u001b[0m\u001b[1;33m\u001b[0m\u001b[0m\n\u001b[1;32m--> 953\u001b[1;33m             \u001b[1;32mraise\u001b[0m \u001b[0mHTTPError\u001b[0m\u001b[1;33m(\u001b[0m\u001b[0mhttp_error_msg\u001b[0m\u001b[1;33m,\u001b[0m \u001b[0mresponse\u001b[0m\u001b[1;33m=\u001b[0m\u001b[0mself\u001b[0m\u001b[1;33m)\u001b[0m\u001b[1;33m\u001b[0m\u001b[1;33m\u001b[0m\u001b[0m\n\u001b[0m\u001b[0;32m    954\u001b[0m \u001b[1;33m\u001b[0m\u001b[0m\n\u001b[0;32m    955\u001b[0m     \u001b[1;32mdef\u001b[0m \u001b[0mclose\u001b[0m\u001b[1;33m(\u001b[0m\u001b[0mself\u001b[0m\u001b[1;33m)\u001b[0m\u001b[1;33m:\u001b[0m\u001b[1;33m\u001b[0m\u001b[1;33m\u001b[0m\u001b[0m\n",
      "\u001b[1;31mHTTPError\u001b[0m: 400 Client Error: Bad Request for url: https://catalogs.mast.stsci.edu/api/v0.1/panstarrs/dr1/thin.json"
     ]
    },
    {
     "ename": "",
     "evalue": "",
     "output_type": "error",
     "traceback": [
      "\u001b[1;31mThe Kernel crashed while executing code in the the current cell or a previous cell. Please review the code in the cell(s) to identify a possible cause of the failure. Click <a href='https://aka.ms/vscodeJupyterKernelCrash'>here</a> for more info. View Jupyter <a href='command:jupyter.viewOutput'>log</a> for further details."
     ]
    }
   ],
   "source": [
    "from astroquery.mast import Catalogs\n",
    "catalog_data = Catalogs.query_region(\"158.47924 -7.30962\", radius=0.1,\n",
    "                                      catalog=\"Panstarrs\", data_release=\"dr1\", table=\"thin\")\n",
    "print(\"Number of results:\",len(catalog_data))"
   ]
  }
 ],
 "metadata": {
  "kernelspec": {
   "display_name": "astro",
   "language": "python",
   "name": "python3"
  },
  "language_info": {
   "codemirror_mode": {
    "name": "ipython",
    "version": 3
   },
   "file_extension": ".py",
   "mimetype": "text/x-python",
   "name": "python",
   "nbconvert_exporter": "python",
   "pygments_lexer": "ipython3",
   "version": "3.9.7"
  },
  "orig_nbformat": 4
 },
 "nbformat": 4,
 "nbformat_minor": 2
}
