{
 "cells": [
  {
   "cell_type": "markdown",
   "metadata": {},
   "source": [
    "# Flux Model\n",
    "\n",
    "We explore the relation between flux observed at the Subaru telescope and the G-band flux reported by Gaia."
   ]
  },
  {
   "cell_type": "code",
   "execution_count": 1,
   "metadata": {},
   "outputs": [],
   "source": [
    "import os, sys\n",
    "import numpy as np\n",
    "import pandas as pd\n",
    "import matplotlib.pyplot as plt \n",
    "from astropy.table import Table\n",
    "from astropy.io import fits"
   ]
  },
  {
   "cell_type": "markdown",
   "metadata": {},
   "source": [
    "### Important Note on Physical (Image) Coordinates\n",
    "Both the object table and the Gaia tables below have x and y values which place the object in their images The coordinate values are increased by one to facilitate using these tables in DS9. The fits and DS9 conventions are to index arrays starting at 1. **Beware!**"
   ]
  },
  {
   "cell_type": "markdown",
   "metadata": {},
   "source": [
    "### Object and Gaia tables\n",
    "The `.fits` file below is bias= and overscan-subtracted by `no_bias.py`. `obj_tbl` came from running sep.extract on the image; '`gaia_tbl` from `xmatch.py`"
   ]
  },
  {
   "cell_type": "code",
   "execution_count": 2,
   "metadata": {},
   "outputs": [],
   "source": [
    "data_path = '/home/kevin/repos/ReipurthBallyProject/fluxmodeldata'\n",
    "\n",
    "#need the exposure time (bug, actually, no_bias.py should divide by the exp time to get electrons per second)\n",
    "img_path = os.path.join(data_path,'SUPA01566780.fits')\n",
    "exp_time = fits.getval(img_path, 'EXPTIME')\n",
    "\n",
    "#objects extracted out of image via sep.extract\n",
    "obj_tbl =  Table.read(os.path.join(data_path, 'SUPA01566780_objects.xml'))\n",
    "\n",
    "#gaia query results in the neighborhood of the image\n",
    "gaia_tbl = Table.read(os.path.join(data_path, 'SUPA01566780.xml'))"
   ]
  },
  {
   "cell_type": "markdown",
   "metadata": {},
   "source": [
    "### Table that maps image objects to Gaia objects\n",
    "\n",
    "The xmatch table below was produced by manually pairing image object with Gaia object. To reproduce, create an rgb frame in DS9, load a no_bias image into red and a false image into green. Then use the DS9 catalog tool to load the two xml files above, adjust the text so that it displays the object id with each object, then proceed with the pairing, recording the pairs in a .csv file. "
   ]
  },
  {
   "cell_type": "code",
   "execution_count": 3,
   "metadata": {},
   "outputs": [
    {
     "data": {
      "text/html": [
       "<div><i>Table length=224</i>\n",
       "<table id=\"table140084832684256\" class=\"table-striped table-bordered table-condensed\">\n",
       "<thead><tr><th>obj</th><th>gaia</th><th>obj_id</th><th>GaiaId</th></tr></thead>\n",
       "<thead><tr><th>int64</th><th>int64</th><th>str8</th><th>str9</th></tr></thead>\n",
       "<tr><td>1</td><td>2771</td><td>obj_0001</td><td>gaia_2771</td></tr>\n",
       "<tr><td>2</td><td>2755</td><td>obj_0002</td><td>gaia_2755</td></tr>\n",
       "<tr><td>3</td><td>2803</td><td>obj_0003</td><td>gaia_2803</td></tr>\n",
       "<tr><td>4</td><td>2754</td><td>obj_0004</td><td>gaia_2754</td></tr>\n",
       "<tr><td>5</td><td>4415</td><td>obj_0005</td><td>gaia_4415</td></tr>\n",
       "<tr><td>6</td><td>4083</td><td>obj_0006</td><td>gaia_4083</td></tr>\n",
       "<tr><td>7</td><td>2836</td><td>obj_0007</td><td>gaia_2836</td></tr>\n",
       "<tr><td>8</td><td>4426</td><td>obj_0008</td><td>gaia_4426</td></tr>\n",
       "<tr><td>9</td><td>2806</td><td>obj_0009</td><td>gaia_2806</td></tr>\n",
       "<tr><td>10</td><td>2824</td><td>obj_0010</td><td>gaia_2824</td></tr>\n",
       "<tr><td>...</td><td>...</td><td>...</td><td>...</td></tr>\n",
       "<tr><td>220</td><td>1900</td><td>obj_0220</td><td>gaia_1900</td></tr>\n",
       "<tr><td>221</td><td>2272</td><td>obj_0221</td><td>gaia_2272</td></tr>\n",
       "<tr><td>222</td><td>2273</td><td>obj_0222</td><td>gaia_2273</td></tr>\n",
       "<tr><td>223</td><td>2392</td><td>obj_0223</td><td>gaia_2392</td></tr>\n",
       "<tr><td>224</td><td>2390</td><td>obj_0224</td><td>gaia_2390</td></tr>\n",
       "<tr><td>225</td><td>2276</td><td>obj_0225</td><td>gaia_2276</td></tr>\n",
       "<tr><td>226</td><td>2330</td><td>obj_0226</td><td>gaia_2330</td></tr>\n",
       "<tr><td>227</td><td>2317</td><td>obj_0227</td><td>gaia_2317</td></tr>\n",
       "<tr><td>228</td><td>2445</td><td>obj_0228</td><td>gaia_2445</td></tr>\n",
       "<tr><td>229</td><td>2647</td><td>obj_0229</td><td>gaia_2647</td></tr>\n",
       "</table></div>"
      ],
      "text/plain": [
       "<Table length=224>\n",
       " obj   gaia  obj_id    GaiaId \n",
       "int64 int64   str8      str9  \n",
       "----- ----- -------- ---------\n",
       "    1  2771 obj_0001 gaia_2771\n",
       "    2  2755 obj_0002 gaia_2755\n",
       "    3  2803 obj_0003 gaia_2803\n",
       "    4  2754 obj_0004 gaia_2754\n",
       "    5  4415 obj_0005 gaia_4415\n",
       "    6  4083 obj_0006 gaia_4083\n",
       "    7  2836 obj_0007 gaia_2836\n",
       "    8  4426 obj_0008 gaia_4426\n",
       "    9  2806 obj_0009 gaia_2806\n",
       "   10  2824 obj_0010 gaia_2824\n",
       "  ...   ...      ...       ...\n",
       "  220  1900 obj_0220 gaia_1900\n",
       "  221  2272 obj_0221 gaia_2272\n",
       "  222  2273 obj_0222 gaia_2273\n",
       "  223  2392 obj_0223 gaia_2392\n",
       "  224  2390 obj_0224 gaia_2390\n",
       "  225  2276 obj_0225 gaia_2276\n",
       "  226  2330 obj_0226 gaia_2330\n",
       "  227  2317 obj_0227 gaia_2317\n",
       "  228  2445 obj_0228 gaia_2445\n",
       "  229  2647 obj_0229 gaia_2647"
      ]
     },
     "execution_count": 3,
     "metadata": {},
     "output_type": "execute_result"
    }
   ],
   "source": [
    "obj_map_path = os.path.join(data_path, 'obj_map.csv')\n",
    "xmatch = Table.read(obj_map_path, delimiter='\\s', comment='#')\n",
    "\n",
    "#tack on identifiers\n",
    "xmatch['obj_id'] = [f'obj_{i:04d}' for i in xmatch['obj']]\n",
    "xmatch['GaiaId'] = [f'gaia_{i:04d}' for i in xmatch['gaia']]\n",
    "xmatch"
   ]
  },
  {
   "cell_type": "markdown",
   "metadata": {},
   "source": [
    "### Join the object and Gaia tables\n",
    "\n",
    "using the mapping table from above"
   ]
  },
  {
   "cell_type": "code",
   "execution_count": 4,
   "metadata": {},
   "outputs": [
    {
     "name": "stderr",
     "output_type": "stream",
     "text": [
      "WARNING: MergeConflictWarning: Cannot merge meta key 'ID' types <class 'str'> and <class 'str'>, choosing ID='objects' [astropy.utils.metadata.merge]\n"
     ]
    },
    {
     "data": {
      "text/html": [
       "<div><i>Table length=5</i>\n",
       "<table id=\"table140083516291392\" class=\"table-striped table-bordered table-condensed\">\n",
       "<thead><tr><th>obj</th><th>gaia</th><th>obj_id</th><th>GaiaId</th><th>source_id</th><th>ra</th><th>dec</th><th>parallax</th><th>pmra</th><th>pmdec</th><th>radial_velocity</th><th>phot_g_mean_mag</th><th>phot_bp_mean_mag</th><th>phot_rp_mean_mag</th><th>phot_g_mean_flux</th><th>phot_bp_mean_flux</th><th>phot_rp_mean_flux</th><th>r_est</th><th>RA_MJD</th><th>DEC_MJD</th><th>x_1</th><th>y_1</th><th>thresh</th><th>npix</th><th>tnpix</th><th>xmin</th><th>xmax</th><th>ymin</th><th>ymax</th><th>x_2</th><th>y_2</th><th>x2</th><th>y2</th><th>xy</th><th>errx2</th><th>erry2</th><th>errxy</th><th>a</th><th>b</th><th>theta</th><th>cxx</th><th>cyy</th><th>cxy</th><th>cflux</th><th>flux</th><th>cpeak</th><th>peak</th><th>xcpeak</th><th>ycpeak</th><th>xpeak</th><th>ypeak</th><th>flag</th></tr></thead>\n",
       "<thead><tr><th></th><th></th><th></th><th></th><th></th><th></th><th></th><th></th><th></th><th></th><th></th><th></th><th></th><th></th><th></th><th></th><th></th><th></th><th>deg</th><th>deg</th><th></th><th></th><th></th><th></th><th></th><th></th><th></th><th></th><th></th><th></th><th></th><th></th><th></th><th></th><th></th><th></th><th></th><th></th><th></th><th></th><th></th><th></th><th></th><th></th><th></th><th></th><th></th><th></th><th></th><th></th><th></th><th></th></tr></thead>\n",
       "<thead><tr><th>int64</th><th>int64</th><th>str8</th><th>str9</th><th>int64</th><th>float64</th><th>float64</th><th>float64</th><th>float64</th><th>float64</th><th>float32</th><th>float32</th><th>float32</th><th>float32</th><th>float64</th><th>float64</th><th>float64</th><th>float64</th><th>float64</th><th>float64</th><th>float64</th><th>float64</th><th>float64</th><th>int64</th><th>int64</th><th>int64</th><th>int64</th><th>int64</th><th>int64</th><th>float64</th><th>float64</th><th>float64</th><th>float64</th><th>float64</th><th>float64</th><th>float64</th><th>float64</th><th>float64</th><th>float64</th><th>float64</th><th>float64</th><th>float64</th><th>float64</th><th>float64</th><th>float64</th><th>float64</th><th>float64</th><th>int64</th><th>int64</th><th>int64</th><th>int64</th><th>int64</th></tr></thead>\n",
       "<tr><td>1</td><td>2771</td><td>obj_0001</td><td>gaia_2771</td><td>4066019597532160640</td><td>270.64686339766314</td><td>-24.373221093650276</td><td>2.0018252201751165</td><td>-0.47891786862956603</td><td>-11.729845042367296</td><td>--</td><td>16.522076</td><td>17.39112</td><td>15.500379</td><td>4635.713389387472</td><td>1509.9703953894975</td><td>5000.423591614373</td><td>499.5441110051164</td><td>270.6468475194534</td><td>-24.373736602468757</td><td>1032.9723362874156</td><td>141.23533842114728</td><td>12663.7099609375</td><td>18</td><td>16</td><td>1019</td><td>1023</td><td>141</td><td>144</td><td>1021.7292893319351</td><td>143.4918537174976</td><td>1.367072654498128</td><td>1.0224742474110307</td><td>-0.00768812062378732</td><td>5.019149526389222e-07</td><td>3.3029607327965273e-07</td><td>1.145498383214586e-10</td><td>1.1692920923233032</td><td>1.0110899209976196</td><td>-0.02229558862745762</td><td>0.73152095079422</td><td>0.9780610799789429</td><td>0.011000807397067547</td><td>399078.9375</td><td>440438.96875</td><td>33580.875</td><td>41761.86328125</td><td>1021</td><td>142</td><td>1021</td><td>142</td><td>0</td></tr>\n",
       "<tr><td>2</td><td>2755</td><td>obj_0002</td><td>gaia_2755</td><td>4066019533130570112</td><td>270.6778924634641</td><td>-24.366947670627912</td><td>1.0535055998097655</td><td>-2.6619230651726475</td><td>-0.3980124317116792</td><td>34.35718</td><td>14.144041</td><td>14.537588</td><td>13.573222</td><td>41431.483942727704</td><td>20911.326955480952</td><td>29503.22463090857</td><td>949.2118505877642</td><td>270.67777012882135</td><td>-24.36695979373863</td><td>531.174014832679</td><td>262.8862619033626</td><td>12663.7099609375</td><td>78</td><td>70</td><td>502</td><td>511</td><td>251</td><td>260</td><td>507.6939188083178</td><td>256.7394642595332</td><td>3.18239142056893</td><td>3.8826969457907197</td><td>0.03167911255053113</td><td>3.6433662691693833e-08</td><td>3.620870153413762e-08</td><td>4.2263847940495817e-10</td><td>1.9708188772201538</td><td>1.783524990081787</td><td>1.525683045387268</td><td>0.31425461173057556</td><td>0.25757384300231934</td><td>-0.00512803765013814</td><td>5846763.0</td><td>5916600.5</td><td>198793.65625</td><td>200953.34375</td><td>507</td><td>256</td><td>507</td><td>256</td><td>0</td></tr>\n",
       "<tr><td>3</td><td>2803</td><td>obj_0003</td><td>gaia_2803</td><td>4066019704929272832</td><td>270.65081738357924</td><td>-24.366691744626817</td><td>0.9598429863254055</td><td>-8.004068335275216</td><td>-10.24041537398166</td><td>--</td><td>17.044794</td><td>17.878338</td><td>16.208456</td><td>2864.3691897926415</td><td>964.0111556668584</td><td>2604.809583459055</td><td>1041.837065277029</td><td>270.65043453300956</td><td>-24.367141089135604</td><td>974.9555770767847</td><td>258.8892464597735</td><td>12663.7099609375</td><td>10</td><td>10</td><td>954</td><td>957</td><td>259</td><td>261</td><td>956.4831111921126</td><td>260.81939189326255</td><td>0.9060287441269783</td><td>0.5413725004703985</td><td>0.0011536707723722728</td><td>9.217040623567141e-07</td><td>4.917720081679976e-07</td><td>-2.874110427562616e-10</td><td>0.951857328414917</td><td>0.735777735710144</td><td>0.0031636792700737715</td><td>1.103720784187317</td><td>1.8471620082855225</td><td>-0.004704081919044256</td><td>170993.1875</td><td>197571.34375</td><td>21782.310546875</td><td>27362.568359375</td><td>955</td><td>260</td><td>955</td><td>260</td><td>0</td></tr>\n",
       "<tr><td>4</td><td>2754</td><td>obj_0004</td><td>gaia_2754</td><td>4066019533130568704</td><td>270.68240945617475</td><td>-24.364731609683844</td><td>0.7973751646162972</td><td>0.5615834560142475</td><td>-2.1262754405397852</td><td>--</td><td>15.627954</td><td>16.195889</td><td>14.852952</td><td>10562.461834156971</td><td>4540.057413208089</td><td>9077.732942001629</td><td>1254.1148061480035</td><td>270.6824443179634</td><td>-24.3648205058875</td><td>455.3505110160663</td><td>301.1353530931869</td><td>12663.7099609375</td><td>39</td><td>36</td><td>429</td><td>435</td><td>293</td><td>299</td><td>433.06840371645075</td><td>296.4971018283413</td><td>2.229552083032109</td><td>2.025894083446466</td><td>-0.00597271256368348</td><td>1.7642404430211833e-07</td><td>1.46510908761983e-07</td><td>-3.298640405942683e-10</td><td>1.4932271242141724</td><td>1.4232776165008545</td><td>-0.0292936060577631</td><td>0.4485241174697876</td><td>0.4936131238937378</td><td>0.0026446650736033916</td><td>1386529.125</td><td>1442856.75</td><td>83751.359375</td><td>105641.09375</td><td>432</td><td>295</td><td>432</td><td>295</td><td>0</td></tr>\n",
       "<tr><td>5</td><td>4415</td><td>obj_0005</td><td>gaia_4415</td><td>4066031387240664832</td><td>270.6107185854274</td><td>-24.362463471387187</td><td>0.9289395530353208</td><td>0.43287651706807506</td><td>0.861165787708065</td><td>-25.370111</td><td>14.671797</td><td>15.14417</td><td>14.027413</td><td>25481.68785330641</td><td>11960.494148845526</td><td>19417.4876204989</td><td>1076.4963088636805</td><td>270.61074717348606</td><td>-24.36241966200537</td><td>1619.4505296286334</td><td>341.768393871027</td><td>12663.7099609375</td><td>62</td><td>55</td><td>1620</td><td>1628</td><td>332</td><td>340</td><td>1624.921510071169</td><td>336.63071087193987</td><td>3.0141245977265765</td><td>2.786079099672701</td><td>-0.10634068903918781</td><td>7.751770357406475e-08</td><td>6.8345896409877e-08</td><td>-2.4134973538755206e-09</td><td>1.7481467723846436</td><td>1.6565587520599365</td><td>-0.37527570128440857</td><td>0.33221864700317383</td><td>0.3594113290309906</td><td>0.025360630825161934</td><td>3279462.75</td><td>3342970.25</td><td>157452.6875</td><td>179813.140625</td><td>1624</td><td>336</td><td>1624</td><td>336</td><td>0</td></tr>\n",
       "</table></div>"
      ],
      "text/plain": [
       "<Table length=5>\n",
       " obj   gaia  obj_id    GaiaId       source_id      ... ycpeak xpeak ypeak  flag\n",
       "                                                   ...                         \n",
       "int64 int64   str8      str9          int64        ... int64  int64 int64 int64\n",
       "----- ----- -------- --------- ------------------- ... ------ ----- ----- -----\n",
       "    1  2771 obj_0001 gaia_2771 4066019597532160640 ...    142  1021   142     0\n",
       "    2  2755 obj_0002 gaia_2755 4066019533130570112 ...    256   507   256     0\n",
       "    3  2803 obj_0003 gaia_2803 4066019704929272832 ...    260   955   260     0\n",
       "    4  2754 obj_0004 gaia_2754 4066019533130568704 ...    295   432   295     0\n",
       "    5  4415 obj_0005 gaia_4415 4066031387240664832 ...    336  1624   336     0"
      ]
     },
     "execution_count": 4,
     "metadata": {},
     "output_type": "execute_result"
    }
   ],
   "source": [
    "from astropy.table import join\n",
    "\n",
    "# do this in two steps\n",
    "xx=join(xmatch, gaia_tbl)\n",
    "xmatch_tbl = join(xx, obj_tbl, keys='obj_id')\n",
    "xmatch_tbl[:5]"
   ]
  },
  {
   "cell_type": "markdown",
   "metadata": {},
   "source": [
    "### Fit the flux model\n",
    "\n",
    "The flux model predicts a Gaia star's G-band flux from the observed flux at the Subaru telescope. Intuitively, this seems backward: one would want to predict how much flux will be observed from the well-measured and published Gaia catalog flux data.\n",
    "\n",
    "Because this model is used in part to pair image objects with Gaia records, we need the counter intuitive specification."
   ]
  },
  {
   "cell_type": "code",
   "execution_count": 5,
   "metadata": {},
   "outputs": [
    {
     "name": "stdout",
     "output_type": "stream",
     "text": [
      "Intercept: 3690.180, Slope: 0.837, R-squared: 0.9691\n"
     ]
    }
   ],
   "source": [
    "from sklearn.linear_model import LinearRegression\n",
    "\n",
    "# independent and dependent variables\n",
    "obs_flux = xmatch_tbl['flux']/exp_time # electrons per second\n",
    "gaia_flux = xmatch_tbl['phot_g_mean_flux'] # electrons per second\n",
    "\n",
    "#fit the model and calc the scores\n",
    "mod = LinearRegression().fit( obs_flux.reshape(-1,1), gaia_flux)\n",
    "y_hat = mod.predict(obs_flux.reshape(-1,1))\n",
    "rsq = mod.score( obs_flux.reshape(-1,1), gaia_flux)\n",
    "mod_rmse = np.sqrt(((gaia_flux - y_hat)**2).mean())\n",
    "mod_nrmse = mod_rmse/gaia_flux.mean()\n",
    "\n",
    "#create a fitted line for plotting\n",
    "zz = np.linspace(obs_flux.min(),obs_flux.max(), 10000).reshape(-1,1)\n",
    "fitted = mod.predict(zz)\n",
    "\n",
    "print(f'Intercept: {mod.intercept_:.3f}, Slope: {mod.coef_[0]:.3f}, R-squared: {rsq:.4f}')"
   ]
  },
  {
   "cell_type": "code",
   "execution_count": 6,
   "metadata": {},
   "outputs": [
    {
     "data": {
      "text/plain": [
       "<matplotlib.legend.Legend at 0x7f67b880b910>"
      ]
     },
     "execution_count": 6,
     "metadata": {},
     "output_type": "execute_result"
    },
    {
     "data": {
      "image/png": "[encoded data removed]",
      "text/plain": [
       "<Figure size 600x600 with 1 Axes>"
      ]
     },
     "metadata": {},
     "output_type": "display_data"
    }
   ],
   "source": [
    "fig, ax = plt.subplots(figsize=(6,6))\n",
    "\n",
    "ax.scatter( obs_flux,gaia_flux, s=5, label='Actual')\n",
    "ax.plot(zz, fitted, color='red', label='Fitted')\n",
    "ax.set_xlabel('Subaru Observed Flux\\n(electron/s)')\n",
    "ax.set_ylabel('Gaia G Flux\\n(electron/s)')\n",
    "ax.set_title('Observed and Actual Flux\\nFilter: N-A-L671')\n",
    "ax.text(100000, 400000, f'Slope: {mod.coef_[0]:.3f}\\nR Squared: {rsq:.3f}'\n",
    "       f'\\nRMSE: {mod_rmse:.3f}\\nnRMSE: {mod_nrmse:.3f}')\n",
    "ax.legend()"
   ]
  },
  {
   "cell_type": "markdown",
   "metadata": {},
   "source": [
    "### Reproduce the object table"
   ]
  },
  {
   "cell_type": "markdown",
   "metadata": {},
   "source": [
    "Verify that we can reproduce the object table."
   ]
  },
  {
   "cell_type": "code",
   "execution_count": 7,
   "metadata": {},
   "outputs": [
    {
     "name": "stdout",
     "output_type": "stream",
     "text": [
      "X coordinates match: True\n",
      "Y coordinates match: True\n",
      "flux match: True\n",
      "size match: True\n"
     ]
    }
   ],
   "source": [
    "import sep\n",
    "\n",
    "# img_path from above\n",
    "\n",
    "# get the image\n",
    "with fits.open(img_path) as f:\n",
    "    img_hdr = f[0].header.copy()\n",
    "    img_data = f[0].data.copy()\n",
    "img_data = img_data.astype(float)\n",
    "\n",
    "exp_time = img_hdr['EXPTIME'],\n",
    "thresh = 250.0\n",
    "\n",
    "bkg = sep.Background(img_data)\n",
    "bkg_img = bkg.back() #2d array of background\n",
    "\n",
    "img_noback = img_data - bkg\n",
    "objects = sep.extract(img_noback, thresh=thresh, err = bkg.globalrms)\n",
    "objects_df = pd.DataFrame(objects)\n",
    "#objects_df.flux /= exp_time\n",
    "objects_df['obj_id'] = [f'obj_{i:04d}' for i in range(len(objects_df))]\n",
    "\n",
    "# add 1 to the x,y values to conform to Fits/DS9 indexing\n",
    "objects_df['x'] += 1\n",
    "objects_df['y'] += 1\n",
    "\n",
    "test_tbl = Table.from_pandas(objects_df)\n",
    "\n",
    "print(f'X coordinates match: {np.all(test_tbl[\"x\"] == obj_tbl[\"x\"])}')\n",
    "print(f'Y coordinates match: {np.all(test_tbl[\"y\"] == obj_tbl[\"y\"])}')\n",
    "print(f'flux match: {np.all(test_tbl[\"flux\"] == obj_tbl[\"flux\"])}')\n",
    "print(f'size match: {np.all(test_tbl[\"npix\"] == obj_tbl[\"npix\"])}')\n"
   ]
  },
  {
   "cell_type": "code",
   "execution_count": 8,
   "metadata": {},
   "outputs": [
    {
     "data": {
      "text/html": [
       "<div><i>Table length=5</i>\n",
       "<table id=\"table140083317865680\" class=\"table-striped table-bordered table-condensed\">\n",
       "<thead><tr><th>thresh</th><th>npix</th><th>tnpix</th><th>xmin</th><th>xmax</th><th>ymin</th><th>ymax</th><th>x</th><th>y</th><th>x2</th><th>y2</th><th>xy</th><th>errx2</th><th>erry2</th><th>errxy</th><th>a</th><th>b</th><th>theta</th><th>cxx</th><th>cyy</th><th>cxy</th><th>cflux</th><th>flux</th><th>cpeak</th><th>peak</th><th>xcpeak</th><th>ycpeak</th><th>xpeak</th><th>ypeak</th><th>flag</th><th>obj_id</th></tr></thead>\n",
       "<thead><tr><th>float64</th><th>int64</th><th>int64</th><th>int64</th><th>int64</th><th>int64</th><th>int64</th><th>float64</th><th>float64</th><th>float64</th><th>float64</th><th>float64</th><th>float64</th><th>float64</th><th>float64</th><th>float64</th><th>float64</th><th>float64</th><th>float64</th><th>float64</th><th>float64</th><th>float64</th><th>float64</th><th>float64</th><th>float64</th><th>int64</th><th>int64</th><th>int64</th><th>int64</th><th>int64</th><th>str8</th></tr></thead>\n",
       "<tr><td>12663.7099609375</td><td>43</td><td>26</td><td>108</td><td>115</td><td>9</td><td>17</td><td>112.03524628865311</td><td>12.541585009472026</td><td>1.511531763873057</td><td>4.17134014201973</td><td>-0.18494177623898178</td><td>1.6333418334169747e-08</td><td>3.3910195452580335e-08</td><td>-2.426355668609128e-09</td><td>2.0455164909362793</td><td>1.2242279052734375</td><td>-1.5017074346542358</td><td>0.6651890277862549</td><td>0.24103868007659912</td><td>0.05898403376340866</td><td>4340247.5</td><td>4343045.5</td><td>206017.1875</td><td>206948.390625</td><td>111</td><td>9</td><td>111</td><td>9</td><td>0</td><td>obj_0000</td></tr>\n",
       "<tr><td>12663.7099609375</td><td>18</td><td>16</td><td>1019</td><td>1023</td><td>141</td><td>144</td><td>1021.7292893319351</td><td>143.4918537174976</td><td>1.367072654498128</td><td>1.0224742474110307</td><td>-0.00768812062378732</td><td>5.019149526389222e-07</td><td>3.3029607327965273e-07</td><td>1.145498383214586e-10</td><td>1.1692920923233032</td><td>1.0110899209976196</td><td>-0.02229558862745762</td><td>0.73152095079422</td><td>0.9780610799789429</td><td>0.011000807397067547</td><td>399078.9375</td><td>440438.96875</td><td>33580.875</td><td>41761.86328125</td><td>1021</td><td>142</td><td>1021</td><td>142</td><td>0</td><td>obj_0001</td></tr>\n",
       "<tr><td>12663.7099609375</td><td>78</td><td>70</td><td>502</td><td>511</td><td>251</td><td>260</td><td>507.6939188083178</td><td>256.7394642595332</td><td>3.18239142056893</td><td>3.8826969457907197</td><td>0.03167911255053113</td><td>3.6433662691693833e-08</td><td>3.620870153413762e-08</td><td>4.2263847940495817e-10</td><td>1.9708188772201538</td><td>1.783524990081787</td><td>1.525683045387268</td><td>0.31425461173057556</td><td>0.25757384300231934</td><td>-0.00512803765013814</td><td>5846763.0</td><td>5916600.5</td><td>198793.65625</td><td>200953.34375</td><td>507</td><td>256</td><td>507</td><td>256</td><td>0</td><td>obj_0002</td></tr>\n",
       "<tr><td>12663.7099609375</td><td>10</td><td>10</td><td>954</td><td>957</td><td>259</td><td>261</td><td>956.4831111921126</td><td>260.81939189326255</td><td>0.9060287441269783</td><td>0.5413725004703985</td><td>0.0011536707723722728</td><td>9.217040623567141e-07</td><td>4.917720081679976e-07</td><td>-2.874110427562616e-10</td><td>0.951857328414917</td><td>0.735777735710144</td><td>0.0031636792700737715</td><td>1.103720784187317</td><td>1.8471620082855225</td><td>-0.004704081919044256</td><td>170993.1875</td><td>197571.34375</td><td>21782.310546875</td><td>27362.568359375</td><td>955</td><td>260</td><td>955</td><td>260</td><td>0</td><td>obj_0003</td></tr>\n",
       "<tr><td>12663.7099609375</td><td>39</td><td>36</td><td>429</td><td>435</td><td>293</td><td>299</td><td>433.06840371645075</td><td>296.4971018283413</td><td>2.229552083032109</td><td>2.025894083446466</td><td>-0.00597271256368348</td><td>1.7642404430211833e-07</td><td>1.46510908761983e-07</td><td>-3.298640405942683e-10</td><td>1.4932271242141724</td><td>1.4232776165008545</td><td>-0.0292936060577631</td><td>0.4485241174697876</td><td>0.4936131238937378</td><td>0.0026446650736033916</td><td>1386529.125</td><td>1442856.75</td><td>83751.359375</td><td>105641.09375</td><td>432</td><td>295</td><td>432</td><td>295</td><td>0</td><td>obj_0004</td></tr>\n",
       "</table></div>"
      ],
      "text/plain": [
       "<Table length=5>\n",
       "     thresh       npix tnpix  xmin  xmax ... ycpeak xpeak ypeak  flag  obj_id \n",
       "    float64      int64 int64 int64 int64 ... int64  int64 int64 int64   str8  \n",
       "---------------- ----- ----- ----- ----- ... ------ ----- ----- ----- --------\n",
       "12663.7099609375    43    26   108   115 ...      9   111     9     0 obj_0000\n",
       "12663.7099609375    18    16  1019  1023 ...    142  1021   142     0 obj_0001\n",
       "12663.7099609375    78    70   502   511 ...    256   507   256     0 obj_0002\n",
       "12663.7099609375    10    10   954   957 ...    260   955   260     0 obj_0003\n",
       "12663.7099609375    39    36   429   435 ...    295   432   295     0 obj_0004"
      ]
     },
     "execution_count": 8,
     "metadata": {},
     "output_type": "execute_result"
    }
   ],
   "source": [
    "test_tbl[:5]"
   ]
  },
  {
   "cell_type": "code",
   "execution_count": 9,
   "metadata": {},
   "outputs": [
    {
     "data": {
      "text/html": [
       "<div><i>Table length=5</i>\n",
       "<table id=\"table140083515372064\" class=\"table-striped table-bordered table-condensed\">\n",
       "<thead><tr><th>thresh</th><th>npix</th><th>tnpix</th><th>xmin</th><th>xmax</th><th>ymin</th><th>ymax</th><th>x</th><th>y</th><th>x2</th><th>y2</th><th>xy</th><th>errx2</th><th>erry2</th><th>errxy</th><th>a</th><th>b</th><th>theta</th><th>cxx</th><th>cyy</th><th>cxy</th><th>cflux</th><th>flux</th><th>cpeak</th><th>peak</th><th>xcpeak</th><th>ycpeak</th><th>xpeak</th><th>ypeak</th><th>flag</th><th>obj_id</th></tr></thead>\n",
       "<thead><tr><th>float64</th><th>int64</th><th>int64</th><th>int64</th><th>int64</th><th>int64</th><th>int64</th><th>float64</th><th>float64</th><th>float64</th><th>float64</th><th>float64</th><th>float64</th><th>float64</th><th>float64</th><th>float64</th><th>float64</th><th>float64</th><th>float64</th><th>float64</th><th>float64</th><th>float64</th><th>float64</th><th>float64</th><th>float64</th><th>int64</th><th>int64</th><th>int64</th><th>int64</th><th>int64</th><th>str8</th></tr></thead>\n",
       "<tr><td>12663.7099609375</td><td>43</td><td>26</td><td>108</td><td>115</td><td>9</td><td>17</td><td>112.03524628865311</td><td>12.541585009472026</td><td>1.511531763873057</td><td>4.17134014201973</td><td>-0.18494177623898178</td><td>1.6333418334169747e-08</td><td>3.3910195452580335e-08</td><td>-2.426355668609128e-09</td><td>2.0455164909362793</td><td>1.2242279052734375</td><td>-1.5017074346542358</td><td>0.6651890277862549</td><td>0.24103868007659912</td><td>0.05898403376340866</td><td>4340247.5</td><td>4343045.5</td><td>206017.1875</td><td>206948.390625</td><td>111</td><td>9</td><td>111</td><td>9</td><td>0</td><td>obj_0000</td></tr>\n",
       "<tr><td>12663.7099609375</td><td>18</td><td>16</td><td>1019</td><td>1023</td><td>141</td><td>144</td><td>1021.7292893319351</td><td>143.4918537174976</td><td>1.367072654498128</td><td>1.0224742474110307</td><td>-0.00768812062378732</td><td>5.019149526389222e-07</td><td>3.3029607327965273e-07</td><td>1.145498383214586e-10</td><td>1.1692920923233032</td><td>1.0110899209976196</td><td>-0.02229558862745762</td><td>0.73152095079422</td><td>0.9780610799789429</td><td>0.011000807397067547</td><td>399078.9375</td><td>440438.96875</td><td>33580.875</td><td>41761.86328125</td><td>1021</td><td>142</td><td>1021</td><td>142</td><td>0</td><td>obj_0001</td></tr>\n",
       "<tr><td>12663.7099609375</td><td>78</td><td>70</td><td>502</td><td>511</td><td>251</td><td>260</td><td>507.6939188083178</td><td>256.7394642595332</td><td>3.18239142056893</td><td>3.8826969457907197</td><td>0.03167911255053113</td><td>3.6433662691693833e-08</td><td>3.620870153413762e-08</td><td>4.2263847940495817e-10</td><td>1.9708188772201538</td><td>1.783524990081787</td><td>1.525683045387268</td><td>0.31425461173057556</td><td>0.25757384300231934</td><td>-0.00512803765013814</td><td>5846763.0</td><td>5916600.5</td><td>198793.65625</td><td>200953.34375</td><td>507</td><td>256</td><td>507</td><td>256</td><td>0</td><td>obj_0002</td></tr>\n",
       "<tr><td>12663.7099609375</td><td>10</td><td>10</td><td>954</td><td>957</td><td>259</td><td>261</td><td>956.4831111921126</td><td>260.81939189326255</td><td>0.9060287441269783</td><td>0.5413725004703985</td><td>0.0011536707723722728</td><td>9.217040623567141e-07</td><td>4.917720081679976e-07</td><td>-2.874110427562616e-10</td><td>0.951857328414917</td><td>0.735777735710144</td><td>0.0031636792700737715</td><td>1.103720784187317</td><td>1.8471620082855225</td><td>-0.004704081919044256</td><td>170993.1875</td><td>197571.34375</td><td>21782.310546875</td><td>27362.568359375</td><td>955</td><td>260</td><td>955</td><td>260</td><td>0</td><td>obj_0003</td></tr>\n",
       "<tr><td>12663.7099609375</td><td>39</td><td>36</td><td>429</td><td>435</td><td>293</td><td>299</td><td>433.06840371645075</td><td>296.4971018283413</td><td>2.229552083032109</td><td>2.025894083446466</td><td>-0.00597271256368348</td><td>1.7642404430211833e-07</td><td>1.46510908761983e-07</td><td>-3.298640405942683e-10</td><td>1.4932271242141724</td><td>1.4232776165008545</td><td>-0.0292936060577631</td><td>0.4485241174697876</td><td>0.4936131238937378</td><td>0.0026446650736033916</td><td>1386529.125</td><td>1442856.75</td><td>83751.359375</td><td>105641.09375</td><td>432</td><td>295</td><td>432</td><td>295</td><td>0</td><td>obj_0004</td></tr>\n",
       "</table></div>"
      ],
      "text/plain": [
       "<Table length=5>\n",
       "     thresh       npix tnpix  xmin  xmax ... ycpeak xpeak ypeak  flag  obj_id \n",
       "    float64      int64 int64 int64 int64 ... int64  int64 int64 int64   str8  \n",
       "---------------- ----- ----- ----- ----- ... ------ ----- ----- ----- --------\n",
       "12663.7099609375    43    26   108   115 ...      9   111     9     0 obj_0000\n",
       "12663.7099609375    18    16  1019  1023 ...    142  1021   142     0 obj_0001\n",
       "12663.7099609375    78    70   502   511 ...    256   507   256     0 obj_0002\n",
       "12663.7099609375    10    10   954   957 ...    260   955   260     0 obj_0003\n",
       "12663.7099609375    39    36   429   435 ...    295   432   295     0 obj_0004"
      ]
     },
     "execution_count": 9,
     "metadata": {},
     "output_type": "execute_result"
    }
   ],
   "source": [
    "obj_tbl[:5]"
   ]
  },
  {
   "cell_type": "code",
   "execution_count": null,
   "metadata": {},
   "outputs": [],
   "source": []
  }
 ],
 "metadata": {
  "kernelspec": {
   "display_name": "Subaru",
   "language": "python",
   "name": "python3"
  },
  "language_info": {
   "codemirror_mode": {
    "name": "ipython",
    "version": 3
   },
   "file_extension": ".py",
   "mimetype": "text/x-python",
   "name": "python",
   "nbconvert_exporter": "python",
   "pygments_lexer": "ipython3",
   "version": "3.10.13"
  }
 },
 "nbformat": 4,
 "nbformat_minor": 2
}
